{
 "cells": [
  {
   "attachments": {},
   "cell_type": "markdown",
   "metadata": {},
   "source": [
    "# Validador de CPF"
   ]
  },
  {
   "attachments": {},
   "cell_type": "markdown",
   "metadata": {},
   "source": [
    "## 1. Resumo"
   ]
  },
  {
   "attachments": {},
   "cell_type": "markdown",
   "metadata": {},
   "source": [
    "O algoritmo de validação do CPF calcula o primeiro dígito verificador a partir dos 9 primeiros dígitos do CPF, e em seguida, calcula o segundo dígito verificador a partir dos 9 (nove) primeiros dígitos do CPF, mais o primeiro dígito, obtido na primeira parte."
   ]
  },
  {
   "attachments": {},
   "cell_type": "markdown",
   "metadata": {},
   "source": [
    "## 2. Exemplo"
   ]
  },
  {
   "attachments": {},
   "cell_type": "markdown",
   "metadata": {},
   "source": [
    "Vamos usar como exemplo o CPF fictício, mas válido : 111.444.777-35."
   ]
  },
  {
   "attachments": {},
   "cell_type": "markdown",
   "metadata": {},
   "source": [
    "## 3. Cálculo dos Dígitos"
   ]
  },
  {
   "attachments": {},
   "cell_type": "markdown",
   "metadata": {},
   "source": [
    "### 3.1. Cálculo do Primeiro Dígito"
   ]
  },
  {
   "attachments": {},
   "cell_type": "markdown",
   "metadata": {},
   "source": [
    "O primeiro passo é calcular o primeiro dígito verificador, e para isso, separamos os primeiros 9 dígitos do CPF (111.444.777) e multiplicamos cada um dos números, da direita para a esquerda por números crescentes a partir do número 2, como no exemplo abaixo :\n",
    "\n",
    "| 1 | 1 | 1 | 4 | 4 | 4 | 7 | 7 | 7 |\n",
    "| - | - | - | - | - | - | - | - | - |\n",
    "| 10 | 9 | 8 | 7 | 6 | 5 | 4 | 3 | 2 |\n",
    "| 10 | 9 | 8 | 28 | 24 | 20 | 28 | 21 | 14 |\n",
    "\n",
    "Multiplicamos cada digito do CPF pelo respectivo número e somamos cada um dos resultados : 10 + 9 + 8 + 28 + 24 + 20 + 28 + 21 + 14 = 162\n",
    "\n",
    "Pegamos o resultado obtido 162 e dividimos por 11.  Consideramos como quociente apenas o valor inteiro.\n",
    "\n",
    "162 / 11  =    14  com resto 8   \n",
    "\n",
    "- Se o resto da divisão for menor que 2, então o dígito é igual a 0 (Zero).\n",
    "- Se o resto da divisão for maior ou igual a 2, então o dígito verificador é igual a 11 menos o resto da divisão (11 - resto).\n",
    "\n",
    "No nosso exemplo temos que o resto é 8 então faremos 11 - 8 = 3\n",
    "\n",
    "Logo o primeiro dígito verificador é 3. Então podemos escrever o CPF com os dois dígitos calculados :  111.444.777-3X"
   ]
  },
  {
   "attachments": {},
   "cell_type": "markdown",
   "metadata": {},
   "source": [
    "### 3.2. Cálculo do Segundo Dígito"
   ]
  },
  {
   "attachments": {},
   "cell_type": "markdown",
   "metadata": {},
   "source": [
    "Para  calcular o segundo dígito vamos usar o primeiro digito já calculado. Vamos montar a mesma tabela de multiplicação usada no cálculo do primeiro dígito. Só que desta vez usaremos na segunda linha os valores 11, 10, 9, 8, 7, 6, 5, 4, 3, 2 já que estamos incluindo mais um digito no cálculo(o primeiro dígito calculado):\n",
    "\n",
    "| 1 | 1 | 1 | 4 | 4 | 4 | 7 | 7 | 7 | 3 |\n",
    "| - | - | - | - | - | - | - | - | - | - |\n",
    "| 11 | 10 | 9 | 8 | 7 | 6 | 5 | 4 | 3 | 2 |\n",
    "| 11 | 10 | 9 | 32 | 28 | 24 | 35 | 28 | 21 | 6 |\n",
    "\n",
    "Novamente, efetuamos somamos o resultado da multiplicação : 11 + 10 + 9 + 32 + 28 + 24 + 35 + 28 + 21 + 6 = 204\n",
    "\n",
    "Dividimos o total do somatório por 11 e consideramos o resto da divisão.\n",
    "\n",
    "204 / 11  =  18  e  resto 6\n",
    "\n",
    "Após obter o resto da divisão, precisamos aplicar a mesma regra que utilizamos para obter o primeiro dígito:\n",
    "\n",
    "- Se o resto da divisão for menor que 2, então o dígito é igual a 0 (Zero).\n",
    "- Se o resto da divisão for maior ou igual a 2, então o dígito é igual a 11 menos o resto da divisão (11 - resto).\n",
    "\n",
    "11 - 6 = 5   logo 5 é o nosso segundo dígito verificador.\n",
    "\n",
    "Logo o nosso CPF fictício será igual a : 111.444.777-35."
   ]
  },
  {
   "attachments": {},
   "cell_type": "markdown",
   "metadata": {},
   "source": [
    "## 4. Primeiro Código"
   ]
  },
  {
   "attachments": {},
   "cell_type": "markdown",
   "metadata": {},
   "source": [
    "Crie um algoritmo em Python que realize a validação do CPF (passo 3) de acordo com a forma que foi descrita acima.\n",
    "\n",
    "Algumas dicas para o desenvolvimento :\n",
    "- foque na resolução do problema;\n",
    "- divida o grande problema em problemas menores, depois junte tudo;\n",
    "- não se preocupe com a formatação, otimização, isso será trabalhado mais tarde;\n",
    "- use uma declaração de variável para o CPF, não se preocupe em receber do usuário agora;\n",
    "\n",
    "Para esse projeto, crie uma pasta separada para todos os arquivos. Mais tarde isso vai ser importante pela quantidade de arquivos criados."
   ]
  },
  {
   "attachments": {},
   "cell_type": "markdown",
   "metadata": {},
   "source": [
    "## 5. Criando Funções"
   ]
  },
  {
   "attachments": {},
   "cell_type": "markdown",
   "metadata": {},
   "source": [
    "Após criado o algoritmo de Validação do CPF, adapte para que o sistema utilize funções e chamadas de funções para realizar essa validação.\n",
    "\n",
    "`PS` : repare que a maneira de realizar a validação do primeiro e do segundo dígito é praticamente a mesma, com apenas duas diferenças :\n",
    "- o multiplicador inicia em `10` no primeiro dígito, enquanto no segundo ele inicia em `11`;\n",
    "- para o primeiro dígito é realizado o cálculo com os `9 primeiros números` do CPF, enquanto que no segundo dígito é utilizado os `10 primeiros números`, incluíndo no cálculo o primeiro dígito verificador;"
   ]
  },
  {
   "attachments": {},
   "cell_type": "markdown",
   "metadata": {},
   "source": [
    "## 6. Entrada de Dados"
   ]
  },
  {
   "attachments": {},
   "cell_type": "markdown",
   "metadata": {},
   "source": [
    "Nessa etapa, adapte seu algoritmo para que um número indeterminado de CPFs a serem testados sejam digitados pelo usuário. Ofereça uma opção para que o usuário encerre o programa.\n",
    "\n",
    "Faça os testes necessários para validar esse CPF digitado :\n",
    "- caracteres válidos : números, ponto e traço;\n",
    "- caracteres inválidos : todo o resto;\n",
    "\n",
    "Faça as adaptações necessárias para utilizar as cláusulas [try..except](https://docs.python.org/3/tutorial/errors.html#handling-exceptions) e validar o CPF digitado;\n"
   ]
  },
  {
   "attachments": {},
   "cell_type": "markdown",
   "metadata": {},
   "source": [
    "## 7. Salvando em Arquivos"
   ]
  },
  {
   "attachments": {},
   "cell_type": "markdown",
   "metadata": {},
   "source": [
    "Nessa etapa, adapte seu algoritmo para salvar os resultados da validação do CPF em dois arquivos diferentes :\n",
    "- `resultado.txt` : arquivo com todos os CPFs válidos testados;\n",
    "- `erros.log` : arquivo de log onde terá todos os CPFs inválidos e uma mensagem de erro explicando o porquê dele ser rejeitado;\n",
    "\n",
    "`PS` : os arquivos `não devem` ser limpos a cada execução do programa."
   ]
  },
  {
   "attachments": {},
   "cell_type": "markdown",
   "metadata": {},
   "source": [
    "## 8. Adicionando Data e Módulos"
   ]
  },
  {
   "attachments": {},
   "cell_type": "markdown",
   "metadata": {},
   "source": [
    "Nessa etapa :\n",
    "- adicione a data completa `dd/mm/aaaa - hh:mm:ss.mmmm` junto de todas os regitros nos arquivos `resultado.txt` e `erros.log`;\n",
    "- mova o código de Validação do CPF para outro módulo, que será importado pelo script principal;\n",
    "- utilize diversas funções para compor esse módulo com a Validaçao do CPF (vai ajudar quando começarmos as Classes);"
   ]
  },
  {
   "attachments": {},
   "cell_type": "markdown",
   "metadata": {},
   "source": [
    "## 9. Adicionando Classes"
   ]
  },
  {
   "attachments": {},
   "cell_type": "markdown",
   "metadata": {},
   "source": [
    "Nessa etapa :\n",
    "1. crie uma classe Cpf que irá realizar o gerenciamento do CPF;\n",
    "    1. se for o caso, atribua o CPF diretamente à declaração do objeto para agilizar o desenvolvimento;\n",
    "    2. adicione atributos e métodos à classe criada de acordo com as necessidades, com a condição que ela tenha :\n",
    "        1. pelo menos **uma** implementação de `@classmethods` e `@staticmethods`;\n",
    "        2. pelo menos **quatro** métodos mágicos, excluindo o`__init__` (logo, pelo menos 5 métodos mágicos);\n",
    "2. crie uma classe para salvar os arquivos `resultado.txt` e `erros.log`;\n",
    "    1. adicione atributos e métodos à classe criada de acordo com as necessidades, com a condição que ela tenha :\n",
    "        1. pelo menos **uma** implementação de `@classmethods` e `@staticmethods`;\n",
    "        2. pelo menos **dois** métodos mágicos, excluindo o`__init__` (logo, pelo menos 5 métodos mágicos);"
   ]
  }
 ],
 "metadata": {
  "kernelspec": {
   "display_name": ".venv",
   "language": "python",
   "name": "python3"
  },
  "language_info": {
   "name": "python",
   "version": "3.11.1 (tags/v3.11.1:a7a450f, Dec  6 2022, 19:58:39) [MSC v.1934 64 bit (AMD64)]"
  },
  "orig_nbformat": 4,
  "vscode": {
   "interpreter": {
    "hash": "68f6cf9ddf20b8330c35f9eb8d38bef7105e3b161f09b6b7e5f8b2d3944d5325"
   }
  }
 },
 "nbformat": 4,
 "nbformat_minor": 2
}

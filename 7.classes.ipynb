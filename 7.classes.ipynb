{
 "cells": [
  {
   "attachments": {},
   "cell_type": "markdown",
   "metadata": {},
   "source": [
    "# Classes"
   ]
  },
  {
   "attachments": {},
   "cell_type": "markdown",
   "metadata": {},
   "source": [
    "## Resumo"
   ]
  },
  {
   "attachments": {},
   "cell_type": "markdown",
   "metadata": {},
   "source": [
    "Classes proporcionam uma forma de organizar dados e funcionalidades juntos. Criar uma nova classe cria um novo `tipo` de objeto, permitindo que novas `instâncias` desse tipo sejam produzidas. Cada instância da classe pode ter atributos anexados a ela, para manter seu estado. Instâncias da classe também podem ter métodos (definidos pela classe) para modificar seu estado.\n",
    "\n",
    "Em comparação com outras linguagens de programação, o mecanismo de classes de Python introduz a programação orientada a objetos sem acrescentar muitas novidades de sintaxe ou semântica. É uma mistura de mecanismos equivalentes encontrados em C++ e Modula-3. As classes em Python oferecem todas as características tradicionais da programação orientada a objetos: o mecanismo de herança permite múltiplas classes base (herança múltipla), uma classe derivada pode sobrescrever quaisquer métodos de uma classe ancestral e um método pode invocar outro método homônimo de uma classe ancestral. Objetos podem armazenar uma quantidade arbitrária de dados de qualquer tipo. Assim como acontece com os módulos, as classes fazem parte da natureza dinâmica de Python: são criadas em tempo de execução, e podem ser alteradas após sua criação.\n",
    "\n",
    "Usando a terminologia de C++, todos os membros de uma classe (incluindo dados) são públicos (veja exceção abaixo Variáveis privadas), e todos as funções membro são virtuais. Como em Modula-3, não existem atalhos para referenciar membros do objeto de dentro dos seus métodos: o método (função definida em uma classe) é declarado com um primeiro argumento explícito representando o objeto (instância da classe), que é fornecido implicitamente pela chamada ao método. Como em Smalltalk, classes são objetos. Isso fornece uma semântica para importar e renomear. Ao contrário de C++ ou Modula-3, tipos pré-definidos podem ser utilizados como classes base para extensões por herança pelo usuário. Também, como em C++, a maioria dos operadores (aritméticos, indexação, etc) podem ser redefinidos por instâncias de classe."
   ]
  },
  {
   "attachments": {},
   "cell_type": "markdown",
   "metadata": {},
   "source": [
    "## 1. Uma palavra sobre nomes e objetos"
   ]
  },
  {
   "attachments": {},
   "cell_type": "markdown",
   "metadata": {},
   "source": [
    "Objetos têm individualidade, e vários nomes (em diferentes escopos) podem ser vinculados a um mesmo objeto. Isso é chamado de apelidamento em outras linguagens. Geralmente, esta característica não é muito apreciada, e pode ser ignorada com segurança ao lidar com tipos imutáveis (números, strings, tuplas). Entretanto, apelidamento pode ter um efeito surpreendente na semântica do código Python envolvendo objetos mutáveis como listas, dicionários e a maioria dos outros tipos. Isso pode ser usado em benefício do programa, porque os apelidos funcionam de certa forma como ponteiros. Por exemplo, passar um objeto como argumento é barato, pois só um ponteiro é passado na implementação; e se uma função modifica um objeto passado como argumento, o invocador verá a mudança — isso elimina a necessidade de ter dois mecanismos de passagem de parâmetros como em Pascal."
   ]
  },
  {
   "attachments": {},
   "cell_type": "markdown",
   "metadata": {},
   "source": [
    "## 2. Escopos e espaços de nomes (NameSpaces) do Python"
   ]
  },
  {
   "attachments": {},
   "cell_type": "markdown",
   "metadata": {},
   "source": [
    "### 2.1. Básico"
   ]
  },
  {
   "attachments": {},
   "cell_type": "markdown",
   "metadata": {},
   "source": [
    "Namespaces são um mecanismo utilizado para isolar diferentes objetos com o mesmo nome em diferentes áreas de um programa. Isso permite que diferentes partes do código tenham acesso a diferentes versões de objetos com o mesmo nome sem causar conflitos.\n",
    "\n",
    "Em Python, os namespaces são implementados como dicionários. Cada objeto é associado a um nome e um valor dentro de um namespace específico. Quando um nome é procurado, o Python procura primeiro no namespace `local`, depois no namespace `global` e, finalmente, no namespace `built-in`."
   ]
  },
  {
   "attachments": {},
   "cell_type": "markdown",
   "metadata": {},
   "source": [
    "Para criar um novo namespace, você pode criar uma nova classe ou função. Todos os objetos definidos dentro da classe ou função serão adicionados ao namespace da classe ou função.\n",
    "\n",
    "Exemplo :"
   ]
  },
  {
   "cell_type": "code",
   "execution_count": null,
   "metadata": {},
   "outputs": [],
   "source": [
    "# Namespace global\n",
    "x = 1\n",
    "\n",
    "def func():\n",
    "    # Namespace local\n",
    "    x = 2\n",
    "    print(x)\n",
    "\n",
    "func()  # imprime 2\n",
    "print(x)  # imprime 1"
   ]
  },
  {
   "attachments": {},
   "cell_type": "markdown",
   "metadata": {},
   "source": [
    "Neste exemplo, temos uma variável global chamada `x` com o valor 1. Dentro da função `func`, temos uma variável local chamada `x` com o valor 2. Quando chamamos a função `func`, o valor de `x` dentro da função é impresso (2), mas o valor de `x` global não é afetado (continua sendo 1). Isso ocorre porque as variáveis dentro da função estão em um namespace diferente do namespace global."
   ]
  },
  {
   "attachments": {},
   "cell_type": "markdown",
   "metadata": {},
   "source": [
    "Além disso, é possível acessar o namespace global dentro de uma função usando a palavra-chave global.\n",
    "\n",
    "Exemplo :"
   ]
  },
  {
   "cell_type": "code",
   "execution_count": null,
   "metadata": {},
   "outputs": [],
   "source": [
    "x = 1\n",
    "\n",
    "def func():\n",
    "    global x\n",
    "    x = 2\n",
    "    print(x)\n",
    "\n",
    "func()  # imprime 2\n",
    "print(x)  # imprime 2"
   ]
  },
  {
   "attachments": {},
   "cell_type": "markdown",
   "metadata": {},
   "source": [
    "Neste exemplo, usamos a palavra-chave `global` para acessar a variável `x` no namespace `global` dentro da função. Isso permite que alteremos o valor de `x` globalmente."
   ]
  },
  {
   "attachments": {},
   "cell_type": "markdown",
   "metadata": {},
   "source": [
    "### 2.2. Namespace nas Classes"
   ]
  },
  {
   "attachments": {},
   "cell_type": "markdown",
   "metadata": {},
   "source": [
    "As classes também possuem seus próprios namespaces, chamados de namespaces de classe. Os namespaces de classe são usados para armazenar as variáveis de classe e os métodos da classe.\n",
    "\n",
    "As variáveis de classe são variáveis que são compartilhadas entre todas as instâncias de uma classe. Elas são definidas dentro do corpo da classe, mas fora de qualquer método."
   ]
  },
  {
   "attachments": {},
   "cell_type": "markdown",
   "metadata": {},
   "source": [
    "Os métodos de classe são métodos que são acessados diretamente a partir da classe, e não a partir de uma instância da classe. Eles são definidos dentro do corpo da classe usando a decorator `@classmethod`.\n",
    "\n",
    "Exemplo :"
   ]
  },
  {
   "cell_type": "code",
   "execution_count": null,
   "metadata": {},
   "outputs": [],
   "source": [
    "class MinhaClasse:\n",
    "    x = 1\n",
    "\n",
    "    @classmethod\n",
    "    def metodo_de_classe(cls):\n",
    "        print(cls.x)\n",
    "\n",
    "obj1 = MinhaClasse()\n",
    "obj2 = MinhaClasse()\n",
    "\n",
    "obj1.x = 2\n",
    "print(obj1.x) # imprime 2\n",
    "print(obj2.x) # imprime 1\n",
    "\n",
    "MinhaClasse.x = 3\n",
    "print(obj1.x) # imprime 3\n",
    "print(obj2.x) # imprime 3"
   ]
  },
  {
   "attachments": {},
   "cell_type": "markdown",
   "metadata": {},
   "source": [
    "Neste exemplo, temos uma classe chamada `MinhaClasse` com uma variável de classe `x` e um método de classe `metodo_de_classe`. Criamos duas instâncias dessa classe, `obj1` e `obj2`. Quando modificamos a variável `x` de `obj1`, isso não afeta `obj2`, pois cada instância tem sua própria cópia da variável `x`. No entanto, quando modificamos a variável `x` diretamente na classe, isso afeta tanto `obj1` quanto `obj2`, pois a variável `x` é compartilhada entre todas as instâncias da classe.\n",
    "\n",
    "Além disso, podemos acessar o método de classe `metodo_de_classe` diretamente a partir da classe, sem precisar criar uma instância primeiro.\n",
    "\n",
    "Os métodos de classe geralmente são usados para criar métodos de construtor alternativos ou para acessar variáveis de classe."
   ]
  },
  {
   "attachments": {},
   "cell_type": "markdown",
   "metadata": {},
   "source": [
    "Em resumo, os namespaces de classe são usados para armazenar as variáveis de classe e os métodos de classe em Python. As variáveis de classe são compartilhadas entre todas as instâncias de uma classe, enquanto os métodos de classe são acessados diretamente a partir da classe. Isso permite uma melhor organização e separação de responsabilidades dentro do código."
   ]
  },
  {
   "attachments": {},
   "cell_type": "markdown",
   "metadata": {},
   "source": [
    "### 2.3. Namespace nos Módulos"
   ]
  },
  {
   "attachments": {},
   "cell_type": "markdown",
   "metadata": {},
   "source": [
    "Além de classes e funções, há outras formas de se criar namespaces em Python. Por exemplo, é possível criar um namespace utilizando um módulo. Cada módulo é um arquivo Python que pode conter variáveis, funções e classes, e cada módulo tem seu próprio namespace.\n",
    "\n",
    "Exemplo :"
   ]
  },
  {
   "cell_type": "code",
   "execution_count": null,
   "metadata": {},
   "outputs": [],
   "source": [
    "# arquivo modulo1.py\n",
    "x = 1\n",
    "def func():\n",
    "    print(x)\n",
    "\n",
    "# arquivo modulo2.py\n",
    "x = 2\n",
    "def func():\n",
    "    print(x)\n",
    "\n",
    "# arquivo principal.py\n",
    "import modulo1\n",
    "import modulo2\n",
    "\n",
    "modulo1.func() #imprime 1\n",
    "modulo2.func() #imprime 2"
   ]
  },
  {
   "attachments": {},
   "cell_type": "markdown",
   "metadata": {},
   "source": [
    "Neste exemplo, temos dois módulos diferentes, `modulo1` e `modulo2`, cada um com uma variável `x` e uma função `func`. Cada módulo tem seu próprio namespace, então as variáveis e funções de cada módulo são independentes entre si. Quando importamos esses módulos no arquivo principal, podemos acessar as variáveis e funções de cada módulo usando o nome do módulo como prefixo."
   ]
  },
  {
   "attachments": {},
   "cell_type": "markdown",
   "metadata": {},
   "source": [
    "Além disso, é possível importar apenas parte de um módulo usando a palavra-chave from , e usando ou não o prefixo, ou ainda usando o as para renomear o objeto importado.\n",
    "\n",
    "Exemplo :"
   ]
  },
  {
   "cell_type": "code",
   "execution_count": null,
   "metadata": {},
   "outputs": [],
   "source": [
    "# arquivo modulo1.py\n",
    "x = 1\n",
    "def func():\n",
    "    print(x)\n",
    "\n",
    "# arquivo principal.py\n",
    "from modulo1 import x, func as myfunc\n",
    "\n",
    "print(x) #imprime 1\n",
    "myfunc() #imprime 1"
   ]
  },
  {
   "attachments": {},
   "cell_type": "markdown",
   "metadata": {},
   "source": [
    "Neste exemplo, importamos apenas a variável `x` e a função `func` do módulo `modulo1` e renomeamos a função para `myfunc`. Agora podemos acessar esses objetos diretamente, sem o prefixo do módulo.\n",
    "\n",
    "Além disso, é possível criar um namespace utilizando o comando `exec()` ou a função `eval()`. Essas funções permitem que você execute código dinamicamente, ou seja, a partir de uma string. Isso pode ser útil em algumas situações, mas deve ser usado com cuidado, pois pode ser um risco de segurança."
   ]
  },
  {
   "attachments": {},
   "cell_type": "markdown",
   "metadata": {},
   "source": [
    "Em resumo, os namespaces são uma forma de organizar e isolar diferentes objetos com o mesmo nome em diferentes áreas do código. Em Python, os namespaces são implementados como dicionários e podem ser criados usando classes, funções, módulos, ou comandos como `exec()` ou `eval()`. Ao se trabalhar com namespaces, é importante ter em mente que a ordem de busca dos objetos é a seguinte: namespace local, namespace global e namespace built-in. Isso significa que, quando um nome é procurado, o Python primeiro procura no namespace mais próximo (local) e, caso não encontre, procura nos namespaces subsequentes."
   ]
  },
  {
   "attachments": {},
   "cell_type": "markdown",
   "metadata": {},
   "source": [
    "É importante também notar que ao se importar um objeto de um módulo, ele não é copiado para o namespace atual, mas sim aponta para o objeto existente no módulo. Isso significa que, se você alterar o valor de uma variável importada, essa alteração será refletida em todos os lugares onde essa variável é usada.\n",
    "\n",
    "Outra coisa importante a se mencionar é que existem alguns comandos especiais que possibilitam acessar o namespace global dentro de uma função, como a palavra-chave `global`, que permite acessar a variável global com o mesmo nome, e a palavra-chave `nonlocal`, que permite acessar a variável em um namespace de escopo superior, mas não o global."
   ]
  },
  {
   "attachments": {},
   "cell_type": "markdown",
   "metadata": {},
   "source": [
    "Em resumo, os namespaces são uma ferramenta importante na programação, que permitem organizar e isolar diferentes objetos com o mesmo nome, evitando conflitos e garantindo a clareza do código. É importante estar ciente das regras de busca e comportamento dos namespaces ao se trabalhar com código Python, e usar as palavras-chave adequadas para acessar e manipular objetos nos namespaces corretos."
   ]
  },
  {
   "attachments": {},
   "cell_type": "markdown",
   "metadata": {},
   "source": [
    "## 3. Uma primeira olhada nas classes"
   ]
  },
  {
   "attachments": {},
   "cell_type": "markdown",
   "metadata": {},
   "source": [
    "Classes introduzem novidades sintáticas, três novos tipos de objetos, e também alguma semântica nova."
   ]
  },
  {
   "attachments": {},
   "cell_type": "markdown",
   "metadata": {},
   "source": [
    "### 3.1. Sintaxe da definição de classe"
   ]
  },
  {
   "attachments": {},
   "cell_type": "markdown",
   "metadata": {},
   "source": [
    "A forma mais simples de definir uma classe é :"
   ]
  },
  {
   "cell_type": "code",
   "execution_count": null,
   "metadata": {},
   "outputs": [],
   "source": [
    "class NomeClasse:\n",
    "    ..."
   ]
  },
  {
   "attachments": {},
   "cell_type": "markdown",
   "metadata": {},
   "source": [
    "Definições de classe, assim como definições de função (instruções [def](https://docs.python.org/pt-br/3/reference/compound_stmts.html#def)), precisam ser executadas antes que tenham qualquer efeito. (Você pode colocar uma definição de classe dentro do teste condicional de um [if](https://docs.python.org/pt-br/3/reference/compound_stmts.html#if) ou dentro de uma função).\n",
    "\n",
    "Na prática, as instruções dentro da definição de classe geralmente serão definições de funções, mas outras instruções são permitidas, e às vezes são bem úteis — voltaremos a este tema depois. Definições de funções dentro da classe normalmente têm um forma peculiar de lista de argumentos, determinada pela convenção de chamada a métodos — isso também será explicado mais tarde.\n",
    "\n",
    "Quando se inicia a definição de classe, um novo espaço de nomes (namespaces) é criado, e usado como escopo local — assim, todas atribuições a variáveis locais ocorrem nesse espaço de nomes. Em particular, funções definidas aqui são vinculadas a nomes nesse escopo.\n",
    "\n",
    "Quando uma definição de classe é finalizada normalmente (até o fim), um objeto classe é criado. Este objeto encapsula o conteúdo do espaço de nomes criado pela definição da classe. O escopo local que estava vigente antes da definição da classe é reativado, e o objeto classe é vinculado ao identificador da classe nesse escopo (`NomeClasse` no exemplo)."
   ]
  },
  {
   "attachments": {},
   "cell_type": "markdown",
   "metadata": {},
   "source": [
    "### 3.2. Objetos da Classe"
   ]
  },
  {
   "attachments": {},
   "cell_type": "markdown",
   "metadata": {},
   "source": [
    "Objetos classe suportam dois tipos de operações: `referências a atributos` e `instanciação`."
   ]
  },
  {
   "attachments": {},
   "cell_type": "markdown",
   "metadata": {},
   "source": [
    "`Referências a atributos` de classe utilizam a sintaxe padrão utilizada para quaisquer referências a atributos em Python: `obj.nome`. Nomes de atributos válidos são todos os nomes presentes dentro do espaço de nomes da classe, quando o objeto classe foi criado. Portanto, se a definição de classe tem esta forma :"
   ]
  },
  {
   "cell_type": "code",
   "execution_count": null,
   "metadata": {},
   "outputs": [],
   "source": [
    "class MinhaClasse:\n",
    "    \"\"\"Um simples exemplo de classe\"\"\"\n",
    "    n = 12345\n",
    "\n",
    "    def funcao(self):\n",
    "        return 'Olá, Mundo!'"
   ]
  },
  {
   "attachments": {},
   "cell_type": "markdown",
   "metadata": {},
   "source": [
    "então, `MinhaClasse.n` e `MinhaClasse.funcao` são referências a atributo válidas, retornando, respectivamente, um inteiro e um objeto função. Atributos de classe podem receber valores, pode-se modificar o valor de `MinhaClasse.n` num atribuição. `__doc__` também é um atributo válido da classe, retornando a documentação associada : \"Um simples exemplo de classe\"."
   ]
  },
  {
   "attachments": {},
   "cell_type": "markdown",
   "metadata": {},
   "source": [
    "Para `instanciar` uma classe, usa-se a mesma sintaxe de invocar uma função. Apenas finja que o objeto classe do exemplo é uma função sem parâmetros, que devolve uma nova instância da classe. Por exemplo (assumindo a classe acima) :"
   ]
  },
  {
   "cell_type": "code",
   "execution_count": null,
   "metadata": {},
   "outputs": [],
   "source": [
    "x = MinhaClasse()"
   ]
  },
  {
   "attachments": {},
   "cell_type": "markdown",
   "metadata": {},
   "source": [
    "cria uma nova `instância` da classe e atribui o objeto resultante à variável local `x`."
   ]
  },
  {
   "attachments": {},
   "cell_type": "markdown",
   "metadata": {},
   "source": [
    "A operação de instanciação (“invocar” um objeto classe) cria um objeto vazio. Muitas classes preferem criar novos objetos com um estado inicial predeterminado. Para tanto, a classe pode definir um método especial chamado `__init__()`, assim :"
   ]
  },
  {
   "cell_type": "code",
   "execution_count": null,
   "metadata": {},
   "outputs": [],
   "source": [
    "def __init__(self):\n",
    "    self.dados = []"
   ]
  },
  {
   "attachments": {},
   "cell_type": "markdown",
   "metadata": {},
   "source": [
    "quando uma classe define um método `__init__()`, o processo de instanciação automaticamente invoca `__init__()` sobre a instância recém criada. Em nosso exemplo, uma nova instância já inicializada pode ser obtida desta maneira :"
   ]
  },
  {
   "cell_type": "code",
   "execution_count": null,
   "metadata": {},
   "outputs": [],
   "source": [
    "x = MinhaClasse()"
   ]
  },
  {
   "attachments": {},
   "cell_type": "markdown",
   "metadata": {},
   "source": [
    "Naturalmente, o método `__init__()` pode ter parâmetros para maior flexibilidade. Neste caso, os argumentos fornecidos na invocação da classe serão passados para o método `__init__()`. Por exemplo :"
   ]
  },
  {
   "cell_type": "code",
   "execution_count": null,
   "metadata": {},
   "outputs": [],
   "source": [
    "class Complexo:\n",
    "    def __init__(self, parte_real, parte_imaginaria):\n",
    "        self.real = parte_real\n",
    "        self.imag = parte_imaginaria\n",
    "\n",
    "num_comp = Complexo(3.0, -4.5)\n",
    "print(num_comp.real, num_comp.imag)"
   ]
  },
  {
   "attachments": {},
   "cell_type": "markdown",
   "metadata": {},
   "source": [
    "### 3.3. Objetos Instância"
   ]
  },
  {
   "attachments": {},
   "cell_type": "markdown",
   "metadata": {},
   "source": [
    "Agora o que podemos fazer com objetos de instância? As únicas operações compreendidas por objetos de instância são os atributos de referência. Existem duas maneiras válidas para nomear atributos: atributos de dados e métodos."
   ]
  },
  {
   "attachments": {},
   "cell_type": "markdown",
   "metadata": {},
   "source": [
    "Atributos de dados correspondem a \"variáveis de instância\" em Smalltalk, e a \"membros de dados\" em C++. Atributos de dados não precisam ser declarados. Assim como variáveis locais, eles passam a existir na primeira vez em que é feita uma atribuição. Por exemplo, se `n` é uma instância da `MinhaClasse` criada acima, o próximo trecho de código irá exibir o valor `16`, sem deixar nenhum rastro :"
   ]
  },
  {
   "cell_type": "code",
   "execution_count": null,
   "metadata": {},
   "outputs": [],
   "source": [
    "class MinhaClasse:\n",
    "    ...\n",
    "\n",
    "n = MinhaClasse()\n",
    "n.contador = 1\n",
    "while n.contador < 10:\n",
    "    n.contador = n.contador * 2\n",
    "print(n.contador)\n",
    "del n.contador"
   ]
  },
  {
   "attachments": {},
   "cell_type": "markdown",
   "metadata": {},
   "source": [
    "O outro tipo de referências a atributos de instância é o \"método\". Um método é uma função que \"pertence\" a um objeto instância. (Em Python, o termo método não é aplicado exclusivamente a instâncias de classes definidas pelo usuário: outros tipos de objetos também podem ter métodos. Por exemplo, listas possuem os métodos append, insert, remove, sort, entre outros. Porém, na discussão a seguir, usaremos o termo método apenas para se referir a métodos de classes definidas pelo usuário. Seremos explícitos ao falar de outros métodos).\n",
    "\n",
    "Nomes de métodos válidos de uma instância dependem de sua classe. Por definição, cada atributo de uma classe que é uma função corresponde a um método das instâncias. Em nosso exemplo, `x.funcao` é uma referência de método válida já que `MinhaClasse.funcao` é uma função, enquanto `x.n` não é, já que `MinhaClasse.n` não é uma função. Entretanto, `x.funcao` não é o mesmo que `MinhaClasse.funcao`. A referência `x.funcao` acessa um objeto método e a `MinhaClasse.funcao` acessa um objeto função."
   ]
  },
  {
   "attachments": {},
   "cell_type": "markdown",
   "metadata": {},
   "source": [
    "### 3.4. Objetos Método"
   ]
  },
  {
   "attachments": {},
   "cell_type": "markdown",
   "metadata": {},
   "source": [
    "Normalmente, um método é chamado imediatamente após ser referenciado."
   ]
  },
  {
   "cell_type": "code",
   "execution_count": null,
   "metadata": {},
   "outputs": [],
   "source": [
    "class MinhaClasse:\n",
    "    \"\"\"Um simples exemplo de classe\"\"\"\n",
    "    n = 12345\n",
    "\n",
    "    def funcao(self):\n",
    "        return 'Olá, Mundo!'\n",
    "\n",
    "x.funcao()"
   ]
  },
  {
   "attachments": {},
   "cell_type": "markdown",
   "metadata": {},
   "source": [
    "No exemplo `MinhaClasse`, o resultado da expressão acima será a string 'Olá, Mundo!'. No entanto, não é obrigatório invocar o método imediatamente: como `x.funcao` é também um objeto ele pode ser atribuído a uma variável e invocado depois. O exemplo :"
   ]
  },
  {
   "cell_type": "code",
   "execution_count": null,
   "metadata": {},
   "outputs": [],
   "source": [
    "class MinhaClasse:\n",
    "    \"\"\"Um simples exemplo de classe\"\"\"\n",
    "    n = 12345\n",
    "\n",
    "    def funcao(self):\n",
    "        return 'Olá, Mundo!'\n",
    "\n",
    "x_funcao = x.funcao\n",
    "while True:\n",
    "    print(x_funcao())"
   ]
  },
  {
   "attachments": {},
   "cell_type": "markdown",
   "metadata": {},
   "source": [
    "exibirá o texto \"Olá, Mundo!\" até o mundo acabar."
   ]
  },
  {
   "attachments": {},
   "cell_type": "markdown",
   "metadata": {},
   "source": [
    "O que ocorre precisamente quando um método é invocado? Você deve ter notado que `x.funcao()` foi chamado sem nenhum argumento, porém a definição da função `funcao()` especificava um argumento. O que aconteceu com esse argumento? Certamente Python levanta uma exceção quando uma função que declara um argumento é invocada sem nenhum argumento — mesmo que o argumento não seja usado no corpo da função…\n",
    "\n",
    "Na verdade, pode-se supor a resposta: a particularidade sobre os métodos é que o objeto da instância é passado como o primeiro argumento da função. Em nosso exemplo, a chamada `x.funcao()` é exatamente equivalente a `MinhaClasse.funcao(x)`. Em geral, chamar um método com uma lista de *n argumentos* é equivalente a chamar a função correspondente com uma lista de argumentos que é criada inserindo o objeto de instância do método antes do primeiro argumento.\n",
    "\n",
    "Se você ainda não entende como os métodos funcionam, dê uma olhada na implementação para esclarecer as coisas. Quando um atributo de uma instância, não relacionado a dados, é referenciado, a classe da instância é pesquisada. Se o nome é um atributo de classe válido, e é o nome de uma função, um método é criado, empacotando a instância e a função, que estão juntos num objeto abstrato: este é o método. Quando o método é invocado com uma lista de argumentos, uma nova lista de argumentos é criada inserindo a instância na posição 0 da lista. Finalmente, o objeto função — empacotado dentro do objeto método — é invocado com a nova lista de argumentos."
   ]
  },
  {
   "attachments": {},
   "cell_type": "markdown",
   "metadata": {},
   "source": [
    "### 3.5. Variáveis de Classe e Instância"
   ]
  },
  {
   "attachments": {},
   "cell_type": "markdown",
   "metadata": {},
   "source": [
    "De forma geral, variáveis de instância são variáveis que indicam dados que são únicos a cada instância individual, e variáveis de classe são variáveis de atributos e de métodos que são comuns a todas as instâncias de uma classe."
   ]
  },
  {
   "cell_type": "code",
   "execution_count": null,
   "metadata": {},
   "outputs": [],
   "source": [
    "class Cao:\n",
    "    tipo = 'canino'     # variável de classe compartilhado por todas as instâncias\n",
    "    def __init__(self, nome):\n",
    "        self.nome = nome     # variável de instância uníco para cada instância\n",
    "\n",
    "cao_fido = Cao('Fido')\n",
    "cao_rex = Cao('Rex')\n",
    "print(cao_fido.tipo) # compartilhado por todos os cães\n",
    "print(cao_rex.tipo)  # compartilhado por todos os cães\n",
    "print(cao_fido.nome) # único para cao_fido\n",
    "print(cao_rex.nome)  # único para cao_rex"
   ]
  },
  {
   "attachments": {},
   "cell_type": "markdown",
   "metadata": {},
   "source": [
    "Como vimos em \"Uma palavra sobre nomes e objetos\", dados compartilhados podem causar efeitos inesperados quando envolvem objetos ([mutáveis](https://docs.python.org/pt-br/3/glossary.html#term-mutable)), como listas ou dicionários. Por exemplo, a lista **truques** do código abaixo não deve ser usada como variável de classe, pois assim seria compartilhada por todas as instâncias de Cao :"
   ]
  },
  {
   "cell_type": "code",
   "execution_count": null,
   "metadata": {},
   "outputs": [],
   "source": [
    "class Cao:\n",
    "    truques = []     # uso incorreto de uma variável de classe\n",
    "    def __init__(self, nome):\n",
    "        self.nome = nome   \n",
    "    def novo_truque(self, truque):\n",
    "        self.truques.append(truque)\n",
    "\n",
    "cao_fido = Cao('Fido')\n",
    "cao_rex = Cao('Rex')\n",
    "cao_fido.novo_truque('rolar')\n",
    "cao_rex.novo_truque('sentar')\n",
    "print(cao_fido.truques) # inesperadamente compartilhado com todos os cães"
   ]
  },
  {
   "attachments": {},
   "cell_type": "markdown",
   "metadata": {},
   "source": [
    "Em vez disso, o modelo correto da classe deve usar uma variável de instância :"
   ]
  },
  {
   "cell_type": "code",
   "execution_count": null,
   "metadata": {},
   "outputs": [],
   "source": [
    "class Cao:\n",
    "    def __init__(self, nome):\n",
    "        self.nome = nome   \n",
    "        self.truques = []     # cria uma nova lista para cada cão\n",
    "    def novo_truque(self, truque):\n",
    "        self.truques.append(truque)\n",
    "\n",
    "cao_fido = Cao('Fido')\n",
    "cao_rex = Cao('Rex')\n",
    "cao_fido.novo_truque('rolar')\n",
    "cao_rex.novo_truque('sentar')\n",
    "print(cao_fido.truques)\n",
    "print(cao_rex.truques)"
   ]
  },
  {
   "attachments": {},
   "cell_type": "markdown",
   "metadata": {},
   "source": [
    "## 4. Observações Aleatórias"
   ]
  },
  {
   "attachments": {},
   "cell_type": "markdown",
   "metadata": {},
   "source": [
    "Se um mesmo nome de atributo ocorre tanto na instância quanto na classe, a busca pelo atributo prioriza a instância :"
   ]
  },
  {
   "cell_type": "code",
   "execution_count": null,
   "metadata": {},
   "outputs": [],
   "source": [
    "class Armazem:\n",
    "    proposito = 'armazenar'\n",
    "    regiao = 'sul'\n",
    "\n",
    "a1 = Armazem()\n",
    "print(a1.proposito, a1.regiao)\n",
    "\n",
    "a2 = Armazem()\n",
    "a2.regiao = 'sudeste'\n",
    "print(a2.proposito, a2.regiao)"
   ]
  },
  {
   "attachments": {},
   "cell_type": "markdown",
   "metadata": {},
   "source": [
    "Atributos de dados podem ser referenciados por métodos da própria instância, bem como por qualquer outro usuário do objeto (também chamados “clientes” do objeto). Em outras palavras, classes não servem para implementar tipos puramente abstratos de dados. De fato, nada em Python torna possível assegurar o encapsulamento de dados — tudo é baseado em convenção. (Por outro lado, a implementação de Python, escrita em C, pode esconder completamente detalhes de um objeto e controlar o acesso ao objeto, se necessário; isto pode ser utilizado por extensões de Python escritas em C).\n",
    "\n",
    "Clientes devem utilizar atributos de dados com cuidado, pois podem bagunçar invariantes assumidas pelos métodos ao esbarrar em seus atributos de dados. Note que clientes podem adicionar atributos de dados a suas próprias instâncias, sem afetar a validade dos métodos, desde que seja evitado o conflito de nomes. Novamente, uma convenção de nomenclatura poupa muita dor de cabeça."
   ]
  },
  {
   "attachments": {},
   "cell_type": "markdown",
   "metadata": {},
   "source": [
    "Não existe atalho para referenciar atributos de dados (ou outros métodos!) de dentro de um método. Isso aumenta a legibilidade dos métodos: não há como confundir variáveis locais com variáveis da instância quando lemos rapidamente um método.\n",
    "\n",
    "Frequentemente, o primeiro argumento de um método é chamado `self`. Isso não passa de uma convenção: o identificador `self` não é uma palavra reservada nem possui qualquer significado especial em Python. Mas note que, ao seguir essa convenção, seu código se torna legível por uma grande comunidade de desenvolvedores Python e é possível que alguma IDE dependa dessa convenção para analisar seu código."
   ]
  },
  {
   "attachments": {},
   "cell_type": "markdown",
   "metadata": {},
   "source": [
    "Qualquer objeto função que é atributo de uma classe, define um método para as instâncias dessa classe. Não é necessário que a definição da função esteja textualmente embutida na definição da classe. Atribuir um objeto função a uma variável local da classe é válido. Por exemplo :"
   ]
  },
  {
   "cell_type": "code",
   "execution_count": null,
   "metadata": {},
   "outputs": [],
   "source": [
    "def f1(self, x, y):\n",
    "    return min(x, x+y)\n",
    "\n",
    "class C:\n",
    "    f = f1\n",
    "\n",
    "    def g(self):\n",
    "        return 'Olá, mundo!'\n",
    "    \n",
    "    h = g"
   ]
  },
  {
   "attachments": {},
   "cell_type": "markdown",
   "metadata": {},
   "source": [
    "Agora `f`, `g` e `h` são todos atributos da classe C que referenciam funções, e consequentemente são todos métodos de instâncias da classe C, onde `h` é exatamente equivalente a `g`. No entanto, essa prática serve apenas para confundir o leitor do programa."
   ]
  },
  {
   "attachments": {},
   "cell_type": "markdown",
   "metadata": {},
   "source": [
    "Métodos podem invocar outros métodos usando atributos de método do argumento `self`."
   ]
  },
  {
   "cell_type": "code",
   "execution_count": null,
   "metadata": {},
   "outputs": [],
   "source": [
    "class Sacola:\n",
    "    def __init__(self):\n",
    "        self.dados = []\n",
    "    \n",
    "    def adiciona(self, x):\n",
    "        self.dados.append(x)\n",
    "    \n",
    "    def adiciona_duas_vezes(self, x):\n",
    "        self.adiciona(x)\n",
    "        self.adiciona(x)"
   ]
  },
  {
   "attachments": {},
   "cell_type": "markdown",
   "metadata": {},
   "source": [
    "Métodos podem referenciar nomes globais da mesma forma que funções comuns. O escopo global associado a um método é o módulo contendo sua definição na classe (a classe propriamente dita nunca é usada como escopo global!). Ainda que seja raro justificar o uso de dados globais em um método, há diversos usos legítimos do escopo global. Por exemplo, funções e módulos importados no escopo global podem ser usados por métodos, bem como as funções e classes definidas no próprio escopo global. Provavelmente, a classe contendo o método em questão também foi definida neste escopo global. Na próxima seção veremos razões pelas quais um método pode querer referenciar sua própria classe.\n",
    "\n",
    "Cada valor é um objeto e, portanto, tem uma *classe* (também chamada de *tipo*). Ela é armazenada como `object.__class__`."
   ]
  },
  {
   "attachments": {},
   "cell_type": "markdown",
   "metadata": {},
   "source": [
    "## 5. Atributos"
   ]
  },
  {
   "attachments": {},
   "cell_type": "markdown",
   "metadata": {},
   "source": [
    "Em Python, os atributos de uma classe podem ser públicos ou privados.\n",
    "\n",
    "Atributos públicos são aqueles que não possuem nenhum prefixo ou sufixo especial em seus nomes. Isso significa que eles podem ser acessados e modificados por qualquer objeto da classe, bem como por qualquer objeto que herde da classe.\n",
    "\n",
    "Já os atributos privados são aqueles que possuem um prefixo `__` (duas underlines) no início do seu nome. Esses atributos só podem ser acessados e modificados diretamente dentro da classe onde eles foram declarados. Acessá-los de fora da classe é considerado uma violação de encapsulamento e pode causar problemas no funcionamento do código.\n",
    "\n",
    "É importante notar que, embora esses atributos possam ser acessados e modificados diretamente dentro da classe, é geralmente recomendado utilizar métodos getters e setters para fazer isso de forma controlada e segura."
   ]
  },
  {
   "attachments": {},
   "cell_type": "markdown",
   "metadata": {},
   "source": [
    "### 5.1. Atributos Públicos"
   ]
  },
  {
   "attachments": {},
   "cell_type": "markdown",
   "metadata": {},
   "source": [
    "Em Python, os atributos de uma classe são considerados públicos quando não possuem nenhum prefixo ou sufixo especial em seus nomes. Isso significa que eles podem ser acessados e modificados diretamente por qualquer objeto da classe, bem como por qualquer objeto que herde da classe."
   ]
  },
  {
   "attachments": {},
   "cell_type": "markdown",
   "metadata": {},
   "source": [
    "#### 5.1.1. Básico"
   ]
  },
  {
   "attachments": {},
   "cell_type": "markdown",
   "metadata": {},
   "source": [
    "Considere a seguinte classe `Personagem` :"
   ]
  },
  {
   "cell_type": "code",
   "execution_count": null,
   "metadata": {},
   "outputs": [],
   "source": [
    "class Personagem:\n",
    "    def __init__(self, nome, classe, nivel, vida, mana):\n",
    "        self.nome = nome\n",
    "        self.classe = classe\n",
    "        self.nivel = nivel\n",
    "        self.vida = vida\n",
    "        self.mana = mana\n"
   ]
  },
  {
   "attachments": {},
   "cell_type": "markdown",
   "metadata": {},
   "source": [
    "Nesta classe, os atributos `nome`, `classe`, `nivel`, `vida` e `mana` são públicos, pois não possuem nenhum prefixo ou sufixo especial em seus nomes. Isso significa que podemos acessá-los diretamente, como no exemplo abaixo :"
   ]
  },
  {
   "cell_type": "code",
   "execution_count": null,
   "metadata": {},
   "outputs": [],
   "source": [
    "guerreiro = Personagem(\"Conan\", \"Guerreiro\", 10, 100, 0)\n",
    "print(guerreiro.nome) # Imprime \"Conan\"\n",
    "print(guerreiro.classe) # Imprime \"Guerreiro\"\n",
    "print(guerreiro.nivel) # Imprime 10"
   ]
  },
  {
   "attachments": {},
   "cell_type": "markdown",
   "metadata": {},
   "source": [
    "Além disso, também podemos modificar esses atributos diretamente, como no exemplo abaixo :"
   ]
  },
  {
   "cell_type": "code",
   "execution_count": null,
   "metadata": {},
   "outputs": [],
   "source": [
    "guerreiro.vida = 80\n",
    "print(guerreiro.vida) # Imprime 80"
   ]
  },
  {
   "attachments": {},
   "cell_type": "markdown",
   "metadata": {},
   "source": [
    "Exemplo 1 : criando uma classe `Monstro` com atributos públicos :"
   ]
  },
  {
   "cell_type": "code",
   "execution_count": null,
   "metadata": {},
   "outputs": [],
   "source": [
    "class Monstro:\n",
    "    def __init__(self, nome, tipo, vida, dano):\n",
    "        self.nome = nome\n",
    "        self.tipo = tipo\n",
    "        self.vida = vida\n",
    "        self.dano = dano\n",
    "\n",
    "goblin = Monstro(\"Goblin\", \"humanoide\", 20, 5)\n",
    "print(goblin.nome) # Imprime \"Goblin\"\n",
    "print(goblin.tipo) # Imprime \"humanoide\""
   ]
  },
  {
   "attachments": {},
   "cell_type": "markdown",
   "metadata": {},
   "source": [
    "Nesta classe, os atributos `nome`, `tipo`, `vida` e `dano` são públicos, o que significa que podemos acessá-los diretamente."
   ]
  },
  {
   "attachments": {},
   "cell_type": "markdown",
   "metadata": {},
   "source": [
    "Exemplo 2 : criando uma classe `Item` com atributos públicos :"
   ]
  },
  {
   "cell_type": "code",
   "execution_count": null,
   "metadata": {},
   "outputs": [],
   "source": [
    "class Item:\n",
    "    def __init__(self, nome, tipo, preco):\n",
    "        self.nome = nome\n",
    "        self.tipo = tipo\n",
    "        self.preco = preco\n",
    "\n",
    "espada = Item(\"Espada Longa\", \"arma\", 100)\n",
    "print(espada.nome) # Imprime \"Espada Longa\"\n",
    "print(espada.tipo) # Imprime \"arma\""
   ]
  },
  {
   "attachments": {},
   "cell_type": "markdown",
   "metadata": {},
   "source": [
    "Nesta classe, os atributos `nome`, `tipo` e `preco` são públicos, o que significa que podemos acessá-los diretamente."
   ]
  },
  {
   "attachments": {},
   "cell_type": "markdown",
   "metadata": {},
   "source": [
    "#### 5.1.2. Atributos Públicos com Métodos"
   ]
  },
  {
   "attachments": {},
   "cell_type": "markdown",
   "metadata": {},
   "source": [
    "Aqui estão alguns exemplos adicionais de como podemos utilizar atributos públicos em classes com métodos :"
   ]
  },
  {
   "attachments": {},
   "cell_type": "markdown",
   "metadata": {},
   "source": [
    "Exemplo 1 : criando uma classe `Personagem` com atributos públicos e métodos `atacar` e `curar` :"
   ]
  },
  {
   "cell_type": "code",
   "execution_count": null,
   "metadata": {},
   "outputs": [],
   "source": [
    "class Personagem:\n",
    "    def __init__(self, nome, classe, nivel, vida, mana):\n",
    "        self.nome = nome\n",
    "        self.classe = classe\n",
    "        self.nivel = nivel\n",
    "        self.vida = vida\n",
    "        self.mana = mana\n",
    "\n",
    "    def atacar(self, alvo):\n",
    "        alvo.vida -= self.dano\n",
    "\n",
    "    def curar(self):\n",
    "        self.vida += 10\n",
    "        self.mana -= 5"
   ]
  },
  {
   "attachments": {},
   "cell_type": "markdown",
   "metadata": {},
   "source": [
    "Nesta classe, os atributos `nome`, `classe`, `nivel`, `vida` e `mana` são públicos, o que significa que podemos acessá-los diretamente, como abaixo :"
   ]
  },
  {
   "cell_type": "code",
   "execution_count": null,
   "metadata": {},
   "outputs": [],
   "source": [
    "guerreiro = Personagem(\"Conan\", \"Guerreiro\", 10, 100, 0)\n",
    "print(guerreiro.nome) # Imprime \"Conan\"\n",
    "guerreiro.atacar(goblin) # Diminui vida do goblin\n",
    "guerreiro.curar() # Aumenta vida do guerreiro"
   ]
  },
  {
   "attachments": {},
   "cell_type": "markdown",
   "metadata": {},
   "source": [
    "Exemplo 2: criando uma classe `Item` com atributos públicos e método `usar` :"
   ]
  },
  {
   "cell_type": "code",
   "execution_count": null,
   "metadata": {},
   "outputs": [],
   "source": [
    "class Item:\n",
    "    def __init__(self, nome, tipo, preco):\n",
    "        self.nome = nome\n",
    "        self.tipo = tipo\n",
    "        self.preco = preco\n",
    "\n",
    "    def usar(self, personagem):\n",
    "        if self.tipo == \"arma\":\n",
    "            personagem.dano += 10\n",
    "        elif self.tipo == \"poção\":\n",
    "            personagem.vida += 20\n",
    "\n",
    "espada = Item(\"Espada Longa\", \"arma\", 100)\n",
    "print(espada.nome) # Imprime \"Espada Longa\"\n",
    "espada.usar(guerreiro) # Aumenta dano do guerreiro"
   ]
  },
  {
   "attachments": {},
   "cell_type": "markdown",
   "metadata": {},
   "source": [
    "Nesta classe, os atributos `nome`, `tipo` e `preco` são públicos, o que significa que podemos acessá-los diretamente."
   ]
  },
  {
   "attachments": {},
   "cell_type": "markdown",
   "metadata": {},
   "source": [
    "### 5.1. Atributos Privados"
   ]
  },
  {
   "attachments": {},
   "cell_type": "markdown",
   "metadata": {},
   "source": [
    "Em Python, os atributos de uma classe podem ser declarados como privados adicionando um prefixo `__` (duas underlines) no início do seu nome. Esses atributos só podem ser acessados e modificados diretamente dentro da classe onde eles foram declarados. Acessá-los de fora da classe é considerado uma violação de encapsulamento e pode causar problemas no funcionamento do código.\n",
    "\n",
    "Isso pode ser útil para garantir que certos valores não possam ser modificados diretamente, mas apenas através de métodos específicos."
   ]
  },
  {
   "attachments": {},
   "cell_type": "markdown",
   "metadata": {},
   "source": [
    "Por exemplo, considere a seguinte classe `Personagem` :"
   ]
  },
  {
   "cell_type": "code",
   "execution_count": null,
   "metadata": {},
   "outputs": [],
   "source": [
    "class Personagem:\n",
    "    def __init__(self, nome, classe, nivel, vida, mana):\n",
    "        self.__nome = nome\n",
    "        self.__classe = classe\n",
    "        self.__nivel = nivel\n",
    "        self.__vida = vida\n",
    "        self.__mana = mana"
   ]
  },
  {
   "attachments": {},
   "cell_type": "markdown",
   "metadata": {},
   "source": [
    "Nesta classe, os atributos `__nome`, `__classe`, `__nivel`, `__vida` e `__mana` são privados, pois possuem o prefixo \"\" em seus nomes. Isso significa que não podemos acessá-los diretamente, como no exemplo abaixo :"
   ]
  },
  {
   "cell_type": "code",
   "execution_count": null,
   "metadata": {},
   "outputs": [],
   "source": [
    "guerreiro = Personagem(\"Conan\", \"Guerreiro\", 10, 100, 0)\n",
    "print(guerreiro.__nome) # resultará em um erro, pois não é possível acessar diretamente"
   ]
  },
  {
   "attachments": {},
   "cell_type": "markdown",
   "metadata": {},
   "source": [
    "Para acessar esses atributos, é necessário criar métodos `getters` e `setters` específicos para a classe, como no exemplo abaixo :"
   ]
  },
  {
   "cell_type": "code",
   "execution_count": null,
   "metadata": {},
   "outputs": [],
   "source": [
    "class Personagem:\n",
    "    def __init__(self, nome, classe, nivel, vida, mana):\n",
    "        self.__nome = nome\n",
    "        self.__classe = classe\n",
    "        self.__nivel = nivel\n",
    "        self.__vida = vida\n",
    "        self.__mana = mana\n",
    "\n",
    "    def get_nome(self):\n",
    "        return self.__nome\n",
    "\n",
    "    def set_nome(self, novo_nome):\n",
    "        self.__nome = novo_nome"
   ]
  },
  {
   "attachments": {},
   "cell_type": "markdown",
   "metadata": {},
   "source": [
    "Dessa forma, é possível acessar e modificar os atributos privados através dos métodos específicos :"
   ]
  },
  {
   "cell_type": "code",
   "execution_count": null,
   "metadata": {},
   "outputs": [],
   "source": [
    "guerreiro = Personagem(\"Conan\", \"Guerreiro\", 10, 100, 0)\n",
    "print(guerreiro.get_nome()) # Imprime \"Conan\"\n",
    "guerreiro.set_nome(\"Arnold\")\n",
    "print(guerreiro.get_nome()) # Imprime \"Arnold\""
   ]
  },
  {
   "attachments": {},
   "cell_type": "markdown",
   "metadata": {},
   "source": [
    "Exemplo 1 : criando uma classe `Monstro` com atributos privados e métodos `get_vida` e `set_vida` :"
   ]
  },
  {
   "cell_type": "code",
   "execution_count": null,
   "metadata": {},
   "outputs": [],
   "source": [
    "class Monstro:\n",
    "    def __init__(self, nome, tipo, vida, dano):\n",
    "        self.__nome = nome\n",
    "        self.__tipo = tipo\n",
    "        self.__vida = vida\n",
    "        self.__dano = dano\n",
    "\n",
    "    def get_vida(self):\n",
    "        return self.__vida\n",
    "\n",
    "    def set_vida(self, nova_vida):\n",
    "        self.__vida = nova_vida\n",
    "\n",
    "goblin = Monstro(\"Goblin\", \"humanoide\", 20, 5)\n",
    "print(goblin.get_vida()) # Imprime 20\n",
    "goblin.set_vida(15)\n",
    "print(goblin.get_vida()) # Imprime 15\n"
   ]
  },
  {
   "attachments": {},
   "cell_type": "markdown",
   "metadata": {},
   "source": [
    "Nesta classe, os atributos `__nome`, `__tipo`, `__vida` e `__dano` são privados, o que significa que não podemos acessá-los diretamente. O atributo `__vida` só pode ser acessado apenas através dos métodos `get_vida` e `set_vida`."
   ]
  },
  {
   "attachments": {},
   "cell_type": "markdown",
   "metadata": {},
   "source": [
    "Exemplo 2 : criando uma classe `Item` com atributos privados e método `get_preco` :"
   ]
  },
  {
   "cell_type": "code",
   "execution_count": null,
   "metadata": {},
   "outputs": [],
   "source": [
    "class Item:\n",
    "    def __init__(self, nome, tipo, preco):\n",
    "        self.nome = nome\n",
    "        self.tipo = tipo\n",
    "        self.__preco = preco\n",
    "\n",
    "    def get_preco(self):\n",
    "        return self.__preco\n",
    "\n",
    "espada = Item(\"Espada Longa\", \"arma\", 100)\n",
    "print(espada.get_preco()) # Imprime 100"
   ]
  },
  {
   "attachments": {},
   "cell_type": "markdown",
   "metadata": {},
   "source": [
    "Nesta classe, o atributo `__preco` é privado, o que significa que não podemos acessá-lo diretamente, mas apenas através do método `get_preco`."
   ]
  },
  {
   "attachments": {},
   "cell_type": "markdown",
   "metadata": {},
   "source": [
    "## 6. Herança"
   ]
  },
  {
   "attachments": {},
   "cell_type": "markdown",
   "metadata": {},
   "source": [
    "A herança em Python é um recurso da `programação orientada a objetos (OOP)` que permite que uma classe herde atributos e métodos de outra classe. Isso significa que a classe filha pode acessar e utilizar tudo o que a classe pai possui, sem precisar reescrever o código."
   ]
  },
  {
   "attachments": {},
   "cell_type": "markdown",
   "metadata": {},
   "source": [
    "### 6.1. Herança Simples"
   ]
  },
  {
   "attachments": {},
   "cell_type": "markdown",
   "metadata": {},
   "source": [
    "A herança simples é quando uma classe herda diretamente de outra classe, sem a necessidade de intermediários. É possível utilizar a notação `class Filha(Pai):` para estabelecer a relação de herança.\n",
    "\n",
    "Exemplo:"
   ]
  },
  {
   "cell_type": "code",
   "execution_count": null,
   "metadata": {},
   "outputs": [],
   "source": [
    "class Pai:\n",
    "    def __init__(self, nome, idade):\n",
    "        self.nome = nome\n",
    "        self.idade = idade\n",
    "        \n",
    "    def cumprimentar(self):\n",
    "        print(f\"Olá, meu nome é {self.nome} e tenho {self.idade} anos.\")\n",
    "\n",
    "class Filha(Pai):\n",
    "    pass\n",
    "\n",
    "p = Pai(\"João\", 30)\n",
    "f = Filha(\"Maria\", 20)\n",
    "\n",
    "p.cumprimentar() # imprime \"Olá, meu nome é João e tenho 30 anos.\"\n",
    "f.cumprimentar() # imprime \"Olá, meu nome é Maria e tenho 20 anos.\""
   ]
  },
  {
   "attachments": {},
   "cell_type": "markdown",
   "metadata": {},
   "source": [
    "Neste exemplo, a classe `Filha` herda todos os atributos e métodos da classe `Pai`. A classe `Filha` pode acessar e utilizar tudo o que a classe `Pai` possui, sem precisar reescrever o código.\n",
    "Além disso, é possível acessar e modificar os atributos e métodos da classe pai diretamente, sem precisar de métodos `getters` e `setters`."
   ]
  },
  {
   "cell_type": "code",
   "execution_count": null,
   "metadata": {},
   "outputs": [],
   "source": [
    "f.nome = \"Ana\"\n",
    "f.cumprimentar() # imprime \"Olá, meu nome é Ana e tenho 20 anos.\""
   ]
  },
  {
   "attachments": {},
   "cell_type": "markdown",
   "metadata": {},
   "source": [
    "É possível também adicionar novos métodos e atributos à classe filha, sem afetar a classe pai :"
   ]
  },
  {
   "cell_type": "code",
   "execution_count": null,
   "metadata": {},
   "outputs": [],
   "source": [
    "class Filha(Pai):\n",
    "    def __init__(self, nome, idade, escola):\n",
    "        super().__init__(nome, idade)\n",
    "        self.escola = escola\n",
    "    def onde_estuda(self):\n",
    "        print(f\"{self.nome} está estudando na escola {self.escola}.\")\n",
    "\n",
    "f = Filha(\"Maria\", 20, \"Colégio XYZ\")\n",
    "f.onde_estuda() # imprime \"Maria está estudando na escola Colégio XYZ.\""
   ]
  },
  {
   "attachments": {},
   "cell_type": "markdown",
   "metadata": {},
   "source": [
    "Note que, na classe `Filha`, utilizamos o método `super().__init__(nome, idade)` para chamar o construtor da classe pai e assim, inicializar os atributos nome e idade."
   ]
  },
  {
   "attachments": {},
   "cell_type": "markdown",
   "metadata": {},
   "source": [
    "Além disso, é possível sobrescrever métodos da classe pai na classe filha, ou seja, dar uma nova implementação para um método já existente na classe pai. Isso é chamado de \"overriding\" e é feito da mesma maneira que adicionar novos métodos, mas usando o mesmo nome do método da classe pai.\n",
    "\n",
    "Exemplo :"
   ]
  },
  {
   "cell_type": "code",
   "execution_count": null,
   "metadata": {},
   "outputs": [],
   "source": [
    "class Pai:\n",
    "    def falar(self):\n",
    "        print(\"Eu sou o pai.\")\n",
    "\n",
    "class Filha(Pai):\n",
    "    def falar(self):\n",
    "        print(\"Eu sou a filha.\")\n",
    "\n",
    "p = Pai()\n",
    "f = Filha()\n",
    "\n",
    "p.falar() # imprime \"Eu sou o pai.\"\n",
    "f.falar() # imprime \"Eu sou a filha.\""
   ]
  },
  {
   "attachments": {},
   "cell_type": "markdown",
   "metadata": {},
   "source": [
    "Neste exemplo, a classe `Filha` herda o método `falar()` da classe `Pai`, mas dá uma nova implementação para ele, imprimindo `Eu sou a filha` em vez de `Eu sou o pai`."
   ]
  },
  {
   "attachments": {},
   "cell_type": "markdown",
   "metadata": {},
   "source": [
    "Além disso, é possível utilizar o método da classe pai, mesmo depois de ter sido sobrescrito, usando o método `super().nome_metodo()` na classe filha."
   ]
  },
  {
   "cell_type": "code",
   "execution_count": null,
   "metadata": {},
   "outputs": [],
   "source": [
    "class Filha(Pai):\n",
    "    def falar(self):\n",
    "        super().falar()\n",
    "        print(\"Eu sou a filha.\")\n",
    "\n",
    "f = Filha()\n",
    "f.falar() # imprime \"Eu sou o pai.\" e depois \"Eu sou a filha.\""
   ]
  },
  {
   "attachments": {},
   "cell_type": "markdown",
   "metadata": {},
   "source": [
    "A herança simples é uma forma de reaproveitar código e manter a estrutura do seu programa organizada. No entanto, é importante tomar cuidado com a complexidade do código e evitar \"heranças muito profundas\", pois isso pode tornar o código difícil de entender e manter."
   ]
  },
  {
   "attachments": {},
   "cell_type": "markdown",
   "metadata": {},
   "source": [
    "Python tem duas funções **built-in** que trabalham com herança :\n",
    "- use `isinstance()` para verificar o tipo de uma instância : `isinstance(obj, int)` será **True** somente se `obj.__class__` é a classe [int](https://docs.python.org/pt-br/3/library/functions.html#int) ou alguma classe derivada de [int](https://docs.python.org/pt-br/3/library/functions.html#int).\n",
    "- use `issubclass()` para verificar herança entre classes : `issubclass(bool, int)` é **True** porque [bool](https://docs.python.org/pt-br/3/library/functions.html#bool) é uma subclasse de [int](https://docs.python.org/pt-br/3/library/functions.html#int). Porém, `issubclass(float, int)` é False porque [float](https://docs.python.org/pt-br/3/library/functions.html#float) não é uma subclasse de [int](https://docs.python.org/pt-br/3/library/functions.html#int)."
   ]
  },
  {
   "attachments": {},
   "cell_type": "markdown",
   "metadata": {},
   "source": [
    "### 6.2. Herança Múltipla"
   ]
  },
  {
   "attachments": {},
   "cell_type": "markdown",
   "metadata": {},
   "source": [
    "A herança múltipla é uma forma de uma classe herdar atributos e métodos de mais de uma classe. Isso significa que a classe filha pode acessar e utilizar tudo o que as classes pais possuem, sem precisar reescrever o código.\n",
    "\n",
    "Em Python, a herança múltipla é especificada colocando mais de uma classe na declaração de uma classe filha, separadas por vírgulas.\n",
    "\n",
    "Exemplo :"
   ]
  },
  {
   "cell_type": "code",
   "execution_count": null,
   "metadata": {},
   "outputs": [],
   "source": [
    "class Pai:\n",
    "    def __init__(self, nome):\n",
    "        self.nome = nome\n",
    "        \n",
    "    def falar(self):\n",
    "        print(f\"Eu sou {self.nome}.\")\n",
    "\n",
    "class Mae:\n",
    "    def __init__(self, idade):\n",
    "        self.idade = idade\n",
    "        \n",
    "    def andar(self):\n",
    "        print(f\"Eu tenho {self.idade} anos e estou andando.\")\n",
    "\n",
    "class Filha(Pai, Mae):\n",
    "    pass\n",
    "\n",
    "f = Filha(\"Maria\", 20)\n",
    "f.falar() # imprime \"Eu sou Maria.\"\n",
    "f.andar() # imprime \"Eu tenho 20 anos e estou andando.\""
   ]
  },
  {
   "attachments": {},
   "cell_type": "markdown",
   "metadata": {},
   "source": [
    "Neste exemplo, a classe `Filha` herda todos os atributos e métodos das classes `Pai` e `Mae`. Isso significa que ela pode acessar e utilizar tudo o que as classes `Pai` e `Mae` possuem, sem precisar reescrever o código."
   ]
  },
  {
   "attachments": {},
   "cell_type": "markdown",
   "metadata": {},
   "source": [
    "A ordem das classes pais na declaração da classe filha também é importante. Python utiliza uma regra de `Method Resolution Order (MRO)` para determinar qual método deve ser chamado quando há conflito entre métodos com o mesmo nome. A ordem utilizada é a ordem `C3 Linearization` que procura pelo método na classe filha, depois nas classes pais na ordem especificada na declaração da classe filha e por último nas superclasses das classes pais.\n",
    "\n",
    "Exemplo:"
   ]
  },
  {
   "cell_type": "code",
   "execution_count": null,
   "metadata": {},
   "outputs": [],
   "source": [
    "class Pai:\n",
    "    def falar(self):\n",
    "        print(\"Eu sou o pai.\")\n",
    "\n",
    "class Mae:\n",
    "    def falar(self):\n",
    "        print(\"Eu sou a mãe.\")\n",
    "\n",
    "class Filha(Pai, Mae):\n",
    "    pass\n",
    "\n",
    "f = Filha()\n",
    "f.falar() # imprime \"Eu sou o pai.\"\n"
   ]
  },
  {
   "attachments": {},
   "cell_type": "markdown",
   "metadata": {},
   "source": [
    "Neste exemplo, a classe `Filha` herda os métodos `falar()` das classes `Pai` e `Mae`, mas como a ordem especificada na declaração da classe `Filha` é `Pai`, `Mae`, o método `falar()` da classe `Pai` é chamado.\n",
    "\n",
    "A herança múltipla pode ser uma forma de reaproveitar código e manter a estrutura do seu programa organizada, mas é importante tomar cuidado para evitar conflitos entre os métodos e atributos das classes pais. Além disso, é importante evitar criar ciclos de herança, pois isso pode causar problemas de desempenho e tornar o código difícil de entender e manter."
   ]
  },
  {
   "attachments": {},
   "cell_type": "markdown",
   "metadata": {},
   "source": [
    "É importante lembrar também que, na herança múltipla, é preciso tomar cuidado com a ordem de inicialização dos métodos, pois as classes pais podem ter construtores com diferentes assinaturas, ou seja, diferentes números e tipos de argumentos. Para resolver isso, é necessário chamar o construtor de cada classe pai explicitamente, utilizando o método `super()`.\n",
    "\n",
    "Exemplo :"
   ]
  },
  {
   "cell_type": "code",
   "execution_count": null,
   "metadata": {},
   "outputs": [],
   "source": [
    "class Pai:\n",
    "    def __init__(self, nome):\n",
    "        self.nome = nome\n",
    "\n",
    "    def falar(self):\n",
    "        print(f\"Eu sou {self.nome}.\")\n",
    "\n",
    "class Mae:\n",
    "    def __init__(self, idade):\n",
    "        self.idade = idade\n",
    "\n",
    "    def andar(self):\n",
    "        print(f\"Eu tenho {self.idade} anos e estou andando.\")\n",
    "\n",
    "class Filha(Pai, Mae):\n",
    "    def __init__(self, nome, idade):\n",
    "        super().__init__(nome)\n",
    "        super().__init__(idade)\n",
    "\n",
    "f = Filha(\"Maria\", 20)\n",
    "f.falar() # imprime \"Eu sou Maria.\"\n",
    "f.andar() # imprime \"Eu tenho 20 anos e estou andando.\"\n"
   ]
  },
  {
   "attachments": {},
   "cell_type": "markdown",
   "metadata": {},
   "source": [
    "Neste exemplo, chamamos o construtor de cada classe pai explicitamente, utilizando o método `super().__init__(nome)` e `super().__init__(idade)` na classe `Filha`, para garantir que os atributos nome e idade sejam inicializados corretamente."
   ]
  },
  {
   "attachments": {},
   "cell_type": "markdown",
   "metadata": {},
   "source": [
    "Em resumo, a herança múltipla é uma forma de reaproveitar código e manter a estrutura do seu programa organizada, mas é importante tomar cuidado com conflitos entre os métodos e atributos das classes pais e evitar ciclos de herança. Além disso, é preciso tomar cuidado com a ordem de inicialização dos métodos e garantir que os construtores das classes pais sejam chamados corretamente."
   ]
  },
  {
   "attachments": {},
   "cell_type": "markdown",
   "metadata": {},
   "source": [
    "### 6.3. super()"
   ]
  },
  {
   "attachments": {},
   "cell_type": "markdown",
   "metadata": {},
   "source": [
    "O método `super()` é um recurso em Python que permite acessar os métodos e atributos de uma classe pai a partir de uma classe filha. Ele é comumente usado em conjunto com a herança, permitindo que a classe filha acesse e utilize os métodos e atributos da classe pai sem precisar reescrever o código.\n",
    "\n",
    "O método `super()` é especialmente útil quando se tem uma hierarquia de classes e se deseja chamar um método específico da classe pai, mesmo que esse método tenha sido sobrescrito (overridden) na classe filha. Ele também pode ser usado para chamar o construtor de uma classe pai, especialmente quando se trabalha com herança múltipla, onde as classes pais podem ter construtores com diferentes assinaturas.\n",
    "\n",
    "Exemplo :"
   ]
  },
  {
   "cell_type": "code",
   "execution_count": null,
   "metadata": {},
   "outputs": [],
   "source": [
    "class Pai:\n",
    "    def falar(self):\n",
    "        print(\"Eu sou o pai.\")\n",
    "\n",
    "class Filha(Pai):\n",
    "    def falar(self):\n",
    "        super().falar()\n",
    "        print(\"Eu sou a filha.\")\n",
    "\n",
    "f = Filha()\n",
    "f.falar() # imprime \"Eu sou o pai.\" e depois \"Eu sou a filha.\""
   ]
  },
  {
   "attachments": {},
   "cell_type": "markdown",
   "metadata": {},
   "source": [
    "Neste exemplo, a classe `Filha` herda o método `falar()` da classe `Pai`, mas dá uma nova implementação para ele, imprimindo `Eu sou a filha` em vez de `Eu sou o pai`. No entanto, ainda queremos chamar o método `falar()` da classe `Pai`, então usamos o método `super().falar()` na classe `Filha`."
   ]
  },
  {
   "attachments": {},
   "cell_type": "markdown",
   "metadata": {},
   "source": [
    "Além disso, o método `super()` pode ser usado para chamar o construtor de uma classe pai, quando se trabalha com herança múltipla.\n",
    "\n",
    "Exemplo :"
   ]
  },
  {
   "cell_type": "code",
   "execution_count": null,
   "metadata": {},
   "outputs": [],
   "source": [
    "class Pai:\n",
    "    def __init__(self, nome):\n",
    "        self.nome = nome\n",
    "        \n",
    "class Mae:\n",
    "    def __init__(self, idade):\n",
    "        self.idade = idade\n",
    "        \n",
    "class Filha(Pai, Mae):\n",
    "    def __init__(self, nome, idade):\n",
    "        super().__init__(nome)\n",
    "        super().__init__(idade)\n",
    "\n",
    "f = Filha(\"Maria\", 20)"
   ]
  },
  {
   "attachments": {},
   "cell_type": "markdown",
   "metadata": {},
   "source": [
    "Neste exemplo, chamamos o construtor de cada classe pai explicitamente, utilizando o método `super().__init__(nome)` e `super().__init__(idade)` na classe `Filha`, para garantir que os atributos nome e idade sejam inicializados corretamente."
   ]
  },
  {
   "attachments": {},
   "cell_type": "markdown",
   "metadata": {},
   "source": [
    "Em resumo, o método `super()` é uma ferramenta útil para trabalhar com herança em Python, permitindo que a classe filha acesse e utilize os métodos e atributos da classe pai sem precisar reescrever o código. Ele é especialmente útil quando se trabalha com hierarquias de classes e se deseja chamar um método específico da classe pai, mesmo que esse método tenha sido sobrescrito (overridden) na classe filha. Além disso, o método `super()` é usado para chamar o construtor de uma classe pai, especialmente quando se trabalha com herança múltipla, onde as classes pais podem ter construtores com diferentes assinaturas. É importante notar que o método `super()` não funciona em Python 2.x sem argumentos, e que é necessário passar os argumentos corretamente para evitar problemas de inicialização."
   ]
  },
  {
   "attachments": {},
   "cell_type": "markdown",
   "metadata": {},
   "source": [
    "### 6.4. Mais Exemplos"
   ]
  },
  {
   "attachments": {},
   "cell_type": "markdown",
   "metadata": {},
   "source": [
    "Aqui estão alguns exemplos de como a herança pode ser usada para criar uma hierarquia de personagens em um jogo RPG :"
   ]
  },
  {
   "cell_type": "code",
   "execution_count": null,
   "metadata": {},
   "outputs": [],
   "source": [
    "class Personagem:\n",
    "    def __init__(self, nome, vida, ataque):\n",
    "        self.nome = nome\n",
    "        self.vida = vida\n",
    "        self.ataque = ataque\n",
    "\n",
    "    def atacar(self, alvo):\n",
    "        alvo.vida -= self.ataque\n",
    "        print(f\"{self.nome} atacou {alvo.nome} e causou {self.ataque} de dano.\")\n",
    "\n",
    "class Guerreiro(Personagem):\n",
    "    def __init__(self, nome, vida=100, ataque=20):\n",
    "        super().__init__(nome, vida, ataque)\n",
    "        self.armadura = 10\n",
    "\n",
    "    def defender(self):\n",
    "        self.armadura += 5\n",
    "        print(f\"{self.nome} se defendeu e aumentou sua armadura para {self.armadura}.\")\n",
    "\n",
    "class Mago(Personagem):\n",
    "    def __init__(self, nome, vida=70, ataque=30):\n",
    "        super().__init__(nome, vida, ataque)\n",
    "        self.mana = 100\n",
    "\n",
    "    def lançar_feitiço(self, alvo):\n",
    "        if self.mana < 20:\n",
    "            print(f\"{self.nome} não tem mana suficiente para lançar o feitiço.\")\n",
    "        else:\n",
    "            alvo.vida -= self.ataque + 10\n",
    "            self.mana -= 20\n",
    "            print(f\"{self.nome} lançou um feitiço em {alvo.nome} e causou {self.ataque + 10} de dano.\")\n",
    "\n",
    "class Clerigo(Mago):\n",
    "    def __init__(self, nome, vida=80, ataque=25):\n",
    "        super().__init__(nome, vida, ataque)\n",
    "\n",
    "    def curar(self, alvo):\n",
    "        alvo.vida += 10\n",
    "        self.mana -= 10\n",
    "        print(f\"{self.nome} curou {alvo.nome} e restaurou 10 de vida.\")\n",
    "\n",
    "guerreiro = Guerreiro(\"Conan\")\n",
    "mago = Mago(\"Gandalf\")\n",
    "clerigo = Clerigo(\"Merlin\")\n",
    "\n",
    "guerreiro.atacar(mago) # imprime \"Conan atacou Gandalf e causou 20 de dano.\"\n",
    "mago.lançar_feitiço(guerreiro) # imprime \"Gandalf lançou um feitiço em Conan e causou 40 de dano.\"\n",
    "clerigo.curar(guerreiro) # imprime \"Merlin curou Conan e restaurou 10 de vida.\""
   ]
  },
  {
   "attachments": {},
   "cell_type": "markdown",
   "metadata": {},
   "source": [
    "Neste exemplo, temos as classes `Personagem`, `Guerreiro`, `Mago` e `Clerigo`, onde `Personagem` é a classe pai e as outras classes são filhas. A classe `Guerreiro` herda todos os atributos e métodos da classe `Personagem` e adiciona um novo atributo `armadura` e um novo método `defender`. A classe Mago também herda todos os atributos e métodos da classe `Personagem`, e adiciona um novo atributo `mana` e um novo método `lançar_feitiço`. Por fim, a classe `Clerigo` herda tanto os atributos e métodos da classe Mago quanto os da classe `Personagem` e adiciona um novo método `curar`.\n",
    "\n",
    "Como pode ser visto, a herança permite que as classes filhas acessem e utilizem todos os atributos e métodos das classes pais, e também adicionem novos atributos e métodos específicos de cada classe, sem precisar reescrever o código. Isso torna o código mais limpo e organizado e facilita a manutenção."
   ]
  },
  {
   "attachments": {},
   "cell_type": "markdown",
   "metadata": {},
   "source": [
    "## 7. Sobrescrita"
   ]
  },
  {
   "attachments": {},
   "cell_type": "markdown",
   "metadata": {},
   "source": [
    "A sobrescrita é um recurso da programação orientada a objetos que permite que uma subclasse redefina o comportamento de um método herdado de uma superclasse. Isso é feito usando a mesma assinatura de método (nome e parâmetros) na subclasse.\n",
    "\n",
    "A seguir, um exemplo de como isso funciona em Python :"
   ]
  },
  {
   "cell_type": "code",
   "execution_count": null,
   "metadata": {},
   "outputs": [],
   "source": [
    "# classe base (superclasse)\n",
    "class Animal:\n",
    "    def falar(self):\n",
    "        print(\"Som de animal\")\n",
    "\n",
    "# subclasse\n",
    "class Cachorro(Animal):\n",
    "    def falar(self):\n",
    "        print(\"Au au!\")\n",
    "\n",
    "# instância da subclasse\n",
    "dog = Cachorro()\n",
    "dog.falar() # imprime \"Au au!\"\n",
    "\n",
    "# instância da classe base\n",
    "animal = Animal()\n",
    "animal.falar() # imprime \"Som de animal\""
   ]
  },
  {
   "attachments": {},
   "cell_type": "markdown",
   "metadata": {},
   "source": [
    "Neste exemplo, a classe `Cachorro` herda do `Animal` e sobrescreve o método `falar()`, mudando o comportamento para imprimir `Au au!`. Quando criamos uma instância de `Cachorro` e chamamos o método `falar()`, vemos que ele imprime `Au au!`, enquanto que quando chamamos o mesmo método em uma instância de `Animal`, o resultado é `Som de animal`."
   ]
  },
  {
   "attachments": {},
   "cell_type": "markdown",
   "metadata": {},
   "source": [
    "É importante notar que a subclasse pode chamar o método original da superclasse usando a palavra-chave `super()`. Isso é útil quando a subclasse deseja estender o comportamento original, em vez de substituí-lo completamente."
   ]
  },
  {
   "cell_type": "code",
   "execution_count": null,
   "metadata": {},
   "outputs": [],
   "source": [
    "# subclasse\n",
    "class Gato(Animal):\n",
    "    def falar(self):\n",
    "        print(\"Miau!\")\n",
    "        super().falar()\n",
    "\n",
    "# instância da subclasse\n",
    "cat = Gato()\n",
    "cat.falar() # imprime \"Miau! Som de animal\""
   ]
  },
  {
   "attachments": {},
   "cell_type": "markdown",
   "metadata": {},
   "source": [
    "Neste exemplo, a subclasse `Gato` imprime `Miau!` e depois chama o método original da superclasse para imprimir `Som de animal`."
   ]
  },
  {
   "attachments": {},
   "cell_type": "markdown",
   "metadata": {},
   "source": [
    "A sobrescrita é um recurso importante da programação orientada a objetos que permite a uma subclasse herdar e personalizar o comportamento de uma superclasse. Isso é feito através da definição de métodos com o mesmo nome na subclasse, o que substitui o comportamento do método original da superclasse.\n",
    "\n",
    "A principal vantagem da sobrescrita é a capacidade de reutilizar o código já existente na superclasse e adaptá-lo às necessidades específicas da subclasse. Isso pode ser feito sem ter que copiar e colar o código da superclasse, o que é ineficiente e propenso a erros.\n",
    "\n",
    "É importante notar que a sobrescrita só é possível para métodos, não para atributos. Isso é porque os atributos são específicos de cada instância de uma classe, enquanto que os métodos são comportamentos compartilhados por todas as instâncias de uma classe.\n",
    "\n",
    "Além disso, é comum usar a palavra-chave `super()` para chamar o método original da superclasse dentro de um método sobrescrito. Isso permite que a subclasse estenda o comportamento original, em vez de substituí-lo completamente.\n",
    "\n",
    "Em resumo, a sobrescrita é uma técnica de programação orientada a objetos que permite que uma subclasse redefina o comportamento de um método herdado de uma superclasse, reutilizando o código existente e adaptando-o às necessidades específicas da subclasse."
   ]
  },
  {
   "attachments": {},
   "cell_type": "markdown",
   "metadata": {},
   "source": [
    "Aqui estão alguns exemplos de como a sobrescrita pode ser usada para modelar personagens de RPG :"
   ]
  },
  {
   "cell_type": "code",
   "execution_count": null,
   "metadata": {},
   "outputs": [],
   "source": [
    "# classe base (superclasse) para personagens\n",
    "class Personagem:\n",
    "    def __init__(self, nome, vida, ataque):\n",
    "        self.nome = nome\n",
    "        self.vida = vida\n",
    "        self.ataque = ataque\n",
    "        \n",
    "    def atacar(self, alvo):\n",
    "        dano = self.ataque - alvo.defesa\n",
    "        alvo.vida -= dano\n",
    "        print(f'{self.nome} ataca {alvo.nome} causando {dano} de dano')\n",
    "        \n",
    "    def status(self):\n",
    "        print(f'{self.nome} - Vida: {self.vida}')\n",
    "\n",
    "# subclasse para guerreiros\n",
    "class Guerreiro(Personagem):\n",
    "    def __init__(self, nome, vida, ataque, escudo):\n",
    "        super().__init__(nome, vida, ataque)\n",
    "        self.escudo = escudo\n",
    "        \n",
    "    def atacar(self, alvo):\n",
    "        dano = self.ataque - alvo.defesa\n",
    "        dano = dano // 2 if dano > 0 else 0 # redução de dano com escudo\n",
    "        alvo.vida -= dano\n",
    "        print(f'{self.nome} ataca {alvo.nome} causando {dano} de dano')\n",
    "\n",
    "# subclasse para magos\n",
    "class Mago(Personagem):\n",
    "    def __init__(self, nome, vida, ataque, mana):\n",
    "        super().__init__(nome, vida, ataque)\n",
    "        self.mana = mana\n",
    "        \n",
    "    def atacar(self, alvo):\n",
    "        if self.mana >= 10:\n",
    "            dano = self.ataque * 2 - alvo.defesa\n",
    "            self.mana -= 10\n",
    "            alvo.vida -= dano\n",
    "            print(f'{self.nome} lança um feitiço em {alvo.nome} causando {dano} de dano')\n",
    "        else:\n",
    "            print(f'{self.nome} não tem mana suficiente para lançar um feitiço')"
   ]
  },
  {
   "attachments": {},
   "cell_type": "markdown",
   "metadata": {},
   "source": [
    "Neste exemplo, temos uma classe base `Personagem` que define os atributos básicos de um personagem de RPG, como `nome`, `vida` e `ataque`, e os métodos `atacar` e `status`. As subclasses `Guerreiro` e `Mago` herdam desta classe e sobrescrevem o método `atacar` para adicionar comportamentos específicos, como o uso de um escudo pelos guerreiros e o lançamento de feitiços pelos magos.\n",
    "\n",
    "Por exemplo :"
   ]
  },
  {
   "cell_type": "code",
   "execution_count": null,
   "metadata": {},
   "outputs": [],
   "source": [
    "# criação de um guerreiro\n",
    "g = Guerreiro('Conan', 100, 10, 5)\n",
    "\n",
    "# criação de um mago\n",
    "m = Mago('Gandalf', 70, 5, 50)\n",
    "\n",
    "# ataque do guerreiro\n",
    "g.atacar(m) # imprime \"Conan ataca Gandalf causando 2 de dano\"\n",
    "\n",
    "# ataque do mago\n",
    "m.atacar(g) # imprime \"Gandalf lança um feitiço em Conan causando 10 de dano\"\n",
    "\n",
    "# status dos personagens\n",
    "g.status() # imprime \"Conan - Vida: 98\"\n",
    "m.status() # imprime \"Gandalf - Vida: 60\""
   ]
  },
  {
   "attachments": {},
   "cell_type": "markdown",
   "metadata": {},
   "source": [
    "Como podemos ver, o guerreiro tem o atributo de escudo que ele usa para reduzir o dano recebido e o mago tem o atributo de mana que ele usa para lançar feitiços, ambos são sobrescritos no metodo `atacar` . Além disso, ambas as subclasses mantêm a funcionalidade básica do método `atacar` da superclasse, permitindo que elas ataquem outros personagens e mostrando o dano causado."
   ]
  },
  {
   "attachments": {},
   "cell_type": "markdown",
   "metadata": {},
   "source": [
    "## 8. Métodos Estáticos"
   ]
  },
  {
   "attachments": {},
   "cell_type": "markdown",
   "metadata": {},
   "source": [
    "O `@staticmethod` das classes são métodos que não precisam de uma instância da classe para serem chamados. Eles são definidos usando a decorator `@staticmethod` antes da declaração do método. Eles podem acessar apenas variáveis e métodos estáticos da classe.\n",
    "\n",
    "Aqui está um exemplo de como usar `@staticmethod` :"
   ]
  },
  {
   "cell_type": "code",
   "execution_count": null,
   "metadata": {},
   "outputs": [],
   "source": [
    "class MinhaClasse:\n",
    "    var_estatica = \"variavel estatica\"\n",
    "\n",
    "    @staticmethod\n",
    "    def metodo_estatico():\n",
    "        print(MinhaClasse.var_estatica)\n",
    "\n",
    "MinhaClasse.metodo_estatico()  # imprime \"variavel estatica\""
   ]
  },
  {
   "attachments": {},
   "cell_type": "markdown",
   "metadata": {},
   "source": [
    "Neste exemplo, o método `metodo_estatico` é definido como estático usando o decorador `@staticmethod`. Ele acessa a variável de classe `var_estatica` e imprime seu valor. Ele pode ser chamado diretamente a partir da classe, sem a necessidade de criar uma instância da classe.\n",
    "\n",
    "É importante notar que, diferente de métodos normais, os métodos estáticos não têm acesso às variáveis de instância e métodos da classe. Eles só podem acessar variáveis e métodos estáticos."
   ]
  },
  {
   "cell_type": "code",
   "execution_count": null,
   "metadata": {},
   "outputs": [],
   "source": [
    "class MinhaClasse:\n",
    "    var_estatica = \"variavel estatica\"\n",
    "    def __init__(self):\n",
    "        self.var_instancia = \"variavel de instancia\"\n",
    "\n",
    "    @staticmethod\n",
    "    def metodo_estatico():\n",
    "        print(MinhaClasse.var_estatica)\n",
    "        print(self.var_instancia)  # gera erro, pois self não é definido\n",
    "\n",
    "\n",
    "objeto = MinhaClasse()\n",
    "objeto.metodo_estatico()  "
   ]
  },
  {
   "attachments": {},
   "cell_type": "markdown",
   "metadata": {},
   "source": [
    "O exemplo acima gera um erro, pois o método estático não tem acesso à variáveis de instância."
   ]
  },
  {
   "attachments": {},
   "cell_type": "markdown",
   "metadata": {},
   "source": [
    "`@staticmethod` é um decorator em Python que é usado para definir um método estático dentro de uma classe. Um método estático é um método que não precisa de uma instância de uma classe para ser chamado. Em vez disso, eles são chamados diretamente a partir da classe.\n",
    "\n",
    "Os métodos estáticos são úteis quando você precisa de uma função que não precisa acessar as variáveis de instância ou os métodos da classe. Eles só têm acesso às variáveis e métodos estáticos da classe.\n",
    "\n",
    "Aqui está um exemplo de como usar `@staticmethod` :"
   ]
  },
  {
   "cell_type": "code",
   "execution_count": null,
   "metadata": {},
   "outputs": [],
   "source": [
    "class MinhaClasse:\n",
    "    var_estatica = \"variavel estatica\"\n",
    "\n",
    "    @staticmethod\n",
    "    def metodo_estatico():\n",
    "        print(MinhaClasse.var_estatica)\n",
    "\n",
    "MinhaClasse.metodo_estatico()  # imprime \"variavel estatica\""
   ]
  },
  {
   "attachments": {},
   "cell_type": "markdown",
   "metadata": {},
   "source": [
    "Neste exemplo, o método `metodo_estatico` é definido como estático usando o decorador `@staticmethod`. Ele acessa a variável de classe `var_estatica` e imprime seu valor. Ele pode ser chamado diretamente a partir da classe, sem a necessidade de criar uma instância da classe.\n",
    "\n",
    "Além disso, os métodos estáticos são geralmente usados para funções relacionadas à classe, como cálculos, conversões de unidades, etc., que não precisam de acesso aos dados de instância.\n",
    "\n",
    "É importante notar que, ao contrário dos métodos normais, os métodos estáticos não têm acesso às variáveis de instância e métodos da classe. Eles só podem acessar variáveis e métodos estáticos.\n",
    "\n",
    "Ao chamar um método estático, não é preciso criar uma instância da classe, o que pode ser útil para economizar recursos. Além disso, os métodos estáticos podem ser chamados diretamente a partir da classe, sem a necessidade de criar uma instância."
   ]
  },
  {
   "attachments": {},
   "cell_type": "markdown",
   "metadata": {},
   "source": [
    "Aqui temos um exemplo de como usar `@staticmethod` para criar uma calculadora simples :"
   ]
  },
  {
   "cell_type": "code",
   "execution_count": null,
   "metadata": {},
   "outputs": [],
   "source": [
    "class Calculadora:\n",
    "    @staticmethod\n",
    "    def soma(x, y):\n",
    "        return x + y\n",
    "\n",
    "    @staticmethod\n",
    "    def subtracao(x, y):\n",
    "        return x - y\n",
    "\n",
    "    @staticmethod\n",
    "    def multiplicacao(x, y):\n",
    "        return x * y\n",
    "\n",
    "    @staticmethod\n",
    "    def divisao(x, y):\n",
    "        if y == 0:\n",
    "            raise ValueError(\"Não é possível dividir por zero\")\n",
    "        return x / y\n",
    "\n",
    "# exemplos de uso\n",
    "print(Calculadora.soma(10, 5))  # imprime 15\n",
    "print(Calculadora.subtracao(10, 5))  # imprime 5\n",
    "print(Calculadora.multiplicacao(10, 5))  # imprime 50\n",
    "print(Calculadora.divisao(10, 5))  # imprime 2.0"
   ]
  },
  {
   "attachments": {},
   "cell_type": "markdown",
   "metadata": {},
   "source": [
    "Neste exemplo, a classe `Calculadora` define quatro métodos estáticos: `soma`, `subtracao`, `multiplicacao` e `divisao`. Cada um deles é definido como estático usando o decorador `@staticmethod`. Esses métodos podem ser chamados diretamente a partir da classe `Calculadora`, sem a necessidade de criar uma instância dela.\n",
    "\n",
    "Os exemplos mostram o uso desses métodos, passando dois argumentos para cada um deles, e imprimindo o resultado.\n",
    "\n",
    "É importante observar que, nesse exemplo, é tratado o caso de divisão por zero, que é uma operação inválida e gera erro, por isso é lançado um ValueError com uma mensagem de erro."
   ]
  },
  {
   "attachments": {},
   "cell_type": "markdown",
   "metadata": {},
   "source": [
    "A seguir, temos mais exemplos de `@staticmethods` :"
   ]
  },
  {
   "cell_type": "code",
   "execution_count": null,
   "metadata": {},
   "outputs": [],
   "source": [
    "class MinhaClasse:\n",
    "    x = [1, 2, 3]\n",
    "\n",
    "    @staticmethod\n",
    "    def metodo_estatico(a, b):\n",
    "        return a + b\n",
    "\n",
    "\n",
    "# Utilizando o método estático\n",
    "print(MinhaClasse.metodo_estatico(1, 2)) # 3\n",
    "\n",
    "# Criando uma instância da classe\n",
    "obj = MinhaClasse()\n",
    "\n",
    "# Utilizando o método estático através da instância\n",
    "print(obj.metodo_estatico(1, 2)) # 3"
   ]
  },
  {
   "attachments": {},
   "cell_type": "markdown",
   "metadata": {},
   "source": [
    "No exemplo acima, o método `metodo_estatico` é um método estático que soma dois números e retorna o resultado. Ele pode ser chamado diretamente pela classe ou por uma instância da classe, mas não tem acesso aos atributos ou métodos da classe."
   ]
  },
  {
   "cell_type": "code",
   "execution_count": null,
   "metadata": {},
   "outputs": [],
   "source": [
    "class MinhaClasse:\n",
    "    def __init__(self, valor):\n",
    "        self.valor = valor\n",
    "\n",
    "    @staticmethod\n",
    "    def metodo_estatico(parametro):\n",
    "        print(f'Este é um método estático e você passou o parâmetro {parametro}')\n",
    "\n",
    "# Criando uma instância da classe\n",
    "objeto = MinhaClasse(10)\n",
    "\n",
    "# Acessando o atributo da instância\n",
    "print(objeto.valor) # imprime 10\n",
    "\n",
    "# Acessando o método estático\n",
    "objeto.metodo_estatico(20) # imprime \"Este é um método estático e você passou o parâmetro 20\"\n",
    "MinhaClasse.metodo_estatico(30) # imprime \"Este é um método estático e você passou o parâmetro 30\""
   ]
  },
  {
   "attachments": {},
   "cell_type": "markdown",
   "metadata": {},
   "source": [
    "Existem várias funcionalidades do `@staticmethod`, mas basicamente ele é usado para definir um método que não precisa acessar nenhum atributo ou método da classe ou da instância. Este método é acessado diretamente pela classe e não precisa ser instanciado. Além disso, é possível acessar o método estático tanto através de uma instância da classe quanto diretamente pela classe."
   ]
  },
  {
   "attachments": {},
   "cell_type": "markdown",
   "metadata": {},
   "source": [
    "Aqui temos como exemplo o uso do `@staticmethod` em um jogo de RPG :"
   ]
  },
  {
   "cell_type": "code",
   "execution_count": null,
   "metadata": {},
   "outputs": [],
   "source": [
    "import random\n",
    "\n",
    "class JogoRPG:\n",
    "    def __init__(self, nome_jogador, classe_jogador):\n",
    "        self.nome_jogador = nome_jogador\n",
    "        self.classe_jogador = classe_jogador\n",
    "        self.vida_jogador = 100\n",
    "\n",
    "    def atacar(self, alvo):\n",
    "        dano = 20\n",
    "        alvo.vida_jogador -= dano\n",
    "        print(f\"{self.nome_jogador} atacou {alvo.nome_jogador} e causou {dano} de dano.\")\n",
    "\n",
    "    @staticmethod\n",
    "    def gerar_inimigo():\n",
    "        inimigos = [\"Orc\", \"Lobo\", \"Goblin\"]\n",
    "        inimigo_gerado = inimigos[random.randint(0, len(inimigos)-1)]\n",
    "        vida_inimigo = 50\n",
    "        return inimigo_gerado, vida_inimigo\n",
    "\n",
    "jogador1 = JogoRPG(\"Jogador 1\", \"Guerreiro\")\n",
    "jogador2 = JogoRPG(\"Jogador 2\", \"Mago\")\n",
    "\n",
    "inimigo, vida_inimigo = JogoRPG.gerar_inimigo()\n",
    "\n",
    "print(f\"Um inimigo {inimigo} foi gerado com {vida_inimigo} de vida.\")\n",
    "\n",
    "jogador1.atacar(jogador2)"
   ]
  },
  {
   "attachments": {},
   "cell_type": "markdown",
   "metadata": {},
   "source": [
    "Note que a função `gerar_inimigo` não precisa ser acessada via `self` e é chamada diretamente através da classe `JogoRPG`."
   ]
  },
  {
   "attachments": {},
   "cell_type": "markdown",
   "metadata": {},
   "source": [
    "## 9. Métodos de Classe"
   ]
  },
  {
   "attachments": {},
   "cell_type": "markdown",
   "metadata": {},
   "source": [
    "O `@classmethod` é um decorador em Python que indica que o método seguinte é um método de classe. Isso significa que o método é chamado em relação à classe e não em relação a uma instância da classe.\n",
    "\n",
    "Aqui está um exemplo de como usar `@classmethod` :"
   ]
  },
  {
   "cell_type": "code",
   "execution_count": null,
   "metadata": {},
   "outputs": [],
   "source": [
    "class MinhaClasse:\n",
    "    x = [1, 2, 3]\n",
    "\n",
    "    @classmethod\n",
    "    def modifica_x(cls, novo_valor):\n",
    "        cls.x.append(novo_valor)\n",
    "\n",
    "MinhaClasse.modifica_x(4)\n",
    "print(MinhaClasse.x) # [1, 2, 3, 4]"
   ]
  },
  {
   "attachments": {},
   "cell_type": "markdown",
   "metadata": {},
   "source": [
    "Neste exemplo, `modifica_x` é um método de classe e pode ser chamado diretamente a partir da classe, sem precisar criar uma instância. O primeiro argumento do método é geralmente chamado de `cls`, que se refere à própria classe e permite que o método acesse e modifique variáveis ​​de classe.\n",
    "\n",
    "É importante notar que, embora os métodos de classe sejam chamados diretamente na classe, eles ainda podem ser chamados a partir de uma instância da classe."
   ]
  },
  {
   "cell_type": "code",
   "execution_count": null,
   "metadata": {},
   "outputs": [],
   "source": [
    "obj = MinhaClasse()\n",
    "obj.modifica_x(5)\n",
    "print(obj.x) # [1, 2, 3, 4, 5]\n",
    "print(MinhaClasse.x) # [1, 2, 3, 4, 5]"
   ]
  },
  {
   "attachments": {},
   "cell_type": "markdown",
   "metadata": {},
   "source": [
    "Os métodos de classe são úteis quando você deseja fornecer um método que não precisa acessar o estado da instância, mas precisa acessar o estado da classe."
   ]
  },
  {
   "attachments": {},
   "cell_type": "markdown",
   "metadata": {},
   "source": [
    "O `@classmethod` é um decorador em Python que indica que o método seguinte é um método de classe. Os métodos de classe são diferentes dos métodos normais (ou métodos de instância) porque são chamados em relação à classe e não em relação a uma instância da classe. Isso significa que eles podem acessar e modificar variáveis ​​de classe, mas não podem acessar o estado de uma instância específica.\n",
    "\n",
    "Um exemplo comum de uso de `@classmethod` é a criação de um método de fábrica para a criação de novas instâncias da classe. Por exemplo :"
   ]
  },
  {
   "cell_type": "code",
   "execution_count": null,
   "metadata": {},
   "outputs": [],
   "source": [
    "class MinhaClasse:\n",
    "    def __init__(self, valor):\n",
    "        self.valor = valor\n",
    "\n",
    "    @classmethod\n",
    "    def cria_novo(cls, valor):\n",
    "        return cls(valor)\n",
    "\n",
    "obj = MinhaClasse.cria_novo(5)\n",
    "print(obj.valor) # 5"
   ]
  },
  {
   "attachments": {},
   "cell_type": "markdown",
   "metadata": {},
   "source": [
    "Aqui, o método de fábrica `cria_novo` é chamado diretamente na classe, mas cria e retorna uma nova instância da classe com o valor especificado.\n",
    "\n",
    "Outro exemplo é quando precisamos de um método que precisa acessar informações da classe, mas não precisa do estado de uma instância específica."
   ]
  },
  {
   "cell_type": "code",
   "execution_count": null,
   "metadata": {},
   "outputs": [],
   "source": [
    "class MinhaClasse:\n",
    "    x = [1, 2, 3]\n",
    "\n",
    "    @classmethod\n",
    "    def print_x(cls):\n",
    "        print(cls.x)\n",
    "\n",
    "MinhaClasse.print_x() # [1, 2, 3]"
   ]
  },
  {
   "attachments": {},
   "cell_type": "markdown",
   "metadata": {},
   "source": [
    "É importante notar que os métodos de classe podem ser chamados tanto na classe quanto em uma instância da classe, mas o primeiro argumento do método sempre será a classe em si, e não a instância.\n",
    "\n",
    "Além disso, os métodos de classe podem ser usados ​​com herança. Se uma subclasse herda de uma classe com um método de classe, o método de classe na subclasse irá acessar as variáveis ​​de classe da superclasse.\n",
    "\n",
    "Em resumo, os métodos de classe são úteis quando você deseja fornecer um método que não precisa acessar o estado de uma instância específica, mas precisa acessar o estado da classe."
   ]
  },
  {
   "attachments": {},
   "cell_type": "markdown",
   "metadata": {},
   "source": [
    "Segue um exemplo de uma calculadora :"
   ]
  },
  {
   "cell_type": "code",
   "execution_count": null,
   "metadata": {},
   "outputs": [],
   "source": [
    "class Calculadora:\n",
    "    def __init__(self, valor1, valor2):\n",
    "        self.valor1 = valor1\n",
    "        self.valor2 = valor2\n",
    "    \n",
    "    @classmethod\n",
    "    def soma(cls, valor1, valor2):\n",
    "        return valor1 + valor2\n",
    "\n",
    "    @classmethod\n",
    "    def subtracao(cls, valor1, valor2):\n",
    "        return valor1 - valor2\n",
    "\n",
    "    @classmethod\n",
    "    def multiplicacao(cls, valor1, valor2):\n",
    "        return valor1 * valor2\n",
    "\n",
    "    @classmethod\n",
    "    def divisao(cls, valor1, valor2):\n",
    "        return valor1 / valor2\n",
    "\n",
    "calculadora = Calculadora(10, 2)\n",
    "print(calculadora.soma()) # 12\n",
    "print(calculadora.subtracao()) # 8\n",
    "print(calculadora.multiplicacao()) # 20\n",
    "print(calculadora.divisao()) # 5.0"
   ]
  },
  {
   "attachments": {},
   "cell_type": "markdown",
   "metadata": {},
   "source": [
    "Note que os valores são passados como argumentos e não precisam ser acessados via `self`."
   ]
  },
  {
   "attachments": {},
   "cell_type": "markdown",
   "metadata": {},
   "source": [
    "Confira mais um exemplo abaixo :"
   ]
  },
  {
   "cell_type": "code",
   "execution_count": null,
   "metadata": {},
   "outputs": [],
   "source": [
    "class MinhaClasse:\n",
    "    x = [1, 2, 3]\n",
    "\n",
    "    @classmethod\n",
    "    def modifica_x(cls, novo_valor):\n",
    "        cls.x.append(novo_valor)\n",
    "\n",
    "# Criação de uma instância da classe\n",
    "obj = MinhaClasse()\n",
    "\n",
    "# Imprimindo o valor de x antes da modificação\n",
    "print(obj.x) # [1, 2, 3]\n",
    "\n",
    "# Utilizando o método modifica_x como método de classe\n",
    "MinhaClasse.modifica_x(4)\n",
    "\n",
    "# Imprimindo o valor de x depois da modificação\n",
    "print(obj.x) # [1, 2, 3, 4]\n",
    "\n",
    "# Acessando o valor de x através da instância\n",
    "print(obj.x) # [1, 2, 3, 4]"
   ]
  },
  {
   "attachments": {},
   "cell_type": "markdown",
   "metadata": {},
   "source": [
    "No exemplo acima, o método `modifica_x` é um método de classe que adiciona um novo valor à lista `x` da classe. Ele é chamado diretamente pela classe e modifica o valor de `x` para todas as instâncias da classe."
   ]
  },
  {
   "attachments": {},
   "cell_type": "markdown",
   "metadata": {},
   "source": [
    "Aqui está mais um exemplo que demonstra as funcionalidades do @classmethod :"
   ]
  },
  {
   "cell_type": "code",
   "execution_count": null,
   "metadata": {},
   "outputs": [],
   "source": [
    "class MinhaClasse:\n",
    "    def __init__(self, valor):\n",
    "        self.value = valor\n",
    "\n",
    "    @classmethod\n",
    "    def metodo_classe(cls):\n",
    "        print(\"Este é um método de classe.\")\n",
    "\n",
    "    @classmethod\n",
    "    def de_string(cls, string):\n",
    "        valor = int(string)\n",
    "        return cls(valor)\n",
    "\n",
    "    def metodo_instancia(self):\n",
    "        print(\"Este é um método de instância.\")\n",
    "\n",
    "# Criando uma instância de MinhaClasse\n",
    "obj = MinhaClasse(10)\n",
    "\n",
    "# Chamando um método de instância\n",
    "obj.metodo_instancia() # Saída : Este é um método de instância.\n",
    "\n",
    "# Chamando um método de classe\n",
    "obj.metodo_classe() # Saída : Este é um método de classe.\n",
    "MinhaClasse.metodo_classe() # Saída : Este é um método de classe.\n",
    "\n",
    "# Usando o método de classe para criar uma instância\n",
    "new_obj = MinhaClasse.de_string(\"20\")\n",
    "print(new_obj.value) # Saída : 20"
   ]
  },
  {
   "attachments": {},
   "cell_type": "markdown",
   "metadata": {},
   "source": [
    "Existem algumas coisas a serem observadas neste exemplo:\n",
    "\n",
    "- O decorador `@classmethod` é usado para definir um método de classe;\n",
    "- Os métodos de classe são chamados da mesma maneira que os métodos de instância, mas eles podem ser chamados diretamente na classe, sem precisar criar uma instância;\n",
    "- Os métodos de classe recebem um parâmetro adicional chamado `cls`, que é uma referência à própria classe. Isso permite que os métodos de classe acessem e modifiquem os atributos e métodos da classe;\n",
    "- O método `de_string` é um exemplo de como os métodos de classe podem ser usados para criar novas instâncias da classe, usando dados externos;"
   ]
  },
  {
   "attachments": {},
   "cell_type": "markdown",
   "metadata": {},
   "source": [
    "Aqui temos um exemplo de como os métodos de classe podem ser usados em um cenário de RPG :"
   ]
  },
  {
   "cell_type": "code",
   "execution_count": null,
   "metadata": {},
   "outputs": [],
   "source": [
    "class Jogador:\n",
    "    def __init__(self, nome, vida, ataque):\n",
    "        self.nome = nome\n",
    "        self.vida = vida\n",
    "        self.ataque = ataque\n",
    "\n",
    "    @classmethod\n",
    "    def cria_guerreiro(cls):\n",
    "        return cls(\"Guerreiro\", 100, 20)\n",
    "\n",
    "    @classmethod\n",
    "    def cria_mago(cls):\n",
    "        return cls(\"Mago\", 75, 30)\n",
    "\n",
    "    def leva_dano(self, dano):\n",
    "        self.vida -= dano\n",
    "\n",
    "    def ataca_inimigo(self, inimigo):\n",
    "        inimigo.leva_dano(self.ataque)\n",
    "\n",
    "# Criando um guerreiro e um mago usando métodos de classe\n",
    "guerreiro = Jogador.cria_guerreiro()\n",
    "mago = Jogador.cria_mago()\n",
    "\n",
    "# Atacando um inimigo\n",
    "guerreiro.ataca_inimigo(mago)\n",
    "print(f'{mago.vida = }') # Saída : mago.vida = 55"
   ]
  },
  {
   "attachments": {},
   "cell_type": "markdown",
   "metadata": {},
   "source": [
    "Neste exemplo, a classe `Jogador` tem três atributos: `nome`, `vida`, e `ataque`. Ela também tem dois métodos de classe, `cria_guerreiro` e `cria_mago`, que são usados para criar novas instâncias da classe com valores pré-definidos. Isso permite que o jogador crie personagens prontos para jogar sem precisar inserir manualmente todas as informações. Os métodos de instância `leva_dano` e `ataca_inimigo` são usados para simular combate no jogo."
   ]
  },
  {
   "attachments": {},
   "cell_type": "markdown",
   "metadata": {},
   "source": [
    "## 10. Métodos Mágicos"
   ]
  },
  {
   "attachments": {},
   "cell_type": "markdown",
   "metadata": {},
   "source": [
    "Os métodos mágicos do Python são uma espécie de ´atalhos´ de sintaxe que permitem que você customize a forma como seus objetos são tratados pelo interpretador Python. Esses métodos são identificados por nomes que começam e terminam com dois sublinhados, como `__init__` ou `__str__`.\n",
    "\n",
    "Por exemplo, o método `__init__` é usado para inicializar um objeto quando ele é criado. Ele é chamado automaticamente quando você cria uma nova instância de uma classe.\n",
    "\n",
    "O método `__str__` é usado para definir como um objeto deve ser representado como uma string. Ele é chamado quando você usa a função built-in `__str()__` para converter um objeto para uma string.\n",
    "\n",
    "Além disso, existem outros métodos mágicos, como `__add__` para personalizar como a operação de adição deve ser realizada entre objetos, `__len__` para personalizar como a função built-in `__len()__` deve funcionar para um objeto específico, entre outros."
   ]
  },
  {
   "attachments": {},
   "cell_type": "markdown",
   "metadata": {},
   "source": [
    "Os métodos mágicos do Python incluem :"
   ]
  },
  {
   "attachments": {},
   "cell_type": "markdown",
   "metadata": {},
   "source": [
    "- `__init__` : é usado para inicializar um objeto quando ele é criado. É chamado automaticamente quando você cria uma nova instância de uma classe;"
   ]
  },
  {
   "cell_type": "code",
   "execution_count": null,
   "metadata": {},
   "outputs": [],
   "source": [
    "class MinhaClasse:\n",
    "    def __init__(self, valor):\n",
    "        self.valor = valor\n",
    "\n",
    "objeto = MinhaClasse(5)\n",
    "print(objeto.valor) # imprime 5"
   ]
  },
  {
   "attachments": {},
   "cell_type": "markdown",
   "metadata": {},
   "source": [
    "- `__str__` : é usado para definir como um objeto deve ser representado como uma string. Ele é chamado quando você usa a função built-in `str()` para converter um objeto para uma string;"
   ]
  },
  {
   "cell_type": "code",
   "execution_count": null,
   "metadata": {},
   "outputs": [],
   "source": [
    "class MinhaClasse:\n",
    "    def __init__(self, valor):\n",
    "        self.valor = valor\n",
    "        \n",
    "    def __str__(self):\n",
    "        return 'Valor: ' + str(self.valor)\n",
    "\n",
    "objeto = MinhaClasse(5)\n",
    "print(str(objeto)) # imprime \"Valor: 5\""
   ]
  },
  {
   "attachments": {},
   "cell_type": "markdown",
   "metadata": {},
   "source": [
    "- `__repr__` : é usado para definir como um objeto deve ser representado como uma string de representação. Ele é chamado quando você usa a função built-in `repr()` para converter um objeto para uma string;"
   ]
  },
  {
   "cell_type": "code",
   "execution_count": null,
   "metadata": {},
   "outputs": [],
   "source": [
    "class MinhaClasse:\n",
    "    def __init__(self, valor):\n",
    "        self.valor = valor\n",
    "        \n",
    "    def __repr__(self):\n",
    "        return 'MinhaClasse({})'.format(self.valor)\n",
    "\n",
    "objeto = MinhaClasse(5)\n",
    "print(repr(objeto)) # imprime MinhaClasse(5)"
   ]
  },
  {
   "attachments": {},
   "cell_type": "markdown",
   "metadata": {},
   "source": [
    "- `__add__` : é usado para personalizar a operação de adição entre objetos. Ele é chamado quando você usa o operador `+` para adicionar dois objetos;"
   ]
  },
  {
   "cell_type": "code",
   "execution_count": null,
   "metadata": {},
   "outputs": [],
   "source": [
    "class MinhaClasse:\n",
    "    def __init__(self, valor):\n",
    "        self.valor = valor\n",
    "        \n",
    "    def __add__(self, outro_objeto):\n",
    "        return MinhaClasse(self.valor + outro_objeto.valor)\n",
    "\n",
    "objeto1 = MinhaClasse(5)\n",
    "objeto2 = MinhaClasse(10)\n",
    "resultado = objeto1 + objeto2\n",
    "print(resultado.valor) # imprime 15"
   ]
  },
  {
   "attachments": {},
   "cell_type": "markdown",
   "metadata": {},
   "source": [
    "- `__sub__` : é usado para personalizar a operação de subtração entre objetos. Ele é chamado quando você usa o operador `-` para subtrair dois objetos;"
   ]
  },
  {
   "cell_type": "code",
   "execution_count": null,
   "metadata": {},
   "outputs": [],
   "source": [
    "class MinhaClasse:\n",
    "    def __init__(self, valor):\n",
    "        self.valor = valor\n",
    "        \n",
    "    def __sub__(self, outro_objeto):\n",
    "        return MinhaClasse(self.valor - outro_objeto.valor)\n",
    "\n",
    "objeto1 = MinhaClasse(5)\n",
    "objeto2 = MinhaClasse(10)\n",
    "resultado = objeto1 - objeto2\n",
    "print(resultado.valor) # imprime -5"
   ]
  },
  {
   "attachments": {},
   "cell_type": "markdown",
   "metadata": {},
   "source": [
    "- `__mul__` : é usado para personalizar a operação de multiplicação entre objetos. Ele é chamado quando você usa o operador `*` para multiplicar dois objetos;"
   ]
  },
  {
   "cell_type": "code",
   "execution_count": null,
   "metadata": {},
   "outputs": [],
   "source": [
    "class MinhaClasse:\n",
    "    def __init__(self, valor):\n",
    "        self.valor = valor\n",
    "        \n",
    "    def __mul__(self, outro_objeto):\n",
    "        return MinhaClasse(self.valor * outro_objeto.valor)\n",
    "\n",
    "objeto1 = MinhaClasse(5)\n",
    "objeto2 = MinhaClasse(10)\n",
    "resultado = objeto1 * objeto2\n",
    "print(resultado.valor) # imprime 50"
   ]
  },
  {
   "attachments": {},
   "cell_type": "markdown",
   "metadata": {},
   "source": [
    "- `__truediv__` : é usado para personalizar a operação de divisão entre objetos. Ele é chamado quando você usa o operador `/` para dividir dois objetos;"
   ]
  },
  {
   "cell_type": "code",
   "execution_count": null,
   "metadata": {},
   "outputs": [],
   "source": [
    "class MinhaClasse:\n",
    "    def __init__(self, valor):\n",
    "        self.valor = valor\n",
    "        \n",
    "    def __truediv__(self, outro_objeto):\n",
    "        return MinhaClasse(self.valor / outro_objeto.valor)\n",
    "\n",
    "objeto1 = MinhaClasse(10)\n",
    "objeto2 = MinhaClasse(5)\n",
    "resultado = objeto1 / objeto2\n",
    "print(resultado.valor) # imprime 2.0"
   ]
  },
  {
   "attachments": {},
   "cell_type": "markdown",
   "metadata": {},
   "source": [
    "- `__floordiv__` : é usado para personalizar a operação de divisão inteira entre objetos. Ele é chamado quando você usa o operador `//` para dividir dois objetos;"
   ]
  },
  {
   "cell_type": "code",
   "execution_count": null,
   "metadata": {},
   "outputs": [],
   "source": [
    "class MinhaClasse:\n",
    "    def __init__(self, valor):\n",
    "        self.valor = valor\n",
    "        \n",
    "    def __floordiv__(self, outro_objeto):\n",
    "        return MinhaClasse(self.valor // outro_objeto.valor)\n",
    "\n",
    "objeto1 = MinhaClasse(10)\n",
    "objeto2 = MinhaClasse(5)\n",
    "resultado = objeto1 // objeto2\n",
    "print(resultado.valor) # imprime 2"
   ]
  },
  {
   "attachments": {},
   "cell_type": "markdown",
   "metadata": {},
   "source": [
    "- `__mod__` : é usado para personalizar a operação de módulo entre objetos. Ele é chamado quando você usa o operador `%` para obter o resto da divisão entre dois objetos;"
   ]
  },
  {
   "cell_type": "code",
   "execution_count": null,
   "metadata": {},
   "outputs": [],
   "source": [
    "class MinhaClasse:\n",
    "    def __init__(self, valor):\n",
    "        self.valor = valor\n",
    "        \n",
    "    def __mod__(self, outro_objeto):\n",
    "        return MinhaClasse(self.valor % outro_objeto.valor)\n",
    "\n",
    "objeto1 = MinhaClasse(10)\n",
    "objeto2 = MinhaClasse(5)\n",
    "resultado = objeto1 % objeto2\n",
    "print(resultado.valor) # imprime 0"
   ]
  },
  {
   "attachments": {},
   "cell_type": "markdown",
   "metadata": {},
   "source": [
    "- `__pow__` : é usado para personalizar a operação de exponenciação entre objetos. Ele é chamado quando você usa o operador `**` para elevar um objeto a uma potência;"
   ]
  },
  {
   "cell_type": "code",
   "execution_count": null,
   "metadata": {},
   "outputs": [],
   "source": [
    "class MinhaClasse:\n",
    "    def __init__(self, valor):\n",
    "        self.valor = valor\n",
    "        \n",
    "    def __pow__(self, outro_objeto):\n",
    "        return MinhaClasse(self.valor ** outro_objeto.valor)\n",
    "\n",
    "objeto1 = MinhaClasse(2)\n",
    "objeto2 = MinhaClasse(3)\n",
    "resultado = objeto1 ** objeto2\n",
    "print(resultado.valor) # imprime 8"
   ]
  },
  {
   "attachments": {},
   "cell_type": "markdown",
   "metadata": {},
   "source": [
    "- `__len__` : é usado para personalizar a função built-in `len()` para um objeto específico. Ele é chamado quando você usa a função `len()` para obter o comprimento de um objeto;"
   ]
  },
  {
   "cell_type": "code",
   "execution_count": null,
   "metadata": {},
   "outputs": [],
   "source": [
    "class MinhaClasse:\n",
    "    def __init__(self, valores):\n",
    "        self.valores = valores\n",
    "        \n",
    "    def __len__(self):\n",
    "        return len(self.valores)\n",
    "\n",
    "objeto = MinhaClasse([1,2,3,4,5])\n",
    "print(len(objeto)) # imprime 5"
   ]
  },
  {
   "attachments": {},
   "cell_type": "markdown",
   "metadata": {},
   "source": [
    "- `__getitem__` : é usado para personalizar o acesso a itens em um objeto. Ele é chamado quando você usa o operador `[]` para acessar um item em um objeto;"
   ]
  },
  {
   "cell_type": "code",
   "execution_count": null,
   "metadata": {},
   "outputs": [],
   "source": [
    "class MinhaClasse:\n",
    "    def __init__(self, valores):\n",
    "        self.valores = valores\n",
    "        \n",
    "    def __getitem__(self, indice):\n",
    "        return self.valores[indice]\n",
    "\n",
    "objeto = MinhaClasse([1,2,3])\n",
    "print(objeto[1]) # imprime 2"
   ]
  },
  {
   "attachments": {},
   "cell_type": "markdown",
   "metadata": {},
   "source": [
    "- `__setitem__` : é usado para personalizar a atribuição de valores a itens em um objeto. Ele é chamado quando você usa o operador `[]` para atribuir um item em um objeto;"
   ]
  },
  {
   "cell_type": "code",
   "execution_count": null,
   "metadata": {},
   "outputs": [],
   "source": [
    "class MinhaClasse:\n",
    "    def __init__(self, valores):\n",
    "        self.valores = valores\n",
    "        \n",
    "    def __setitem__(self, indice, valor):\n",
    "        self.valores[indice] = valor\n",
    "\n",
    "objeto = MinhaClasse([1,2,3])\n",
    "objeto[1] = 4\n",
    "print(objeto.valores) # imprime [1, 4, 3]"
   ]
  },
  {
   "attachments": {},
   "cell_type": "markdown",
   "metadata": {},
   "source": [
    "- `__delitem__` : é usado para personalizar a remoção de itens em um objeto. Ele é chamado quando você usa a instrução `del` para remover um item de um objeto;"
   ]
  },
  {
   "cell_type": "code",
   "execution_count": null,
   "metadata": {},
   "outputs": [],
   "source": [
    "class MinhaClasse:\n",
    "    def __init__(self, valores):\n",
    "        self.valores = valores\n",
    "        \n",
    "    def __delitem__(self, indice):\n",
    "        del self.valores[indice]\n",
    "\n",
    "objeto = MinhaClasse([1,2,3])\n",
    "del objeto[1]\n",
    "print(objeto.valores) # imprime [1, 3]"
   ]
  },
  {
   "attachments": {},
   "cell_type": "markdown",
   "metadata": {},
   "source": [
    "- `__iter__` : é usado para personalizar a iteração sobre um objeto. Ele é chamado quando você usa o operador `in` ou a instrução `for` para iterar sobre um objeto;"
   ]
  },
  {
   "cell_type": "code",
   "execution_count": null,
   "metadata": {},
   "outputs": [],
   "source": [
    "class MinhaClasse:\n",
    "    def __init__(self, valores):\n",
    "        self.valores = valores\n",
    "        self.indice = 0\n",
    "        \n",
    "    def __iter__(self):\n",
    "        return self\n",
    "    \n",
    "    def __next__(self):\n",
    "        if self.indice >= len(self.valores):\n",
    "            raise StopIteration\n",
    "        result = self.valores[self.indice]\n",
    "        self.indice += 1\n",
    "        return result\n",
    "\n",
    "objeto = MinhaClasse([1,2,3])\n",
    "for valor in objeto:\n",
    "    print(valor)\n",
    "# imprime 1\n",
    "# imprime 2\n",
    "# imprime 3"
   ]
  },
  {
   "attachments": {},
   "cell_type": "markdown",
   "metadata": {},
   "source": [
    "- `__next__` : é usado para personalizar a obtenção do próximo item em uma iteração. Ele é chamado quando você usa a função `next()` para obter o próximo item de um objeto;"
   ]
  },
  {
   "cell_type": "code",
   "execution_count": null,
   "metadata": {},
   "outputs": [],
   "source": [
    "class MinhaClasse:\n",
    "    def __init__(self, valores):\n",
    "        self.valores = valores\n",
    "        self.indice = 0\n",
    "        \n",
    "    def __iter__(self):\n",
    "        return self\n",
    "    \n",
    "    def __next__(self):\n",
    "        if self.indice >= len(self.valores):\n",
    "            raise StopIteration\n",
    "        result = self.valores[self.indice]\n",
    "        self.indice += 1\n",
    "        return result\n",
    "\n",
    "objeto = MinhaClasse([1,2,3])\n",
    "iterador = iter(objeto)\n",
    "print(next(iterador)) # imprime 1\n",
    "print(next(iterador)) # imprime 2\n",
    "print(next(iterador)) # imprime 3"
   ]
  },
  {
   "attachments": {},
   "cell_type": "markdown",
   "metadata": {},
   "source": [
    "- `__call__` : é usado para personalizar a chamada de um objeto como uma função. Ele é chamado quando você usa parenteses `()` para chamar um objeto como se fosse uma função;"
   ]
  },
  {
   "cell_type": "code",
   "execution_count": null,
   "metadata": {},
   "outputs": [],
   "source": [
    "class MinhaClasse:\n",
    "    def __init__(self, valor):\n",
    "        self.valor = valor\n",
    "        \n",
    "    def __call__(self, novo_valor):\n",
    "        self.valor = novo_valor\n",
    "\n",
    "objeto = MinhaClasse(5)\n",
    "objeto(10)\n",
    "print(objeto.valor) # imprime 10"
   ]
  },
  {
   "attachments": {},
   "cell_type": "markdown",
   "metadata": {},
   "source": [
    "- `__getattr__` : é usado para personalizar o acesso a atributos de um objeto. Ele é chamado quando você tenta acessar um atributo que não existe em um objeto;"
   ]
  },
  {
   "cell_type": "code",
   "execution_count": null,
   "metadata": {},
   "outputs": [],
   "source": [
    "class MinhaClasse:\n",
    "    def __init__(self, valor):\n",
    "        self.valor = valor\n",
    "        \n",
    "    def __getattr__(self, name):\n",
    "        if name == 'valor_dobrado':\n",
    "            return self.valor * 2\n",
    "        else:\n",
    "            raise AttributeError\n",
    "\n",
    "objeto = MinhaClasse(5)\n",
    "print(objeto.valor_dobrado) # imprime 10"
   ]
  },
  {
   "attachments": {},
   "cell_type": "markdown",
   "metadata": {},
   "source": [
    "- `__setattr__` : é usado para personalizar a atribuição de valores a atributos de um objeto. Ele é chamado quando você usa o operador `=` para atribuir um valor a um atributo de um objeto;"
   ]
  },
  {
   "cell_type": "code",
   "execution_count": null,
   "metadata": {},
   "outputs": [],
   "source": [
    "class MinhaClasse:\n",
    "    def __init__(self):\n",
    "        self.valor = None\n",
    "        \n",
    "    def __setattr__(self, name, value):\n",
    "        if name == 'valor':\n",
    "            value = value * 2\n",
    "        super().__setattr__(name, value)\n",
    "\n",
    "objeto = MinhaClasse()\n",
    "objeto.valor = 5\n",
    "print(objeto.valor) # imprime 10"
   ]
  },
  {
   "attachments": {},
   "cell_type": "markdown",
   "metadata": {},
   "source": [
    "- `__delattr__` : é usado para personalizar a remoção de atributos de um objeto. Ele é chamado quando você usa a instrução `del` para remover um atributo de um objeto;"
   ]
  },
  {
   "cell_type": "code",
   "execution_count": null,
   "metadata": {},
   "outputs": [],
   "source": [
    "class MinhaClasse:\n",
    "    def __init__(self, valor):\n",
    "        self.valor = valor\n",
    "        \n",
    "    def __delattr__(self, name):\n",
    "        if name == 'valor':\n",
    "            print('Não é possível deletar o atributo valor')\n",
    "        else:\n",
    "            super().__delattr__(name)\n",
    "\n",
    "objeto = MinhaClasse(5)\n",
    "del objeto.valor # imprime \"Não é possível deletar o atributo valor\""
   ]
  },
  {
   "attachments": {},
   "cell_type": "markdown",
   "metadata": {},
   "source": [
    "- `__eq__` : é usado para personalizar a comparação de igualdade entre objetos. Ele é chamado quando você usa o operador `==` para comparar dois objetos;"
   ]
  },
  {
   "cell_type": "code",
   "execution_count": null,
   "metadata": {},
   "outputs": [],
   "source": [
    "class MinhaClasse:\n",
    "    def __init__(self, valor):\n",
    "        self.valor = valor\n",
    "        \n",
    "    def __eq__(self, outro_objeto):\n",
    "        return self.valor == outro_objeto.valor\n",
    "\n",
    "objeto1 = MinhaClasse(5)\n",
    "objeto2 = MinhaClasse(5)\n",
    "resultado = objeto1 == objeto2\n",
    "print(resultado) # imprime True"
   ]
  },
  {
   "attachments": {},
   "cell_type": "markdown",
   "metadata": {},
   "source": [
    "- `__lt__` : é usado para personalizar a comparação `menor que` entre objetos. Ele é chamado quando você usa o operador `<` para comparar dois objetos;"
   ]
  },
  {
   "cell_type": "code",
   "execution_count": null,
   "metadata": {},
   "outputs": [],
   "source": [
    "class MinhaClasse:\n",
    "    def __init__(self, valor):\n",
    "        self.valor = valor\n",
    "        \n",
    "    def __lt__(self, outro_objeto):\n",
    "        return self.valor < outro_objeto.valor\n",
    "\n",
    "objeto1 = MinhaClasse(5)\n",
    "objeto2 = MinhaClasse(10)\n",
    "resultado = objeto1 < objeto2\n",
    "print(resultado) # imprime True"
   ]
  },
  {
   "attachments": {},
   "cell_type": "markdown",
   "metadata": {},
   "source": [
    "- `__le__` : é usado para personalizar a comparação `menor ou igual` entre objetos. Ele é chamado quando você usa o operador `<=` para comparar dois objetos;"
   ]
  },
  {
   "cell_type": "code",
   "execution_count": null,
   "metadata": {},
   "outputs": [],
   "source": [
    "class MinhaClasse:\n",
    "    def __init__(self, valor):\n",
    "        self.valor = valor\n",
    "        \n",
    "    def __le__(self, outro_objeto):\n",
    "        return self.valor <= outro_objeto.valor\n",
    "\n",
    "objeto1 = MinhaClasse(5)\n",
    "objeto2 = MinhaClasse(10)\n",
    "resultado = objeto1 <= objeto2\n",
    "print(resultado) # imprime True"
   ]
  },
  {
   "attachments": {},
   "cell_type": "markdown",
   "metadata": {},
   "source": [
    "- `__gt__` : é usado para personalizar a comparação `maior que` entre objetos. Ele é chamado quando você usa o operador `>` para comparar dois objetos;"
   ]
  },
  {
   "cell_type": "code",
   "execution_count": null,
   "metadata": {},
   "outputs": [],
   "source": [
    "class MinhaClasse:\n",
    "    def __init__(self, valor):\n",
    "        self.valor = valor\n",
    "        \n",
    "    def __gt__(self, outro_objeto):\n",
    "        return self.valor > outro_objeto.valor\n",
    "\n",
    "objeto1 = MinhaClasse(10)\n",
    "objeto2 = MinhaClasse(5)\n",
    "resultado = objeto1 > objeto2\n",
    "print(resultado) # imprime True"
   ]
  },
  {
   "attachments": {},
   "cell_type": "markdown",
   "metadata": {},
   "source": [
    "- `__ge__` : é usado para personalizar a comparação `maior ou igual` entre objetos. Ele é chamado quando você usa o operador `>=` para comparar dois objetos;"
   ]
  },
  {
   "cell_type": "code",
   "execution_count": null,
   "metadata": {},
   "outputs": [],
   "source": [
    "class MinhaClasse:\n",
    "    def __init__(self, valor):\n",
    "        self.valor = valor\n",
    "        \n",
    "    def __ge__(self, outro_objeto):\n",
    "        return self.valor >= outro_objeto.valor\n",
    "\n",
    "objeto1 = MinhaClasse(10)\n",
    "objeto2 = MinhaClasse(5)\n",
    "resultado = objeto1 >= objeto2\n",
    "print(resultado) # imprime True"
   ]
  },
  {
   "attachments": {},
   "cell_type": "markdown",
   "metadata": {},
   "source": [
    "Esses são alguns dos métodos mágicos mais comuns do Python, mas há outros. É importante ter em mente que esses métodos geralmente não devem ser chamados diretamente, mas sim sobrescritos e usados pelo interpretador Python automaticamente em determinadas situações.\n",
    "\n",
    "Além disso, existem também métodos mágicos que são específicos para classes de tipos específicos, como métodos mágicos para classes de números inteiros, métodos mágicos para classes de sequências, métodos mágicos para classes de contêineres, entre outros.\n",
    "\n",
    "É importante notar que o uso excessivo de métodos mágicos pode tornar seu código mais difícil de entender e manter, então é recomendado usá-los com moderação e apenas quando necessário."
   ]
  },
  {
   "attachments": {},
   "cell_type": "markdown",
   "metadata": {},
   "source": [
    "## 11. Polimorfismo"
   ]
  },
  {
   "attachments": {},
   "cell_type": "markdown",
   "metadata": {},
   "source": [
    "`Polimorfismo` é uma característica da programação orientada a objetos que permite que objetos de diferentes classes sejam tratados como objetos de uma classe base comum. Isso significa que uma chamada de método pode ser feita em um objeto sem saber sua classe específica.\n",
    "\n",
    "Exemplo 1:"
   ]
  },
  {
   "cell_type": "code",
   "execution_count": null,
   "metadata": {},
   "outputs": [],
   "source": [
    "class Animal:\n",
    "    def __init__(self, nome):\n",
    "        self.nome = nome\n",
    "\n",
    "    def falar(self):\n",
    "        pass\n",
    "\n",
    "class Cachorro(Animal):\n",
    "    def falar(self):\n",
    "        return \"Au au\"\n",
    "\n",
    "class Gato(Animal):\n",
    "    def falar(self):\n",
    "        return \"Miau\"\n",
    "\n",
    "animais = [Cachorro(\"Bobby\"), Gato(\"Tom\")]\n",
    "\n",
    "for animal in animais:\n",
    "    print(animal.falar())"
   ]
  },
  {
   "attachments": {},
   "cell_type": "markdown",
   "metadata": {},
   "source": [
    "Neste exemplo, a classe `Animal` é a classe base comum e as classes `Cachorro` e `Gato` são classes derivadas. Ambos os objetos `Cachorro` e `Gato` herdam o método `falar()` da classe base `Animal`, mas cada um tem uma implementação diferente. Quando o loop é executado, o método `falar()` é chamado em cada objeto sem saber sua classe específica, mas a implementação correta é chamada de acordo com a classe do objeto."
   ]
  },
  {
   "attachments": {},
   "cell_type": "markdown",
   "metadata": {},
   "source": [
    "O polimorfismo permite que os objetos de diferentes classes sejam tratados de maneira semelhante, o que aumenta a reutilização de código e facilita a manutenção do código. Isso é especialmente útil quando você tem uma lista de objetos de diferentes classes e deseja iterar sobre eles, chamando um método comum, sem precisar saber a classe específica de cada objeto.\n",
    "\n",
    "Exemplo 2:"
   ]
  },
  {
   "cell_type": "code",
   "execution_count": null,
   "metadata": {},
   "outputs": [],
   "source": [
    "class Forma:\n",
    "    def area(self):\n",
    "        pass\n",
    "\n",
    "class Quadrado(Forma):\n",
    "    def __init__(self, lado):\n",
    "        self.lado = lado\n",
    "    def area(self):\n",
    "        return self.lado * self.lado\n",
    "\n",
    "class Circulo(Forma):\n",
    "    def __init__(self, raio):\n",
    "        self.raio = raio\n",
    "    def area(self):\n",
    "        return 3.14 * (self.raio ** 2)\n",
    "\n",
    "formas = [Quadrado(10), Circulo(5)]\n",
    "\n",
    "for forma in formas:\n",
    "    print(forma.area())"
   ]
  },
  {
   "attachments": {},
   "cell_type": "markdown",
   "metadata": {},
   "source": [
    "Neste exemplo, a classe `Forma` é a classe base comum e as classes `Quadrado` e `Circulo` são classes derivadas. Ambos os objetos `Quadrado` e `Circulo` herdam o método `area()` da classe base `Forma`, mas cada um tem uma implementação diferente. Quando o loop é executado, o método `area()` é chamado em cada objeto sem saber sua classe específica, mas a implementação correta é chamada de acordo com a classe do objeto.\n",
    "\n",
    "Exemplo 3:"
   ]
  },
  {
   "cell_type": "code",
   "execution_count": null,
   "metadata": {},
   "outputs": [],
   "source": [
    "class Veiculo:\n",
    "    def __init__(self, marca):\n",
    "        self.marca = marca\n",
    "\n",
    "    def andar(self):\n",
    "        pass\n",
    "\n",
    "class Carro(Veiculo):\n",
    "    def andar(self):\n",
    "        return \"O carro da marca {} está andando\".format(self.marca)\n",
    "\n",
    "class Moto(Veiculo):\n",
    "    def andar(self):\n",
    "        return \"A moto da marca {} está andando\".format(self.marca)\n",
    "\n",
    "veiculos = [Carro(\"Ford\"), Moto(\"Yamaha\")]\n",
    "\n",
    "for veiculo in veiculos:\n",
    "    print(veiculo.andar())"
   ]
  },
  {
   "attachments": {},
   "cell_type": "markdown",
   "metadata": {},
   "source": [
    "Neste exemplo, a classe `Veiculo` é a classe base comum e as classes `Carro` e `Moto` são classes derivadas. Ambos os objetos `Carro` e `Moto` herdam o método `andar()` da classe base `Veiculo`, mas cada um tem uma implementação diferente. Quando o loop é executado, o método `andar()` é chamado em cada objeto sem saber sua classe específica, mas a implementação correta é chamada de acordo com a classe do objeto."
   ]
  },
  {
   "attachments": {},
   "cell_type": "markdown",
   "metadata": {},
   "source": [
    "Esses exemplos ilustram como o polimorfismo permite que os objetos de diferentes classes sejam tratados de maneira semelhante, o que aumenta a reutilização de código e facilita a manutenção do código."
   ]
  },
  {
   "attachments": {},
   "cell_type": "markdown",
   "metadata": {},
   "source": [
    "Mais alguns exemplos usando o RPG :"
   ]
  },
  {
   "cell_type": "code",
   "execution_count": null,
   "metadata": {},
   "outputs": [],
   "source": [
    "class Personagem:\n",
    "    def __init__(self, nome):\n",
    "        self.nome = nome\n",
    "        self.vida = 100\n",
    "        self.mana = 50\n",
    "\n",
    "    def atacar(self):\n",
    "        pass\n",
    "\n",
    "class Guerreiro(Personagem):\n",
    "    def atacar(self):\n",
    "        return f\"{self.nome} ataca com sua espada.\"\n",
    "\n",
    "class Mago(Personagem):\n",
    "    def atacar(self):\n",
    "        return f\"{self.nome} lança um feitiço.\"\n",
    "\n",
    "personagens = [Guerreiro(\"Conan\"), Mago(\"Gandalf\")]\n",
    "\n",
    "for personagem in personagens:\n",
    "    print(personagem.atacar())"
   ]
  },
  {
   "attachments": {},
   "cell_type": "markdown",
   "metadata": {},
   "source": [
    "Neste exemplo, a classe `Personagem` é a classe base comum e as classes `Guerreiro` e `Mago` são classes derivadas. Ambos os objetos `Guerreiro` e `Mago` herdam o método `atacar()` da classe base `Personagem`, mas cada um tem uma implementação diferente. Quando o loop é executado, o método `atacar()` é chamado em cada objeto sem saber sua classe específica, mas a implementação correta é chamada de acordo com a classe do objeto.\n",
    "\n",
    "Outro exemplo :"
   ]
  },
  {
   "cell_type": "code",
   "execution_count": null,
   "metadata": {},
   "outputs": [],
   "source": [
    "class Arma:\n",
    "    def __init__(self, nome, dano):\n",
    "        self.nome = nome\n",
    "        self.dano = dano\n",
    "\n",
    "    def atacar(self):\n",
    "        pass\n",
    "\n",
    "class Espada(Arma):\n",
    "    def atacar(self):\n",
    "        return f\"Ataque com {self.nome} causando {self.dano} de dano.\"\n",
    "\n",
    "class Arco(Arma):\n",
    "    def atacar(self):\n",
    "        return f\"Ataque com {self.nome} causando {self.dano} de dano.\"\n",
    "\n",
    "armas = [Espada(\"Excalibur\", 50), Arco(\"Longbow\", 40)]\n",
    "\n",
    "for arma in armas:\n",
    "    print(arma.atacar())"
   ]
  },
  {
   "attachments": {},
   "cell_type": "markdown",
   "metadata": {},
   "source": [
    "Neste exemplo, a classe `Arma` é a classe base comum e as classes `Espada` e `Arco` são classes derivadas. Ambos os objetos `Espada` e `Arco` herdam o método `atacar()` da classe base `Arma`, mas cada um tem uma implementação diferente. Quando o loop é executado, o método `atacar()` é chamado em cada objeto sem saber sua classe específica, mas a implementação correta é chamada de acordo com a classe do objeto."
   ]
  },
  {
   "attachments": {},
   "cell_type": "markdown",
   "metadata": {},
   "source": [
    "Esses exemplos ilustram como o polimorfismo pode ser usado para criar jogos RPG mais complexos, onde personagens e armas possuem habilidades e características diferentes. O polimorfismo permite que esses objetos sejam tratados de maneira semelhante, permitindo que o jogador interaja com eles de forma genérica, sem precisar saber sua classe específica. Isso também facilita a implementação de novos personagens e armas no jogo, pois eles podem herdar as características e métodos básicos da classe base e adicionar suas próprias características e métodos específicos."
   ]
  },
  {
   "attachments": {},
   "cell_type": "markdown",
   "metadata": {},
   "source": [
    "## 12. Sobrecarga"
   ]
  },
  {
   "attachments": {},
   "cell_type": "markdown",
   "metadata": {},
   "source": [
    "A `sobrecarga` de operadores é uma técnica em Python que permite aos desenvolvedores definir como os operadores (+, -, *, etc.) funcionam com diferentes tipos de dados. Isso é feito através de métodos especiais chamados `magic methods` ou `dunder methods` (dunder é uma abreviação de `double underscore`)."
   ]
  },
  {
   "attachments": {},
   "cell_type": "markdown",
   "metadata": {},
   "source": [
    "Por exemplo, imagine que você tem uma classe chamada `Vetor2D` que representa um vetor com uma coordenada `x` e uma coordenada `y`. Você pode querer sobrecarregar o operador `+` para somar dois vetores juntos. Isso é feito através do método mágico `__add__`. Aqui está um exemplo de como fazer isso:"
   ]
  },
  {
   "cell_type": "code",
   "execution_count": null,
   "metadata": {},
   "outputs": [],
   "source": [
    "class Vetor2D:\n",
    "    def __init__(self, x, y):\n",
    "        self.x = x\n",
    "        self.y = y\n",
    "\n",
    "    def __add__(self, outro_vetor):\n",
    "        x = self.x + outro_vetor.x\n",
    "        y = self.y + outro_vetor.y\n",
    "        return Vetor2D(x, y)\n",
    "\n",
    "v1 = Vetor2D(1, 2)\n",
    "v2 = Vetor2D(3, 4)\n",
    "v3 = v1 + v2\n",
    "print(v3.x)  # imprime 4\n",
    "print(v3.y)  # imprime 6"
   ]
  },
  {
   "attachments": {},
   "cell_type": "markdown",
   "metadata": {},
   "source": [
    "No exemplo acima, quando você escreve `v1 + v2`, o Python automaticamente chama o método `__add__` na classe `Vetor2D`, passando `v1` como o primeiro argumento e `v2` como o segundo. Dentro do método `__add__`, você pode definir como os dois vetores devem ser somados juntos. No caso acima, estamos simplesmente adicionando as coordenadas `x` e `y` de cada vetor."
   ]
  },
  {
   "attachments": {},
   "cell_type": "markdown",
   "metadata": {},
   "source": [
    "Além de `__add__`, existem outros métodos mágicos que você pode sobrecarregar para diferentes operadores, incluindo:\n",
    "\n",
    "- `__sub__` para o operador `-`;\n",
    "- `__mul__` para o operador `*`;\n",
    "- `__truediv__` para o operador `/`;\n",
    "- `__eq__` para o operador `==`;\n",
    "- `__lt__` para o operador `<`;\n",
    "- `__len__` para a função built-in `len()`;\n",
    "\n",
    "É importante notar que a sobrecarga de operadores não é apenas para tipos de dados personalizados, mas também pode ser usada para tipos de dados built-in do python como `list`, `dict`, e etc."
   ]
  },
  {
   "attachments": {},
   "cell_type": "markdown",
   "metadata": {},
   "source": [
    "Aqui estão alguns exemplos adicionais de sobrecarga de operadores em Python :"
   ]
  },
  {
   "attachments": {},
   "cell_type": "markdown",
   "metadata": {},
   "source": [
    "- Sobrecarga do operador `*` para multiplicação escalar :"
   ]
  },
  {
   "cell_type": "code",
   "execution_count": null,
   "metadata": {},
   "outputs": [],
   "source": [
    "class Vetor2D:\n",
    "    def __init__(self, x, y):\n",
    "        self.x = x\n",
    "        self.y = y\n",
    "\n",
    "    def __mul__(self, escalar):\n",
    "        x = self.x * escalar\n",
    "        y = self.y * escalar\n",
    "        return Vetor2D(x, y)\n",
    "\n",
    "v = Vetor2D(1, 2)\n",
    "v_escalado = v * 3\n",
    "print(v_escalado.x)  # imprime 3\n",
    "print(v_escalado.y)  # imprime 6"
   ]
  },
  {
   "attachments": {},
   "cell_type": "markdown",
   "metadata": {},
   "source": [
    "- Sobrecarga do operador `==` para comparação de igualdade :"
   ]
  },
  {
   "cell_type": "code",
   "execution_count": null,
   "metadata": {},
   "outputs": [],
   "source": [
    "class Pessoa:\n",
    "    def __init__(self, nome, idade):\n",
    "        self.nome = nome\n",
    "        self.idade = idade\n",
    "\n",
    "    def __eq__(self, outra_pessoa):\n",
    "        return self.nome == outra_pessoa.nome and self.idade == outra_pessoa.idade\n",
    "\n",
    "p1 = Pessoa(\"John\", 30)\n",
    "p2 = Pessoa(\"John\", 30)\n",
    "p3 = Pessoa(\"Jane\", 25)\n",
    "print(p1 == p2)  # imprime True\n",
    "print(p1 == p3)  # imprime False"
   ]
  },
  {
   "attachments": {},
   "cell_type": "markdown",
   "metadata": {},
   "source": [
    "- Sobrecarga da função `len()` para retornar o tamanho de uma lista personalizada :"
   ]
  },
  {
   "cell_type": "code",
   "execution_count": null,
   "metadata": {},
   "outputs": [],
   "source": [
    "class MinhaLista:\n",
    "    def __init__(self, itens):\n",
    "        self.itens = itens\n",
    "\n",
    "    def __len__(self):\n",
    "        return len(self.itens)\n",
    "\n",
    "ml = MinhaLista([1, 2, 3, 4, 5])\n",
    "print(len(ml))  # imprime 5"
   ]
  },
  {
   "attachments": {},
   "cell_type": "markdown",
   "metadata": {},
   "source": [
    "Aqui está um exemplo de como você poderia criar uma classe `Calculadora` que inverta as operações matemáticas usando sobrecarga de operadores :"
   ]
  },
  {
   "cell_type": "code",
   "execution_count": null,
   "metadata": {},
   "outputs": [],
   "source": [
    "class Calculadora:\n",
    "    def __init__(self, valor):\n",
    "        self.valor = valor\n",
    "\n",
    "    def __add__(self, outro_valor):\n",
    "        return Calculadora(outro_valor - self.valor)\n",
    "\n",
    "    def __sub__(self, outro_valor):\n",
    "        return Calculadora(outro_valor + self.valor)\n",
    "\n",
    "    def __mul__(self, outro_valor):\n",
    "        return Calculadora(outro_valor / self.valor)\n",
    "\n",
    "    def __truediv__(self, outro_valor):\n",
    "        return Calculadora(outro_valor * self.valor)\n",
    "\n",
    "    def __repr__(self):\n",
    "        return str(self.valor)\n",
    "\n",
    "calc = Calculadora(10)\n",
    "resultado = calc + 20\n",
    "print(resultado) # imprime -10\n",
    "resultado = calc - 20\n",
    "print(resultado) # imprime 30\n",
    "resultado = calc * 2\n",
    "print(resultado) # imprime 5\n",
    "resultado = calc / 2\n",
    "print(resultado) # imprime 20"
   ]
  },
  {
   "attachments": {},
   "cell_type": "markdown",
   "metadata": {},
   "source": [
    "Neste exemplo, a classe `Calculadora` tem um atributo `valor` que armazena o valor atual da calculadora. Os métodos `__add__`, `__sub__`, `__mul__` e `__truediv__` sobrecarregam os operadores de soma, subtração, multiplicação e divisão, respectivamente, para invertê-los. Por exemplo, o método `__add__` subtrai o valor da outra calculadora do valor atual em vez de adicioná-lo. No método `__repr__` é retornado o valor atual da calculadora.\n",
    "\n",
    "Desta forma, quando você escreve `calc + 20`, o Python chama o método `__add__` na classe `Calculadora`, passando 20 como o segundo operando e retorna -10."
   ]
  },
  {
   "attachments": {},
   "cell_type": "markdown",
   "metadata": {},
   "source": [
    "Aqui está um exemplo de como você poderia usar a sobrecarga de operadores para criar uma classe `Personagem` no RPG :"
   ]
  },
  {
   "cell_type": "code",
   "execution_count": null,
   "metadata": {},
   "outputs": [],
   "source": [
    "class Personagem:\n",
    "    def __init__(self, nome, vida, dano):\n",
    "        self.nome = nome\n",
    "        self.vida = vida\n",
    "        self.dano = dano\n",
    "\n",
    "    def __str__(self):\n",
    "        return f'{self.nome} tem {self.vida} de vida e causa {self.dano} de dano'\n",
    "\n",
    "    def __add__(self, outro_personagem):\n",
    "        return Personagem(f'Grupo de {self.nome} e {outro_personagem.nome}',\n",
    "                            self.vida + outro_personagem.vida,\n",
    "                            self.dano + outro_personagem.dano)\n",
    "\n",
    "    def __sub__(self, outro_personagem):\n",
    "        return Personagem(f'{self.nome} sem {outro_personagem.nome}',\n",
    "                            self.vida - outro_personagem.vida,\n",
    "                            self.dano - outro_personagem.dano)\n",
    "\n",
    "    def __mul__(self, outro_personagem):\n",
    "        return Personagem(f'{self.nome} x {outro_personagem.nome}',\n",
    "                            self.vida * outro_personagem.vida,\n",
    "                            self.dano * outro_personagem.dano)\n",
    "\n",
    "guerreiro = Personagem('Guerreiro', 100, 20)\n",
    "mago = Personagem('Mago', 80, 30)\n",
    "print(guerreiro) # imprime 'Guerreiro tem 100 de vida e causa 20 de dano'\n",
    "print(mago) # imprime 'Mago tem 80 de vida e causa 30 de dano'\n",
    "grupo = guerreiro + mago\n",
    "print(grupo) # imprime 'Grupo de Guerreiro e Mago tem 180 de vida e causa 50 de dano'\n",
    "duelo = guerreiro * mago\n",
    "print(duelo) # imprime 'Guerreiro x Mago tem 8000 de vida e causa 600 de dano'"
   ]
  },
  {
   "attachments": {},
   "cell_type": "markdown",
   "metadata": {},
   "source": [
    "Neste exemplo, a classe `Personagem` tem três atributos: `nome`, `vida` e `dano`. O método `__str__` é usado para fornecer uma representação legível do objeto quando impresso. Os métodos `__add__`, `__sub__` e `__mul__` são usados para sobrecarregar os operadores `+`, `-` e `*`, respectivamente, para combinar dois personagens em um grupo, subtrair um personagem de outro ou multiplicar dois personagens. Cada operação retorna um novo objeto `Personagem` com atributos combinados ou modificados."
   ]
  },
  {
   "attachments": {},
   "cell_type": "markdown",
   "metadata": {},
   "source": [
    "## 13. Iteradores"
   ]
  },
  {
   "attachments": {},
   "cell_type": "markdown",
   "metadata": {},
   "source": [
    "Iteradores são objetos que permitem a iteração (percorrer) sobre uma coleção de dados, como listas, tuplas, conjuntos e dicionários. Eles implementam o protocolo de iteração, que inclui o método `iter()` e `next()`.\n",
    "\n",
    "Exemplo de um iterador simples de uma lista :"
   ]
  },
  {
   "cell_type": "code",
   "execution_count": null,
   "metadata": {},
   "outputs": [],
   "source": [
    "class MyIterator:\n",
    "    def __init__(self, lista):\n",
    "        self.lista = lista\n",
    "        self.index = 0\n",
    "    \n",
    "    def __iter__(self):\n",
    "        return self\n",
    "    \n",
    "    def __next__(self):\n",
    "        if self.index < len(self.lista):\n",
    "            valor = self.lista[self.index]\n",
    "            self.index += 1\n",
    "            return valor\n",
    "        else:\n",
    "            raise StopIteration\n",
    "\n",
    "lista = [1, 2, 3, 4, 5]\n",
    "iterador = MyIterator(lista)\n",
    "for valor in iterador:\n",
    "    print(valor)"
   ]
  },
  {
   "attachments": {},
   "cell_type": "markdown",
   "metadata": {},
   "source": [
    "Neste exemplo, a classe `MyIterator` tem um construtor que recebe uma lista e inicializa um índice. O método `iter()` retorna o próprio objeto iterador, enquanto o método `next()` retorna o próximo valor da lista e incrementa o índice. Quando o índice alcança o final da lista, o método `next()` levanta uma exceção `StopIteration`, indicando que não há mais valores a serem retornados."
   ]
  },
  {
   "attachments": {},
   "cell_type": "markdown",
   "metadata": {},
   "source": [
    "É importante notar que, em Python, muitos objetos já são iteráveis, como as listas, então é possível utilizar a função built-in `iter()` e a estrutura for para percorrer os valores de uma lista sem a necessidade de criar um iterador."
   ]
  },
  {
   "cell_type": "code",
   "execution_count": null,
   "metadata": {},
   "outputs": [],
   "source": [
    "lista = [1, 2, 3, 4, 5]\n",
    "for valor in lista:\n",
    "    print(valor)"
   ]
  },
  {
   "attachments": {},
   "cell_type": "markdown",
   "metadata": {},
   "source": [
    "Além disso, existem outras formas de se trabalhar com iteradores, como a função built-in `next()` e a classe `iter()`, que retornam o próximo item de um iterador e cria um iterador a partir de um objeto iterável, respectivamente."
   ]
  },
  {
   "cell_type": "code",
   "execution_count": null,
   "metadata": {},
   "outputs": [],
   "source": [
    "iterador = iter(lista)\n",
    "print(next(iterador)) # 1\n",
    "print(next(iterador)) # 2"
   ]
  },
  {
   "attachments": {},
   "cell_type": "markdown",
   "metadata": {},
   "source": [
    "## 14. Geradores"
   ]
  },
  {
   "attachments": {},
   "cell_type": "markdown",
   "metadata": {},
   "source": [
    "Geradores são uma forma especial de iteradores que permitem a criação de funções geradoras. Essas funções utilizam a palavra-chave `yield` em vez de `return`, e podem ser usadas como uma forma mais simples e eficiente de criar iteradores.\n",
    "\n",
    "Exemplo de uma função geradora :"
   ]
  },
  {
   "cell_type": "code",
   "execution_count": null,
   "metadata": {},
   "outputs": [],
   "source": [
    "def contar_ate(max):\n",
    "    count = 1\n",
    "    while count <= max:\n",
    "        yield count\n",
    "        count += 1\n",
    "\n",
    "contador = contar_ate(5)\n",
    "for num in contador:\n",
    "    print(num)"
   ]
  },
  {
   "attachments": {},
   "cell_type": "markdown",
   "metadata": {},
   "source": [
    "Neste exemplo, a função `contar_ate()` é uma geradora que retorna os números de 1 até o valor máximo passado como argumento. A cada chamada de `yield`, o valor atual de `count` é retornado e a execução da função é pausada. Quando a função é chamada novamente, a execução continua a partir do ponto onde foi pausada. Isso permite que os valores sejam gerados de forma `lazy`, ou seja, somente quando são realmente necessários, economizando recursos e memória.\n",
    "\n",
    "É importante notar que, assim como os iteradores, os geradores também implementam o protocolo de iteração, então eles podem ser usados com a estrutura de repetição for e com as funções built-in `iter()` e `next()`."
   ]
  },
  {
   "attachments": {},
   "cell_type": "markdown",
   "metadata": {},
   "source": [
    "Além disso, existem outras formas de se trabalhar com geradores, como a função built-in `iter()` e a classe `iter()`, que retornam o próximo item de um gerador e cria um gerador a partir de uma função geradora, respectivamente."
   ]
  },
  {
   "cell_type": "code",
   "execution_count": null,
   "metadata": {},
   "outputs": [],
   "source": [
    "gerador = contar_ate(5)\n",
    "print(next(gerador)) # 1\n",
    "print(next(gerador)) # 2"
   ]
  },
  {
   "attachments": {},
   "cell_type": "markdown",
   "metadata": {},
   "source": [
    "Em resumo, iteradores e geradores são ferramentas poderosas no Python que permitem a iteração sobre coleções de dados de maneira eficiente e simplificada. Eles são baseados no protocolo de iteração, e podem ser criados de várias maneiras, incluindo classes e funções geradoras."
   ]
  },
  {
   "attachments": {},
   "cell_type": "markdown",
   "metadata": {},
   "source": [
    "## 15. Expressões Geradoras"
   ]
  },
  {
   "attachments": {},
   "cell_type": "markdown",
   "metadata": {},
   "source": [
    "Outra forma de trabalhar com iteradores e geradores é através das expressões geradoras, também conhecidas como `comprehensions`. Essas expressões sintetizam a criação de novos iteradores ou geradores a partir de outros objetos iteráveis, utilizando uma sintaxe concisa e intuitiva.\n",
    "\n",
    "Exemplo de uma expressão geradora para gerar uma lista de números pares :"
   ]
  },
  {
   "cell_type": "code",
   "execution_count": null,
   "metadata": {},
   "outputs": [],
   "source": [
    "pares = (num for num in range(1, 11) if num % 2 == 0)\n",
    "print(pares) # <generator object <genexpr> at 0x...>\n",
    "print(list(pares)) # [2, 4, 6, 8, 10]"
   ]
  },
  {
   "attachments": {},
   "cell_type": "markdown",
   "metadata": {},
   "source": [
    "Neste exemplo, a expressão geradora `(num for num in range(1, 11) if num % 2 == 0)` gera um gerador que retorna somente os números pares presentes no intervalo de 1 a 10. A expressão é composta por um loop `for`, seguido de uma condição `if`, que são aplicados a cada item do objeto iterável `range(1, 11)`."
   ]
  },
  {
   "attachments": {},
   "cell_type": "markdown",
   "metadata": {},
   "source": [
    "Além das expressões geradoras, também existem as expressões de lista (list comprehension) e as expressões de conjunto (set comprehension) e dicionário (dictionary comprehension) que são sintaxes similares usadas para criar listas, conjuntos e dicionários, respectivamente."
   ]
  },
  {
   "cell_type": "code",
   "execution_count": null,
   "metadata": {},
   "outputs": [],
   "source": [
    "quadrados = [x ** 2 for x in range(1, 6)]\n",
    "print(quadrados) # [1, 4, 9, 16, 25]\n",
    "\n",
    "pares = {x for x in range(1, 11) if x % 2 == 0}\n",
    "print(pares) # {2, 4, 6, 8, 10}\n",
    "\n",
    "chave_valor = {x: x ** 2 for x in range(1, 6)}\n",
    "print(chave_valor) # {1: 1, 2: 4, 3: 9, 4: 16, 5: 25}"
   ]
  },
  {
   "attachments": {},
   "cell_type": "markdown",
   "metadata": {},
   "source": [
    "Em resumo, as expressões geradoras, de lista, de conjunto e de dicionário são uma forma concisa e intuitiva de trabalhar com iteradores e geradores no Python, permitindo a criação de novos objetos a partir de outros iteráveis de maneira simplificada."
   ]
  },
  {
   "attachments": {},
   "cell_type": "markdown",
   "metadata": {},
   "source": [
    "## 16. Extra"
   ]
  },
  {
   "attachments": {},
   "cell_type": "markdown",
   "metadata": {},
   "source": [
    "### 16.1. Estados Dentro da Classe"
   ]
  },
  {
   "attachments": {},
   "cell_type": "markdown",
   "metadata": {},
   "source": [
    "Mantendo estados dentro da classe."
   ]
  },
  {
   "cell_type": "code",
   "execution_count": null,
   "metadata": {},
   "outputs": [],
   "source": [
    "class Cachorro():\n",
    "    def __init__(self, nome, latindo=False):\n",
    "        self.nome = nome\n",
    "        self.latindo = latindo\n",
    "    \n",
    "    def latir(self):\n",
    "        if self.latindo:\n",
    "            print(f'O {self.nome} ainda está latindo!')\n",
    "            return\n",
    "        \n",
    "        print(f'O {self.nome} está latindo...')\n",
    "        self.latindo = True\n",
    "    \n",
    "    def parar_latir(self):\n",
    "        if not self.latindo:\n",
    "            print(f'O {self.nome} não está latindo!')\n",
    "            return\n",
    "        \n",
    "        print(f'O {self.nome} está parando de latir...')\n",
    "        self.latindo = False\n",
    "    \n",
    "    def roncar(self):\n",
    "        if self.latindo:\n",
    "            print(f'O {self.nome} não pode roncar enquanto late!')\n",
    "            return\n",
    "        \n",
    "        print(f'O {self.nome} está roncando...')\n",
    "\n",
    "fido = Cachorro('Fido')\n",
    "rex = Cachorro('Rex')\n",
    "\n",
    "fido.latir()\n",
    "fido.latir()\n",
    "fido.roncar()\n",
    "fido.parar_latir()\n",
    "fido.roncar()"
   ]
  },
  {
   "attachments": {},
   "cell_type": "markdown",
   "metadata": {},
   "source": [
    "### 16.2. \\_\\_dict__ e vars()"
   ]
  },
  {
   "attachments": {},
   "cell_type": "markdown",
   "metadata": {},
   "source": [
    "São maneiras de ver os atributos e valores de uma instância."
   ]
  },
  {
   "cell_type": "code",
   "execution_count": null,
   "metadata": {},
   "outputs": [],
   "source": [
    "class Pessoa():\n",
    "    ano_atual = 2023\n",
    "\n",
    "    def __init__(self, nome, idade):\n",
    "        self.nome = nome\n",
    "        self.idade = idade\n",
    "\n",
    "    def get_ano_nasc(self):\n",
    "        return Pessoa.ano_atual - self.idade\n",
    "\n",
    "p1 = Pessoa('João', 65)\n",
    "print(p1.__dict__)\n",
    "print(vars(p1))\n",
    "\n",
    "# ele pode ser editável, mas não é comum\n",
    "p1.__dict__['novo'] = 'atributo'\n",
    "print(p1.__dict__)\n",
    "print(vars(p1))\n",
    "\n",
    "# ou apagável\n",
    "del p1.__dict__['idade']\n",
    "print(p1.__dict__)\n",
    "print(vars(p1))"
   ]
  },
  {
   "attachments": {},
   "cell_type": "markdown",
   "metadata": {},
   "source": [
    "Também é possível passar os dados de um dicionário para o objeto e criar (ou recriar) uma instância com eles."
   ]
  },
  {
   "cell_type": "code",
   "execution_count": null,
   "metadata": {},
   "outputs": [],
   "source": [
    "class Pessoa():\n",
    "    ano_atual = 2023\n",
    "\n",
    "    def __init__(self, nome, idade):\n",
    "        self.nome = nome\n",
    "        self.idade = idade\n",
    "\n",
    "    def get_ano_nasc(self):\n",
    "        return Pessoa.ano_atual - self.idade\n",
    "\n",
    "dados = {'nome': 'João', 'idade': 65}\n",
    "p1 = Pessoa(**dados)\n",
    "print(p1.nome)\n",
    "print(p1.idade)\n"
   ]
  }
 ],
 "metadata": {
  "kernelspec": {
   "display_name": ".venv",
   "language": "python",
   "name": "python3"
  },
  "language_info": {
   "codemirror_mode": {
    "name": "ipython",
    "version": 3
   },
   "file_extension": ".py",
   "mimetype": "text/x-python",
   "name": "python",
   "nbconvert_exporter": "python",
   "pygments_lexer": "ipython3",
   "version": "3.11.1"
  },
  "orig_nbformat": 4,
  "vscode": {
   "interpreter": {
    "hash": "68f6cf9ddf20b8330c35f9eb8d38bef7105e3b161f09b6b7e5f8b2d3944d5325"
   }
  }
 },
 "nbformat": 4,
 "nbformat_minor": 2
}

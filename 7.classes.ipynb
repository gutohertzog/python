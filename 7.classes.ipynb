{
 "cells": [
  {
   "attachments": {},
   "cell_type": "markdown",
   "metadata": {},
   "source": [
    "# Classes"
   ]
  },
  {
   "attachments": {},
   "cell_type": "markdown",
   "metadata": {},
   "source": [
    "## Resumo"
   ]
  },
  {
   "attachments": {},
   "cell_type": "markdown",
   "metadata": {},
   "source": [
    "Classes proporcionam uma forma de organizar dados e funcionalidades juntos. Criar uma nova classe cria um novo `tipo` de objeto, permitindo que novas `instâncias` desse tipo sejam produzidas. Cada instância da classe pode ter atributos anexados a ela, para manter seu estado. Instâncias da classe também podem ter métodos (definidos pela classe) para modificar seu estado.\n",
    "\n",
    "Em comparação com outras linguagens de programação, o mecanismo de classes de Python introduz a programação orientada a objetos sem acrescentar muitas novidades de sintaxe ou semântica. É uma mistura de mecanismos equivalentes encontrados em C++ e Modula-3. As classes em Python oferecem todas as características tradicionais da programação orientada a objetos: o mecanismo de herança permite múltiplas classes base (herança múltipla), uma classe derivada pode sobrescrever quaisquer métodos de uma classe ancestral e um método pode invocar outro método homônimo de uma classe ancestral. Objetos podem armazenar uma quantidade arbitrária de dados de qualquer tipo. Assim como acontece com os módulos, as classes fazem parte da natureza dinâmica de Python: são criadas em tempo de execução, e podem ser alteradas após sua criação.\n",
    "\n",
    "Usando a terminologia de C++, todos os membros de uma classe (incluindo dados) são públicos (veja exceção abaixo Variáveis privadas), e todos as funções membro são virtuais. Como em Modula-3, não existem atalhos para referenciar membros do objeto de dentro dos seus métodos: o método (função definida em uma classe) é declarado com um primeiro argumento explícito representando o objeto (instância da classe), que é fornecido implicitamente pela chamada ao método. Como em Smalltalk, classes são objetos. Isso fornece uma semântica para importar e renomear. Ao contrário de C++ ou Modula-3, tipos pré-definidos podem ser utilizados como classes base para extensões por herança pelo usuário. Também, como em C++, a maioria dos operadores (aritméticos, indexação, etc) podem ser redefinidos por instâncias de classe."
   ]
  },
  {
   "attachments": {},
   "cell_type": "markdown",
   "metadata": {},
   "source": [
    "## 1. Uma palavra sobre nomes e objetos"
   ]
  },
  {
   "attachments": {},
   "cell_type": "markdown",
   "metadata": {},
   "source": [
    "Objetos têm individualidade, e vários nomes (em diferentes escopos) podem ser vinculados a um mesmo objeto. Isso é chamado de apelidamento em outras linguagens. Geralmente, esta característica não é muito apreciada, e pode ser ignorada com segurança ao lidar com tipos imutáveis (números, strings, tuplas). Entretanto, apelidamento pode ter um efeito surpreendente na semântica do código Python envolvendo objetos mutáveis como listas, dicionários e a maioria dos outros tipos. Isso pode ser usado em benefício do programa, porque os apelidos funcionam de certa forma como ponteiros. Por exemplo, passar um objeto como argumento é barato, pois só um ponteiro é passado na implementação; e se uma função modifica um objeto passado como argumento, o invocador verá a mudança — isso elimina a necessidade de ter dois mecanismos de passagem de parâmetros como em Pascal."
   ]
  },
  {
   "attachments": {},
   "cell_type": "markdown",
   "metadata": {},
   "source": [
    "## 2. Escopos e espaços de nomes (NameSpaces) do Python"
   ]
  },
  {
   "attachments": {},
   "cell_type": "markdown",
   "metadata": {},
   "source": [
    "Antes de introduzir classes, é preciso falar das regras de escopo em Python. Definições de classe fazem alguns truques com espaços de nomes. Portanto, primeiro é preciso entender claramente como escopos e espaços de nomes funcionam, para entender o que está acontecendo. Esse conhecimento é muito útil para qualquer programador Python avançado."
   ]
  },
  {
   "attachments": {},
   "cell_type": "markdown",
   "metadata": {},
   "source": [
    "Vamos começar com algumas definições."
   ]
  },
  {
   "attachments": {},
   "cell_type": "markdown",
   "metadata": {},
   "source": [
    "Um espaço de nomes é um mapeamento que associa nomes a objetos. Atualmente, são implementados como dicionários em Python, mas isso não é perceptível (a não ser pelo desempenho), e pode mudar no futuro.<br>\n",
    "Exemplos de espaços de nomes são :\n",
    "- o conjunto de nomes pré-definidos (funções como [abs()](https://docs.python.org/pt-br/3/library/functions.html#abs) e as exceções pré-definidas);\n",
    "- nomes globais em um módulo;\n",
    "- e nomes locais na invocação de uma função.\n",
    "\n",
    "De certa forma, os atributos de um objeto também formam um espaço de nomes. O mais importante é saber que não existe nenhuma relação entre nomes em espaços de nomes distintos. Por exemplo, dois módulos podem definir uma função de nome maximize sem confusão — usuários dos módulos devem prefixar a função com o nome do módulo, para evitar colisão."
   ]
  },
  {
   "attachments": {},
   "cell_type": "markdown",
   "metadata": {},
   "source": [
    "A propósito, utilizo a palavra `atributo` para qualquer nome depois de um ponto. Na expressão `z.real`, por exemplo, `real` é um atributo do objeto `z`. Estritamente falando, referências para nomes em módulos são atributos: na expressão `modname.funcname`, `modname` é um objeto módulo e `funcname` é um de seus atributos. Neste caso, existe um mapeamento direto entre os atributos de um módulo e os nomes globais definidos no módulo: eles compartilham o mesmo espaço de nomes!"
   ]
  },
  {
   "attachments": {},
   "cell_type": "markdown",
   "metadata": {},
   "source": [
    "Atributos podem ser somente *leitura* ou para *leitura* e *escrita*. No segundo caso, é possível atribuir um novo valor ao atributo. Atributos de módulos são passíveis de atribuição: você pode escrever `modname.the_answer = 42`. Atributos que aceitam escrita também podem ser apagados através da instrução [del](https://docs.python.org/pt-br/3/reference/simple_stmts.html#del). Por exemplo, `del modname.the_answer` removerá o atributo `the_answer` do objeto referenciado por `modname`."
   ]
  },
  {
   "attachments": {},
   "cell_type": "markdown",
   "metadata": {},
   "source": [
    "Espaços de nomes são criados em momentos diferentes e possuem diferentes ciclos de vida. O espaço de nomes que contém os nomes **built-in** é criado quando o interpretador inicializa e nunca é removido. O espaço de nomes global de um módulo é criado quando a definição do módulo é lida, e normalmente duram até a finalização do interpretador. Os comandos executados pela invocação do interpretador, pela leitura de um script como programa principal, ou interativamente, são parte do módulo chamado [__main__](https://docs.python.org/pt-br/3/library/__main__.html#module-__main__), e portanto possuem seu próprio espaço de nomes. (Os nomes **built-in** possuem seu próprio espaço de nomes no módulo chamado [builtins](https://docs.python.org/pt-br/3/library/builtins.html#module-builtins)).\n",
    "\n",
    "O espaço de nomes local de uma função é criado quando a função é invocada, e apagado quando a função retorna ou levanta uma exceção que não é tratada na própria função. (Na verdade, uma forma melhor de descrever o que realmente acontece é que o espaço de nomes local é “esquecido” quando a função termina.) Naturalmente, cada invocação recursiva de uma função tem seu próprio espaço de nomes."
   ]
  },
  {
   "attachments": {},
   "cell_type": "markdown",
   "metadata": {},
   "source": [
    "Um escopo é uma região textual de um programa Python onde um espaço de nomes é diretamente acessível. Aqui, *\"diretamente acessível\"* significa que uma referência sem um prefixo qualificador permite o acesso ao nome.\n",
    "\n",
    "Ainda que escopos sejam determinados estaticamente, eles são usados dinamicamente. A qualquer momento durante a execução, existem 3 ou 4 escopos aninhados cujos espaços de nomes são diretamente acessíveis:\n",
    "- o escopo mais interno, que é acessado primeiro, contem os nomes locais;\n",
    "- os escopos das funções que envolvem a função atual, que são acessados a partir do escopo mais próximo, contêm nomes não-locais, mas também não-globais;\n",
    "- o penúltimo escopo contém os nomes globais do módulo atual;\n",
    "- e o escopo mais externo (acessado por último) contém os nomes das funções embutidas e demais objetos pré-definidos do interpretador;"
   ]
  },
  {
   "attachments": {},
   "cell_type": "markdown",
   "metadata": {},
   "source": [
    "Se um nome é declarado no escopo global, então todas as referências e atribuições de valores vão diretamente para o penúltimo escopo, que contém os nomes globais do módulo. Para alterar variáveis declaradas fora do escopo mais interno, a instrução [nonlocal](https://docs.python.org/pt-br/3/reference/simple_stmts.html#nonlocal) pode ser usada; caso contrário, todas essas variáveis serão apenas para leitura (a tentativa de atribuir valores a essas variáveis simplesmente criará uma nova variável local, no escopo interno, não alterando nada na variável de nome idêntico fora dele).\n",
    "\n",
    "Normalmente, o escopo local referencia os nomes locais da função corrente no texto do programa. Fora de funções, o escopo local referencia os nomes do escopo global: espaço de nomes do módulo. Definições de classes adicionam um outro espaço de nomes ao escopo local."
   ]
  },
  {
   "attachments": {},
   "cell_type": "markdown",
   "metadata": {},
   "source": [
    "É importante perceber que escopos são determinados estaticamente, pelo texto do código-fonte: o escopo global de uma função definida em um módulo é o espaço de nomes deste módulo, sem importar de onde ou por qual apelido a função é invocada. Por outro lado, a busca de nomes é dinâmica, ocorrendo durante a execução. Porém, a evolução da linguagem está caminhando para uma resolução de nomes estática, em “tempo de compilação”, portanto não conte com a resolução dinâmica de nomes! (De fato, variáveis locais já são resolvidas estaticamente)."
   ]
  },
  {
   "attachments": {},
   "cell_type": "markdown",
   "metadata": {},
   "source": [
    "Uma peculiaridade especial do Python é que – se nenhuma instrução [global](https://docs.python.org/pt-br/3/reference/simple_stmts.html#global) ou [nonlocal](https://docs.python.org/pt-br/3/reference/simple_stmts.html#nonlocal) estiver em vigor – as atribuições de nomes sempre entram no escopo mais interno. As atribuições não copiam dados — elas apenas vinculam nomes aos objetos. O mesmo vale para exclusões: a instrução `del x` remove a ligação de `x` do espaço de nomes referenciado pelo escopo local. De fato, todas as operações que introduzem novos nomes usam o escopo local: em particular, instruções [import](https://docs.python.org/pt-br/3/reference/simple_stmts.html#import) e definições de funções ligam o módulo ou o nome da função no escopo local.\n",
    "\n",
    "A instrução [global](https://docs.python.org/pt-br/3/reference/simple_stmts.html#global) pode ser usada para indicar que certas variáveis residem no escopo global ao invés do local; a instrução [nonlocal](https://docs.python.org/pt-br/3/reference/simple_stmts.html#nonlocal) indica que variáveis particulares estão em um espoco mais interno e devem ser recuperadas lá."
   ]
  },
  {
   "attachments": {},
   "cell_type": "markdown",
   "metadata": {},
   "source": [
    "### 2.1. Exemplo de escopos e espaço de nomes"
   ]
  },
  {
   "attachments": {},
   "cell_type": "markdown",
   "metadata": {},
   "source": [
    "Este é um exemplo que demonstra como se referir aos diferentes escopos e aos espaços de nomes, e como [global](https://docs.python.org/pt-br/3/reference/simple_stmts.html#global) e [nonlocal](https://docs.python.org/pt-br/3/reference/simple_stmts.html#nonlocal) pode afetar ligação entre as variáveis."
   ]
  },
  {
   "cell_type": "code",
   "execution_count": null,
   "metadata": {},
   "outputs": [],
   "source": [
    "def teste_escopo():\n",
    "    def cria_local():\n",
    "        spam = \"local spam\"\n",
    "\n",
    "    def cria_nonlocal():\n",
    "        nonlocal spam\n",
    "        spam = \"nonlocal spam\"\n",
    "\n",
    "    def cria_global():\n",
    "        global spam\n",
    "        spam = \"global spam\"\n",
    "\n",
    "    spam = \"teste spam\"\n",
    "    cria_local()\n",
    "    print(\"Depois da atribuição local :\", spam)\n",
    "    cria_nonlocal()\n",
    "    print(\"Depois da atribuição nonlocal :\", spam)\n",
    "    cria_global()\n",
    "    print(\"Depois da atribuição global :\", spam)\n",
    "\n",
    "teste_escopo()\n",
    "print(\"No escopo global :\", spam)"
   ]
  },
  {
   "attachments": {},
   "cell_type": "markdown",
   "metadata": {},
   "source": [
    "A saída do código de exemplo é :\n",
    "\n",
    "`Depois da atribuição local : teste spam`<br>\n",
    "`Depois da atribuição nonlocal : nonlocal spam`<br>\n",
    "`Depois da atribuição global : nonlocal spam`<br>\n",
    "`No escopo global : global spam`"
   ]
  },
  {
   "attachments": {},
   "cell_type": "markdown",
   "metadata": {},
   "source": [
    "Observe como uma atribuição *local* (que é o padrão) não altera o vínculo de teste_escopo a spam. A instrução [nonlocal](https://docs.python.org/pt-br/3/reference/simple_stmts.html#nonlocal) mudou o vínculo de escopo_teste de spam e a atribuição [global](https://docs.python.org/pt-br/3/reference/simple_stmts.html#global) alterou a ligação para o nível do módulo.\n",
    "\n",
    "Você também pode ver que não havia nenhuma ligação anterior para spam antes da atribuição [global](https://docs.python.org/pt-br/3/reference/simple_stmts.html#global)."
   ]
  },
  {
   "attachments": {},
   "cell_type": "markdown",
   "metadata": {},
   "source": [
    "## 3. Uma primeira olhada nas classes"
   ]
  },
  {
   "attachments": {},
   "cell_type": "markdown",
   "metadata": {},
   "source": [
    "Classes introduzem novidades sintáticas, três novos tipos de objetos, e também alguma semântica nova."
   ]
  },
  {
   "attachments": {},
   "cell_type": "markdown",
   "metadata": {},
   "source": [
    "### 3.1. Sintaxe da definição de classe"
   ]
  },
  {
   "attachments": {},
   "cell_type": "markdown",
   "metadata": {},
   "source": [
    "A forma mais simples de definir uma classe é :"
   ]
  },
  {
   "cell_type": "code",
   "execution_count": null,
   "metadata": {},
   "outputs": [],
   "source": [
    "class NomeClasse:\n",
    "    ..."
   ]
  },
  {
   "attachments": {},
   "cell_type": "markdown",
   "metadata": {},
   "source": [
    "Definições de classe, assim como definições de função (instruções [def](https://docs.python.org/pt-br/3/reference/compound_stmts.html#def)), precisam ser executadas antes que tenham qualquer efeito. (Você pode colocar uma definição de classe dentro do teste condicional de um [if](https://docs.python.org/pt-br/3/reference/compound_stmts.html#if) ou dentro de uma função).\n",
    "\n",
    "Na prática, as instruções dentro da definição de classe geralmente serão definições de funções, mas outras instruções são permitidas, e às vezes são bem úteis — voltaremos a este tema depois. Definições de funções dentro da classe normalmente têm um forma peculiar de lista de argumentos, determinada pela convenção de chamada a métodos — isso também será explicado mais tarde.\n",
    "\n",
    "Quando se inicia a definição de classe, um novo espaço de nomes (namespaces) é criado, e usado como escopo local — assim, todas atribuições a variáveis locais ocorrem nesse espaço de nomes. Em particular, funções definidas aqui são vinculadas a nomes nesse escopo.\n",
    "\n",
    "Quando uma definição de classe é finalizada normalmente (até o fim), um objeto classe é criado. Este objeto encapsula o conteúdo do espaço de nomes criado pela definição da classe. O escopo local que estava vigente antes da definição da classe é reativado, e o objeto classe é vinculado ao identificador da classe nesse escopo (`NomeClasse` no exemplo)."
   ]
  },
  {
   "attachments": {},
   "cell_type": "markdown",
   "metadata": {},
   "source": [
    "### 3.2. Objetos da Classe"
   ]
  },
  {
   "attachments": {},
   "cell_type": "markdown",
   "metadata": {},
   "source": [
    "Objetos classe suportam dois tipos de operações: `referências a atributos` e `instanciação`."
   ]
  },
  {
   "attachments": {},
   "cell_type": "markdown",
   "metadata": {},
   "source": [
    "`Referências a atributos` de classe utilizam a sintaxe padrão utilizada para quaisquer referências a atributos em Python: `obj.nome`. Nomes de atributos válidos são todos os nomes presentes dentro do espaço de nomes da classe, quando o objeto classe foi criado. Portanto, se a definição de classe tem esta forma :"
   ]
  },
  {
   "cell_type": "code",
   "execution_count": null,
   "metadata": {},
   "outputs": [],
   "source": [
    "class MinhaClasse:\n",
    "    \"\"\"Um simples exemplo de classe\"\"\"\n",
    "    n = 12345\n",
    "\n",
    "    def funcao(self):\n",
    "        return 'Olá, Mundo!'"
   ]
  },
  {
   "attachments": {},
   "cell_type": "markdown",
   "metadata": {},
   "source": [
    "então, `MinhaClasse.n` e `MinhaClasse.funcao` são referências a atributo válidas, retornando, respectivamente, um inteiro e um objeto função. Atributos de classe podem receber valores, pode-se modificar o valor de `MinhaClasse.n` num atribuição. `__doc__` também é um atributo válido da classe, retornando a documentação associada : \"Um simples exemplo de classe\"."
   ]
  },
  {
   "attachments": {},
   "cell_type": "markdown",
   "metadata": {},
   "source": [
    "Para `instanciar` uma classe, usa-se a mesma sintaxe de invocar uma função. Apenas finja que o objeto classe do exemplo é uma função sem parâmetros, que devolve uma nova instância da classe. Por exemplo (assumindo a classe acima) :"
   ]
  },
  {
   "cell_type": "code",
   "execution_count": null,
   "metadata": {},
   "outputs": [],
   "source": [
    "x = MinhaClasse()"
   ]
  },
  {
   "attachments": {},
   "cell_type": "markdown",
   "metadata": {},
   "source": [
    "cria uma nova `instância` da classe e atribui o objeto resultante à variável local `x`."
   ]
  },
  {
   "attachments": {},
   "cell_type": "markdown",
   "metadata": {},
   "source": [
    "A operação de instanciação (“invocar” um objeto classe) cria um objeto vazio. Muitas classes preferem criar novos objetos com um estado inicial predeterminado. Para tanto, a classe pode definir um método especial chamado `__init__()`, assim :"
   ]
  },
  {
   "cell_type": "code",
   "execution_count": null,
   "metadata": {},
   "outputs": [],
   "source": [
    "def __init__(self):\n",
    "    self.dados = []"
   ]
  },
  {
   "attachments": {},
   "cell_type": "markdown",
   "metadata": {},
   "source": [
    "quando uma classe define um método `__init__()`, o processo de instanciação automaticamente invoca `__init__()` sobre a instância recém criada. Em nosso exemplo, uma nova instância já inicializada pode ser obtida desta maneira :"
   ]
  },
  {
   "cell_type": "code",
   "execution_count": null,
   "metadata": {},
   "outputs": [],
   "source": [
    "x = MinhaClasse()"
   ]
  },
  {
   "attachments": {},
   "cell_type": "markdown",
   "metadata": {},
   "source": [
    "Naturalmente, o método `__init__()` pode ter parâmetros para maior flexibilidade. Neste caso, os argumentos fornecidos na invocação da classe serão passados para o método `__init__()`. Por exemplo :"
   ]
  },
  {
   "cell_type": "code",
   "execution_count": null,
   "metadata": {},
   "outputs": [],
   "source": [
    "class Complexo:\n",
    "    def __init__(self, parte_real, parte_imaginaria):\n",
    "        self.real = parte_real\n",
    "        self.imag = parte_imaginaria\n",
    "\n",
    "num_comp = Complexo(3.0, -4.5)\n",
    "print(num_comp.real, num_comp.imag)"
   ]
  },
  {
   "attachments": {},
   "cell_type": "markdown",
   "metadata": {},
   "source": [
    "### 3.3. Objetos Instância"
   ]
  },
  {
   "attachments": {},
   "cell_type": "markdown",
   "metadata": {},
   "source": [
    "Agora o que podemos fazer com objetos de instância? As únicas operações compreendidas por objetos de instância são os atributos de referência. Existem duas maneiras válidas para nomear atributos: atributos de dados e métodos."
   ]
  },
  {
   "attachments": {},
   "cell_type": "markdown",
   "metadata": {},
   "source": [
    "Atributos de dados correspondem a \"variáveis de instância\" em Smalltalk, e a \"membros de dados\" em C++. Atributos de dados não precisam ser declarados. Assim como variáveis locais, eles passam a existir na primeira vez em que é feita uma atribuição. Por exemplo, se `n` é uma instância da `MinhaClasse` criada acima, o próximo trecho de código irá exibir o valor `16`, sem deixar nenhum rastro :"
   ]
  },
  {
   "cell_type": "code",
   "execution_count": null,
   "metadata": {},
   "outputs": [],
   "source": [
    "class MinhaClasse:\n",
    "    ...\n",
    "\n",
    "n = MinhaClasse()\n",
    "n.contador = 1\n",
    "while n.contador < 10:\n",
    "    n.contador = n.contador * 2\n",
    "print(n.contador)\n",
    "del n.contador"
   ]
  },
  {
   "attachments": {},
   "cell_type": "markdown",
   "metadata": {},
   "source": [
    "O outro tipo de referências a atributos de instância é o \"método\". Um método é uma função que \"pertence\" a um objeto instância. (Em Python, o termo método não é aplicado exclusivamente a instâncias de classes definidas pelo usuário: outros tipos de objetos também podem ter métodos. Por exemplo, listas possuem os métodos append, insert, remove, sort, entre outros. Porém, na discussão a seguir, usaremos o termo método apenas para se referir a métodos de classes definidas pelo usuário. Seremos explícitos ao falar de outros métodos).\n",
    "\n",
    "Nomes de métodos válidos de uma instância dependem de sua classe. Por definição, cada atributo de uma classe que é uma função corresponde a um método das instâncias. Em nosso exemplo, `x.funcao` é uma referência de método válida já que `MinhaClasse.funcao` é uma função, enquanto `x.n` não é, já que `MinhaClasse.n` não é uma função. Entretanto, `x.funcao` não é o mesmo que `MinhaClasse.funcao`. A referência `x.funcao` acessa um objeto método e a `MinhaClasse.funcao` acessa um objeto função."
   ]
  },
  {
   "attachments": {},
   "cell_type": "markdown",
   "metadata": {},
   "source": [
    "### 3.4. Objetos Método"
   ]
  },
  {
   "attachments": {},
   "cell_type": "markdown",
   "metadata": {},
   "source": [
    "Normalmente, um método é chamado imediatamente após ser referenciado."
   ]
  },
  {
   "cell_type": "code",
   "execution_count": null,
   "metadata": {},
   "outputs": [],
   "source": [
    "class MinhaClasse:\n",
    "    \"\"\"Um simples exemplo de classe\"\"\"\n",
    "    n = 12345\n",
    "\n",
    "    def funcao(self):\n",
    "        return 'Olá, Mundo!'\n",
    "\n",
    "x.funcao()"
   ]
  },
  {
   "attachments": {},
   "cell_type": "markdown",
   "metadata": {},
   "source": [
    "No exemplo `MinhaClasse`, o resultado da expressão acima será a string 'Olá, Mundo!'. No entanto, não é obrigatório invocar o método imediatamente: como `x.funcao` é também um objeto ele pode ser atribuído a uma variável e invocado depois. O exemplo :"
   ]
  },
  {
   "cell_type": "code",
   "execution_count": null,
   "metadata": {},
   "outputs": [],
   "source": [
    "class MinhaClasse:\n",
    "    \"\"\"Um simples exemplo de classe\"\"\"\n",
    "    n = 12345\n",
    "\n",
    "    def funcao(self):\n",
    "        return 'Olá, Mundo!'\n",
    "\n",
    "x_funcao = x.funcao\n",
    "while True:\n",
    "    print(x_funcao())"
   ]
  },
  {
   "attachments": {},
   "cell_type": "markdown",
   "metadata": {},
   "source": [
    "exibirá o texto \"Olá, Mundo!\" até o mundo acabar."
   ]
  },
  {
   "attachments": {},
   "cell_type": "markdown",
   "metadata": {},
   "source": [
    "O que ocorre precisamente quando um método é invocado? Você deve ter notado que `x.funcao()` foi chamado sem nenhum argumento, porém a definição da função `funcao()` especificava um argumento. O que aconteceu com esse argumento? Certamente Python levanta uma exceção quando uma função que declara um argumento é invocada sem nenhum argumento — mesmo que o argumento não seja usado no corpo da função…\n",
    "\n",
    "Na verdade, pode-se supor a resposta: a particularidade sobre os métodos é que o objeto da instância é passado como o primeiro argumento da função. Em nosso exemplo, a chamada `x.funcao()` é exatamente equivalente a `MinhaClasse.funcao(x)`. Em geral, chamar um método com uma lista de *n argumentos* é equivalente a chamar a função correspondente com uma lista de argumentos que é criada inserindo o objeto de instância do método antes do primeiro argumento.\n",
    "\n",
    "Se você ainda não entende como os métodos funcionam, dê uma olhada na implementação para esclarecer as coisas. Quando um atributo de uma instância, não relacionado a dados, é referenciado, a classe da instância é pesquisada. Se o nome é um atributo de classe válido, e é o nome de uma função, um método é criado, empacotando a instância e a função, que estão juntos num objeto abstrato: este é o método. Quando o método é invocado com uma lista de argumentos, uma nova lista de argumentos é criada inserindo a instância na posição 0 da lista. Finalmente, o objeto função — empacotado dentro do objeto método — é invocado com a nova lista de argumentos."
   ]
  },
  {
   "attachments": {},
   "cell_type": "markdown",
   "metadata": {},
   "source": [
    "### 3.5. Variáveis de Classe e Instância"
   ]
  },
  {
   "attachments": {},
   "cell_type": "markdown",
   "metadata": {},
   "source": [
    "De forma geral, variáveis de instância são variáveis que indicam dados que são únicos a cada instância individual, e variáveis de classe são variáveis de atributos e de métodos que são comuns a todas as instâncias de uma classe."
   ]
  },
  {
   "cell_type": "code",
   "execution_count": null,
   "metadata": {},
   "outputs": [],
   "source": [
    "class Cao:\n",
    "    tipo = 'canino'     # variável de classe compartilhado por todas as instâncias\n",
    "    def __init__(self, nome):\n",
    "        self.nome = nome     # variável de instância uníco para cada instância\n",
    "\n",
    "cao_fido = Cao('Fido')\n",
    "cao_rex = Cao('Rex')\n",
    "print(cao_fido.tipo) # compartilhado por todos os cães\n",
    "print(cao_rex.tipo)  # compartilhado por todos os cães\n",
    "print(cao_fido.nome) # único para cao_fido\n",
    "print(cao_rex.nome)  # único para cao_rex"
   ]
  },
  {
   "attachments": {},
   "cell_type": "markdown",
   "metadata": {},
   "source": [
    "Como vimos em \"Uma palavra sobre nomes e objetos\", dados compartilhados podem causar efeitos inesperados quando envolvem objetos ([mutáveis](https://docs.python.org/pt-br/3/glossary.html#term-mutable)), como listas ou dicionários. Por exemplo, a lista **truques** do código abaixo não deve ser usada como variável de classe, pois assim seria compartilhada por todas as instâncias de Cao :"
   ]
  },
  {
   "cell_type": "code",
   "execution_count": null,
   "metadata": {},
   "outputs": [],
   "source": [
    "class Cao:\n",
    "    truques = []     # uso incorreto de uma variável de classe\n",
    "    def __init__(self, nome):\n",
    "        self.nome = nome   \n",
    "    def novo_truque(self, truque):\n",
    "        self.truques.append(truque)\n",
    "\n",
    "cao_fido = Cao('Fido')\n",
    "cao_rex = Cao('Rex')\n",
    "cao_fido.novo_truque('rolar')\n",
    "cao_rex.novo_truque('sentar')\n",
    "print(cao_fido.truques) # inesperadamente compartilhado com todos os cães"
   ]
  },
  {
   "attachments": {},
   "cell_type": "markdown",
   "metadata": {},
   "source": [
    "Em vez disso, o modelo correto da classe deve usar uma variável de instância :"
   ]
  },
  {
   "cell_type": "code",
   "execution_count": null,
   "metadata": {},
   "outputs": [],
   "source": [
    "class Cao:\n",
    "    def __init__(self, nome):\n",
    "        self.nome = nome   \n",
    "        self.truques = []     # cria uma nova lista para cada cão\n",
    "    def novo_truque(self, truque):\n",
    "        self.truques.append(truque)\n",
    "\n",
    "cao_fido = Cao('Fido')\n",
    "cao_rex = Cao('Rex')\n",
    "cao_fido.novo_truque('rolar')\n",
    "cao_rex.novo_truque('sentar')\n",
    "print(cao_fido.truques)\n",
    "print(cao_rex.truques)"
   ]
  },
  {
   "attachments": {},
   "cell_type": "markdown",
   "metadata": {},
   "source": [
    "## 4. Observações Aleatórias"
   ]
  },
  {
   "attachments": {},
   "cell_type": "markdown",
   "metadata": {},
   "source": [
    "Se um mesmo nome de atributo ocorre tanto na instância quanto na classe, a busca pelo atributo prioriza a instância :"
   ]
  },
  {
   "cell_type": "code",
   "execution_count": null,
   "metadata": {},
   "outputs": [],
   "source": [
    "class Armazem:\n",
    "    proposito = 'armazenar'\n",
    "    regiao = 'sul'\n",
    "\n",
    "a1 = Armazem()\n",
    "print(a1.proposito, a1.regiao)\n",
    "\n",
    "a2 = Armazem()\n",
    "a2.regiao = 'sudeste'\n",
    "print(a2.proposito, a2.regiao)"
   ]
  },
  {
   "attachments": {},
   "cell_type": "markdown",
   "metadata": {},
   "source": [
    "Atributos de dados podem ser referenciados por métodos da própria instância, bem como por qualquer outro usuário do objeto (também chamados “clientes” do objeto). Em outras palavras, classes não servem para implementar tipos puramente abstratos de dados. De fato, nada em Python torna possível assegurar o encapsulamento de dados — tudo é baseado em convenção. (Por outro lado, a implementação de Python, escrita em C, pode esconder completamente detalhes de um objeto e controlar o acesso ao objeto, se necessário; isto pode ser utilizado por extensões de Python escritas em C).\n",
    "\n",
    "Clientes devem utilizar atributos de dados com cuidado, pois podem bagunçar invariantes assumidas pelos métodos ao esbarrar em seus atributos de dados. Note que clientes podem adicionar atributos de dados a suas próprias instâncias, sem afetar a validade dos métodos, desde que seja evitado o conflito de nomes. Novamente, uma convenção de nomenclatura poupa muita dor de cabeça."
   ]
  },
  {
   "attachments": {},
   "cell_type": "markdown",
   "metadata": {},
   "source": [
    "Não existe atalho para referenciar atributos de dados (ou outros métodos!) de dentro de um método. Isso aumenta a legibilidade dos métodos: não há como confundir variáveis locais com variáveis da instância quando lemos rapidamente um método.\n",
    "\n",
    "Frequentemente, o primeiro argumento de um método é chamado `self`. Isso não passa de uma convenção: o identificador `self` não é uma palavra reservada nem possui qualquer significado especial em Python. Mas note que, ao seguir essa convenção, seu código se torna legível por uma grande comunidade de desenvolvedores Python e é possível que alguma IDE dependa dessa convenção para analisar seu código."
   ]
  },
  {
   "attachments": {},
   "cell_type": "markdown",
   "metadata": {},
   "source": [
    "Qualquer objeto função que é atributo de uma classe, define um método para as instâncias dessa classe. Não é necessário que a definição da função esteja textualmente embutida na definição da classe. Atribuir um objeto função a uma variável local da classe é válido. Por exemplo :"
   ]
  },
  {
   "cell_type": "code",
   "execution_count": null,
   "metadata": {},
   "outputs": [],
   "source": [
    "def f1(self, x, y):\n",
    "    return min(x, x+y)\n",
    "\n",
    "class C:\n",
    "    f = f1\n",
    "\n",
    "    def g(self):\n",
    "        return 'Olá, mundo!'\n",
    "    \n",
    "    h = g"
   ]
  },
  {
   "attachments": {},
   "cell_type": "markdown",
   "metadata": {},
   "source": [
    "Agora `f`, `g` e `h` são todos atributos da classe C que referenciam funções, e consequentemente são todos métodos de instâncias da classe C, onde `h` é exatamente equivalente a `g`. No entanto, essa prática serve apenas para confundir o leitor do programa."
   ]
  },
  {
   "attachments": {},
   "cell_type": "markdown",
   "metadata": {},
   "source": [
    "Métodos podem invocar outros métodos usando atributos de método do argumento `self`."
   ]
  },
  {
   "cell_type": "code",
   "execution_count": null,
   "metadata": {},
   "outputs": [],
   "source": [
    "class Sacola:\n",
    "    def __init__(self):\n",
    "        self.dados = []\n",
    "    \n",
    "    def adiciona(self, x):\n",
    "        self.dados.append(x)\n",
    "    \n",
    "    def adiciona_duas_vezes(self, x):\n",
    "        self.adiciona(x)\n",
    "        self.adiciona(x)"
   ]
  },
  {
   "attachments": {},
   "cell_type": "markdown",
   "metadata": {},
   "source": [
    "Métodos podem referenciar nomes globais da mesma forma que funções comuns. O escopo global associado a um método é o módulo contendo sua definição na classe (a classe propriamente dita nunca é usada como escopo global!). Ainda que seja raro justificar o uso de dados globais em um método, há diversos usos legítimos do escopo global. Por exemplo, funções e módulos importados no escopo global podem ser usados por métodos, bem como as funções e classes definidas no próprio escopo global. Provavelmente, a classe contendo o método em questão também foi definida neste escopo global. Na próxima seção veremos razões pelas quais um método pode querer referenciar sua própria classe.\n",
    "\n",
    "Cada valor é um objeto e, portanto, tem uma *classe* (também chamada de *tipo*). Ela é armazenada como `object.__class__`."
   ]
  },
  {
   "attachments": {},
   "cell_type": "markdown",
   "metadata": {},
   "source": [
    "## 5. Atributos"
   ]
  },
  {
   "attachments": {},
   "cell_type": "markdown",
   "metadata": {},
   "source": [
    "Em Python, os atributos de uma classe podem ser públicos ou privados.\n",
    "\n",
    "Atributos públicos são aqueles que não possuem nenhum prefixo ou sufixo especial em seus nomes. Isso significa que eles podem ser acessados e modificados por qualquer objeto da classe, bem como por qualquer objeto que herde da classe.\n",
    "\n",
    "Já os atributos privados são aqueles que possuem um prefixo `__` (duas underlines) no início do seu nome. Esses atributos só podem ser acessados e modificados diretamente dentro da classe onde eles foram declarados. Acessá-los de fora da classe é considerado uma violação de encapsulamento e pode causar problemas no funcionamento do código.\n",
    "\n",
    "É importante notar que, embora esses atributos possam ser acessados e modificados diretamente dentro da classe, é geralmente recomendado utilizar métodos getters e setters para fazer isso de forma controlada e segura."
   ]
  },
  {
   "attachments": {},
   "cell_type": "markdown",
   "metadata": {},
   "source": [
    "### 5.1. Atributos Públicos"
   ]
  },
  {
   "attachments": {},
   "cell_type": "markdown",
   "metadata": {},
   "source": [
    "Em Python, os atributos de uma classe são considerados públicos quando não possuem nenhum prefixo ou sufixo especial em seus nomes. Isso significa que eles podem ser acessados e modificados diretamente por qualquer objeto da classe, bem como por qualquer objeto que herde da classe."
   ]
  },
  {
   "attachments": {},
   "cell_type": "markdown",
   "metadata": {},
   "source": [
    "#### 5.1.1. Básico"
   ]
  },
  {
   "attachments": {},
   "cell_type": "markdown",
   "metadata": {},
   "source": [
    "Considere a seguinte classe `Personagem` :"
   ]
  },
  {
   "cell_type": "code",
   "execution_count": null,
   "metadata": {},
   "outputs": [],
   "source": [
    "class Personagem:\n",
    "    def __init__(self, nome, classe, nivel, vida, mana):\n",
    "        self.nome = nome\n",
    "        self.classe = classe\n",
    "        self.nivel = nivel\n",
    "        self.vida = vida\n",
    "        self.mana = mana\n"
   ]
  },
  {
   "attachments": {},
   "cell_type": "markdown",
   "metadata": {},
   "source": [
    "Nesta classe, os atributos `nome`, `classe`, `nivel`, `vida` e `mana` são públicos, pois não possuem nenhum prefixo ou sufixo especial em seus nomes. Isso significa que podemos acessá-los diretamente, como no exemplo abaixo :"
   ]
  },
  {
   "cell_type": "code",
   "execution_count": null,
   "metadata": {},
   "outputs": [],
   "source": [
    "guerreiro = Personagem(\"Conan\", \"Guerreiro\", 10, 100, 0)\n",
    "print(guerreiro.nome) # Imprime \"Conan\"\n",
    "print(guerreiro.classe) # Imprime \"Guerreiro\"\n",
    "print(guerreiro.nivel) # Imprime 10"
   ]
  },
  {
   "attachments": {},
   "cell_type": "markdown",
   "metadata": {},
   "source": [
    "Além disso, também podemos modificar esses atributos diretamente, como no exemplo abaixo :"
   ]
  },
  {
   "cell_type": "code",
   "execution_count": null,
   "metadata": {},
   "outputs": [],
   "source": [
    "guerreiro.vida = 80\n",
    "print(guerreiro.vida) # Imprime 80"
   ]
  },
  {
   "attachments": {},
   "cell_type": "markdown",
   "metadata": {},
   "source": [
    "Exemplo 1 : criando uma classe `Monstro` com atributos públicos :"
   ]
  },
  {
   "cell_type": "code",
   "execution_count": null,
   "metadata": {},
   "outputs": [],
   "source": [
    "class Monstro:\n",
    "    def __init__(self, nome, tipo, vida, dano):\n",
    "        self.nome = nome\n",
    "        self.tipo = tipo\n",
    "        self.vida = vida\n",
    "        self.dano = dano\n",
    "\n",
    "goblin = Monstro(\"Goblin\", \"humanoide\", 20, 5)\n",
    "print(goblin.nome) # Imprime \"Goblin\"\n",
    "print(goblin.tipo) # Imprime \"humanoide\""
   ]
  },
  {
   "attachments": {},
   "cell_type": "markdown",
   "metadata": {},
   "source": [
    "Nesta classe, os atributos `nome`, `tipo`, `vida` e `dano` são públicos, o que significa que podemos acessá-los diretamente."
   ]
  },
  {
   "attachments": {},
   "cell_type": "markdown",
   "metadata": {},
   "source": [
    "Exemplo 2 : criando uma classe `Item` com atributos públicos :"
   ]
  },
  {
   "cell_type": "code",
   "execution_count": null,
   "metadata": {},
   "outputs": [],
   "source": [
    "class Item:\n",
    "    def __init__(self, nome, tipo, preco):\n",
    "        self.nome = nome\n",
    "        self.tipo = tipo\n",
    "        self.preco = preco\n",
    "\n",
    "espada = Item(\"Espada Longa\", \"arma\", 100)\n",
    "print(espada.nome) # Imprime \"Espada Longa\"\n",
    "print(espada.tipo) # Imprime \"arma\""
   ]
  },
  {
   "attachments": {},
   "cell_type": "markdown",
   "metadata": {},
   "source": [
    "Nesta classe, os atributos `nome`, `tipo` e `preco` são públicos, o que significa que podemos acessá-los diretamente."
   ]
  },
  {
   "attachments": {},
   "cell_type": "markdown",
   "metadata": {},
   "source": [
    "#### 5.1.2. Atributos Públicos com Métodos"
   ]
  },
  {
   "attachments": {},
   "cell_type": "markdown",
   "metadata": {},
   "source": [
    "Aqui estão alguns exemplos adicionais de como podemos utilizar atributos públicos em classes com métodos :"
   ]
  },
  {
   "attachments": {},
   "cell_type": "markdown",
   "metadata": {},
   "source": [
    "Exemplo 1 : criando uma classe `Personagem` com atributos públicos e métodos `atacar` e `curar` :"
   ]
  },
  {
   "cell_type": "code",
   "execution_count": null,
   "metadata": {},
   "outputs": [],
   "source": [
    "class Personagem:\n",
    "    def __init__(self, nome, classe, nivel, vida, mana):\n",
    "        self.nome = nome\n",
    "        self.classe = classe\n",
    "        self.nivel = nivel\n",
    "        self.vida = vida\n",
    "        self.mana = mana\n",
    "\n",
    "    def atacar(self, alvo):\n",
    "        alvo.vida -= self.dano\n",
    "\n",
    "    def curar(self):\n",
    "        self.vida += 10\n",
    "        self.mana -= 5"
   ]
  },
  {
   "attachments": {},
   "cell_type": "markdown",
   "metadata": {},
   "source": [
    "Nesta classe, os atributos `nome`, `classe`, `nivel`, `vida` e `mana` são públicos, o que significa que podemos acessá-los diretamente, como abaixo :"
   ]
  },
  {
   "cell_type": "code",
   "execution_count": null,
   "metadata": {},
   "outputs": [],
   "source": [
    "guerreiro = Personagem(\"Conan\", \"Guerreiro\", 10, 100, 0)\n",
    "print(guerreiro.nome) # Imprime \"Conan\"\n",
    "guerreiro.atacar(goblin) # Diminui vida do goblin\n",
    "guerreiro.curar() # Aumenta vida do guerreiro"
   ]
  },
  {
   "attachments": {},
   "cell_type": "markdown",
   "metadata": {},
   "source": [
    "Exemplo 2: criando uma classe `Item` com atributos públicos e método `usar` :"
   ]
  },
  {
   "cell_type": "code",
   "execution_count": null,
   "metadata": {},
   "outputs": [],
   "source": [
    "class Item:\n",
    "    def __init__(self, nome, tipo, preco):\n",
    "        self.nome = nome\n",
    "        self.tipo = tipo\n",
    "        self.preco = preco\n",
    "\n",
    "    def usar(self, personagem):\n",
    "        if self.tipo == \"arma\":\n",
    "            personagem.dano += 10\n",
    "        elif self.tipo == \"poção\":\n",
    "            personagem.vida += 20\n",
    "\n",
    "espada = Item(\"Espada Longa\", \"arma\", 100)\n",
    "print(espada.nome) # Imprime \"Espada Longa\"\n",
    "espada.usar(guerreiro) # Aumenta dano do guerreiro"
   ]
  },
  {
   "attachments": {},
   "cell_type": "markdown",
   "metadata": {},
   "source": [
    "Nesta classe, os atributos `nome`, `tipo` e `preco` são públicos, o que significa que podemos acessá-los diretamente."
   ]
  },
  {
   "attachments": {},
   "cell_type": "markdown",
   "metadata": {},
   "source": [
    "### 5.1. Atributos Privados"
   ]
  },
  {
   "attachments": {},
   "cell_type": "markdown",
   "metadata": {},
   "source": [
    "Em Python, os atributos de uma classe podem ser declarados como privados adicionando um prefixo `__` (duas underlines) no início do seu nome. Esses atributos só podem ser acessados e modificados diretamente dentro da classe onde eles foram declarados. Acessá-los de fora da classe é considerado uma violação de encapsulamento e pode causar problemas no funcionamento do código.\n",
    "\n",
    "Isso pode ser útil para garantir que certos valores não possam ser modificados diretamente, mas apenas através de métodos específicos."
   ]
  },
  {
   "attachments": {},
   "cell_type": "markdown",
   "metadata": {},
   "source": [
    "Por exemplo, considere a seguinte classe `Personagem` :"
   ]
  },
  {
   "cell_type": "code",
   "execution_count": null,
   "metadata": {},
   "outputs": [],
   "source": [
    "class Personagem:\n",
    "    def __init__(self, nome, classe, nivel, vida, mana):\n",
    "        self.__nome = nome\n",
    "        self.__classe = classe\n",
    "        self.__nivel = nivel\n",
    "        self.__vida = vida\n",
    "        self.__mana = mana"
   ]
  },
  {
   "attachments": {},
   "cell_type": "markdown",
   "metadata": {},
   "source": [
    "Nesta classe, os atributos `__nome`, `__classe`, `__nivel`, `__vida` e `__mana` são privados, pois possuem o prefixo \"\" em seus nomes. Isso significa que não podemos acessá-los diretamente, como no exemplo abaixo :"
   ]
  },
  {
   "cell_type": "code",
   "execution_count": null,
   "metadata": {},
   "outputs": [],
   "source": [
    "guerreiro = Personagem(\"Conan\", \"Guerreiro\", 10, 100, 0)\n",
    "print(guerreiro.__nome) # resultará em um erro, pois não é possível acessar diretamente"
   ]
  },
  {
   "attachments": {},
   "cell_type": "markdown",
   "metadata": {},
   "source": [
    "Para acessar esses atributos, é necessário criar métodos `getters` e `setters` específicos para a classe, como no exemplo abaixo :"
   ]
  },
  {
   "cell_type": "code",
   "execution_count": null,
   "metadata": {},
   "outputs": [],
   "source": [
    "class Personagem:\n",
    "    def __init__(self, nome, classe, nivel, vida, mana):\n",
    "        self.__nome = nome\n",
    "        self.__classe = classe\n",
    "        self.__nivel = nivel\n",
    "        self.__vida = vida\n",
    "        self.__mana = mana\n",
    "\n",
    "    def get_nome(self):\n",
    "        return self.__nome\n",
    "\n",
    "    def set_nome(self, novo_nome):\n",
    "        self.__nome = novo_nome"
   ]
  },
  {
   "attachments": {},
   "cell_type": "markdown",
   "metadata": {},
   "source": [
    "Dessa forma, é possível acessar e modificar os atributos privados através dos métodos específicos :"
   ]
  },
  {
   "cell_type": "code",
   "execution_count": null,
   "metadata": {},
   "outputs": [],
   "source": [
    "guerreiro = Personagem(\"Conan\", \"Guerreiro\", 10, 100, 0)\n",
    "print(guerreiro.get_nome()) # Imprime \"Conan\"\n",
    "guerreiro.set_nome(\"Arnold\")\n",
    "print(guerreiro.get_nome()) # Imprime \"Arnold\""
   ]
  },
  {
   "attachments": {},
   "cell_type": "markdown",
   "metadata": {},
   "source": [
    "Exemplo 1 : criando uma classe `Monstro` com atributos privados e métodos `get_vida` e `set_vida` :"
   ]
  },
  {
   "cell_type": "code",
   "execution_count": null,
   "metadata": {},
   "outputs": [],
   "source": [
    "class Monstro:\n",
    "    def __init__(self, nome, tipo, vida, dano):\n",
    "        self.__nome = nome\n",
    "        self.__tipo = tipo\n",
    "        self.__vida = vida\n",
    "        self.__dano = dano\n",
    "\n",
    "    def get_vida(self):\n",
    "        return self.__vida\n",
    "\n",
    "    def set_vida(self, nova_vida):\n",
    "        self.__vida = nova_vida\n",
    "\n",
    "goblin = Monstro(\"Goblin\", \"humanoide\", 20, 5)\n",
    "print(goblin.get_vida()) # Imprime 20\n",
    "goblin.set_vida(15)\n",
    "print(goblin.get_vida()) # Imprime 15\n"
   ]
  },
  {
   "attachments": {},
   "cell_type": "markdown",
   "metadata": {},
   "source": [
    "Nesta classe, os atributos `__nome`, `__tipo`, `__vida` e `__dano` são privados, o que significa que não podemos acessá-los diretamente. O atributo `__vida` só pode ser acessado apenas através dos métodos `get_vida` e `set_vida`."
   ]
  },
  {
   "attachments": {},
   "cell_type": "markdown",
   "metadata": {},
   "source": [
    "Exemplo 2 : criando uma classe `Item` com atributos privados e método `get_preco` :"
   ]
  },
  {
   "cell_type": "code",
   "execution_count": null,
   "metadata": {},
   "outputs": [],
   "source": [
    "class Item:\n",
    "    def __init__(self, nome, tipo, preco):\n",
    "        self.nome = nome\n",
    "        self.tipo = tipo\n",
    "        self.__preco = preco\n",
    "\n",
    "    def get_preco(self):\n",
    "        return self.__preco\n",
    "\n",
    "espada = Item(\"Espada Longa\", \"arma\", 100)\n",
    "print(espada.get_preco()) # Imprime 100"
   ]
  },
  {
   "attachments": {},
   "cell_type": "markdown",
   "metadata": {},
   "source": [
    "Nesta classe, o atributo `__preco` é privado, o que significa que não podemos acessá-lo diretamente, mas apenas através do método `get_preco`."
   ]
  },
  {
   "attachments": {},
   "cell_type": "markdown",
   "metadata": {},
   "source": [
    "## 6. Herança"
   ]
  },
  {
   "attachments": {},
   "cell_type": "markdown",
   "metadata": {},
   "source": [
    "Obviamente, uma característica da linguagem não seria digna do nome \"classe\" se não suportasse herança. A sintaxe para uma classe derivada é assim :"
   ]
  },
  {
   "cell_type": "code",
   "execution_count": null,
   "metadata": {},
   "outputs": [],
   "source": [
    "class NomeClasseDerivada(NomeClasseBase):\n",
    "    ..."
   ]
  },
  {
   "attachments": {},
   "cell_type": "markdown",
   "metadata": {},
   "source": [
    "O identificador `NomeClasseBase` deve estar definido no escopo que contém a definição da classe derivada. No lugar do nome da classe base, também são aceitas outras expressões. Isso é muito útil, por exemplo, quando a classe base é definida em outro módulo :"
   ]
  },
  {
   "cell_type": "code",
   "execution_count": null,
   "metadata": {},
   "outputs": [],
   "source": [
    "class NomeClasseDerivada(nome_modulo.NomeClasseBase):\n",
    "    ..."
   ]
  },
  {
   "attachments": {},
   "cell_type": "markdown",
   "metadata": {},
   "source": [
    "A execução de uma definição de classe derivada procede da mesma forma que a de uma classe base. Quando o objeto classe é construído, a classe base é lembrada. Isso é utilizado para resolver referências a atributos. Se um atributo requisitado não for encontrado na classe, ele é procurado na classe base. Essa regra é aplicada recursivamente se a classe base por sua vez for derivada de outra.\n",
    "\n",
    "Não há nada de especial sobre instanciação de classes derivadas: `NomeClasseDerivada()` cria uma nova instância da classe. Referências a métodos são resolvidas da seguinte forma: o atributo correspondente é procurado através da cadeia de classes base, e referências a métodos são válidas se essa procura produzir um objeto função.\n",
    "\n",
    "Classes derivadas podem sobrescrever métodos das suas classes base. Uma vez que métodos não possuem privilégios especiais quando invocam outros métodos no mesmo objeto, um método na classe base que invoca um outro método da mesma classe base pode, efetivamente, acabar invocando um método sobreposto por uma classe derivada. (Para programadores C++ isso significa que todos os métodos em Python são realmente **virtuais**).\n",
    "\n",
    "Um método sobrescrito em uma classe derivada, de fato, pode querer estender, em vez de simplesmente substituir, o método da classe base, de mesmo nome. Existe uma maneira simples de chamar diretamente o método da classe base: apenas chame `NomeClasseBase.nome_metodo(self, argumentos)`. Isso é geralmente útil para os clientes também. (Note que isto só funciona se a classe base estiver acessível como `NomeClasseBase` no escopo global)."
   ]
  },
  {
   "attachments": {},
   "cell_type": "markdown",
   "metadata": {},
   "source": [
    "Python tem duas funções **built-in** que trabalham com herança :\n",
    "- use `isinstance()` para verificar o tipo de uma instância : `isinstance(obj, int)` será **True** somente se `obj.__class__` é a classe [int](https://docs.python.org/pt-br/3/library/functions.html#int) ou alguma classe derivada de [int](https://docs.python.org/pt-br/3/library/functions.html#int).\n",
    "- use `issubclass()` para verificar herança entre classes : `issubclass(bool, int)` é **True** porque [bool](https://docs.python.org/pt-br/3/library/functions.html#bool) é uma subclasse de [int](https://docs.python.org/pt-br/3/library/functions.html#int). Porém, `issubclass(float, int)` é False porque [float](https://docs.python.org/pt-br/3/library/functions.html#float) não é uma subclasse de [int](https://docs.python.org/pt-br/3/library/functions.html#int)."
   ]
  },
  {
   "attachments": {},
   "cell_type": "markdown",
   "metadata": {},
   "source": [
    "### 5.1. Herança Múltipla"
   ]
  },
  {
   "attachments": {},
   "cell_type": "markdown",
   "metadata": {},
   "source": [
    "Python também suporta uma forma de herança múltipla. Uma definição de classe com várias classes bases tem esta forma :"
   ]
  },
  {
   "cell_type": "code",
   "execution_count": null,
   "metadata": {},
   "outputs": [],
   "source": [
    "class NomeClasseDerivada(Base1, Base2, Base3):\n",
    "    ..."
   ]
  },
  {
   "attachments": {},
   "cell_type": "markdown",
   "metadata": {},
   "source": [
    "Para a maioria dos casos mais simples, pense na pesquisa de atributos herdados de uma classe pai como o primeiro nível de profundidade, da esquerda para a direita, não pesquisando duas vezes na mesma classe em que há uma sobreposição na hierarquia. Assim, se um atributo não é encontrado em `NomeClasseDerivada`, é procurado em `Base1`, depois, recursivamente, nas classes base de `Base1`, e se não for encontrado lá, é pesquisado em `Base2` e assim por diante.\n",
    "\n",
    "De fato, é um pouco mais complexo que isso; a ordem de resolução de métodos muda dinamicamente para suportar chamadas cooperativas para [super()](https://docs.python.org/pt-br/3/library/functions.html#super). Essa abordagem é conhecida em outras linguagens de herança múltipla como chamar-o-próximo-método, e é mais poderosa que a chamada à função **super**, encontrada em linguagens de herança única.\n",
    "\n",
    "A ordenação dinâmica é necessária porque todos os casos de herança múltipla exibem um ou mais relacionamentos de diamante (em que pelo menos uma das classes pai pode ser acessada por meio de vários caminhos da classe mais inferior). Por exemplo, todas as classes herdam de [object](https://docs.python.org/pt-br/3/library/functions.html#object), portanto, qualquer caso de herança múltipla fornece mais de um caminho para alcançar [object](https://docs.python.org/pt-br/3/library/functions.html#object). Para evitar que as classes base sejam acessadas mais de uma vez, o algoritmo dinâmico lineariza a ordem de pesquisa, de forma a preservar a ordenação da esquerda para a direita, especificada em cada classe, que chama cada pai apenas uma vez, e que é monotônica (significando que uma classe pode ser subclassificada sem afetar a ordem de precedência de seus pais). Juntas, essas propriedades tornam possível projetar classes confiáveis e extensíveis com herança múltipla. Para mais detalhes, veja [aqui](https://www.python.org/download/releases/2.3/mro/)."
   ]
  },
  {
   "attachments": {},
   "cell_type": "markdown",
   "metadata": {},
   "source": [
    "## 7. Métodos Estáticos"
   ]
  },
  {
   "attachments": {},
   "cell_type": "markdown",
   "metadata": {},
   "source": [
    "O `@staticmethod` das classes são métodos que não precisam de uma instância da classe para serem chamados. Eles são definidos usando a decorator `@staticmethod` antes da declaração do método. Eles podem acessar apenas variáveis e métodos estáticos da classe.\n",
    "\n",
    "Aqui está um exemplo de como usar `@staticmethod` :"
   ]
  },
  {
   "cell_type": "code",
   "execution_count": null,
   "metadata": {},
   "outputs": [],
   "source": [
    "class MinhaClasse:\n",
    "    var_estatica = \"variavel estatica\"\n",
    "\n",
    "    @staticmethod\n",
    "    def metodo_estatico():\n",
    "        print(MinhaClasse.var_estatica)\n",
    "\n",
    "MinhaClasse.metodo_estatico()  # imprime \"variavel estatica\""
   ]
  },
  {
   "attachments": {},
   "cell_type": "markdown",
   "metadata": {},
   "source": [
    "Neste exemplo, o método `metodo_estatico` é definido como estático usando o decorador `@staticmethod`. Ele acessa a variável de classe `var_estatica` e imprime seu valor. Ele pode ser chamado diretamente a partir da classe, sem a necessidade de criar uma instância da classe.\n",
    "\n",
    "É importante notar que, diferente de métodos normais, os métodos estáticos não têm acesso às variáveis de instância e métodos da classe. Eles só podem acessar variáveis e métodos estáticos."
   ]
  },
  {
   "cell_type": "code",
   "execution_count": null,
   "metadata": {},
   "outputs": [],
   "source": [
    "class MinhaClasse:\n",
    "    var_estatica = \"variavel estatica\"\n",
    "    def __init__(self):\n",
    "        self.var_instancia = \"variavel de instancia\"\n",
    "\n",
    "    @staticmethod\n",
    "    def metodo_estatico():\n",
    "        print(MinhaClasse.var_estatica)\n",
    "        print(self.var_instancia)  # gera erro, pois self não é definido\n",
    "\n",
    "\n",
    "objeto = MinhaClasse()\n",
    "objeto.metodo_estatico()  "
   ]
  },
  {
   "attachments": {},
   "cell_type": "markdown",
   "metadata": {},
   "source": [
    "O exemplo acima gera um erro, pois o método estático não tem acesso à variáveis de instância."
   ]
  },
  {
   "attachments": {},
   "cell_type": "markdown",
   "metadata": {},
   "source": [
    "`@staticmethod` é um decorator em Python que é usado para definir um método estático dentro de uma classe. Um método estático é um método que não precisa de uma instância de uma classe para ser chamado. Em vez disso, eles são chamados diretamente a partir da classe.\n",
    "\n",
    "Os métodos estáticos são úteis quando você precisa de uma função que não precisa acessar as variáveis de instância ou os métodos da classe. Eles só têm acesso às variáveis e métodos estáticos da classe.\n",
    "\n",
    "Aqui está um exemplo de como usar `@staticmethod` :"
   ]
  },
  {
   "cell_type": "code",
   "execution_count": null,
   "metadata": {},
   "outputs": [],
   "source": [
    "class MinhaClasse:\n",
    "    var_estatica = \"variavel estatica\"\n",
    "\n",
    "    @staticmethod\n",
    "    def metodo_estatico():\n",
    "        print(MinhaClasse.var_estatica)\n",
    "\n",
    "MinhaClasse.metodo_estatico()  # imprime \"variavel estatica\""
   ]
  },
  {
   "attachments": {},
   "cell_type": "markdown",
   "metadata": {},
   "source": [
    "Neste exemplo, o método `metodo_estatico` é definido como estático usando o decorador `@staticmethod`. Ele acessa a variável de classe `var_estatica` e imprime seu valor. Ele pode ser chamado diretamente a partir da classe, sem a necessidade de criar uma instância da classe.\n",
    "\n",
    "Além disso, os métodos estáticos são geralmente usados para funções relacionadas à classe, como cálculos, conversões de unidades, etc., que não precisam de acesso aos dados de instância.\n",
    "\n",
    "É importante notar que, ao contrário dos métodos normais, os métodos estáticos não têm acesso às variáveis de instância e métodos da classe. Eles só podem acessar variáveis e métodos estáticos.\n",
    "\n",
    "Ao chamar um método estático, não é preciso criar uma instância da classe, o que pode ser útil para economizar recursos. Além disso, os métodos estáticos podem ser chamados diretamente a partir da classe, sem a necessidade de criar uma instância."
   ]
  },
  {
   "attachments": {},
   "cell_type": "markdown",
   "metadata": {},
   "source": [
    "Aqui temos um exemplo de como usar `@staticmethod` para criar uma calculadora simples :"
   ]
  },
  {
   "cell_type": "code",
   "execution_count": null,
   "metadata": {},
   "outputs": [],
   "source": [
    "class Calculadora:\n",
    "    @staticmethod\n",
    "    def soma(x, y):\n",
    "        return x + y\n",
    "\n",
    "    @staticmethod\n",
    "    def subtracao(x, y):\n",
    "        return x - y\n",
    "\n",
    "    @staticmethod\n",
    "    def multiplicacao(x, y):\n",
    "        return x * y\n",
    "\n",
    "    @staticmethod\n",
    "    def divisao(x, y):\n",
    "        if y == 0:\n",
    "            raise ValueError(\"Não é possível dividir por zero\")\n",
    "        return x / y\n",
    "\n",
    "# exemplos de uso\n",
    "print(Calculadora.soma(10, 5))  # imprime 15\n",
    "print(Calculadora.subtracao(10, 5))  # imprime 5\n",
    "print(Calculadora.multiplicacao(10, 5))  # imprime 50\n",
    "print(Calculadora.divisao(10, 5))  # imprime 2.0"
   ]
  },
  {
   "attachments": {},
   "cell_type": "markdown",
   "metadata": {},
   "source": [
    "Neste exemplo, a classe `Calculadora` define quatro métodos estáticos: `soma`, `subtracao`, `multiplicacao` e `divisao`. Cada um deles é definido como estático usando o decorador `@staticmethod`. Esses métodos podem ser chamados diretamente a partir da classe `Calculadora`, sem a necessidade de criar uma instância dela.\n",
    "\n",
    "Os exemplos mostram o uso desses métodos, passando dois argumentos para cada um deles, e imprimindo o resultado.\n",
    "\n",
    "É importante observar que, nesse exemplo, é tratado o caso de divisão por zero, que é uma operação inválida e gera erro, por isso é lançado um ValueError com uma mensagem de erro."
   ]
  },
  {
   "attachments": {},
   "cell_type": "markdown",
   "metadata": {},
   "source": [
    "A seguir, temos mais exemplos de `@staticmethods` :"
   ]
  },
  {
   "cell_type": "code",
   "execution_count": null,
   "metadata": {},
   "outputs": [],
   "source": [
    "class MinhaClasse:\n",
    "    x = [1, 2, 3]\n",
    "\n",
    "    @staticmethod\n",
    "    def metodo_estatico(a, b):\n",
    "        return a + b\n",
    "\n",
    "\n",
    "# Utilizando o método estático\n",
    "print(MinhaClasse.metodo_estatico(1, 2)) # 3\n",
    "\n",
    "# Criando uma instância da classe\n",
    "obj = MinhaClasse()\n",
    "\n",
    "# Utilizando o método estático através da instância\n",
    "print(obj.metodo_estatico(1, 2)) # 3"
   ]
  },
  {
   "attachments": {},
   "cell_type": "markdown",
   "metadata": {},
   "source": [
    "No exemplo acima, o método `metodo_estatico` é um método estático que soma dois números e retorna o resultado. Ele pode ser chamado diretamente pela classe ou por uma instância da classe, mas não tem acesso aos atributos ou métodos da classe."
   ]
  },
  {
   "cell_type": "code",
   "execution_count": null,
   "metadata": {},
   "outputs": [],
   "source": [
    "class MinhaClasse:\n",
    "    def __init__(self, valor):\n",
    "        self.valor = valor\n",
    "\n",
    "    @staticmethod\n",
    "    def metodo_estatico(parametro):\n",
    "        print(f'Este é um método estático e você passou o parâmetro {parametro}')\n",
    "\n",
    "# Criando uma instância da classe\n",
    "objeto = MinhaClasse(10)\n",
    "\n",
    "# Acessando o atributo da instância\n",
    "print(objeto.valor) # imprime 10\n",
    "\n",
    "# Acessando o método estático\n",
    "objeto.metodo_estatico(20) # imprime \"Este é um método estático e você passou o parâmetro 20\"\n",
    "MinhaClasse.metodo_estatico(30) # imprime \"Este é um método estático e você passou o parâmetro 30\""
   ]
  },
  {
   "attachments": {},
   "cell_type": "markdown",
   "metadata": {},
   "source": [
    "Existem várias funcionalidades do `@staticmethod`, mas basicamente ele é usado para definir um método que não precisa acessar nenhum atributo ou método da classe ou da instância. Este método é acessado diretamente pela classe e não precisa ser instanciado. Além disso, é possível acessar o método estático tanto através de uma instância da classe quanto diretamente pela classe."
   ]
  },
  {
   "attachments": {},
   "cell_type": "markdown",
   "metadata": {},
   "source": [
    "Aqui temos como exemplo o uso do `@staticmethod` em um jogo de RPG :"
   ]
  },
  {
   "cell_type": "code",
   "execution_count": null,
   "metadata": {},
   "outputs": [],
   "source": [
    "import random\n",
    "\n",
    "class JogoRPG:\n",
    "    def __init__(self, nome_jogador, classe_jogador):\n",
    "        self.nome_jogador = nome_jogador\n",
    "        self.classe_jogador = classe_jogador\n",
    "        self.vida_jogador = 100\n",
    "\n",
    "    def atacar(self, alvo):\n",
    "        dano = 20\n",
    "        alvo.vida_jogador -= dano\n",
    "        print(f\"{self.nome_jogador} atacou {alvo.nome_jogador} e causou {dano} de dano.\")\n",
    "\n",
    "    @staticmethod\n",
    "    def gerar_inimigo():\n",
    "        inimigos = [\"Orc\", \"Lobo\", \"Goblin\"]\n",
    "        inimigo_gerado = inimigos[random.randint(0, len(inimigos)-1)]\n",
    "        vida_inimigo = 50\n",
    "        return inimigo_gerado, vida_inimigo\n",
    "\n",
    "jogador1 = JogoRPG(\"Jogador 1\", \"Guerreiro\")\n",
    "jogador2 = JogoRPG(\"Jogador 2\", \"Mago\")\n",
    "\n",
    "inimigo, vida_inimigo = JogoRPG.gerar_inimigo()\n",
    "\n",
    "print(f\"Um inimigo {inimigo} foi gerado com {vida_inimigo} de vida.\")\n",
    "\n",
    "jogador1.atacar(jogador2)"
   ]
  },
  {
   "attachments": {},
   "cell_type": "markdown",
   "metadata": {},
   "source": [
    "Note que a função `gerar_inimigo` não precisa ser acessada via `self` e é chamada diretamente através da classe `JogoRPG`."
   ]
  },
  {
   "attachments": {},
   "cell_type": "markdown",
   "metadata": {},
   "source": [
    "## 8. Métodos de Classe"
   ]
  },
  {
   "attachments": {},
   "cell_type": "markdown",
   "metadata": {},
   "source": [
    "O `@classmethod` é um decorador em Python que indica que o método seguinte é um método de classe. Isso significa que o método é chamado em relação à classe e não em relação a uma instância da classe.\n",
    "\n",
    "Aqui está um exemplo de como usar `@classmethod` :"
   ]
  },
  {
   "cell_type": "code",
   "execution_count": null,
   "metadata": {},
   "outputs": [],
   "source": [
    "class MinhaClasse:\n",
    "    x = [1, 2, 3]\n",
    "\n",
    "    @classmethod\n",
    "    def modifica_x(cls, novo_valor):\n",
    "        cls.x.append(novo_valor)\n",
    "\n",
    "MinhaClasse.modifica_x(4)\n",
    "print(MinhaClasse.x) # [1, 2, 3, 4]"
   ]
  },
  {
   "attachments": {},
   "cell_type": "markdown",
   "metadata": {},
   "source": [
    "Neste exemplo, `modifica_x` é um método de classe e pode ser chamado diretamente a partir da classe, sem precisar criar uma instância. O primeiro argumento do método é geralmente chamado de `cls`, que se refere à própria classe e permite que o método acesse e modifique variáveis ​​de classe.\n",
    "\n",
    "É importante notar que, embora os métodos de classe sejam chamados diretamente na classe, eles ainda podem ser chamados a partir de uma instância da classe."
   ]
  },
  {
   "cell_type": "code",
   "execution_count": null,
   "metadata": {},
   "outputs": [],
   "source": [
    "obj = MinhaClasse()\n",
    "obj.modifica_x(5)\n",
    "print(obj.x) # [1, 2, 3, 4, 5]\n",
    "print(MinhaClasse.x) # [1, 2, 3, 4, 5]"
   ]
  },
  {
   "attachments": {},
   "cell_type": "markdown",
   "metadata": {},
   "source": [
    "Os métodos de classe são úteis quando você deseja fornecer um método que não precisa acessar o estado da instância, mas precisa acessar o estado da classe."
   ]
  },
  {
   "attachments": {},
   "cell_type": "markdown",
   "metadata": {},
   "source": [
    "O `@classmethod` é um decorador em Python que indica que o método seguinte é um método de classe. Os métodos de classe são diferentes dos métodos normais (ou métodos de instância) porque são chamados em relação à classe e não em relação a uma instância da classe. Isso significa que eles podem acessar e modificar variáveis ​​de classe, mas não podem acessar o estado de uma instância específica.\n",
    "\n",
    "Um exemplo comum de uso de `@classmethod` é a criação de um método de fábrica para a criação de novas instâncias da classe. Por exemplo :"
   ]
  },
  {
   "cell_type": "code",
   "execution_count": null,
   "metadata": {},
   "outputs": [],
   "source": [
    "class MinhaClasse:\n",
    "    def __init__(self, valor):\n",
    "        self.valor = valor\n",
    "\n",
    "    @classmethod\n",
    "    def cria_novo(cls, valor):\n",
    "        return cls(valor)\n",
    "\n",
    "obj = MinhaClasse.cria_novo(5)\n",
    "print(obj.valor) # 5"
   ]
  },
  {
   "attachments": {},
   "cell_type": "markdown",
   "metadata": {},
   "source": [
    "Aqui, o método de fábrica `cria_novo` é chamado diretamente na classe, mas cria e retorna uma nova instância da classe com o valor especificado.\n",
    "\n",
    "Outro exemplo é quando precisamos de um método que precisa acessar informações da classe, mas não precisa do estado de uma instância específica."
   ]
  },
  {
   "cell_type": "code",
   "execution_count": null,
   "metadata": {},
   "outputs": [],
   "source": [
    "class MinhaClasse:\n",
    "    x = [1, 2, 3]\n",
    "\n",
    "    @classmethod\n",
    "    def print_x(cls):\n",
    "        print(cls.x)\n",
    "\n",
    "MinhaClasse.print_x() # [1, 2, 3]"
   ]
  },
  {
   "attachments": {},
   "cell_type": "markdown",
   "metadata": {},
   "source": [
    "É importante notar que os métodos de classe podem ser chamados tanto na classe quanto em uma instância da classe, mas o primeiro argumento do método sempre será a classe em si, e não a instância.\n",
    "\n",
    "Além disso, os métodos de classe podem ser usados ​​com herança. Se uma subclasse herda de uma classe com um método de classe, o método de classe na subclasse irá acessar as variáveis ​​de classe da superclasse.\n",
    "\n",
    "Em resumo, os métodos de classe são úteis quando você deseja fornecer um método que não precisa acessar o estado de uma instância específica, mas precisa acessar o estado da classe."
   ]
  },
  {
   "attachments": {},
   "cell_type": "markdown",
   "metadata": {},
   "source": [
    "Segue um exemplo de uma calculadora :"
   ]
  },
  {
   "cell_type": "code",
   "execution_count": null,
   "metadata": {},
   "outputs": [],
   "source": [
    "class Calculadora:\n",
    "    def __init__(self, valor1, valor2):\n",
    "        self.valor1 = valor1\n",
    "        self.valor2 = valor2\n",
    "    \n",
    "    @classmethod\n",
    "    def soma(cls, valor1, valor2):\n",
    "        return valor1 + valor2\n",
    "\n",
    "    @classmethod\n",
    "    def subtracao(cls, valor1, valor2):\n",
    "        return valor1 - valor2\n",
    "\n",
    "    @classmethod\n",
    "    def multiplicacao(cls, valor1, valor2):\n",
    "        return valor1 * valor2\n",
    "\n",
    "    @classmethod\n",
    "    def divisao(cls, valor1, valor2):\n",
    "        return valor1 / valor2\n",
    "\n",
    "calculadora = Calculadora(10, 2)\n",
    "print(calculadora.soma()) # 12\n",
    "print(calculadora.subtracao()) # 8\n",
    "print(calculadora.multiplicacao()) # 20\n",
    "print(calculadora.divisao()) # 5.0"
   ]
  },
  {
   "attachments": {},
   "cell_type": "markdown",
   "metadata": {},
   "source": [
    "Note que os valores são passados como argumentos e não precisam ser acessados via `self`."
   ]
  },
  {
   "attachments": {},
   "cell_type": "markdown",
   "metadata": {},
   "source": [
    "Confira mais um exemplo abaixo :"
   ]
  },
  {
   "cell_type": "code",
   "execution_count": null,
   "metadata": {},
   "outputs": [],
   "source": [
    "class MinhaClasse:\n",
    "    x = [1, 2, 3]\n",
    "\n",
    "    @classmethod\n",
    "    def modifica_x(cls, novo_valor):\n",
    "        cls.x.append(novo_valor)\n",
    "\n",
    "# Criação de uma instância da classe\n",
    "obj = MinhaClasse()\n",
    "\n",
    "# Imprimindo o valor de x antes da modificação\n",
    "print(obj.x) # [1, 2, 3]\n",
    "\n",
    "# Utilizando o método modifica_x como método de classe\n",
    "MinhaClasse.modifica_x(4)\n",
    "\n",
    "# Imprimindo o valor de x depois da modificação\n",
    "print(obj.x) # [1, 2, 3, 4]\n",
    "\n",
    "# Acessando o valor de x através da instância\n",
    "print(obj.x) # [1, 2, 3, 4]"
   ]
  },
  {
   "attachments": {},
   "cell_type": "markdown",
   "metadata": {},
   "source": [
    "No exemplo acima, o método `modifica_x` é um método de classe que adiciona um novo valor à lista `x` da classe. Ele é chamado diretamente pela classe e modifica o valor de `x` para todas as instâncias da classe."
   ]
  },
  {
   "attachments": {},
   "cell_type": "markdown",
   "metadata": {},
   "source": [
    "Aqui está mais um exemplo que demonstra as funcionalidades do @classmethod :"
   ]
  },
  {
   "cell_type": "code",
   "execution_count": null,
   "metadata": {},
   "outputs": [],
   "source": [
    "class MinhaClasse:\n",
    "    def __init__(self, valor):\n",
    "        self.value = valor\n",
    "\n",
    "    @classmethod\n",
    "    def metodo_classe(cls):\n",
    "        print(\"Este é um método de classe.\")\n",
    "\n",
    "    @classmethod\n",
    "    def de_string(cls, string):\n",
    "        valor = int(string)\n",
    "        return cls(valor)\n",
    "\n",
    "    def metodo_instancia(self):\n",
    "        print(\"Este é um método de instância.\")\n",
    "\n",
    "# Criando uma instância de MinhaClasse\n",
    "obj = MinhaClasse(10)\n",
    "\n",
    "# Chamando um método de instância\n",
    "obj.metodo_instancia() # Saída : Este é um método de instância.\n",
    "\n",
    "# Chamando um método de classe\n",
    "obj.metodo_classe() # Saída : Este é um método de classe.\n",
    "MinhaClasse.metodo_classe() # Saída : Este é um método de classe.\n",
    "\n",
    "# Usando o método de classe para criar uma instância\n",
    "new_obj = MinhaClasse.de_string(\"20\")\n",
    "print(new_obj.value) # Saída : 20"
   ]
  },
  {
   "attachments": {},
   "cell_type": "markdown",
   "metadata": {},
   "source": [
    "Existem algumas coisas a serem observadas neste exemplo:\n",
    "\n",
    "- O decorador `@classmethod` é usado para definir um método de classe;\n",
    "- Os métodos de classe são chamados da mesma maneira que os métodos de instância, mas eles podem ser chamados diretamente na classe, sem precisar criar uma instância;\n",
    "- Os métodos de classe recebem um parâmetro adicional chamado `cls`, que é uma referência à própria classe. Isso permite que os métodos de classe acessem e modifiquem os atributos e métodos da classe;\n",
    "- O método `de_string` é um exemplo de como os métodos de classe podem ser usados para criar novas instâncias da classe, usando dados externos;"
   ]
  },
  {
   "attachments": {},
   "cell_type": "markdown",
   "metadata": {},
   "source": [
    "Aqui temos um exemplo de como os métodos de classe podem ser usados em um cenário de RPG :"
   ]
  },
  {
   "cell_type": "code",
   "execution_count": null,
   "metadata": {},
   "outputs": [],
   "source": [
    "class Jogador:\n",
    "    def __init__(self, nome, vida, ataque):\n",
    "        self.nome = nome\n",
    "        self.vida = vida\n",
    "        self.ataque = ataque\n",
    "\n",
    "    @classmethod\n",
    "    def cria_guerreiro(cls):\n",
    "        return cls(\"Guerreiro\", 100, 20)\n",
    "\n",
    "    @classmethod\n",
    "    def cria_mago(cls):\n",
    "        return cls(\"Mago\", 75, 30)\n",
    "\n",
    "    def leva_dano(self, dano):\n",
    "        self.vida -= dano\n",
    "\n",
    "    def ataca_inimigo(self, inimigo):\n",
    "        inimigo.leva_dano(self.ataque)\n",
    "\n",
    "# Criando um guerreiro e um mago usando métodos de classe\n",
    "guerreiro = Jogador.cria_guerreiro()\n",
    "mago = Jogador.cria_mago()\n",
    "\n",
    "# Atacando um inimigo\n",
    "guerreiro.ataca_inimigo(mago)\n",
    "print(f'{mago.vida = }') # Saída : mago.vida = 55"
   ]
  },
  {
   "attachments": {},
   "cell_type": "markdown",
   "metadata": {},
   "source": [
    "Neste exemplo, a classe `Jogador` tem três atributos: `nome`, `vida`, e `ataque`. Ela também tem dois métodos de classe, `cria_guerreiro` e `cria_mago`, que são usados para criar novas instâncias da classe com valores pré-definidos. Isso permite que o jogador crie personagens prontos para jogar sem precisar inserir manualmente todas as informações. Os métodos de instância `leva_dano` e `ataca_inimigo` são usados para simular combate no jogo."
   ]
  },
  {
   "attachments": {},
   "cell_type": "markdown",
   "metadata": {},
   "source": [
    "## 9. Métodos Mágicos"
   ]
  },
  {
   "attachments": {},
   "cell_type": "markdown",
   "metadata": {},
   "source": [
    "Os métodos mágicos do Python são uma espécie de ´atalhos´ de sintaxe que permitem que você customize a forma como seus objetos são tratados pelo interpretador Python. Esses métodos são identificados por nomes que começam e terminam com dois sublinhados, como `__init__` ou `__str__`.\n",
    "\n",
    "Por exemplo, o método `__init__` é usado para inicializar um objeto quando ele é criado. Ele é chamado automaticamente quando você cria uma nova instância de uma classe.\n",
    "\n",
    "O método `__str__` é usado para definir como um objeto deve ser representado como uma string. Ele é chamado quando você usa a função built-in `__str()__` para converter um objeto para uma string.\n",
    "\n",
    "Além disso, existem outros métodos mágicos, como `__add__` para personalizar como a operação de adição deve ser realizada entre objetos, `__len__` para personalizar como a função built-in `__len()__` deve funcionar para um objeto específico, entre outros."
   ]
  },
  {
   "attachments": {},
   "cell_type": "markdown",
   "metadata": {},
   "source": [
    "Os métodos mágicos do Python incluem :"
   ]
  },
  {
   "attachments": {},
   "cell_type": "markdown",
   "metadata": {},
   "source": [
    "- `__init__` : é usado para inicializar um objeto quando ele é criado. É chamado automaticamente quando você cria uma nova instância de uma classe;"
   ]
  },
  {
   "cell_type": "code",
   "execution_count": null,
   "metadata": {},
   "outputs": [],
   "source": [
    "class MinhaClasse:\n",
    "    def __init__(self, valor):\n",
    "        self.valor = valor\n",
    "\n",
    "objeto = MinhaClasse(5)\n",
    "print(objeto.valor) # imprime 5"
   ]
  },
  {
   "attachments": {},
   "cell_type": "markdown",
   "metadata": {},
   "source": [
    "- `__str__` : é usado para definir como um objeto deve ser representado como uma string. Ele é chamado quando você usa a função built-in `str()` para converter um objeto para uma string;"
   ]
  },
  {
   "cell_type": "code",
   "execution_count": null,
   "metadata": {},
   "outputs": [],
   "source": [
    "class MinhaClasse:\n",
    "    def __init__(self, valor):\n",
    "        self.valor = valor\n",
    "        \n",
    "    def __str__(self):\n",
    "        return 'Valor: ' + str(self.valor)\n",
    "\n",
    "objeto = MinhaClasse(5)\n",
    "print(str(objeto)) # imprime \"Valor: 5\""
   ]
  },
  {
   "attachments": {},
   "cell_type": "markdown",
   "metadata": {},
   "source": [
    "- `__repr__` : é usado para definir como um objeto deve ser representado como uma string de representação. Ele é chamado quando você usa a função built-in `repr()` para converter um objeto para uma string;"
   ]
  },
  {
   "cell_type": "code",
   "execution_count": null,
   "metadata": {},
   "outputs": [],
   "source": [
    "class MinhaClasse:\n",
    "    def __init__(self, valor):\n",
    "        self.valor = valor\n",
    "        \n",
    "    def __repr__(self):\n",
    "        return 'MinhaClasse({})'.format(self.valor)\n",
    "\n",
    "objeto = MinhaClasse(5)\n",
    "print(repr(objeto)) # imprime MinhaClasse(5)"
   ]
  },
  {
   "attachments": {},
   "cell_type": "markdown",
   "metadata": {},
   "source": [
    "- `__add__` : é usado para personalizar a operação de adição entre objetos. Ele é chamado quando você usa o operador `+` para adicionar dois objetos;"
   ]
  },
  {
   "cell_type": "code",
   "execution_count": null,
   "metadata": {},
   "outputs": [],
   "source": [
    "class MinhaClasse:\n",
    "    def __init__(self, valor):\n",
    "        self.valor = valor\n",
    "        \n",
    "    def __add__(self, outro_objeto):\n",
    "        return MinhaClasse(self.valor + outro_objeto.valor)\n",
    "\n",
    "objeto1 = MinhaClasse(5)\n",
    "objeto2 = MinhaClasse(10)\n",
    "resultado = objeto1 + objeto2\n",
    "print(resultado.valor) # imprime 15"
   ]
  },
  {
   "attachments": {},
   "cell_type": "markdown",
   "metadata": {},
   "source": [
    "- `__sub__` : é usado para personalizar a operação de subtração entre objetos. Ele é chamado quando você usa o operador `-` para subtrair dois objetos;"
   ]
  },
  {
   "cell_type": "code",
   "execution_count": null,
   "metadata": {},
   "outputs": [],
   "source": [
    "class MinhaClasse:\n",
    "    def __init__(self, valor):\n",
    "        self.valor = valor\n",
    "        \n",
    "    def __sub__(self, outro_objeto):\n",
    "        return MinhaClasse(self.valor - outro_objeto.valor)\n",
    "\n",
    "objeto1 = MinhaClasse(5)\n",
    "objeto2 = MinhaClasse(10)\n",
    "resultado = objeto1 - objeto2\n",
    "print(resultado.valor) # imprime -5"
   ]
  },
  {
   "attachments": {},
   "cell_type": "markdown",
   "metadata": {},
   "source": [
    "- `__mul__` : é usado para personalizar a operação de multiplicação entre objetos. Ele é chamado quando você usa o operador `*` para multiplicar dois objetos;"
   ]
  },
  {
   "cell_type": "code",
   "execution_count": null,
   "metadata": {},
   "outputs": [],
   "source": [
    "class MinhaClasse:\n",
    "    def __init__(self, valor):\n",
    "        self.valor = valor\n",
    "        \n",
    "    def __mul__(self, outro_objeto):\n",
    "        return MinhaClasse(self.valor * outro_objeto.valor)\n",
    "\n",
    "objeto1 = MinhaClasse(5)\n",
    "objeto2 = MinhaClasse(10)\n",
    "resultado = objeto1 * objeto2\n",
    "print(resultado.valor) # imprime 50"
   ]
  },
  {
   "attachments": {},
   "cell_type": "markdown",
   "metadata": {},
   "source": [
    "- `__truediv__` : é usado para personalizar a operação de divisão entre objetos. Ele é chamado quando você usa o operador `/` para dividir dois objetos;"
   ]
  },
  {
   "cell_type": "code",
   "execution_count": null,
   "metadata": {},
   "outputs": [],
   "source": [
    "class MinhaClasse:\n",
    "    def __init__(self, valor):\n",
    "        self.valor = valor\n",
    "        \n",
    "    def __truediv__(self, outro_objeto):\n",
    "        return MinhaClasse(self.valor / outro_objeto.valor)\n",
    "\n",
    "objeto1 = MinhaClasse(10)\n",
    "objeto2 = MinhaClasse(5)\n",
    "resultado = objeto1 / objeto2\n",
    "print(resultado.valor) # imprime 2.0"
   ]
  },
  {
   "attachments": {},
   "cell_type": "markdown",
   "metadata": {},
   "source": [
    "- `__floordiv__` : é usado para personalizar a operação de divisão inteira entre objetos. Ele é chamado quando você usa o operador `//` para dividir dois objetos;"
   ]
  },
  {
   "cell_type": "code",
   "execution_count": null,
   "metadata": {},
   "outputs": [],
   "source": [
    "class MinhaClasse:\n",
    "    def __init__(self, valor):\n",
    "        self.valor = valor\n",
    "        \n",
    "    def __floordiv__(self, outro_objeto):\n",
    "        return MinhaClasse(self.valor // outro_objeto.valor)\n",
    "\n",
    "objeto1 = MinhaClasse(10)\n",
    "objeto2 = MinhaClasse(5)\n",
    "resultado = objeto1 // objeto2\n",
    "print(resultado.valor) # imprime 2"
   ]
  },
  {
   "attachments": {},
   "cell_type": "markdown",
   "metadata": {},
   "source": [
    "- `__mod__` : é usado para personalizar a operação de módulo entre objetos. Ele é chamado quando você usa o operador `%` para obter o resto da divisão entre dois objetos;"
   ]
  },
  {
   "cell_type": "code",
   "execution_count": null,
   "metadata": {},
   "outputs": [],
   "source": [
    "class MinhaClasse:\n",
    "    def __init__(self, valor):\n",
    "        self.valor = valor\n",
    "        \n",
    "    def __mod__(self, outro_objeto):\n",
    "        return MinhaClasse(self.valor % outro_objeto.valor)\n",
    "\n",
    "objeto1 = MinhaClasse(10)\n",
    "objeto2 = MinhaClasse(5)\n",
    "resultado = objeto1 % objeto2\n",
    "print(resultado.valor) # imprime 0"
   ]
  },
  {
   "attachments": {},
   "cell_type": "markdown",
   "metadata": {},
   "source": [
    "- `__pow__` : é usado para personalizar a operação de exponenciação entre objetos. Ele é chamado quando você usa o operador `**` para elevar um objeto a uma potência;"
   ]
  },
  {
   "cell_type": "code",
   "execution_count": null,
   "metadata": {},
   "outputs": [],
   "source": [
    "class MinhaClasse:\n",
    "    def __init__(self, valor):\n",
    "        self.valor = valor\n",
    "        \n",
    "    def __pow__(self, outro_objeto):\n",
    "        return MinhaClasse(self.valor ** outro_objeto.valor)\n",
    "\n",
    "objeto1 = MinhaClasse(2)\n",
    "objeto2 = MinhaClasse(3)\n",
    "resultado = objeto1 ** objeto2\n",
    "print(resultado.valor) # imprime 8"
   ]
  },
  {
   "attachments": {},
   "cell_type": "markdown",
   "metadata": {},
   "source": [
    "- `__len__` : é usado para personalizar a função built-in `len()` para um objeto específico. Ele é chamado quando você usa a função `len()` para obter o comprimento de um objeto;"
   ]
  },
  {
   "cell_type": "code",
   "execution_count": null,
   "metadata": {},
   "outputs": [],
   "source": [
    "class MinhaClasse:\n",
    "    def __init__(self, valores):\n",
    "        self.valores = valores\n",
    "        \n",
    "    def __len__(self):\n",
    "        return len(self.valores)\n",
    "\n",
    "objeto = MinhaClasse([1,2,3,4,5])\n",
    "print(len(objeto)) # imprime 5"
   ]
  },
  {
   "attachments": {},
   "cell_type": "markdown",
   "metadata": {},
   "source": [
    "- `__getitem__` : é usado para personalizar o acesso a itens em um objeto. Ele é chamado quando você usa o operador `[]` para acessar um item em um objeto;"
   ]
  },
  {
   "cell_type": "code",
   "execution_count": null,
   "metadata": {},
   "outputs": [],
   "source": [
    "class MinhaClasse:\n",
    "    def __init__(self, valores):\n",
    "        self.valores = valores\n",
    "        \n",
    "    def __getitem__(self, indice):\n",
    "        return self.valores[indice]\n",
    "\n",
    "objeto = MinhaClasse([1,2,3])\n",
    "print(objeto[1]) # imprime 2"
   ]
  },
  {
   "attachments": {},
   "cell_type": "markdown",
   "metadata": {},
   "source": [
    "- `__setitem__` : é usado para personalizar a atribuição de valores a itens em um objeto. Ele é chamado quando você usa o operador `[]` para atribuir um item em um objeto;"
   ]
  },
  {
   "cell_type": "code",
   "execution_count": null,
   "metadata": {},
   "outputs": [],
   "source": [
    "class MinhaClasse:\n",
    "    def __init__(self, valores):\n",
    "        self.valores = valores\n",
    "        \n",
    "    def __setitem__(self, indice, valor):\n",
    "        self.valores[indice] = valor\n",
    "\n",
    "objeto = MinhaClasse([1,2,3])\n",
    "objeto[1] = 4\n",
    "print(objeto.valores) # imprime [1, 4, 3]"
   ]
  },
  {
   "attachments": {},
   "cell_type": "markdown",
   "metadata": {},
   "source": [
    "- `__delitem__` : é usado para personalizar a remoção de itens em um objeto. Ele é chamado quando você usa a instrução `del` para remover um item de um objeto;"
   ]
  },
  {
   "cell_type": "code",
   "execution_count": null,
   "metadata": {},
   "outputs": [],
   "source": [
    "class MinhaClasse:\n",
    "    def __init__(self, valores):\n",
    "        self.valores = valores\n",
    "        \n",
    "    def __delitem__(self, indice):\n",
    "        del self.valores[indice]\n",
    "\n",
    "objeto = MinhaClasse([1,2,3])\n",
    "del objeto[1]\n",
    "print(objeto.valores) # imprime [1, 3]"
   ]
  },
  {
   "attachments": {},
   "cell_type": "markdown",
   "metadata": {},
   "source": [
    "- `__iter__` : é usado para personalizar a iteração sobre um objeto. Ele é chamado quando você usa o operador `in` ou a instrução `for` para iterar sobre um objeto;"
   ]
  },
  {
   "cell_type": "code",
   "execution_count": null,
   "metadata": {},
   "outputs": [],
   "source": [
    "class MinhaClasse:\n",
    "    def __init__(self, valores):\n",
    "        self.valores = valores\n",
    "        self.indice = 0\n",
    "        \n",
    "    def __iter__(self):\n",
    "        return self\n",
    "    \n",
    "    def __next__(self):\n",
    "        if self.indice >= len(self.valores):\n",
    "            raise StopIteration\n",
    "        result = self.valores[self.indice]\n",
    "        self.indice += 1\n",
    "        return result\n",
    "\n",
    "objeto = MinhaClasse([1,2,3])\n",
    "for valor in objeto:\n",
    "    print(valor)\n",
    "# imprime 1\n",
    "# imprime 2\n",
    "# imprime 3"
   ]
  },
  {
   "attachments": {},
   "cell_type": "markdown",
   "metadata": {},
   "source": [
    "- `__next__` : é usado para personalizar a obtenção do próximo item em uma iteração. Ele é chamado quando você usa a função `next()` para obter o próximo item de um objeto;"
   ]
  },
  {
   "cell_type": "code",
   "execution_count": null,
   "metadata": {},
   "outputs": [],
   "source": [
    "class MinhaClasse:\n",
    "    def __init__(self, valores):\n",
    "        self.valores = valores\n",
    "        self.indice = 0\n",
    "        \n",
    "    def __iter__(self):\n",
    "        return self\n",
    "    \n",
    "    def __next__(self):\n",
    "        if self.indice >= len(self.valores):\n",
    "            raise StopIteration\n",
    "        result = self.valores[self.indice]\n",
    "        self.indice += 1\n",
    "        return result\n",
    "\n",
    "objeto = MinhaClasse([1,2,3])\n",
    "iterador = iter(objeto)\n",
    "print(next(iterador)) # imprime 1\n",
    "print(next(iterador)) # imprime 2\n",
    "print(next(iterador)) # imprime 3"
   ]
  },
  {
   "attachments": {},
   "cell_type": "markdown",
   "metadata": {},
   "source": [
    "- `__call__` : é usado para personalizar a chamada de um objeto como uma função. Ele é chamado quando você usa parenteses `()` para chamar um objeto como se fosse uma função;"
   ]
  },
  {
   "cell_type": "code",
   "execution_count": null,
   "metadata": {},
   "outputs": [],
   "source": [
    "class MinhaClasse:\n",
    "    def __init__(self, valor):\n",
    "        self.valor = valor\n",
    "        \n",
    "    def __call__(self, novo_valor):\n",
    "        self.valor = novo_valor\n",
    "\n",
    "objeto = MinhaClasse(5)\n",
    "objeto(10)\n",
    "print(objeto.valor) # imprime 10"
   ]
  },
  {
   "attachments": {},
   "cell_type": "markdown",
   "metadata": {},
   "source": [
    "- `__getattr__` : é usado para personalizar o acesso a atributos de um objeto. Ele é chamado quando você tenta acessar um atributo que não existe em um objeto;"
   ]
  },
  {
   "cell_type": "code",
   "execution_count": null,
   "metadata": {},
   "outputs": [],
   "source": [
    "class MinhaClasse:\n",
    "    def __init__(self, valor):\n",
    "        self.valor = valor\n",
    "        \n",
    "    def __getattr__(self, name):\n",
    "        if name == 'valor_dobrado':\n",
    "            return self.valor * 2\n",
    "        else:\n",
    "            raise AttributeError\n",
    "\n",
    "objeto = MinhaClasse(5)\n",
    "print(objeto.valor_dobrado) # imprime 10"
   ]
  },
  {
   "attachments": {},
   "cell_type": "markdown",
   "metadata": {},
   "source": [
    "- `__setattr__` : é usado para personalizar a atribuição de valores a atributos de um objeto. Ele é chamado quando você usa o operador `=` para atribuir um valor a um atributo de um objeto;"
   ]
  },
  {
   "cell_type": "code",
   "execution_count": null,
   "metadata": {},
   "outputs": [],
   "source": [
    "class MinhaClasse:\n",
    "    def __init__(self):\n",
    "        self.valor = None\n",
    "        \n",
    "    def __setattr__(self, name, value):\n",
    "        if name == 'valor':\n",
    "            value = value * 2\n",
    "        super().__setattr__(name, value)\n",
    "\n",
    "objeto = MinhaClasse()\n",
    "objeto.valor = 5\n",
    "print(objeto.valor) # imprime 10"
   ]
  },
  {
   "attachments": {},
   "cell_type": "markdown",
   "metadata": {},
   "source": [
    "- `__delattr__` : é usado para personalizar a remoção de atributos de um objeto. Ele é chamado quando você usa a instrução `del` para remover um atributo de um objeto;"
   ]
  },
  {
   "cell_type": "code",
   "execution_count": null,
   "metadata": {},
   "outputs": [],
   "source": [
    "class MinhaClasse:\n",
    "    def __init__(self, valor):\n",
    "        self.valor = valor\n",
    "        \n",
    "    def __delattr__(self, name):\n",
    "        if name == 'valor':\n",
    "            print('Não é possível deletar o atributo valor')\n",
    "        else:\n",
    "            super().__delattr__(name)\n",
    "\n",
    "objeto = MinhaClasse(5)\n",
    "del objeto.valor # imprime \"Não é possível deletar o atributo valor\""
   ]
  },
  {
   "attachments": {},
   "cell_type": "markdown",
   "metadata": {},
   "source": [
    "- `__eq__` : é usado para personalizar a comparação de igualdade entre objetos. Ele é chamado quando você usa o operador `==` para comparar dois objetos;"
   ]
  },
  {
   "cell_type": "code",
   "execution_count": null,
   "metadata": {},
   "outputs": [],
   "source": [
    "class MinhaClasse:\n",
    "    def __init__(self, valor):\n",
    "        self.valor = valor\n",
    "        \n",
    "    def __eq__(self, outro_objeto):\n",
    "        return self.valor == outro_objeto.valor\n",
    "\n",
    "objeto1 = MinhaClasse(5)\n",
    "objeto2 = MinhaClasse(5)\n",
    "resultado = objeto1 == objeto2\n",
    "print(resultado) # imprime True"
   ]
  },
  {
   "attachments": {},
   "cell_type": "markdown",
   "metadata": {},
   "source": [
    "- `__lt__` : é usado para personalizar a comparação `menor que` entre objetos. Ele é chamado quando você usa o operador `<` para comparar dois objetos;"
   ]
  },
  {
   "cell_type": "code",
   "execution_count": null,
   "metadata": {},
   "outputs": [],
   "source": [
    "class MinhaClasse:\n",
    "    def __init__(self, valor):\n",
    "        self.valor = valor\n",
    "        \n",
    "    def __lt__(self, outro_objeto):\n",
    "        return self.valor < outro_objeto.valor\n",
    "\n",
    "objeto1 = MinhaClasse(5)\n",
    "objeto2 = MinhaClasse(10)\n",
    "resultado = objeto1 < objeto2\n",
    "print(resultado) # imprime True"
   ]
  },
  {
   "attachments": {},
   "cell_type": "markdown",
   "metadata": {},
   "source": [
    "- `__le__` : é usado para personalizar a comparação `menor ou igual` entre objetos. Ele é chamado quando você usa o operador `<=` para comparar dois objetos;"
   ]
  },
  {
   "cell_type": "code",
   "execution_count": null,
   "metadata": {},
   "outputs": [],
   "source": [
    "class MinhaClasse:\n",
    "    def __init__(self, valor):\n",
    "        self.valor = valor\n",
    "        \n",
    "    def __le__(self, outro_objeto):\n",
    "        return self.valor <= outro_objeto.valor\n",
    "\n",
    "objeto1 = MinhaClasse(5)\n",
    "objeto2 = MinhaClasse(10)\n",
    "resultado = objeto1 <= objeto2\n",
    "print(resultado) # imprime True"
   ]
  },
  {
   "attachments": {},
   "cell_type": "markdown",
   "metadata": {},
   "source": [
    "- `__gt__` : é usado para personalizar a comparação `maior que` entre objetos. Ele é chamado quando você usa o operador `>` para comparar dois objetos;"
   ]
  },
  {
   "cell_type": "code",
   "execution_count": null,
   "metadata": {},
   "outputs": [],
   "source": [
    "class MinhaClasse:\n",
    "    def __init__(self, valor):\n",
    "        self.valor = valor\n",
    "        \n",
    "    def __gt__(self, outro_objeto):\n",
    "        return self.valor > outro_objeto.valor\n",
    "\n",
    "objeto1 = MinhaClasse(10)\n",
    "objeto2 = MinhaClasse(5)\n",
    "resultado = objeto1 > objeto2\n",
    "print(resultado) # imprime True"
   ]
  },
  {
   "attachments": {},
   "cell_type": "markdown",
   "metadata": {},
   "source": [
    "- `__ge__` : é usado para personalizar a comparação `maior ou igual` entre objetos. Ele é chamado quando você usa o operador `>=` para comparar dois objetos;"
   ]
  },
  {
   "cell_type": "code",
   "execution_count": null,
   "metadata": {},
   "outputs": [],
   "source": [
    "class MinhaClasse:\n",
    "    def __init__(self, valor):\n",
    "        self.valor = valor\n",
    "        \n",
    "    def __ge__(self, outro_objeto):\n",
    "        return self.valor >= outro_objeto.valor\n",
    "\n",
    "objeto1 = MinhaClasse(10)\n",
    "objeto2 = MinhaClasse(5)\n",
    "resultado = objeto1 >= objeto2\n",
    "print(resultado) # imprime True"
   ]
  },
  {
   "attachments": {},
   "cell_type": "markdown",
   "metadata": {},
   "source": [
    "Esses são alguns dos métodos mágicos mais comuns do Python, mas há outros. É importante ter em mente que esses métodos geralmente não devem ser chamados diretamente, mas sim sobrescritos e usados pelo interpretador Python automaticamente em determinadas situações.\n",
    "\n",
    "Além disso, existem também métodos mágicos que são específicos para classes de tipos específicos, como métodos mágicos para classes de números inteiros, métodos mágicos para classes de sequências, métodos mágicos para classes de contêineres, entre outros.\n",
    "\n",
    "É importante notar que o uso excessivo de métodos mágicos pode tornar seu código mais difícil de entender e manter, então é recomendado usá-los com moderação e apenas quando necessário."
   ]
  },
  {
   "attachments": {},
   "cell_type": "markdown",
   "metadata": {},
   "source": [
    "## 10. Polimorfismo"
   ]
  },
  {
   "attachments": {},
   "cell_type": "markdown",
   "metadata": {},
   "source": [
    "`Polimorfismo` é uma característica da programação orientada a objetos que permite que objetos de diferentes classes sejam tratados como objetos de uma classe base comum. Isso significa que uma chamada de método pode ser feita em um objeto sem saber sua classe específica.\n",
    "\n",
    "Exemplo 1:"
   ]
  },
  {
   "cell_type": "code",
   "execution_count": null,
   "metadata": {},
   "outputs": [],
   "source": [
    "class Animal:\n",
    "    def __init__(self, nome):\n",
    "        self.nome = nome\n",
    "\n",
    "    def falar(self):\n",
    "        pass\n",
    "\n",
    "class Cachorro(Animal):\n",
    "    def falar(self):\n",
    "        return \"Au au\"\n",
    "\n",
    "class Gato(Animal):\n",
    "    def falar(self):\n",
    "        return \"Miau\"\n",
    "\n",
    "animais = [Cachorro(\"Bobby\"), Gato(\"Tom\")]\n",
    "\n",
    "for animal in animais:\n",
    "    print(animal.falar())"
   ]
  },
  {
   "attachments": {},
   "cell_type": "markdown",
   "metadata": {},
   "source": [
    "Neste exemplo, a classe `Animal` é a classe base comum e as classes `Cachorro` e `Gato` são classes derivadas. Ambos os objetos `Cachorro` e `Gato` herdam o método `falar()` da classe base `Animal`, mas cada um tem uma implementação diferente. Quando o loop é executado, o método `falar()` é chamado em cada objeto sem saber sua classe específica, mas a implementação correta é chamada de acordo com a classe do objeto."
   ]
  },
  {
   "attachments": {},
   "cell_type": "markdown",
   "metadata": {},
   "source": [
    "O polimorfismo permite que os objetos de diferentes classes sejam tratados de maneira semelhante, o que aumenta a reutilização de código e facilita a manutenção do código. Isso é especialmente útil quando você tem uma lista de objetos de diferentes classes e deseja iterar sobre eles, chamando um método comum, sem precisar saber a classe específica de cada objeto.\n",
    "\n",
    "Exemplo 2:"
   ]
  },
  {
   "cell_type": "code",
   "execution_count": null,
   "metadata": {},
   "outputs": [],
   "source": [
    "class Forma:\n",
    "    def area(self):\n",
    "        pass\n",
    "\n",
    "class Quadrado(Forma):\n",
    "    def __init__(self, lado):\n",
    "        self.lado = lado\n",
    "    def area(self):\n",
    "        return self.lado * self.lado\n",
    "\n",
    "class Circulo(Forma):\n",
    "    def __init__(self, raio):\n",
    "        self.raio = raio\n",
    "    def area(self):\n",
    "        return 3.14 * (self.raio ** 2)\n",
    "\n",
    "formas = [Quadrado(10), Circulo(5)]\n",
    "\n",
    "for forma in formas:\n",
    "    print(forma.area())"
   ]
  },
  {
   "attachments": {},
   "cell_type": "markdown",
   "metadata": {},
   "source": [
    "Neste exemplo, a classe `Forma` é a classe base comum e as classes `Quadrado` e `Circulo` são classes derivadas. Ambos os objetos `Quadrado` e `Circulo` herdam o método `area()` da classe base `Forma`, mas cada um tem uma implementação diferente. Quando o loop é executado, o método `area()` é chamado em cada objeto sem saber sua classe específica, mas a implementação correta é chamada de acordo com a classe do objeto.\n",
    "\n",
    "Exemplo 3:"
   ]
  },
  {
   "cell_type": "code",
   "execution_count": null,
   "metadata": {},
   "outputs": [],
   "source": [
    "class Veiculo:\n",
    "    def __init__(self, marca):\n",
    "        self.marca = marca\n",
    "\n",
    "    def andar(self):\n",
    "        pass\n",
    "\n",
    "class Carro(Veiculo):\n",
    "    def andar(self):\n",
    "        return \"O carro da marca {} está andando\".format(self.marca)\n",
    "\n",
    "class Moto(Veiculo):\n",
    "    def andar(self):\n",
    "        return \"A moto da marca {} está andando\".format(self.marca)\n",
    "\n",
    "veiculos = [Carro(\"Ford\"), Moto(\"Yamaha\")]\n",
    "\n",
    "for veiculo in veiculos:\n",
    "    print(veiculo.andar())"
   ]
  },
  {
   "attachments": {},
   "cell_type": "markdown",
   "metadata": {},
   "source": [
    "Neste exemplo, a classe `Veiculo` é a classe base comum e as classes `Carro` e `Moto` são classes derivadas. Ambos os objetos `Carro` e `Moto` herdam o método `andar()` da classe base `Veiculo`, mas cada um tem uma implementação diferente. Quando o loop é executado, o método `andar()` é chamado em cada objeto sem saber sua classe específica, mas a implementação correta é chamada de acordo com a classe do objeto."
   ]
  },
  {
   "attachments": {},
   "cell_type": "markdown",
   "metadata": {},
   "source": [
    "Esses exemplos ilustram como o polimorfismo permite que os objetos de diferentes classes sejam tratados de maneira semelhante, o que aumenta a reutilização de código e facilita a manutenção do código."
   ]
  },
  {
   "attachments": {},
   "cell_type": "markdown",
   "metadata": {},
   "source": [
    "Mais alguns exemplos usando o RPG :"
   ]
  },
  {
   "cell_type": "code",
   "execution_count": null,
   "metadata": {},
   "outputs": [],
   "source": [
    "class Personagem:\n",
    "    def __init__(self, nome):\n",
    "        self.nome = nome\n",
    "        self.vida = 100\n",
    "        self.mana = 50\n",
    "\n",
    "    def atacar(self):\n",
    "        pass\n",
    "\n",
    "class Guerreiro(Personagem):\n",
    "    def atacar(self):\n",
    "        return f\"{self.nome} ataca com sua espada.\"\n",
    "\n",
    "class Mago(Personagem):\n",
    "    def atacar(self):\n",
    "        return f\"{self.nome} lança um feitiço.\"\n",
    "\n",
    "personagens = [Guerreiro(\"Conan\"), Mago(\"Gandalf\")]\n",
    "\n",
    "for personagem in personagens:\n",
    "    print(personagem.atacar())"
   ]
  },
  {
   "attachments": {},
   "cell_type": "markdown",
   "metadata": {},
   "source": [
    "Neste exemplo, a classe `Personagem` é a classe base comum e as classes `Guerreiro` e `Mago` são classes derivadas. Ambos os objetos `Guerreiro` e `Mago` herdam o método `atacar()` da classe base `Personagem`, mas cada um tem uma implementação diferente. Quando o loop é executado, o método `atacar()` é chamado em cada objeto sem saber sua classe específica, mas a implementação correta é chamada de acordo com a classe do objeto.\n",
    "\n",
    "Outro exemplo :"
   ]
  },
  {
   "cell_type": "code",
   "execution_count": null,
   "metadata": {},
   "outputs": [],
   "source": [
    "class Arma:\n",
    "    def __init__(self, nome, dano):\n",
    "        self.nome = nome\n",
    "        self.dano = dano\n",
    "\n",
    "    def atacar(self):\n",
    "        pass\n",
    "\n",
    "class Espada(Arma):\n",
    "    def atacar(self):\n",
    "        return f\"Ataque com {self.nome} causando {self.dano} de dano.\"\n",
    "\n",
    "class Arco(Arma):\n",
    "    def atacar(self):\n",
    "        return f\"Ataque com {self.nome} causando {self.dano} de dano.\"\n",
    "\n",
    "armas = [Espada(\"Excalibur\", 50), Arco(\"Longbow\", 40)]\n",
    "\n",
    "for arma in armas:\n",
    "    print(arma.atacar())"
   ]
  },
  {
   "attachments": {},
   "cell_type": "markdown",
   "metadata": {},
   "source": [
    "Neste exemplo, a classe `Arma` é a classe base comum e as classes `Espada` e `Arco` são classes derivadas. Ambos os objetos `Espada` e `Arco` herdam o método `atacar()` da classe base `Arma`, mas cada um tem uma implementação diferente. Quando o loop é executado, o método `atacar()` é chamado em cada objeto sem saber sua classe específica, mas a implementação correta é chamada de acordo com a classe do objeto."
   ]
  },
  {
   "attachments": {},
   "cell_type": "markdown",
   "metadata": {},
   "source": [
    "Esses exemplos ilustram como o polimorfismo pode ser usado para criar jogos RPG mais complexos, onde personagens e armas possuem habilidades e características diferentes. O polimorfismo permite que esses objetos sejam tratados de maneira semelhante, permitindo que o jogador interaja com eles de forma genérica, sem precisar saber sua classe específica. Isso também facilita a implementação de novos personagens e armas no jogo, pois eles podem herdar as características e métodos básicos da classe base e adicionar suas próprias características e métodos específicos."
   ]
  },
  {
   "attachments": {},
   "cell_type": "markdown",
   "metadata": {},
   "source": [
    "## 11. Sobrecarga"
   ]
  },
  {
   "attachments": {},
   "cell_type": "markdown",
   "metadata": {},
   "source": [
    "A `sobrecarga` de operadores é uma técnica em Python que permite aos desenvolvedores definir como os operadores (+, -, *, etc.) funcionam com diferentes tipos de dados. Isso é feito através de métodos especiais chamados `magic methods` ou `dunder methods` (dunder é uma abreviação de `double underscore`)."
   ]
  },
  {
   "attachments": {},
   "cell_type": "markdown",
   "metadata": {},
   "source": [
    "Por exemplo, imagine que você tem uma classe chamada `Vetor2D` que representa um vetor com uma coordenada `x` e uma coordenada `y`. Você pode querer sobrecarregar o operador `+` para somar dois vetores juntos. Isso é feito através do método mágico `__add__`. Aqui está um exemplo de como fazer isso:"
   ]
  },
  {
   "cell_type": "code",
   "execution_count": null,
   "metadata": {},
   "outputs": [],
   "source": [
    "class Vetor2D:\n",
    "    def __init__(self, x, y):\n",
    "        self.x = x\n",
    "        self.y = y\n",
    "\n",
    "    def __add__(self, outro_vetor):\n",
    "        x = self.x + outro_vetor.x\n",
    "        y = self.y + outro_vetor.y\n",
    "        return Vetor2D(x, y)\n",
    "\n",
    "v1 = Vetor2D(1, 2)\n",
    "v2 = Vetor2D(3, 4)\n",
    "v3 = v1 + v2\n",
    "print(v3.x)  # imprime 4\n",
    "print(v3.y)  # imprime 6"
   ]
  },
  {
   "attachments": {},
   "cell_type": "markdown",
   "metadata": {},
   "source": [
    "No exemplo acima, quando você escreve `v1 + v2`, o Python automaticamente chama o método `__add__` na classe `Vetor2D`, passando `v1` como o primeiro argumento e `v2` como o segundo. Dentro do método `__add__`, você pode definir como os dois vetores devem ser somados juntos. No caso acima, estamos simplesmente adicionando as coordenadas `x` e `y` de cada vetor."
   ]
  },
  {
   "attachments": {},
   "cell_type": "markdown",
   "metadata": {},
   "source": [
    "Além de `__add__`, existem outros métodos mágicos que você pode sobrecarregar para diferentes operadores, incluindo:\n",
    "\n",
    "- `__sub__` para o operador `-`;\n",
    "- `__mul__` para o operador `*`;\n",
    "- `__truediv__` para o operador `/`;\n",
    "- `__eq__` para o operador `==`;\n",
    "- `__lt__` para o operador `<`;\n",
    "- `__len__` para a função built-in `len()`;\n",
    "\n",
    "É importante notar que a sobrecarga de operadores não é apenas para tipos de dados personalizados, mas também pode ser usada para tipos de dados built-in do python como `list`, `dict`, e etc."
   ]
  },
  {
   "attachments": {},
   "cell_type": "markdown",
   "metadata": {},
   "source": [
    "Aqui estão alguns exemplos adicionais de sobrecarga de operadores em Python :"
   ]
  },
  {
   "attachments": {},
   "cell_type": "markdown",
   "metadata": {},
   "source": [
    "- Sobrecarga do operador `*` para multiplicação escalar :"
   ]
  },
  {
   "cell_type": "code",
   "execution_count": null,
   "metadata": {},
   "outputs": [],
   "source": [
    "class Vetor2D:\n",
    "    def __init__(self, x, y):\n",
    "        self.x = x\n",
    "        self.y = y\n",
    "\n",
    "    def __mul__(self, escalar):\n",
    "        x = self.x * escalar\n",
    "        y = self.y * escalar\n",
    "        return Vetor2D(x, y)\n",
    "\n",
    "v = Vetor2D(1, 2)\n",
    "v_escalado = v * 3\n",
    "print(v_escalado.x)  # imprime 3\n",
    "print(v_escalado.y)  # imprime 6"
   ]
  },
  {
   "attachments": {},
   "cell_type": "markdown",
   "metadata": {},
   "source": [
    "- Sobrecarga do operador `==` para comparação de igualdade :"
   ]
  },
  {
   "cell_type": "code",
   "execution_count": null,
   "metadata": {},
   "outputs": [],
   "source": [
    "class Pessoa:\n",
    "    def __init__(self, nome, idade):\n",
    "        self.nome = nome\n",
    "        self.idade = idade\n",
    "\n",
    "    def __eq__(self, outra_pessoa):\n",
    "        return self.nome == outra_pessoa.nome and self.idade == outra_pessoa.idade\n",
    "\n",
    "p1 = Pessoa(\"John\", 30)\n",
    "p2 = Pessoa(\"John\", 30)\n",
    "p3 = Pessoa(\"Jane\", 25)\n",
    "print(p1 == p2)  # imprime True\n",
    "print(p1 == p3)  # imprime False"
   ]
  },
  {
   "attachments": {},
   "cell_type": "markdown",
   "metadata": {},
   "source": [
    "- Sobrecarga da função `len()` para retornar o tamanho de uma lista personalizada :"
   ]
  },
  {
   "cell_type": "code",
   "execution_count": null,
   "metadata": {},
   "outputs": [],
   "source": [
    "class MinhaLista:\n",
    "    def __init__(self, itens):\n",
    "        self.itens = itens\n",
    "\n",
    "    def __len__(self):\n",
    "        return len(self.itens)\n",
    "\n",
    "ml = MinhaLista([1, 2, 3, 4, 5])\n",
    "print(len(ml))  # imprime 5"
   ]
  },
  {
   "attachments": {},
   "cell_type": "markdown",
   "metadata": {},
   "source": [
    "Aqui está um exemplo de como você poderia criar uma classe `Calculadora` que inverta as operações matemáticas usando sobrecarga de operadores :"
   ]
  },
  {
   "cell_type": "code",
   "execution_count": null,
   "metadata": {},
   "outputs": [],
   "source": [
    "class Calculadora:\n",
    "    def __init__(self, valor):\n",
    "        self.valor = valor\n",
    "\n",
    "    def __add__(self, outro_valor):\n",
    "        return Calculadora(outro_valor - self.valor)\n",
    "\n",
    "    def __sub__(self, outro_valor):\n",
    "        return Calculadora(outro_valor + self.valor)\n",
    "\n",
    "    def __mul__(self, outro_valor):\n",
    "        return Calculadora(outro_valor / self.valor)\n",
    "\n",
    "    def __truediv__(self, outro_valor):\n",
    "        return Calculadora(outro_valor * self.valor)\n",
    "\n",
    "    def __repr__(self):\n",
    "        return str(self.valor)\n",
    "\n",
    "calc = Calculadora(10)\n",
    "resultado = calc + 20\n",
    "print(resultado) # imprime -10\n",
    "resultado = calc - 20\n",
    "print(resultado) # imprime 30\n",
    "resultado = calc * 2\n",
    "print(resultado) # imprime 5\n",
    "resultado = calc / 2\n",
    "print(resultado) # imprime 20"
   ]
  },
  {
   "attachments": {},
   "cell_type": "markdown",
   "metadata": {},
   "source": [
    "Neste exemplo, a classe `Calculadora` tem um atributo `valor` que armazena o valor atual da calculadora. Os métodos `__add__`, `__sub__`, `__mul__` e `__truediv__` sobrecarregam os operadores de soma, subtração, multiplicação e divisão, respectivamente, para invertê-los. Por exemplo, o método `__add__` subtrai o valor da outra calculadora do valor atual em vez de adicioná-lo. No método `__repr__` é retornado o valor atual da calculadora.\n",
    "\n",
    "Desta forma, quando você escreve `calc + 20`, o Python chama o método `__add__` na classe `Calculadora`, passando 20 como o segundo operando e retorna -10."
   ]
  },
  {
   "attachments": {},
   "cell_type": "markdown",
   "metadata": {},
   "source": [
    "Aqui está um exemplo de como você poderia usar a sobrecarga de operadores para criar uma classe `Personagem` no RPG :"
   ]
  },
  {
   "cell_type": "code",
   "execution_count": null,
   "metadata": {},
   "outputs": [],
   "source": [
    "class Personagem:\n",
    "    def __init__(self, nome, vida, dano):\n",
    "        self.nome = nome\n",
    "        self.vida = vida\n",
    "        self.dano = dano\n",
    "\n",
    "    def __str__(self):\n",
    "        return f'{self.nome} tem {self.vida} de vida e causa {self.dano} de dano'\n",
    "\n",
    "    def __add__(self, outro_personagem):\n",
    "        return Personagem(f'Grupo de {self.nome} e {outro_personagem.nome}',\n",
    "                            self.vida + outro_personagem.vida,\n",
    "                            self.dano + outro_personagem.dano)\n",
    "\n",
    "    def __sub__(self, outro_personagem):\n",
    "        return Personagem(f'{self.nome} sem {outro_personagem.nome}',\n",
    "                            self.vida - outro_personagem.vida,\n",
    "                            self.dano - outro_personagem.dano)\n",
    "\n",
    "    def __mul__(self, outro_personagem):\n",
    "        return Personagem(f'{self.nome} x {outro_personagem.nome}',\n",
    "                            self.vida * outro_personagem.vida,\n",
    "                            self.dano * outro_personagem.dano)\n",
    "\n",
    "guerreiro = Personagem('Guerreiro', 100, 20)\n",
    "mago = Personagem('Mago', 80, 30)\n",
    "print(guerreiro) # imprime 'Guerreiro tem 100 de vida e causa 20 de dano'\n",
    "print(mago) # imprime 'Mago tem 80 de vida e causa 30 de dano'\n",
    "grupo = guerreiro + mago\n",
    "print(grupo) # imprime 'Grupo de Guerreiro e Mago tem 180 de vida e causa 50 de dano'\n",
    "duelo = guerreiro * mago\n",
    "print(duelo) # imprime 'Guerreiro x Mago tem 8000 de vida e causa 600 de dano'"
   ]
  },
  {
   "attachments": {},
   "cell_type": "markdown",
   "metadata": {},
   "source": [
    "Neste exemplo, a classe `Personagem` tem três atributos: `nome`, `vida` e `dano`. O método `__str__` é usado para fornecer uma representação legível do objeto quando impresso. Os métodos `__add__`, `__sub__` e `__mul__` são usados para sobrecarregar os operadores `+`, `-` e `*`, respectivamente, para combinar dois personagens em um grupo, subtrair um personagem de outro ou multiplicar dois personagens. Cada operação retorna um novo objeto `Personagem` com atributos combinados ou modificados."
   ]
  },
  {
   "attachments": {},
   "cell_type": "markdown",
   "metadata": {},
   "source": [
    "## 12. Iteradores"
   ]
  },
  {
   "attachments": {},
   "cell_type": "markdown",
   "metadata": {},
   "source": [
    "Você já deve ter notado que pode usar laços [for](https://docs.python.org/pt-br/3/reference/compound_stmts.html#for) com a maioria das coleções em Python :"
   ]
  },
  {
   "cell_type": "code",
   "execution_count": null,
   "metadata": {},
   "outputs": [],
   "source": [
    "for elemento in [1, 2, 3]:\n",
    "    print(elemento)\n",
    "for elemento in (1, 2, 3):\n",
    "    print(elemento)\n",
    "for chave in {'one':1, 'two':2}:\n",
    "    print(chave)\n",
    "for caractere in \"123\":\n",
    "    print(caractere)\n",
    "for linha in open(\"aneis_poder.txt\"):\n",
    "    print(linha, end='')"
   ]
  },
  {
   "attachments": {},
   "cell_type": "markdown",
   "metadata": {},
   "source": [
    "Esse estilo de acesso é claro, conciso e conveniente. O uso de iteradores permeia e unifica o Python. Nos bastidores, a instrução [for](https://docs.python.org/pt-br/3/reference/compound_stmts.html#for) chama [iter()](https://docs.python.org/pt-br/3/library/functions.html#iter) no objeto contêiner. A função retorna um objeto iterador que define o método [__next__()](https://docs.python.org/pt-br/3/library/stdtypes.html#iterator.__next__) que acessa elementos no contêiner, um de cada vez. Quando não há mais elementos, [__next__()](https://docs.python.org/pt-br/3/library/stdtypes.html#iterator.__next__) levanta uma exceção [StopIteration](https://docs.python.org/pt-br/3/library/exceptions.html#StopIteration) que informa ao [for](https://docs.python.org/pt-br/3/reference/compound_stmts.html#for) para terminar. Você pode chamar o método [__next__()](https://docs.python.org/pt-br/3/library/stdtypes.html#iterator.__next__) usando a função embutida [next()](https://docs.python.org/pt-br/3/library/functions.html#next); este exemplo mostra como tudo funciona :"
   ]
  },
  {
   "cell_type": "code",
   "execution_count": null,
   "metadata": {},
   "outputs": [],
   "source": [
    "letras = 'abc'\n",
    "iterador = iter(letras)\n",
    "print(iterador)\n",
    "print(next(iterador))\n",
    "print(next(iterador))\n",
    "print(next(iterador))\n",
    "print(next(iterador))\n",
    "# StopIteration                             Traceback (most recent call last)\n",
    "# Cell In[15], line 7\n",
    "#       5 print(next(iterador))\n",
    "#       6 print(next(iterador))\n",
    "# ----> 7 print(next(iterador))\n",
    "\n",
    "# StopIteration: "
   ]
  },
  {
   "attachments": {},
   "cell_type": "markdown",
   "metadata": {},
   "source": [
    "Observando o mecanismo por trás do protocolo dos iteradores, fica fácil adicionar esse comportamento às suas classes. Defina um método `__iter__()` que retorna um objeto que tenha um método [__next__()](https://docs.python.org/pt-br/3/library/stdtypes.html#iterator.__next__). Se uma classe já define `__next__()`, então `__iter__()` pode simplesmente retornar `self`:"
   ]
  },
  {
   "cell_type": "code",
   "execution_count": null,
   "metadata": {},
   "outputs": [],
   "source": [
    "class Reverte:\n",
    "    \"\"\"Iterador para repetir sobre uma sequência de trás para frente.\"\"\"\n",
    "    def __init__(self, dado):\n",
    "        self.dado = dado\n",
    "        self.indice = len(dado)\n",
    "\n",
    "    def __iter__(self):\n",
    "        return self\n",
    "\n",
    "    def __next__(self):\n",
    "        if self.indice == 0:\n",
    "            raise StopIteration\n",
    "        self.indice = self.indice - 1\n",
    "        return self.dado[self.indice]\n",
    "\n",
    "rev = Reverte('spam')\n",
    "iter(rev)\n",
    "\n",
    "for char in rev:\n",
    "    print(char)"
   ]
  },
  {
   "attachments": {},
   "cell_type": "markdown",
   "metadata": {},
   "source": [
    "## 13. Geradores"
   ]
  },
  {
   "attachments": {},
   "cell_type": "markdown",
   "metadata": {},
   "source": [
    "[Geradores](https://docs.python.org/pt-br/3/glossary.html#term-generator) são uma ferramenta simples e poderosa para criar iteradores. São escritos como funções normais mas usam a instrução [yield](https://docs.python.org/pt-br/3/reference/simple_stmts.html#yield) quando precisam retornar dados. Cada vez que [next()](https://docs.python.org/pt-br/3/library/functions.html#next) é chamado, o gerador volta ao ponto onde parou (lembrando todos os valores de dados e qual instrução foi executada pela última vez). Um exemplo mostra como geradores podem ser trivialmente fáceis de criar:"
   ]
  },
  {
   "cell_type": "code",
   "execution_count": null,
   "metadata": {},
   "outputs": [],
   "source": [
    "def reverte(dado):\n",
    "    for indice in range(len(dado)-1, -1, -1):\n",
    "        yield dado[indice]\n",
    "\n",
    "for char in reverte('Supercalifragilisticexpialidocious'):\n",
    "    print(char, end=' ')"
   ]
  },
  {
   "attachments": {},
   "cell_type": "markdown",
   "metadata": {},
   "source": [
    "Qualquer coisa que possa ser feita com geradores também pode ser feita com iteradores baseados numa classe, como descrito na seção anterior. O que torna geradores tão compactos é que os métodos `__iter__()` e `__next__()` são criados automaticamente.\n",
    "\n",
    "Outro ponto chave é que as variáveis locais e o estado da execução são preservados automaticamente entre as chamadas. Isto torna a função mais fácil de escrever e muito mais clara do que uma implementação usando variáveis de instância como `self.index` e `self.data`.\n",
    "\n",
    "Além disso, quando geradores terminam, eles levantam [StopIteration](https://docs.python.org/pt-br/3/library/exceptions.html#StopIteration) automaticamente. Combinados, todos estes aspectos tornam a criação de iteradores tão fácil quanto escrever uma função normal."
   ]
  },
  {
   "attachments": {},
   "cell_type": "markdown",
   "metadata": {},
   "source": [
    "## 14. Expressões Geradoras"
   ]
  },
  {
   "attachments": {},
   "cell_type": "markdown",
   "metadata": {},
   "source": [
    "Alguns geradores simples podem ser codificados, de forma sucinta, como expressões, usando uma sintaxe semelhante a compreensões de lista, mas com parênteses em vez de colchetes. Essas expressões são projetadas para situações em que o gerador é usado imediatamente, pela função que o engloba. As expressões geradoras são mais compactas, mas menos versáteis do que as definições completas do gerador, e tendem a usar menos memória do que as compreensões de lista equivalentes."
   ]
  },
  {
   "cell_type": "code",
   "execution_count": null,
   "metadata": {},
   "outputs": [],
   "source": [
    "print(sum(i*i for i in range(10)))                 # soma dos quadrados\n",
    "\n",
    "x_vetor = [10, 20, 30]\n",
    "y_vetor = [7, 5, 3]\n",
    "print(sum(x*y for x,y in zip(x_vetor, y_vetor)))\n",
    "\n",
    "palavras_unicas = set(palavra for linha in open(\"aneis_poder.txt\") for palavra in linha.split())\n",
    "print(palavras_unicas)\n",
    "\n",
    "orador = max((estudante.gpa, estudante.nome) for estudante in graduandos)\n",
    "\n",
    "palavra = 'Supercalifragilisticexpialidocious'\n",
    "print(list(palavra[i] for i in range(len(palavra)-1, -1, -1)))"
   ]
  },
  {
   "attachments": {},
   "cell_type": "markdown",
   "metadata": {},
   "source": [
    "## 15. Extra"
   ]
  },
  {
   "attachments": {},
   "cell_type": "markdown",
   "metadata": {},
   "source": [
    "### 12.1. Estados Dentro da Classe"
   ]
  },
  {
   "attachments": {},
   "cell_type": "markdown",
   "metadata": {},
   "source": [
    "Mantendo estados dentro da classe."
   ]
  },
  {
   "cell_type": "code",
   "execution_count": null,
   "metadata": {},
   "outputs": [],
   "source": [
    "class Cachorro():\n",
    "    def __init__(self, nome, latindo=False):\n",
    "        self.nome = nome\n",
    "        self.latindo = latindo\n",
    "    \n",
    "    def latir(self):\n",
    "        if self.latindo:\n",
    "            print(f'O {self.nome} ainda está latindo!')\n",
    "            return\n",
    "        \n",
    "        print(f'O {self.nome} está latindo...')\n",
    "        self.latindo = True\n",
    "    \n",
    "    def parar_latir(self):\n",
    "        if not self.latindo:\n",
    "            print(f'O {self.nome} não está latindo!')\n",
    "            return\n",
    "        \n",
    "        print(f'O {self.nome} está parando de latir...')\n",
    "        self.latindo = False\n",
    "    \n",
    "    def roncar(self):\n",
    "        if self.latindo:\n",
    "            print(f'O {self.nome} não pode roncar enquanto late!')\n",
    "            return\n",
    "        \n",
    "        print(f'O {self.nome} está roncando...')\n",
    "\n",
    "fido = Cachorro('Fido')\n",
    "rex = Cachorro('Rex')\n",
    "\n",
    "fido.latir()\n",
    "fido.latir()\n",
    "fido.roncar()\n",
    "fido.parar_latir()\n",
    "fido.roncar()"
   ]
  },
  {
   "attachments": {},
   "cell_type": "markdown",
   "metadata": {},
   "source": [
    "### 12.2. \\_\\_dict__ e vars()"
   ]
  },
  {
   "attachments": {},
   "cell_type": "markdown",
   "metadata": {},
   "source": [
    "São maneiras de ver os atributos e valores de uma instância."
   ]
  },
  {
   "cell_type": "code",
   "execution_count": null,
   "metadata": {},
   "outputs": [],
   "source": [
    "class Pessoa():\n",
    "    ano_atual = 2023\n",
    "\n",
    "    def __init__(self, nome, idade):\n",
    "        self.nome = nome\n",
    "        self.idade = idade\n",
    "\n",
    "    def get_ano_nasc(self):\n",
    "        return Pessoa.ano_atual - self.idade\n",
    "\n",
    "p1 = Pessoa('João', 65)\n",
    "print(p1.__dict__)\n",
    "print(vars(p1))\n",
    "\n",
    "# ele pode ser editável, mas não é comum\n",
    "p1.__dict__['novo'] = 'atributo'\n",
    "print(p1.__dict__)\n",
    "print(vars(p1))\n",
    "\n",
    "# ou apagável\n",
    "del p1.__dict__['idade']\n",
    "print(p1.__dict__)\n",
    "print(vars(p1))"
   ]
  },
  {
   "attachments": {},
   "cell_type": "markdown",
   "metadata": {},
   "source": [
    "Também é possível passar os dados de um dicionário para o objeto e criar (ou recriar) uma instância com eles."
   ]
  },
  {
   "cell_type": "code",
   "execution_count": null,
   "metadata": {},
   "outputs": [],
   "source": [
    "class Pessoa():\n",
    "    ano_atual = 2023\n",
    "\n",
    "    def __init__(self, nome, idade):\n",
    "        self.nome = nome\n",
    "        self.idade = idade\n",
    "\n",
    "    def get_ano_nasc(self):\n",
    "        return Pessoa.ano_atual - self.idade\n",
    "\n",
    "dados = {'nome': 'João', 'idade': 65}\n",
    "p1 = Pessoa(**dados)\n",
    "print(p1.nome)\n",
    "print(p1.idade)\n"
   ]
  }
 ],
 "metadata": {
  "kernelspec": {
   "display_name": ".venv",
   "language": "python",
   "name": "python3"
  },
  "language_info": {
   "codemirror_mode": {
    "name": "ipython",
    "version": 3
   },
   "file_extension": ".py",
   "mimetype": "text/x-python",
   "name": "python",
   "nbconvert_exporter": "python",
   "pygments_lexer": "ipython3",
   "version": "3.11.1 (tags/v3.11.1:a7a450f, Dec  6 2022, 19:58:39) [MSC v.1934 64 bit (AMD64)]"
  },
  "orig_nbformat": 4,
  "vscode": {
   "interpreter": {
    "hash": "68f6cf9ddf20b8330c35f9eb8d38bef7105e3b161f09b6b7e5f8b2d3944d5325"
   }
  }
 },
 "nbformat": 4,
 "nbformat_minor": 2
}

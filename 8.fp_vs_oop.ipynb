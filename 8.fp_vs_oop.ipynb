{
 "cells": [
  {
   "attachments": {},
   "cell_type": "markdown",
   "metadata": {},
   "source": [
    "# Programação Funcional vs Programação Orientada a Objetos"
   ]
  },
  {
   "attachments": {},
   "cell_type": "markdown",
   "metadata": {},
   "source": [
    "## 1. Programação Funcional"
   ]
  },
  {
   "attachments": {},
   "cell_type": "markdown",
   "metadata": {},
   "source": [
    "A programação funcional (`Functional Programming - FP`) é um paradigma de programação que se baseia em funções matemáticas puras para resolver problemas computacionais. Em vez de se preocupar com o estado e a modificação dos dados, a programação funcional se concentra em aplicar funções aos dados de entrada para produzir dados de saída.\n",
    "\n",
    "As funções utilizadas na programação funcional são geralmente puras, ou seja, não possuem efeitos colaterais e sempre retornam o mesmo resultado dado os mesmos argumentos. Isso torna a programação funcional mais previsível e fácil de testar e depurar.\n",
    "\n",
    "Algumas das características mais importantes da programação funcional incluem a imutabilidade dos dados, o uso de funções de primeira classe e a composição de funções. A programação funcional é comumente usada em conjunto com outros paradigmas de programação, como a programação orientada a objetos e a programação imperativa."
   ]
  },
  {
   "attachments": {},
   "cell_type": "markdown",
   "metadata": {},
   "source": [
    "Na programação funcional, as funções são utilizadas como principais mecanismos de operação, ao invés de se usar comandos e estruturas de fluxo de controle como while, if, etc.. As funções são tratadas como valores, ou seja, podem ser passadas como argumentos para outras funções, retornadas como resultado de outras funções e atribuídas a variáveis.\n",
    "\n",
    "A programação funcional se baseia em três princípios principais :\n",
    "- `Imutabilidade` : os dados não são modificados, e sim produzidos novos dados a partir de dados antigos. Isso torna a programação funcional mais segura e previsível, pois as funções não causam efeitos colaterais indesejados;\n",
    "- `Funções puras` : as funções são puras, ou seja, não produzem efeitos colaterais e sempre retornam o mesmo resultado dado os mesmos argumentos. Isso torna a programação funcional mais previsível e fácil de testar e depurar;\n",
    "- `Composição de funções` : As funções podem ser compostas para criar funções mais complexas. Isso torna a programação funcional mais legível e manutenível, pois as funções são pequenas e fáceis de entender;\n",
    "\n",
    "Alguns exemplos de como a programação funcional é utilizada incluem filtrar, mapear e reduzir dados, encadeamento de funções, trabalhar com funções de alta ordem, programação com currying e programação com closures.\n",
    "\n",
    "No geral, a programação funcional é uma forma de pensar e resolver problemas computacionais baseada em funções matemáticas puras, imutabilidade de dados e composição de funções. Ela é diferente de outros paradigmas de programação, como a programação orientada a objetos e a programação imperativa, que se concentram em mudar o estado dos dados e usar comandos e estruturas de fluxo de controle."
   ]
  },
  {
   "attachments": {},
   "cell_type": "markdown",
   "metadata": {},
   "source": [
    "Seguem alguns exemplos de como a programação funcional é usada :"
   ]
  },
  {
   "attachments": {},
   "cell_type": "markdown",
   "metadata": {},
   "source": [
    "- `Função anônima` :"
   ]
  },
  {
   "cell_type": "code",
   "execution_count": null,
   "metadata": {},
   "outputs": [],
   "source": [
    "soma = lambda x, y: x + y\n",
    "print(soma(2, 3))\n",
    "# Saída: 5"
   ]
  },
  {
   "attachments": {},
   "cell_type": "markdown",
   "metadata": {},
   "source": [
    "Neste exemplo, usamos uma função anônima `lambda` para criar uma função simples de soma."
   ]
  },
  {
   "attachments": {},
   "cell_type": "markdown",
   "metadata": {},
   "source": [
    "- `Filtro` :"
   ]
  },
  {
   "cell_type": "code",
   "execution_count": null,
   "metadata": {},
   "outputs": [],
   "source": [
    "numeros = [1, 2, 3, 4, 5, 6, 7, 8, 9, 10]\n",
    "pares = filter(lambda x: x % 2 == 0, numeros)\n",
    "print(list(pares))\n",
    "# Saída: [2, 4, 6, 8, 10]"
   ]
  },
  {
   "attachments": {},
   "cell_type": "markdown",
   "metadata": {},
   "source": [
    "Neste exemplo, usamos a função `filter()` para filtrar os números pares de uma lista de números. A função `filter()` recebe uma função condicional e uma lista, e retorna um iterável com os elementos da lista que satisfazem a condição."
   ]
  },
  {
   "attachments": {},
   "cell_type": "markdown",
   "metadata": {},
   "source": [
    "- `Mapa` :"
   ]
  },
  {
   "cell_type": "code",
   "execution_count": null,
   "metadata": {},
   "outputs": [],
   "source": [
    "numeros = [1, 2, 3, 4, 5]\n",
    "quadrado = map(lambda x: x ** 2, numeros)\n",
    "print(list(quadrado))\n",
    "# Saída: [1, 4, 9, 16, 25]"
   ]
  },
  {
   "attachments": {},
   "cell_type": "markdown",
   "metadata": {},
   "source": [
    "Neste exemplo, usamos a função `map()` para aplicar a função de elevar ao quadrado em cada elemento de uma lista de números."
   ]
  },
  {
   "attachments": {},
   "cell_type": "markdown",
   "metadata": {},
   "source": [
    "- `Redução` :"
   ]
  },
  {
   "cell_type": "code",
   "execution_count": null,
   "metadata": {},
   "outputs": [],
   "source": [
    "from functools import reduce\n",
    "\n",
    "numeros = [1, 2, 3, 4, 5]\n",
    "soma = reduce(lambda x, y: x + y, numeros)\n",
    "print(soma)\n",
    "# Saída: 15"
   ]
  },
  {
   "attachments": {},
   "cell_type": "markdown",
   "metadata": {},
   "source": [
    "Neste exemplo, usamos a função `reduce()` do módulo `functools` para calcular a soma dos elementos de uma lista de números. A função `reduce()` recebe uma função de acumulação e uma lista, e retorna o resultado acumulado de aplicar a função aos elementos da lista."
   ]
  },
  {
   "attachments": {},
   "cell_type": "markdown",
   "metadata": {},
   "source": [
    "- `Encadeamento de funções` :"
   ]
  },
  {
   "cell_type": "code",
   "execution_count": null,
   "metadata": {},
   "outputs": [],
   "source": [
    "from functools import compose\n",
    "\n",
    "def dobro(x):\n",
    "    return x * 2\n",
    "\n",
    "def triplo(x):\n",
    "    return x * 3\n",
    "\n",
    "transformacao = compose(triplo, dobro)\n",
    "print(transformacao(3))\n",
    "# Saída: 18"
   ]
  },
  {
   "attachments": {},
   "cell_type": "markdown",
   "metadata": {},
   "source": [
    "Neste exemplo, usamos a função `compose()` do módulo `functools` para encadear as funções de dobro e triplo. A função `compose()` recebe uma série de funções e retorna uma nova função que aplica as funções fornecidas na ordem inversa."
   ]
  },
  {
   "attachments": {},
   "cell_type": "markdown",
   "metadata": {},
   "source": [
    "- `Programação com currying` :"
   ]
  },
  {
   "cell_type": "code",
   "execution_count": null,
   "metadata": {},
   "outputs": [],
   "source": [
    "from functools import partial\n",
    "\n",
    "def multiplicar(x, y, z):\n",
    "    return x * y * z\n",
    "\n",
    "dobrar = partial(multiplicar, 2)\n",
    "print(dobrar(3, 4))\n",
    "# Saída: 24"
   ]
  },
  {
   "attachments": {},
   "cell_type": "markdown",
   "metadata": {},
   "source": [
    "Neste exemplo, usamos a função `partial()` do módulo `functools` para aplicar currying na função multiplicar. A função `partial()` recebe uma função e um conjunto de argumentos fixos e retorna uma nova função com os argumentos fixados."
   ]
  },
  {
   "attachments": {},
   "cell_type": "markdown",
   "metadata": {},
   "source": [
    "## 2. Programação Orientada a Objeto"
   ]
  },
  {
   "attachments": {},
   "cell_type": "markdown",
   "metadata": {},
   "source": [
    "A programação orientada a objeto (`Object-oriented Programming - OOP`) é um paradigma de programação que se baseia na idéia de objetos, que são entidades que possuem estado (dados) e comportamento (métodos). Cada objeto é uma instância de uma classe, que define o tipo de objeto e seus atributos e métodos.\n",
    "\n",
    "A programação orientada a objeto se concentra em modelar o mundo real como objetos e classes, e em encapsular o estado e o comportamento dos objetos para proteger a integridade dos dados. Isso torna a programação orientada a objeto mais fácil de entender, manter e expandir.\n",
    "\n",
    "Algumas das características mais importantes da programação orientada a objeto incluem a abstração, a herança, a polimorfismo, e a sobrecarga de métodos. A programação orientada a objeto é comumente usada em conjunto com outros paradigmas de programação, como a programação funcional e a programação imperativa."
   ]
  },
  {
   "attachments": {},
   "cell_type": "markdown",
   "metadata": {},
   "source": [
    "Na programação orientada a objeto, os dados e seus comportamentos são agrupados em entidades chamadas objetos. Cada objeto é uma instância de uma classe, que define o tipo de objeto e seus atributos e métodos.\n",
    "\n",
    "Cada classe tem seus próprios atributos e métodos, que descrevem o estado e o comportamento do objeto. Os atributos representam as características do objeto e os métodos representam as ações que o objeto pode realizar. Os métodos são funções que são executadas em um objeto específico.\n",
    "\n",
    "A programação orientada a objeto se baseia em quatro princípios principais:\n",
    "- `Abstração` : Permite representar apenas os aspectos relevantes de um objeto, escondendo sua implementação detalhada. Isso torna a programação orientada a objeto mais fácil de entender e manter;\n",
    "- `Encapsulamento` : Protege o estado interno dos objetos, impedindo que ele seja acessado ou modificado diretamente. Isso torna a programação orientada a objeto mais segura e previsível;\n",
    "- `Herança` : Permite que uma classe herde os atributos e métodos de outra classe. Isso torna a programação orientada a objeto mais organizada e reutilizável;\n",
    "- `Polimorfismo` : Permite que objetos de diferentes classes sejam tratados como objetos de uma classe pai. Isso torna a programação orientada a objeto mais flexível e escalável;"
   ]
  },
  {
   "attachments": {},
   "cell_type": "markdown",
   "metadata": {},
   "source": [
    "Além dos princípios mencionados, a programação orientada a objeto também se baseia em outras características e conceitos, como :\n",
    "- `Instância` : Cada objeto é uma instância de uma classe, ou seja, é uma cópia da classe que contém seus próprios atributos e métodos;\n",
    "- `Mensagem` : Os objetos se comunicam entre si enviando e recebendo mensagens, que são chamadas de métodos;\n",
    "- `Construtor` : É um método especial que é chamado quando um objeto é criado, geralmente é utilizado para inicializar os atributos do objeto;\n",
    "- `Destrutor` : É um método especial que é chamado quando um objeto é destruído, geralmente é utilizado para limpar recursos do sistema alocados pelo objeto;\n",
    "- `Sobrecarga de métodos` : é a possibilidade de um mesmo método ter comportamentos diferentes dependendo do tipo de argumentos passados;\n",
    "\n",
    "Na programação orientada a objeto, os objetos são os principais mecanismos de operação, e as classes são utilizadas para definir o tipo e comportamento dos objetos. A programação orientada a objeto tem como objetivo modelar o mundo real como objetos e classes, e encapsular o estado e o comportamento dos objetos para proteger a integridade dos dados."
   ]
  },
  {
   "attachments": {},
   "cell_type": "markdown",
   "metadata": {},
   "source": [
    "Seguem alguns exemplos de como a programação orientada a objeto é usada :"
   ]
  },
  {
   "attachments": {},
   "cell_type": "markdown",
   "metadata": {},
   "source": [
    "- `Classe` :"
   ]
  },
  {
   "cell_type": "code",
   "execution_count": null,
   "metadata": {},
   "outputs": [],
   "source": [
    "class Pessoa:\n",
    "    def __init__(self, nome, idade):\n",
    "        self.nome = nome\n",
    "        self.idade = idade\n",
    "        \n",
    "    def saudacao(self):\n",
    "        print(f\"Olá, meu nome é {self.nome} e tenho {self.idade} anos.\")\n",
    "\n",
    "pessoa = Pessoa(\"João\", 30)\n",
    "pessoa.saudacao()\n",
    "# Saída: Olá, meu nome é João e tenho 30 anos."
   ]
  },
  {
   "attachments": {},
   "cell_type": "markdown",
   "metadata": {},
   "source": [
    "Neste exemplo, criamos uma classe `Pessoa` que possui um construtor `__init__` para inicializar os atributos nome e idade do objeto, além de um método `saudacao()` que imprime uma saudação com o nome e idade da pessoa."
   ]
  },
  {
   "attachments": {},
   "cell_type": "markdown",
   "metadata": {},
   "source": [
    "- `Abstração` :"
   ]
  },
  {
   "cell_type": "code",
   "execution_count": null,
   "metadata": {},
   "outputs": [],
   "source": [
    "class Forma:\n",
    "    def area(self):\n",
    "        pass\n",
    "\n",
    "class Quadrado(Forma):\n",
    "    def __init__(self, lado):\n",
    "        self.lado = lado\n",
    "        \n",
    "    def area(self):\n",
    "        return self.lado ** 2\n",
    "\n",
    "class Circulo(Forma):\n",
    "    def __init__(self, raio):\n",
    "        self.raio = raio\n",
    "        \n",
    "    def area(self):\n",
    "        return 3.14 * self.raio ** 2"
   ]
  },
  {
   "attachments": {},
   "cell_type": "markdown",
   "metadata": {},
   "source": [
    "Neste exemplo, temos uma classe abstrata `Forma` com o método `area()`, e duas classes que herdam dela, `Quadrado` e `Circulo`, que implementam o método `area()` de acordo com as suas necessidades, mostrando assim a abstração."
   ]
  },
  {
   "attachments": {},
   "cell_type": "markdown",
   "metadata": {},
   "source": [
    "- `Encapsulamento` :"
   ]
  },
  {
   "cell_type": "code",
   "execution_count": null,
   "metadata": {},
   "outputs": [],
   "source": [
    "class Conta:\n",
    "    def __init__(self, saldo):\n",
    "        self.__saldo = saldo\n",
    "        \n",
    "    def depositar(self, valor):\n",
    "        self.__saldo += valor\n",
    "        return self.__saldo\n",
    "    \n",
    "    def sacar(self, valor):\n",
    "        if self.__saldo >= valor:\n",
    "            self.__saldo -= valor\n",
    "            return self.__saldo\n",
    "        else:\n",
    "            return \"Saldo insuficiente.\"\n",
    "\n",
    "conta = Conta(1000)\n",
    "print(conta.depositar(500))\n",
    "# Saída: 1500\n",
    "print(conta.sacar(2000))\n",
    "# Saída: \"Saldo insuficiente.\""
   ]
  },
  {
   "attachments": {},
   "cell_type": "markdown",
   "metadata": {},
   "source": [
    "Neste exemplo, criamos uma classe `Conta` que possui atributo de saldo e métodos de depositar e sacar, e os atributos saldo está encapsulado, impedindo que seja acessado ou modificado diretamente."
   ]
  },
  {
   "attachments": {},
   "cell_type": "markdown",
   "metadata": {},
   "source": [
    "- `Herança` :"
   ]
  },
  {
   "cell_type": "code",
   "execution_count": null,
   "metadata": {},
   "outputs": [],
   "source": [
    "class Funcionario(Pessoa):\n",
    "    def __init__(self, nome, idade, cargo):\n",
    "        super().__init__(nome, idade)\n",
    "        self.cargo = cargo\n",
    "        \n",
    "    def saudacao(self):\n",
    "        print(f\"Olá, meu nome é {self.nome}, tenho {self.idade} anos e sou funcionário com o cargo de {self.cargo}.\")\n",
    "\n",
    "funcionario = Funcionario(\"Maria\", 25, \"Gerente\")\n",
    "funcionario.saudacao()\n",
    "# Saída: Olá, meu nome é Maria, tenho 25 anos e sou funcionário com o cargo de Gerente."
   ]
  },
  {
   "attachments": {},
   "cell_type": "markdown",
   "metadata": {},
   "source": [
    "Neste exemplo, criamos uma classe `Funcionario` que herda da classe `Pessoa`. A classe `Funcionario` possui um atributo adicional `cargo` e um método `saudacao()` que imprime uma saudação com o nome, idade e cargo do funcionário."
   ]
  },
  {
   "attachments": {},
   "cell_type": "markdown",
   "metadata": {},
   "source": [
    "- `Polimorfismo` :"
   ]
  },
  {
   "cell_type": "code",
   "execution_count": null,
   "metadata": {},
   "outputs": [],
   "source": [
    "class Gerente(Funcionario):\n",
    "    def saudacao(self):\n",
    "        print(f\"Olá, meu nome é {self.nome}, sou gerente e responsável por {self.cargo}.\")\n",
    "\n",
    "gerente = Gerente(\"Lucas\", 35, \"Vendas\")\n",
    "gerente.saudacao()\n",
    "# Saída: Olá, meu nome é Lucas, sou gerente e responsável por Vendas."
   ]
  },
  {
   "attachments": {},
   "cell_type": "markdown",
   "metadata": {},
   "source": [
    "Neste exemplo, criamos uma classe `Gerente` que herda da classe `Funcionario`, e tem um comportamento diferente no método saudacao, mostrando assim o polimorfismo."
   ]
  },
  {
   "attachments": {},
   "cell_type": "markdown",
   "metadata": {},
   "source": [
    "- `Instância` :"
   ]
  },
  {
   "cell_type": "code",
   "execution_count": null,
   "metadata": {},
   "outputs": [],
   "source": [
    "class Pessoa:\n",
    "    def __init__(self, nome):\n",
    "        self.nome = nome\n",
    "\n",
    "p1 = Pessoa(\"João\")\n",
    "p2 = Pessoa(\"Maria\")\n",
    "\n",
    "print(p1.nome)\n",
    "# Saída: \"João\"\n",
    "print(p2.nome)\n",
    "# Saída: \"Maria\""
   ]
  },
  {
   "attachments": {},
   "cell_type": "markdown",
   "metadata": {},
   "source": [
    "Neste exemplo, criamos duas instâncias da classe `Pessoa`, p1 e p2, cada uma com seus próprios atributos e métodos."
   ]
  },
  {
   "attachments": {},
   "cell_type": "markdown",
   "metadata": {},
   "source": [
    "- `Mensagem` :"
   ]
  },
  {
   "cell_type": "code",
   "execution_count": null,
   "metadata": {},
   "outputs": [],
   "source": [
    "class Pessoa:\n",
    "    def __init__(self, nome):\n",
    "        self.nome = nome\n",
    "        \n",
    "    def saudacao(self):\n",
    "        return f\"Olá, meu nome é {self.nome}.\"\n",
    "\n",
    "p = Pessoa(\"João\")\n",
    "print(p.saudacao())\n",
    "# Saída: \"Olá, meu nome é João.\""
   ]
  },
  {
   "attachments": {},
   "cell_type": "markdown",
   "metadata": {},
   "source": [
    "Neste exemplo, o objeto p envia uma mensagem de saudação ao método `saudacao`, retornando o resultado da expressão."
   ]
  },
  {
   "attachments": {},
   "cell_type": "markdown",
   "metadata": {},
   "source": [
    "- `Construtor` :"
   ]
  },
  {
   "cell_type": "code",
   "execution_count": null,
   "metadata": {},
   "outputs": [],
   "source": [
    "class Pessoa:\n",
    "    def __init__(self, nome, idade):\n",
    "        self.nome = nome\n",
    "        self.idade = idade\n",
    "\n",
    "p = Pessoa(\"João\", 30)\n",
    "print(p.nome)\n",
    "# Saída: \"João\"\n",
    "print(p.idade)\n",
    "# Saída: 30"
   ]
  },
  {
   "attachments": {},
   "cell_type": "markdown",
   "metadata": {},
   "source": [
    "Neste exemplo, o construtor `__init__` é usado para inicializar os atributos nome e idade do objeto quando é criado."
   ]
  },
  {
   "attachments": {},
   "cell_type": "markdown",
   "metadata": {},
   "source": [
    "- `Destrutor` :"
   ]
  },
  {
   "cell_type": "code",
   "execution_count": null,
   "metadata": {},
   "outputs": [],
   "source": [
    "class Pessoa:\n",
    "    def __init__(self, nome):\n",
    "        self.nome = nome\n",
    "    \n",
    "    def __del__(self):\n",
    "        print(f\"{self.nome} foi removido.\")\n",
    "\n",
    "p = Pessoa(\"João\")\n",
    "del p\n",
    "# Saída: \"João foi removido.\""
   ]
  },
  {
   "attachments": {},
   "cell_type": "markdown",
   "metadata": {},
   "source": [
    "Neste exemplo, o destrutor `__del__` é usado para executar uma ação quando o objeto é destruído, no caso imprimindo uma mensagem informando que o objeto foi removido.\n",
    "\n",
    "Obs: O destrutor `del`, não é garantido que será chamado, depende da implementação do interpretador, e em alguns casos pode não ser chamado."
   ]
  },
  {
   "attachments": {},
   "cell_type": "markdown",
   "metadata": {},
   "source": [
    "- `Sobrecarga de métodos` :"
   ]
  },
  {
   "cell_type": "code",
   "execution_count": null,
   "metadata": {},
   "outputs": [],
   "source": [
    "class Calculadora:\n",
    "    def soma(self, x, y):\n",
    "        return x + y\n",
    "    \n",
    "    def soma(self, x, y, z):\n",
    "        return x + y + z\n",
    "\n",
    "calculadora = Calculadora()\n",
    "print(calculadora.soma(1, 2))\n",
    "# Saída: 3\n",
    "print(calculadora.soma(1, 2, 3))\n",
    "# Saída: 6"
   ]
  },
  {
   "attachments": {},
   "cell_type": "markdown",
   "metadata": {},
   "source": [
    "Neste exemplo, a classe `Calculadora` tem dois métodos chamados soma, mas com assinaturas diferentes, um que recebe 2 argumentos e outro que recebe 3 argumentos, mostrando assim a sobrecarga de métodos. Isso pode ser útil em situações onde é necessário ter diferentes comportamentos para a mesma ação, dependendo dos argumentos passados."
   ]
  },
  {
   "attachments": {},
   "cell_type": "markdown",
   "metadata": {},
   "source": [
    "Esses são alguns exemplos básicos de como a programação orientada a objeto é usada. A programação orientada a objeto pode ser usada para modelar uma grande variedade de problemas, desde simples até complexos, e é comumente usada em diversas áreas, como desenvolvimento de jogos, aplicativos web e mobile, inteligência artificial, entre outros."
   ]
  },
  {
   "attachments": {},
   "cell_type": "markdown",
   "metadata": {},
   "source": [
    "## 3. FP vs OOP"
   ]
  },
  {
   "attachments": {},
   "cell_type": "markdown",
   "metadata": {},
   "source": [
    "A `programação orientada a objetos (OOP)` e a `programação funcional (FP)` são duas abordagens diferentes para a construção de software. Ambas têm suas próprias vantagens e desvantagens, e muitas vezes são usadas em conjunto para resolver problemas de programação.\n",
    "\n",
    "- `OOP` se concentra em objetos, que são instâncias de classes. Cada objeto tem seus próprios dados (estado) e métodos (comportamento). O objetivo da `OOP` é encapsular dados e comportamentos em objetos individuais para facilitar a reutilização do código e a manutenção do software;\n",
    "- `FP` se concentra em funções puras, que são funções que sempre retornam o mesmo resultado para um determinado conjunto de entradas e não têm efeitos colaterais. O objetivo da `FP` é evitar efeitos colaterais e permitir que as funções sejam testadas e compreendidas de forma independente;\n",
    "\n",
    "Enquanto a `OOP` é mais voltada para a construção de sistemas complexos, a `FP` é mais voltada para o desenvolvimento de algoritmos eficientes e escaláveis. Ambas as abordagens têm suas vantagens e desvantagens, e muitas vezes são usadas em conjunto para resolver problemas de programação."
   ]
  },
  {
   "attachments": {},
   "cell_type": "markdown",
   "metadata": {},
   "source": [
    "### 3.1. Quando a FP é mais indicada que a OOP"
   ]
  },
  {
   "attachments": {},
   "cell_type": "markdown",
   "metadata": {},
   "source": [
    "A programação funcional (FP) é mais indicada que a programação orientada a objetos (OOP) em algumas situações, incluindo :\n",
    "\n",
    "- `Processamento paralelo e distribuído` : A FP é mais adequada para o processamento paralelo e distribuído, pois as funções puras são fáceis de paralelizar e distribuir, enquanto que a OOP pode ser mais complexa devido ao gerenciamento de estado compartilhado entre objetos;\n",
    "- `Algoritmos matemáticos e estatísticos` : A FP é mais adequada para a implementação de algoritmos matemáticos e estatísticos, pois as funções puras são fáceis de testar e compreender, enquanto que a OOP pode ser mais complexa devido ao gerenciamento de estado e comportamento;\n",
    "- `Programação reativa` : A FP é mais adequada para a programação reativa, pois as funções puras são fáceis de encadear e composicionar para criar fluxos de dados complexos, enquanto que a OOP pode ser mais complexa devido ao gerenciamento de estado e eventos;\n",
    "- `Testes unitários` : A FP é mais adequada para testes unitários, pois as funções puras são fáceis de testar e não dependem de estado externo, enquanto que a OOP pode ser mais complexa devido ao gerenciamento de estado e comportamento;\n",
    "\n",
    "É importante notar que a programação funcional e orientada a objetos não são mutuamente exclusivas, e muitas vezes são utilizadas juntas, dependendo do problema a ser resolvido."
   ]
  },
  {
   "attachments": {},
   "cell_type": "markdown",
   "metadata": {},
   "source": [
    "Aqui está um exemplo de como a programação funcional (FP) pode ser melhor do que a programação orientada a objetos (OOP), usando a operação de mapeamento de uma lista :"
   ]
  },
  {
   "cell_type": "code",
   "execution_count": null,
   "metadata": {},
   "outputs": [],
   "source": [
    "# Exemplo de programação funcional\n",
    "def quadrado(val):\n",
    "    return val**2\n",
    "\n",
    "numeros = [1, 2, 3, 4, 5]\n",
    "quadrados = map(quadrado, numeros)\n",
    "print(list(quadrados))\n",
    "# Saída: [1, 4, 9, 16, 25]"
   ]
  },
  {
   "attachments": {},
   "cell_type": "markdown",
   "metadata": {},
   "source": [
    "Neste exemplo, usamos a função `map()` para aplicar a função `quadrado` em cada elemento da lista `numeros`. Como a função `quadrado` é pura (não tem efeitos colaterais) e não depende de estado externo, este é um exemplo de como a programação funcional pode ser mais simples e eficiente do que a programação orientada a objetos."
   ]
  },
  {
   "attachments": {},
   "cell_type": "markdown",
   "metadata": {},
   "source": [
    "Aqui está um exemplo equivalente usando programação orientada a objetos :"
   ]
  },
  {
   "cell_type": "code",
   "execution_count": null,
   "metadata": {},
   "outputs": [],
   "source": [
    "# Exemplo de programação orientada a objetos\n",
    "class Numero:\n",
    "    def __init__(self,val):\n",
    "        self.val = val\n",
    "    def quadrado(self):\n",
    "        return self.val**2\n",
    "\n",
    "numeros = [Numero(1), Numero(2), Numero(3), Numero(4), Numero(5)]\n",
    "quadrados = [num.quadrado() for num in numeros]\n",
    "print(quadrados)\n",
    "# Saída: [1, 4, 9, 16, 25]"
   ]
  },
  {
   "attachments": {},
   "cell_type": "markdown",
   "metadata": {},
   "source": [
    "Neste exemplo, criamos uma classe `Numero` para representar cada elemento da lista, e criamos um método `quadrado()` para calcular o quadrado de cada elemento. Enquanto a programação orientada a objetos é útil para modelar problemas do mundo real e gerenciar estado, neste caso ela pode ser mais complexa e menos eficiente do que a programação funcional."
   ]
  },
  {
   "attachments": {},
   "cell_type": "markdown",
   "metadata": {},
   "source": [
    "### 3.2. Quando a OOP é mais indicada que a FP"
   ]
  },
  {
   "attachments": {},
   "cell_type": "markdown",
   "metadata": {},
   "source": [
    "A programação orientada a objetos (OOP) é melhor do que a programação funcional (FP) em algumas situações, incluindo:\n",
    "\n",
    "- `Modelagem de problemas` : OOP é melhor para modelar problemas do mundo real, pois permite que os programadores criem objetos que representam conceitos reais, como pessoas, animais, carros, etc;\n",
    "- `Projetos de grande escala` : OOP é melhor para projetos de grande escala, pois permite que os programadores dividam um projeto em classes e objetos menores e mais fáceis de gerenciar;\n",
    "- `Interação com usuário` : OOP é melhor para projetos que precisam lidar com interfaces gráficas de usuário (GUIs), pois permite que os programadores criem classes e objetos que representam elementos da GUI, como botões, caixas de texto, etc;\n",
    "- `Desenvolvimento de software orientado a eventos` : OOP é melhor para o desenvolvimento de software orientado a eventos, pois permite que os programadores criem classes e objetos que representam eventos e gerenciem a lógica de negócios para esses eventos;\n",
    "- `Herança` : OOP permite a implementação de relações de herança entre classes, permitindo a criação de hierarquias de classes, onde uma classe pode herdar atributos e métodos de outra classe, o que pode ser uma vantagem em alguns casos;\n",
    "\n",
    "Novamente, é importante lembrar que a programação orientada a objetos e funcional não são mutuamente exclusivas e muitas vezes são utilizadas juntas, dependendo do problema a ser resolvido."
   ]
  },
  {
   "attachments": {},
   "cell_type": "markdown",
   "metadata": {},
   "source": [
    "Aqui estão alguns exemplos de como a programação orientada a objetos (OOP) pode ser melhor do que a programação funcional (FP) :"
   ]
  },
  {
   "cell_type": "code",
   "execution_count": null,
   "metadata": {},
   "outputs": [],
   "source": [
    "class Conta:\n",
    "    def __init__(self, saldo_inicial):\n",
    "        self.saldo = saldo_inicial\n",
    "\n",
    "    def depositar(self, valor):\n",
    "        self.saldo += valor\n",
    "        return self.saldo\n",
    "\n",
    "    def sacar(self, valor):\n",
    "        if self.saldo >= valor:\n",
    "            self.saldo -= valor\n",
    "            return self.saldo\n",
    "        else:\n",
    "            raise ValueError(\"Saldo insuficiente\")\n",
    "\n",
    "conta1 = Conta(1000)\n",
    "print(conta1.depositar(500))\n",
    "# Saída: 1500\n",
    "print(conta1.sacar(1000))\n",
    "# Saída: 500"
   ]
  },
  {
   "attachments": {},
   "cell_type": "markdown",
   "metadata": {},
   "source": [
    "Neste exemplo, usamos a programação orientada a objetos para modelar uma conta bancária, com seus métodos e atributos, como depósito e saque. Isso é melhor do que a programação funcional pois torna mais fácil entender e gerenciar o estado da conta."
   ]
  },
  {
   "attachments": {},
   "cell_type": "markdown",
   "metadata": {},
   "source": [
    "Aqui está um exemplo equivalente à classe de Conta que usei anteriormente, mas implementado com programação funcional :"
   ]
  },
  {
   "cell_type": "code",
   "execution_count": null,
   "metadata": {},
   "outputs": [],
   "source": [
    "def depositar(conta, valor):\n",
    "    return conta + valor\n",
    "\n",
    "def sacar(conta, valor):\n",
    "    if conta >= valor:\n",
    "        return conta - valor\n",
    "    else:\n",
    "        raise ValueError(\"Saldo insuficiente\")\n",
    "\n",
    "saldo = 1000\n",
    "saldo = depositar(saldo, 500)\n",
    "print(saldo)\n",
    "# Saída: 1500\n",
    "saldo = sacar(saldo, 1000)\n",
    "print(saldo)\n",
    "# Saída: 500"
   ]
  },
  {
   "attachments": {},
   "cell_type": "markdown",
   "metadata": {},
   "source": [
    "Neste exemplo, em vez de usar classes e objetos para modelar a conta e seus métodos, usamos funções puras para representar as operações de depósito e saque. A variável `saldo` representa o estado atual da conta. As funções `depositar()` e `sacar()` não precisam de nenhum estado interno, elas operam apenas sobre o estado externo (saldo) e retornam o novo estado."
   ]
  },
  {
   "attachments": {},
   "cell_type": "markdown",
   "metadata": {},
   "source": [
    "Abaixo temos mais um exemplo em um projeto maior :"
   ]
  },
  {
   "cell_type": "code",
   "execution_count": null,
   "metadata": {},
   "outputs": [],
   "source": [
    "class Pessoa:\n",
    "    def __init__(self,nome,idade):\n",
    "        self.nome = nome\n",
    "        self.idade = idade\n",
    "\n",
    "class Funcionario(Pessoa):\n",
    "    def __init__(self,nome,idade,matricula):\n",
    "        super().__init__(nome,idade)\n",
    "        self.matricula = matricula\n",
    "    def trabalhar(self):\n",
    "        print(\"Trabalhando\")\n",
    "\n",
    "class Gerente(Funcionario):\n",
    "    def __init__(self,nome,idade,matricula,senha):\n",
    "        super().__init__(nome,idade,matricula)\n",
    "        self.senha = senha\n",
    "    def gerenciar(self):\n",
    "        print(\"Gerenciando\")\n",
    "\n",
    "gerente = Gerente(\"João\",35,\"G001\",\"senha123\")\n",
    "print(gerente.nome)\n",
    "# Saída: João\n",
    "gerente.gerenciar()\n",
    "# Saída: Gerenciando"
   ]
  },
  {
   "attachments": {},
   "cell_type": "markdown",
   "metadata": {},
   "source": [
    "Neste exemplo, usamos a programação orientada a objetos para modelar uma hierarquia de classes, onde temos `Pessoa`, `Funcionario` e `Gerente`, cada uma com seus atributos e métodos específicos. Isso é melhor do que a programação funcional pois torna mais fácil dividir um projeto em módulos menores e mais fáceis de gerenciar."
   ]
  },
  {
   "attachments": {},
   "cell_type": "markdown",
   "metadata": {},
   "source": [
    "Abaixo temos um exemplo equivalente à hierarquia de classes Pessoa, Funcionário e Gerente, mas implementado com programação funcional :"
   ]
  },
  {
   "cell_type": "code",
   "execution_count": null,
   "metadata": {},
   "outputs": [],
   "source": [
    "def cria_pessoa(nome, idade):\n",
    "    return {\"nome\": nome, \"idade\": idade}\n",
    "\n",
    "def cria_funcionario(pessoa, matricula):\n",
    "    return {**pessoa, \"matricula\": matricula, \"trabalhar\": lambda: print(\"Trabalhando\")}\n",
    "\n",
    "def cria_gerente(funcionario, senha):\n",
    "    return {**funcionario, \"senha\": senha, \"gerenciar\": lambda: print(\"Gerenciando\")}\n",
    "\n",
    "pessoa = cria_pessoa(\"João\", 35)\n",
    "funcionario = cria_funcionario(pessoa, \"F001\")\n",
    "gerente = cria_gerente(funcionario, \"senha123\")\n",
    "\n",
    "print(gerente[\"nome\"])\n",
    "# Saída: João\n",
    "gerente[\"gerenciar\"]()\n",
    "# Saída: Gerenciando"
   ]
  },
  {
   "attachments": {},
   "cell_type": "markdown",
   "metadata": {},
   "source": [
    "Neste exemplo, em vez de usar classes e objetos para modelar a hierarquia de pessoas, funcionários e gerentes, usamos dicionários e funções para representar as entidades e suas características. Cada entidade é representada por um dicionário de atributos e funções, e as funções `cria_pessoa()`, `cria_funcionario()` e `cria_gerente()` são usadas para criar as entidades e adicionar as características apropriadas."
   ]
  },
  {
   "attachments": {},
   "cell_type": "markdown",
   "metadata": {},
   "source": [
    "## 4. Considerações Finais"
   ]
  },
  {
   "attachments": {},
   "cell_type": "markdown",
   "metadata": {},
   "source": [
    "A programação funcional e a programação orientada a objetos são dois paradigmas de programação distintos, cada um com suas próprias vantagens e desvantagens.\n",
    "\n",
    "A programação funcional se baseia em funções matemáticas puras, sem efeitos colaterais, e enfatiza a composição de funções ao invés de herança e modificação de estado. Isso pode tornar o código mais fácil de entender e testar, além de facilitar a paralelização e distribuição de tarefas. Além disso, a programação funcional é uma boa escolha para trabalhar com grandes conjuntos de dados, como processamento de dados em cluster.\n",
    "\n",
    "Por outro lado, a programação orientada a objetos se baseia em modelos de objetos que possuem estado e comportamento, e enfatiza a herança e a composição de objetos ao invés de funções. Isso pode tornar o código mais fácil de entender e manter, além de ser uma boa escolha para modelar problemas complexos e desenvolvimento de aplicações de alta escala.\n",
    "\n",
    "Em geral, ambos os paradigmas têm seus usos e aplicações específicas, e o escolha do melhor depende do problema que se pretende resolver. Alguns projetos podem se beneficiar mais da programação funcional, enquanto outros podem se beneficiar mais da programação orientada a objetos. Em alguns casos, pode ser benéfico utilizar a programação funcional e orientada a objetos juntas, combinando as vantagens de ambos os paradigmas.\n",
    "\n",
    "É importante notar que ambas as programação funcional e orientada a objetos são ferramentas poderosas e cada uma tem sua própria filosofia e abordagem para resolver problemas. O desenvolvedor deve estar ciente das diferenças entre elas e saber quando usar cada uma delas.\n",
    "\n",
    "A programação funcional é uma boa escolha para trabalhar com grandes conjuntos de dados, como processamento de dados em cluster, enquanto que a programação orientada a objetos é uma boa escolha para modelar problemas complexos e desenvolvimento de aplicações de alta escala.\n",
    "\n",
    "Em resumo, a programação funcional e orientada a objetos são dois paradigmas distintos, cada um com suas próprias vantagens e desvantagens e o escolha do melhor depende do problema que se pretende resolver."
   ]
  }
 ],
 "metadata": {
  "kernelspec": {
   "display_name": ".venv",
   "language": "python",
   "name": "python3"
  },
  "language_info": {
   "codemirror_mode": {
    "name": "ipython",
    "version": 3
   },
   "file_extension": ".py",
   "mimetype": "text/x-python",
   "name": "python",
   "nbconvert_exporter": "python",
   "pygments_lexer": "ipython3",
   "version": "3.11.1"
  },
  "orig_nbformat": 4,
  "vscode": {
   "interpreter": {
    "hash": "1c99f561ca1a717b60f7deeca363b5de64a153a33138772a1efbe72b24e89a8e"
   }
  }
 },
 "nbformat": 4,
 "nbformat_minor": 2
}

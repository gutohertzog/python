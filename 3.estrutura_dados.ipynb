{
 "cells": [
  {
   "attachments": {},
   "cell_type": "markdown",
   "metadata": {},
   "source": [
    "# Estrutura de Dados"
   ]
  },
  {
   "attachments": {},
   "cell_type": "markdown",
   "metadata": {},
   "source": [
    "O Python possui diversas ferramentar para lidar com estrutura de dados.<br>\n",
    "As que veremos a seguir são :\n",
    "- lists\n",
    "- tuples\n",
    "- sets\n",
    "- dictionaries"
   ]
  },
  {
   "attachments": {},
   "cell_type": "markdown",
   "metadata": {},
   "source": [
    "# 1. Listas - Parte 2"
   ]
  },
  {
   "attachments": {},
   "cell_type": "markdown",
   "metadata": {},
   "source": [
    "Vamos nos aprofundar mais nas listas e no que elas podem fazer.<br>\n",
    "As listas possuem diversos métodos."
   ]
  },
  {
   "attachments": {},
   "cell_type": "markdown",
   "metadata": {},
   "source": [
    "## 1.1. list.append(x)"
   ]
  },
  {
   "attachments": {},
   "cell_type": "markdown",
   "metadata": {},
   "source": [
    "Adiciona um item ao final da lista.<br>\n",
    "Equivalente a fazer `lista[len(lista):] = [novo_item]`."
   ]
  },
  {
   "cell_type": "code",
   "execution_count": null,
   "metadata": {},
   "outputs": [],
   "source": [
    "numeros = [1,2,3,4]\n",
    "print(numeros)\n",
    "\n",
    "numeros.append(5)\n",
    "print(numeros)\n",
    "\n",
    "numeros[len(numeros):] = [6]\n",
    "print(numeros)"
   ]
  },
  {
   "attachments": {},
   "cell_type": "markdown",
   "metadata": {},
   "source": [
    "## 1.2. list.extend(iterable)"
   ]
  },
  {
   "attachments": {},
   "cell_type": "markdown",
   "metadata": {},
   "source": [
    "Extende uma lista adicionando todos os itens do iterável.<br>\n",
    "Equivalente a fazer `lista[len(lista):] = iterable`."
   ]
  },
  {
   "cell_type": "code",
   "execution_count": null,
   "metadata": {},
   "outputs": [],
   "source": [
    "numeros = [1,2,3,4]\n",
    "outros_numeros = [9,8,7,6]\n",
    "print(numeros)\n",
    "\n",
    "numeros.extend(outros_numeros)\n",
    "print(numeros)\n",
    "\n",
    "mais_numeros = [10,11,12]\n",
    "numeros[len(numeros):] = mais_numeros\n",
    "print(numeros)"
   ]
  },
  {
   "attachments": {},
   "cell_type": "markdown",
   "metadata": {},
   "source": [
    "## 1.3. list.insert(i, x)"
   ]
  },
  {
   "attachments": {},
   "cell_type": "markdown",
   "metadata": {},
   "source": [
    "Insere um item em uma posição específica. O primeiro argumento (`i`) é o índice onde o elemento será inserido. Logo, `lista.insert(0, x)` vai insrir na primeira posição da lista, e `lista.insert(len(lista), x)` é equivalente ao `lista.append(x)`. Retorna `None`."
   ]
  },
  {
   "cell_type": "code",
   "execution_count": null,
   "metadata": {},
   "outputs": [],
   "source": [
    "numeros = [1,2,3,4]\n",
    "print(numeros)\n",
    "\n",
    "numeros.insert(0, 'f')\n",
    "print(numeros)\n",
    "\n",
    "numeros.insert(len(numeros), 'b')\n",
    "print(numeros)"
   ]
  },
  {
   "attachments": {},
   "cell_type": "markdown",
   "metadata": {},
   "source": [
    "## 1.4. list.remove(x)"
   ]
  },
  {
   "attachments": {},
   "cell_type": "markdown",
   "metadata": {},
   "source": [
    "Remove da lista a primeira ocorrência onde o valor é igual ao `x`. Vai gerar um `ValueError` se não encontrar o item. Retorna `None`."
   ]
  },
  {
   "cell_type": "code",
   "execution_count": null,
   "metadata": {},
   "outputs": [],
   "source": [
    "numeros = [1,2,3,4]\n",
    "print(numeros)\n",
    "\n",
    "numeros.remove(2)\n",
    "print(numeros)\n",
    "\n",
    "numeros.remove(5)\n",
    "print(numeros)"
   ]
  },
  {
   "attachments": {},
   "cell_type": "markdown",
   "metadata": {},
   "source": [
    "## 1.5. list.pop([i])"
   ]
  },
  {
   "attachments": {},
   "cell_type": "markdown",
   "metadata": {},
   "source": [
    "Remove o item dada uma posição da lista e retorna ele. Se nenhum índice for especificado, `lista.pop()` remove e retorna o último item da lista. (Os colchetes entre o `i` apenas indicam que o parâmetro é opcional. É usado com muita frequência nas referências do Python). Vai gerar um `IndexError` caso o índice não exista."
   ]
  },
  {
   "cell_type": "code",
   "execution_count": null,
   "metadata": {},
   "outputs": [],
   "source": [
    "numeros = [1,2,3,4]\n",
    "print(numeros)\n",
    "\n",
    "ultimo = numeros.pop()\n",
    "print(numeros)\n",
    "print(ultimo)\n",
    "\n",
    "especifico = numeros.pop(0)\n",
    "print(numeros)\n",
    "print(especifico)\n",
    "\n",
    "especifico = numeros.pop(6)"
   ]
  },
  {
   "attachments": {},
   "cell_type": "markdown",
   "metadata": {},
   "source": [
    "## 1.6. list.clear()"
   ]
  },
  {
   "attachments": {},
   "cell_type": "markdown",
   "metadata": {},
   "source": [
    "Remove todos os itens da lista. Equivalente ao `del lista[:]`."
   ]
  },
  {
   "cell_type": "code",
   "execution_count": null,
   "metadata": {},
   "outputs": [],
   "source": [
    "numeros = [1,2,3,4]\n",
    "print(numeros)\n",
    "\n",
    "numeros.clear()\n",
    "print(numeros)\n",
    "\n",
    "numeros = [1,2,3,4]\n",
    "print(numeros)\n",
    "del numeros[:]\n",
    "print(numeros)"
   ]
  },
  {
   "attachments": {},
   "cell_type": "markdown",
   "metadata": {},
   "source": [
    "## 1.7. list.index(x[, start[, end]])"
   ]
  },
  {
   "attachments": {},
   "cell_type": "markdown",
   "metadata": {},
   "source": [
    "Retorna o índice da lista do primeiro item que o valor é igual ao `x`. Vai gerar um `ValueError` se o item não estiver na lista.<br>\n",
    "O argumento opcional `start` e `end` são interpretados como uma notação de fatiamento e são usados para limitar a busca a uma subsequência da lista."
   ]
  },
  {
   "cell_type": "code",
   "execution_count": null,
   "metadata": {},
   "outputs": [],
   "source": [
    "animais = ['cachorro', 'gato', 'cavalo', 'caturrita']\n",
    "indice = animais.index('gato')\n",
    "print(indice)\n",
    "print(animais[indice])"
   ]
  },
  {
   "attachments": {},
   "cell_type": "markdown",
   "metadata": {},
   "source": [
    "## 1.8. list.count(x)"
   ]
  },
  {
   "attachments": {},
   "cell_type": "markdown",
   "metadata": {},
   "source": [
    "Retorna o número de vezes que o `x` aparece na lista."
   ]
  },
  {
   "cell_type": "code",
   "execution_count": null,
   "metadata": {},
   "outputs": [],
   "source": [
    "numeros = [1,2,3,4,5,6,1,5,6,9,5,6,9,7,5]\n",
    "qtd = numeros.count(5)\n",
    "print(qtd)"
   ]
  },
  {
   "attachments": {},
   "cell_type": "markdown",
   "metadata": {},
   "source": [
    "## 1.9. list.sort(*, key=None, reverse=False)"
   ]
  },
  {
   "attachments": {},
   "cell_type": "markdown",
   "metadata": {},
   "source": [
    "Ordena os itens de uma lista. Retorna `None`. Para usar os argumentos opcionais, é ncessário chamá-los usando os argumentos nomeados.\n",
    "- `key` : especifica a função de um argumento que é usada para comparar cada elemento no iterável (exemplo : `key=str.lower`). O valor padrão é `None` (que compara os elementos diretamente).\n",
    "- `reverse` : é um valor booleano. Se usado com `True`, então a lista de elementos é ordenada como se cada comparação fosse revertida."
   ]
  },
  {
   "cell_type": "code",
   "execution_count": null,
   "metadata": {},
   "outputs": [],
   "source": [
    "numeros = [1,2,3,4,5,6,1,5,6,9,5,6,9,7,5]\n",
    "print(numeros)\n",
    "numeros.sort()\n",
    "print(numeros)\n",
    "numeros.sort(reverse=True)\n",
    "print(numeros)"
   ]
  },
  {
   "cell_type": "code",
   "execution_count": null,
   "metadata": {},
   "outputs": [],
   "source": [
    "animais = ['cachorro', 'gato', 'cavalo', 'caturrita', 'GATO', 'GAFANHORO']\n",
    "animais.sort()\n",
    "print(animais)\n",
    "animais.sort(key=str.lower)\n",
    "print(animais)"
   ]
  },
  {
   "attachments": {},
   "cell_type": "markdown",
   "metadata": {},
   "source": [
    "Repare que nem todos os dados podem ser comparados ou ordendos.<br>\n",
    "For exemplo, `[None, 'cavalo', 10]` não podem ser ordenados porque inteiros não podem ser comparados com `strings` e `None` não pode ser comparado com outros tipos.<br>\n",
    "Também, há alguns tipos que não tem uma ordem de relação definida. Por exemplo, `3+4j < 5+7j` não é uma comparação válida."
   ]
  },
  {
   "attachments": {},
   "cell_type": "markdown",
   "metadata": {},
   "source": [
    "## 1.10. list.reverse()"
   ]
  },
  {
   "attachments": {},
   "cell_type": "markdown",
   "metadata": {},
   "source": [
    "Reverte os elementos da lista."
   ]
  },
  {
   "cell_type": "code",
   "execution_count": null,
   "metadata": {},
   "outputs": [],
   "source": [
    "numeros = [1,2,3,4,5,6,1,5,6,9,5,6,9,7,5]\n",
    "print(numeros)\n",
    "numeros.reverse()\n",
    "print(numeros)"
   ]
  },
  {
   "attachments": {},
   "cell_type": "markdown",
   "metadata": {},
   "source": [
    "## 1.11. list.copy()"
   ]
  },
  {
   "attachments": {},
   "cell_type": "markdown",
   "metadata": {},
   "source": [
    "Retorna uma cópia rasa (`shallow copy`) da lista. Equivalente a `lista[:]`."
   ]
  },
  {
   "cell_type": "code",
   "execution_count": null,
   "metadata": {},
   "outputs": [],
   "source": [
    "animais = ['cachorro', 'gato', 'cavalo', 'caturrita']\n",
    "copia = animais.copy()\n",
    "animais.append('morcego')\n",
    "print(animais)\n",
    "print(copia)"
   ]
  },
  {
   "attachments": {},
   "cell_type": "markdown",
   "metadata": {},
   "source": [
    "## 1.12. Listas como Pilhas"
   ]
  },
  {
   "attachments": {},
   "cell_type": "markdown",
   "metadata": {},
   "source": [
    "Os métodos das listas tornam muito fácil trabalhar com elas como se fossem pilhas, onde o último elemento adicionando é o primeiro elemento recuperado (`last-in, first-out` - `lifo`). Para adicionar um item ao topo da pilha, use `.append()`. Para recuperar um item do topo da pilha, use `.pop()` sem um índice explícito."
   ]
  },
  {
   "cell_type": "code",
   "execution_count": null,
   "metadata": {},
   "outputs": [],
   "source": [
    "pilha_animais = ['cachorro', 'gato', 'cavalo', 'mula']\n",
    "print(pilha_animais)\n",
    "\n",
    "pilha_animais.append('grilo')\n",
    "pilha_animais.append('dragão')\n",
    "print(pilha_animais)\n",
    "\n",
    "ultimo = pilha_animais.pop()\n",
    "print(pilha_animais)\n",
    "print(ultimo)\n",
    "\n",
    "ultimo = pilha_animais.pop()\n",
    "ultimo = pilha_animais.pop()\n",
    "print(pilha_animais)\n",
    "print(ultimo)"
   ]
  },
  {
   "attachments": {},
   "cell_type": "markdown",
   "metadata": {},
   "source": [
    "## 1.13. Compreensão de Listas (List Comprehensions)"
   ]
  },
  {
   "attachments": {},
   "cell_type": "markdown",
   "metadata": {},
   "source": [
    "Compreensão de listas é uma maneira concisa de criar listas. Muitas aplicações criam novas listas onde cada elemento resulta de alguma operação aplicada a cada item de outra sequência ou iterável, ou criar uma sublista de elmentos que satisfazem determinada condição."
   ]
  },
  {
   "cell_type": "code",
   "execution_count": null,
   "metadata": {},
   "outputs": [],
   "source": [
    "# forma 'tradional'\n",
    "quadrados = []\n",
    "for x in range(10):\n",
    "    quadrados.append(x**2)\n",
    "print(quadrados)"
   ]
  },
  {
   "attachments": {},
   "cell_type": "markdown",
   "metadata": {},
   "source": [
    "Note que desse modo cria (ou sobreescreve) uma variável chamada de `x` que ainda existe depois da repetição terminar. Nós podemos calcular a lista de quadrados sem efeito colateral usando compreensão de listas, que é mais concisa e mais fácil de ler."
   ]
  },
  {
   "cell_type": "code",
   "execution_count": null,
   "metadata": {},
   "outputs": [],
   "source": [
    "quadrados = [x**2 for x in range(10)]\n",
    "print(quadrados)"
   ]
  },
  {
   "attachments": {},
   "cell_type": "markdown",
   "metadata": {},
   "source": [
    "A compreensão de listas consiste em conchetes `[]` contendo uma expressão seguido de uma cláusula `for` e então zero ou mais cláusulas `for` ou `if`. O resultado será uma nova lista resultante da verificação da expressão no contexto das cláusulas `for` e `if` que seguem.<br>\n",
    "Por exemplo : essa comparação de listas combina elementos de duas listas se eles não forem iguais."
   ]
  },
  {
   "cell_type": "code",
   "execution_count": null,
   "metadata": {},
   "outputs": [],
   "source": [
    "resultado = [(x, y) for x in [1,2,3] for y in [3,1,4] if x != y]\n",
    "print(resultado)"
   ]
  },
  {
   "cell_type": "code",
   "execution_count": null,
   "metadata": {},
   "outputs": [],
   "source": [
    "# equivalente\n",
    "resultado = []\n",
    "for x in [1,2,3]:\n",
    "    for y in [3,1,4]:\n",
    "        if x != y:\n",
    "            resultado.append((x, y))\n",
    "print(resultado)"
   ]
  },
  {
   "attachments": {},
   "cell_type": "markdown",
   "metadata": {},
   "source": [
    "Repare que a ordem das cláusulas `for`s e `if` são as mesmas em ambos os códigos."
   ]
  },
  {
   "cell_type": "code",
   "execution_count": null,
   "metadata": {},
   "outputs": [],
   "source": [
    "lista = [-4, -2, 0, 2, 4]\n",
    "\n",
    "# cria uma nova lista com os valores duplicados\n",
    "print(f'Lista duplicada : {[x*2 for x in lista]}')\n",
    "\n",
    "# filtra a lista para excluir os valores negativos\n",
    "print(f'Lista positivos : {[x for x in lista if x >= 0]}')\n",
    "\n",
    "# aplica uma função a todos os elementos\n",
    "print(f'Lista absolutos : {[abs(x) for x in lista]}')\n",
    "\n",
    "# chama um método em cada elemento da lista\n",
    "frutas = ['   banana   ', '   laranga', 'bergamota   ']\n",
    "print(f'Frutas sem espaços : {[fruta.strip() for fruta in frutas]}')\n",
    "\n",
    "# cria uma lista de tuplas com dois valores como (numero, quadrado)\n",
    "print(f'Tuplas : {[(x, x**2) for x in range(10)]}')\n",
    "# a tupla precisa estar entre parêntesos, senão ocorre o erro :\n",
    "# SyntaxError: f-string: did you forget parentheses around the comprehension target?\n",
    "\n",
    "# junta uma lista de listas em outra lista com dois 'for'\n",
    "listas = [[1,2,3], [4,5,6], [7,8,9]]\n",
    "print(f'Uma lista : {[num for lista in listas for num in lista]}')"
   ]
  },
  {
   "attachments": {},
   "cell_type": "markdown",
   "metadata": {},
   "source": [
    "Compreensão de listas pode conter expressões complexas e funções aninhadas."
   ]
  },
  {
   "cell_type": "code",
   "execution_count": null,
   "metadata": {},
   "outputs": [],
   "source": [
    "from math import pi\n",
    "print(f'Decimais do PI : {[str(round(pi, i)) for i in range(1, 6)]}')"
   ]
  },
  {
   "attachments": {},
   "cell_type": "markdown",
   "metadata": {},
   "source": [
    "## 1.14. Compreensão de Listas Aninhadas"
   ]
  },
  {
   "attachments": {},
   "cell_type": "markdown",
   "metadata": {},
   "source": [
    "A expressão inicial de uma compreensão de lista pode ser qualquer expressão, incluindo outra compreensão de lista."
   ]
  },
  {
   "attachments": {},
   "cell_type": "markdown",
   "metadata": {},
   "source": [
    "A compreensão de lista abaixo vai transpor as linhas e colunas da matriz."
   ]
  },
  {
   "cell_type": "code",
   "execution_count": null,
   "metadata": {},
   "outputs": [],
   "source": [
    "matriz = [\n",
    "    [1, 2, 3, 4],\n",
    "    [5, 6, 7, 8],\n",
    "    [9, 10, 11, 12],\n",
    "]\n",
    "\n",
    "transposta = [[linha[i] for linha in matriz] for i in range(4)]\n",
    "print(f'Matriz transposta : {transposta}')"
   ]
  },
  {
   "attachments": {},
   "cell_type": "markdown",
   "metadata": {},
   "source": [
    "Como vimos, a compreensão de lista mais interna é resolvida no contexto do `for` mais externo. Veja os equivalentes :"
   ]
  },
  {
   "cell_type": "code",
   "execution_count": null,
   "metadata": {},
   "outputs": [],
   "source": [
    "matriz = [\n",
    "    [1, 2, 3, 4],\n",
    "    [5, 6, 7, 8],\n",
    "    [9, 10, 11, 12],\n",
    "]\n",
    "\n",
    "transposta = []\n",
    "for i in range(4):\n",
    "    transposta.append([linha[i] for linha in matriz])\n",
    "print(f'Matriz transposta : {transposta}')"
   ]
  },
  {
   "cell_type": "code",
   "execution_count": null,
   "metadata": {},
   "outputs": [],
   "source": [
    "matriz = [\n",
    "    [1, 2, 3, 4],\n",
    "    [5, 6, 7, 8],\n",
    "    [9, 10, 11, 12],\n",
    "]\n",
    "\n",
    "transposta = []\n",
    "for i in range(4):\n",
    "    transposta_linha = []\n",
    "    for linha in matriz:\n",
    "        transposta_linha.append(linha[i])\n",
    "    transposta.append(transposta_linha)\n",
    "print(f'Matriz transposta : {transposta}')"
   ]
  },
  {
   "attachments": {},
   "cell_type": "markdown",
   "metadata": {},
   "source": [
    "## Links"
   ]
  },
  {
   "attachments": {},
   "cell_type": "markdown",
   "metadata": {},
   "source": [
    "- https://docs.python.org/3/tutorial/datastructures.html#more-on-lists\n",
    "- https://docs.python.org/3/library/functions.html#sorted\n",
    "- https://peps.python.org/pep-0202/"
   ]
  },
  {
   "attachments": {},
   "cell_type": "markdown",
   "metadata": {},
   "source": [
    "# 2. del"
   ]
  },
  {
   "attachments": {},
   "cell_type": "markdown",
   "metadata": {},
   "source": [
    "Há uma maneira de remover um item de uma lista através de seu índice em vez de seu valor : a declaração [del](https://docs.python.org/3/reference/simple_stmts.html#del). Ela é diferente do método `pop()` que retorna um valor. A declaração `del` pode ser usada para remover segmentos de uma lista ou limpar toda a lista (que foi visto antes pela atribuição de uma lista vazia para o segmento)."
   ]
  },
  {
   "cell_type": "code",
   "execution_count": null,
   "metadata": {},
   "outputs": [],
   "source": [
    "numeros = [-5, 1, 42, 66.66, 456, 1234,5]\n",
    "print(numeros)\n",
    "\n",
    "del numeros[0]\n",
    "print(numeros)\n",
    "\n",
    "del numeros[2:4]\n",
    "print(numeros)\n",
    "\n",
    "del numeros[:]\n",
    "print(numeros)"
   ]
  },
  {
   "attachments": {},
   "cell_type": "markdown",
   "metadata": {},
   "source": [
    "O `del` também pode ser usado para declarar variáveis inteiras."
   ]
  },
  {
   "cell_type": "code",
   "execution_count": null,
   "metadata": {},
   "outputs": [],
   "source": [
    "numeros = [-5, 1, 42, 66.66, 456, 1234,5]\n",
    "print(numeros)\n",
    "\n",
    "del numeros\n",
    "# NameError: name 'numeros' is not defined\n",
    "print(numeros)"
   ]
  },
  {
   "attachments": {},
   "cell_type": "markdown",
   "metadata": {},
   "source": [
    "Tentar usar a variável `numeros` depois do `del` irá gerar um erro (ao menos até outro valor ser associado à variável). Mais tarde veremos outros usos para o `del`."
   ]
  },
  {
   "attachments": {},
   "cell_type": "markdown",
   "metadata": {},
   "source": [
    "# 3. Tuplas e Sequências"
   ]
  },
  {
   "attachments": {},
   "cell_type": "markdown",
   "metadata": {},
   "source": [
    "Nós vimos que listas e strings têm muitas propriedades em comum, como as operações com índices e repartimentos. Elas são dois exemplos de [tipos de dados de sequência](https://docs.python.org/3/library/stdtypes.html#typesseq). Há ainda outro tipo de sequência : a tupla (`tuple`).\n",
    "\n",
    "A tupla consiste de uma série de valores separados por vírgulas."
   ]
  },
  {
   "cell_type": "code",
   "execution_count": null,
   "metadata": {},
   "outputs": [],
   "source": [
    "tupla  = 123456, 654321, 'bom dia!'\n",
    "print(tupla[0])\n",
    "print(tupla)\n",
    "\n",
    "# tuplas também podem ser aninhadas\n",
    "outra_tupla = tupla, (1, 2, 3, 4, 5)\n",
    "print(outra_tupla)\n",
    "\n",
    "# tuplas são imutáveis\n",
    "# TypeError: 'tuple' object does not support item assignment\n",
    "tupla[0] = 8888\n",
    "\n",
    "# mas elas podem conter objetos mutáveis\n",
    "tupla = ([1, 2, 3], [3, 2, 1])\n",
    "print(tupla)"
   ]
  },
  {
   "attachments": {},
   "cell_type": "markdown",
   "metadata": {},
   "source": [
    "Como você pode ver, as saídas das tuplas são sempre cercadas por parênteses `()`, o que quer dizer que as tuplas são interpretadas corretamente. Elas podem ser declaradas com ou sem parênteses, embora muitas vezes os parênteses sejam necessários de qualquer jeito (se a tupla for parte de uma expressão maior). Não é possível atribuir um valor individual a um item de uma tupla, contudo, é possível criar tuplas que contem objetos mutáveis, como as listas."
   ]
  },
  {
   "attachments": {},
   "cell_type": "markdown",
   "metadata": {},
   "source": [
    "Embora as tuplas possem parecer similar às listas, elas são usadas em diferentes situações e para diferentes propósitos. Tuplas são [imutáveis](https://docs.python.org/3/glossary.html#term-immutable) e geralmente contem uma sequência heterogênea de elementos que são acessados via desempacotamento (mais sobre isso abaixo) ou indexando (ou até mesmo com atributos, como no caso de [namedtuples](https://docs.python.org/3/library/collections.html#collections.namedtuple)). Listas são [mutáveis](https://docs.python.org/3/glossary.html#term-mutable) e seus elementos são geralmente homogêneos e são acessados pela iteração da lista."
   ]
  },
  {
   "attachments": {},
   "cell_type": "markdown",
   "metadata": {},
   "source": [
    "Um problema especial é a construção das tuplas contendo 0 ou 1 item : a sintaxe tem alguns passos extras para serem realizados. Tuplas vazias são construídas usando um par de parênteses vazios; uma tupla com um item é construindo colocando uma vírgula após o valor (não é o suficiente apenas colocar o valor único entre parênteses). É feio, mas eficiente."
   ]
  },
  {
   "cell_type": "code",
   "execution_count": null,
   "metadata": {},
   "outputs": [],
   "source": [
    "vazio = ()\n",
    "unico = 'buenas', # repare na vírgula no final\n",
    "print(len(vazio))\n",
    "print(len(unico))\n",
    "print(unico)"
   ]
  },
  {
   "attachments": {},
   "cell_type": "markdown",
   "metadata": {},
   "source": [
    "A declaração `tupla = 123456, 654321, 'bom dia!'` é um exemplo de empacotamento de tupla. Os valores `123456`, `654321` e `bom dia!` são empacotados juntos em uma tupla. A operação reversa também é possível."
   ]
  },
  {
   "cell_type": "code",
   "execution_count": null,
   "metadata": {},
   "outputs": [],
   "source": [
    "tupla  = 123456, 654321, 'bom dia!'\n",
    "valor1, valor2, valor3 = tupla\n",
    "print(tupla)\n",
    "print(valor1)\n",
    "print(valor2)\n",
    "print(valor3)"
   ]
  },
  {
   "attachments": {},
   "cell_type": "markdown",
   "metadata": {},
   "source": [
    "Isso é chamado de desempacotamento de sequência e funciona para qualquer sequência do lado direito. Desempacotamento de sequência requer que haja a quantidade de variáveis igual à quantidade de valores que tupla tiver. Repare que atribuições múltiplas nada mais é que a combinação de empacotamento e desempacotamento de tuplas."
   ]
  },
  {
   "attachments": {},
   "cell_type": "markdown",
   "metadata": {},
   "source": [
    "# 4. Sets"
   ]
  },
  {
   "attachments": {},
   "cell_type": "markdown",
   "metadata": {},
   "source": [
    "Python também tem o tipo `sets`. Um `set` é uma coleção desordenada sem elementos duplicados. Usos básicos incluem teste dos elementos e eliminação de entradas duplicadas. `Sets` também suportam operações matemáticas como `união`, `inseção`, `diferença` e `diferença simétrica`.\n",
    "\n",
    "Chaves ou a função [set()](https://docs.python.org/3/library/stdtypes.html#set) podem ser usadas para criar `sets`. Nota : para criar um `set` vazio você precisa usar `set()` e não `{}`. O `{}` cria um dicionário vazio, uma estrutura de dados que será visto adiante."
   ]
  },
  {
   "cell_type": "code",
   "execution_count": null,
   "metadata": {},
   "outputs": [],
   "source": [
    "cesta = {'maçã', 'laranja', 'bergamota', 'laranja', 'banana'}\n",
    "print(cesta) # mostra que as duplicadas foram removidas\n",
    "\n",
    "print('laranja' in cesta) # teste rápido se o item está no set\n",
    "print('pepino' in cesta)\n",
    "\n",
    "# demonstração das operações set de duas palavras\n",
    "set1 = set('abracadabra')\n",
    "set2 = set('alakazam')\n",
    "print(set1) # letras únicas no set1\n",
    "print(set1 - set2) # letras em set1 mas não em set2\n",
    "print(set1 | set2) # letras em set1 ou em set2\n",
    "print(set1 & set2) # letras em set1 e em set2\n",
    "print(set1 ^ set2) # letras em set1 ou em set2, mas não em ambos"
   ]
  },
  {
   "attachments": {},
   "cell_type": "markdown",
   "metadata": {},
   "source": [
    "Assim como a [compreensão de listas](https://docs.python.org/3/tutorial/datastructures.html#tut-listcomps), compreensão de set também está disponível."
   ]
  },
  {
   "cell_type": "code",
   "execution_count": null,
   "metadata": {},
   "outputs": [],
   "source": [
    "um_set = {l for l in 'abracadabra' if l not in 'abc'}\n",
    "print(um_set)"
   ]
  },
  {
   "attachments": {},
   "cell_type": "markdown",
   "metadata": {},
   "source": [
    "# 5. Dicionários"
   ]
  },
  {
   "attachments": {},
   "cell_type": "markdown",
   "metadata": {},
   "source": [
    "Outra estrutura de dados útil **built-in** do Python é o dicionário ([dictionary](https://docs.python.org/3/library/stdtypes.html#typesmapping)). Dicionários são encontrados em outras linguagens com `memórias associativas` ou `arrays associativos`. Diferente das sequências, que são indexadas por uma série de números, dicionário são indexados por chvaes (`keys`), que podem ser de qualquer tipo `imutável` (string e números sempre podem ser chaves). Tuplas podem ser usadas como chaves se elas contem apenas strings, números ou tuplas (se a tupla contem qualquer objeto mutável direto ou indiretamente, ela não pode ser usada como uma chave). Você não pode usar listas como chaves, já que as listas podem ser modificadas usando atribuição pelo índice, atribuição por repartição ou métodos como `append()` ou `extend()`.\n",
    "\n",
    "É melhor pensar num dicionário como um conjunto de pares `chave : valor`, com a condição de que as chaves sejam únicas (dentro do mesmo dicionário). Um par de chaves `{}` cria um dicionário vazio. Colocando uma vírgula separando os pares `chave : valor` dentro das chaves adiciona o valor par inicial de `chave : valor` ao dicionário (esta também é a forma como os dicionários são escritos nas saídas).\n",
    "\n",
    "As operações principais em um dicionário são de armazenas um valor com alguma chave e extrair o valor dado a chave. É também possível deletar um par `chave : valor` com o comando `del`. Se você armazenar uma chave que já está em uso, o valor antigo associado à chave será apagado. É um erro extrair um valor de uma chave inexistente.\n",
    "\n",
    "Usar a função `list(d)` em um dicionário retorna uma lista de todas as chaves usadas nele na ordem inserida (se você quiser ordenar, basta usar `sorted(d)`). Para verificar se uma única chave está presente no dicionário, use o comando [in](https://docs.python.org/3/reference/expressions.html#in)."
   ]
  },
  {
   "cell_type": "code",
   "execution_count": null,
   "metadata": {},
   "outputs": [],
   "source": [
    "pessoa = {'nome':'fulano', 'idade':20}\n",
    "print(pessoa)\n",
    "pessoa['telefone'] = '555.555'\n",
    "print(pessoa['nome'])\n",
    "print(pessoa['idade'])\n",
    "\n",
    "del pessoa['telefone']\n",
    "print(pessoa)\n",
    "\n",
    "pessoa['altura'] = 1.5\n",
    "print(list(pessoa))\n",
    "\n",
    "print(sorted(pessoa))\n",
    "print('nome' in pessoa)\n",
    "print('idade' not in pessoa)"
   ]
  },
  {
   "attachments": {},
   "cell_type": "markdown",
   "metadata": {},
   "source": [
    "O construtor [dict()](https://docs.python.org/3/library/stdtypes.html#dict) cria dicionário diretamente das sequências dos pares chave-valor."
   ]
  },
  {
   "cell_type": "code",
   "execution_count": null,
   "metadata": {},
   "outputs": [],
   "source": [
    "pessoa = dict([('nome', 'fulano'), ('idade', 20)])\n",
    "print(pessoa)"
   ]
  },
  {
   "attachments": {},
   "cell_type": "markdown",
   "metadata": {},
   "source": [
    "Também, compreensão de dicionários podem ser usados para criar dicionários."
   ]
  },
  {
   "cell_type": "code",
   "execution_count": null,
   "metadata": {},
   "outputs": [],
   "source": [
    "print({x: x**2 for x in (2, 4, 6)})"
   ]
  },
  {
   "attachments": {},
   "cell_type": "markdown",
   "metadata": {},
   "source": [
    "Quando as chaves são string simples, é, às vezes, mais de especificar os pares usando argumentos nomeados."
   ]
  },
  {
   "cell_type": "code",
   "execution_count": null,
   "metadata": {},
   "outputs": [],
   "source": [
    "print(dict(nome='fulano', idade=20))"
   ]
  },
  {
   "attachments": {},
   "cell_type": "markdown",
   "metadata": {},
   "source": [
    "# 6. Técnicas de Repetições"
   ]
  },
  {
   "attachments": {},
   "cell_type": "markdown",
   "metadata": {},
   "source": [
    "Quando realizamos uma repetição através de dicionários, a chave e  o valor correspondente podem ser recuperados ao mesmo tempo usando o método `.item()`."
   ]
  },
  {
   "cell_type": "code",
   "execution_count": null,
   "metadata": {},
   "outputs": [],
   "source": [
    "cavaleiros = {'gallahad': 'o puro', 'robin': 'o bravo'}\n",
    "for chave, valor in cavaleiros.items():\n",
    "    print(chave, valor)"
   ]
  },
  {
   "attachments": {},
   "cell_type": "markdown",
   "metadata": {},
   "source": [
    "Quando realizamos uma repetição através de uma sequência, o índice da posição e o valor correspondente podem ser recuperados da mesma maneira usando a função [enumerate()](https://docs.python.org/3/library/functions.html#enumerate)."
   ]
  },
  {
   "cell_type": "code",
   "execution_count": null,
   "metadata": {},
   "outputs": [],
   "source": [
    "for indice, valor in enumerate(['tic','tac','toe']):\n",
    "    print(indice, valor)"
   ]
  },
  {
   "attachments": {},
   "cell_type": "markdown",
   "metadata": {},
   "source": [
    "A repetição sobre dois ou mais sequências ao mesmo tempo, as entradas podem ser pareadas com a função [zip()](https://docs.python.org/3/library/functions.html#zip)."
   ]
  },
  {
   "cell_type": "code",
   "execution_count": null,
   "metadata": {},
   "outputs": [],
   "source": [
    "perguntas = ['nome', 'missao', 'cor favorita']\n",
    "respostas = ['lancelot', 'o cálice sagrado', 'azul']\n",
    "\n",
    "for p, r in zip(perguntas, respostas):\n",
    "    print(f'Qual é seu {p}? É {r}.')"
   ]
  },
  {
   "attachments": {},
   "cell_type": "markdown",
   "metadata": {},
   "source": [
    "Para repetir sobre uma sequência de trás para frente, primeiro especifique a sequência crescente e então chame a função [reversed()](https://docs.python.org/3/library/functions.html#reversed)."
   ]
  },
  {
   "cell_type": "code",
   "execution_count": null,
   "metadata": {},
   "outputs": [],
   "source": [
    "for i in reversed(range(1, 24, 2)):\n",
    "    print(i, end=' ')"
   ]
  },
  {
   "attachments": {},
   "cell_type": "markdown",
   "metadata": {},
   "source": [
    "Para repetir sobre uma sequência ordenada, use a função [sorted()](https://docs.python.org/3/library/functions.html#sorted) que retorna uma nova lista ordenada enquando deixa a lista original inalterada."
   ]
  },
  {
   "cell_type": "code",
   "execution_count": null,
   "metadata": {},
   "outputs": [],
   "source": [
    "cesta = ['maçã', 'laranja', 'bergamota', 'laranja', 'banana']\n",
    "for i in sorted(cesta):\n",
    "    print(i, end=' ')"
   ]
  },
  {
   "attachments": {},
   "cell_type": "markdown",
   "metadata": {},
   "source": [
    "Usando [set()](https://docs.python.org/3/library/stdtypes.html#set) em uma sequência elimina os elementos duplicados. O uso do [sorted()](https://docs.python.org/3/library/functions.html#sorted) em commbinação com o [set()](https://docs.python.org/3/library/stdtypes.html#set) sobre as sequências é uma maneira idiomática de repetir sobre os elementos únicos de uma sequência ordenada."
   ]
  },
  {
   "cell_type": "code",
   "execution_count": null,
   "metadata": {},
   "outputs": [],
   "source": [
    "cesta = ['maçã', 'laranja', 'bergamota', 'laranja', 'banana']\n",
    "for i in sorted(set(cesta)):\n",
    "    print(i, end=' ')"
   ]
  },
  {
   "attachments": {},
   "cell_type": "markdown",
   "metadata": {},
   "source": [
    "Às vezes é tentador mudar uma lista enquanto você está repetindo sobre ela, contudo geralmente é mais seguro e simples criar uma nova lista."
   ]
  },
  {
   "cell_type": "code",
   "execution_count": null,
   "metadata": {},
   "outputs": [],
   "source": [
    "import math\n",
    "\n",
    "varios_dados = [3.17, float('NaN'), 51.7, 55.3, 52.5, float('NaN'), 47.8]\n",
    "dados_filtrados = []\n",
    "\n",
    "# filtra os dados numéricos\n",
    "for valor in varios_dados:\n",
    "    if not math.isnan(valor):\n",
    "        dados_filtrados.append(valor)\n",
    "\n",
    "print(dados_filtrados)"
   ]
  },
  {
   "attachments": {},
   "cell_type": "markdown",
   "metadata": {},
   "source": [
    "# 7. Mais nas Condições"
   ]
  },
  {
   "attachments": {},
   "cell_type": "markdown",
   "metadata": {},
   "source": [
    "As condições usadas nas cláusulas `while` e `if` podem conter qualquer operador, não apenas comparações.\n",
    "\n",
    "Os operadores de comparações `in` e `not in` fazem parte do grupo de testes que determinam se um valor está (ou não está) em um container. Os operadores `is` e `is not` comparam se dois objetos são realmente o mesmo objeto. Todos os operdores de comparação tem a mesma prioridade, que menor que todos os operadores numéricos."
   ]
  },
  {
   "cell_type": "code",
   "execution_count": null,
   "metadata": {},
   "outputs": [],
   "source": [
    "cesta = ['maçã', 'laranja', 'bergamota', 'laranja', 'banana']\n",
    "cesta2 = cesta\n",
    "\n",
    "print('laranja' in cesta)\n",
    "print('banana' not in cesta)\n",
    "\n",
    "print(cesta is cesta2)"
   ]
  },
  {
   "attachments": {},
   "cell_type": "markdown",
   "metadata": {},
   "source": [
    "Comparações podem ser encadeadas."
   ]
  },
  {
   "cell_type": "code",
   "execution_count": null,
   "metadata": {},
   "outputs": [],
   "source": [
    "x = 10\n",
    "\n",
    "if 5 < x < 15:\n",
    "    print(f'x é maior que 5 e menor que 15')\n",
    "\n",
    "a, b, c = 1, 2, 5\n",
    "print(a < b == c)"
   ]
  },
  {
   "attachments": {},
   "cell_type": "markdown",
   "metadata": {},
   "source": [
    "Comparações podem ser combinados com operadores Booleanos `and` e `or`, e a comparação resultante (ou qualquer outra comparação booleana) podem ser negados com `not`. Os operadores Booleanos tem menor prioridade do que os operadores de comparação. Entre eles, o `not` tem a prioridade mais alta e o `or` tem a mais baixa, logo que `A and not B or C` é equivalente a `(A and (not B) or C)`. Como sempre, parênteses podem ser usados para expressar as composições desejadas."
   ]
  },
  {
   "attachments": {},
   "cell_type": "markdown",
   "metadata": {},
   "source": [
    "Os operadores Booleanos `and` e `or` são então chamados `operadores de circuitos` : os argumentos deles são calculados da esquerda para a direita, e o cálculo é interrompido assim que o resultado é determinado. Por exemplo, se `A` e `C` são verdadeiros, mas `B` é falso, `A and B and C` não calcula a expressão `C`. Quando usados como um valor geral e não como um Booleano, o valor retornado do operador de circuito é o cálculo do último argumento."
   ]
  },
  {
   "attachments": {},
   "cell_type": "markdown",
   "metadata": {},
   "source": [
    "É possível associar o resulado de uma comparação ou outra expressão Booleana para uma variável."
   ]
  },
  {
   "cell_type": "code",
   "execution_count": null,
   "metadata": {},
   "outputs": [],
   "source": [
    "nome1, nome2, nome3 = '', 'Ferrari', 'Ford'\n",
    "nao_null = nome1 or nome2 or nome3\n",
    "print(nao_null)"
   ]
  },
  {
   "attachments": {},
   "cell_type": "markdown",
   "metadata": {},
   "source": [
    "# 8. Comparando Sequências e Outros Tipos"
   ]
  },
  {
   "attachments": {},
   "cell_type": "markdown",
   "metadata": {},
   "source": [
    "Objetos de sequência podem ser comparados a outros objetos com o mesmo tipo de sequência. A comparação usa a ordem lexicográfica (ordem alfabética). Primeiro os dois primeiros itens são comparados, se eles forem diferentes isso determina o resultado da comparação; se eles forem iguais, os próximos dois itens são comparados e assim por diante até o final da sequência. Se dois itens comparados forem também forem sequências do mesmo tipo, a comparação lexicográfica será feita recursivamente. Se todos os itens da lista forem iguais, as sequências são consideradas iguais."
   ]
  },
  {
   "cell_type": "code",
   "execution_count": null,
   "metadata": {},
   "outputs": [],
   "source": [
    "print((1,2,3) < (1,2,4))\n",
    "print([1,2,3] < [1,2,4])\n",
    "print('ABC' < 'C' < 'Pascal' < 'Python')\n",
    "print((1,2,3,4) < (1,2,4))\n",
    "print((1,2) < (1,2,-1))\n",
    "print((1,2,3) == (1.0,2.0,3.0))\n",
    "print((1,2,('aa','ab')) < (1,2,('abc','a'),4))"
   ]
  },
  {
   "attachments": {},
   "cell_type": "markdown",
   "metadata": {},
   "source": [
    "Veja que comparando objetos de diferentes tipos com `<` ou `>` é previsto que os objetos tenham métodos de comparação apropriados. Por exemplo : tipos numéricos mistos são comparados de acordo com seu valor numérico, então `0` e igual a `0.0`, etc. Caso contrário, em vez de trazer uma comparação ordenada, o interpretador vai levantar uma exceção [TypeError](https://docs.python.org/3/library/exceptions.html#TypeError)."
   ]
  }
 ],
 "metadata": {
  "kernelspec": {
   "display_name": ".venv",
   "language": "python",
   "name": "python3"
  },
  "language_info": {
   "codemirror_mode": {
    "name": "ipython",
    "version": 3
   },
   "file_extension": ".py",
   "mimetype": "text/x-python",
   "name": "python",
   "nbconvert_exporter": "python",
   "pygments_lexer": "ipython3",
   "version": "3.11.1 (tags/v3.11.1:a7a450f, Dec  6 2022, 19:58:39) [MSC v.1934 64 bit (AMD64)]"
  },
  "orig_nbformat": 4,
  "vscode": {
   "interpreter": {
    "hash": "68f6cf9ddf20b8330c35f9eb8d38bef7105e3b161f09b6b7e5f8b2d3944d5325"
   }
  }
 },
 "nbformat": 4,
 "nbformat_minor": 2
}

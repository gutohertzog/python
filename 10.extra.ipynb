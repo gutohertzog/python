{
 "cells": [
  {
   "attachments": {},
   "cell_type": "markdown",
   "metadata": {},
   "source": [
    "# Conteúdo Extra"
   ]
  },
  {
   "attachments": {},
   "cell_type": "markdown",
   "metadata": {},
   "source": [
    "## Anotações em Python"
   ]
  },
  {
   "attachments": {},
   "cell_type": "markdown",
   "metadata": {},
   "source": [
    "Python annotations são comentários adicionados às declarações de variáveis e funções para fornecer informações adicionais sobre o tipo de dado esperado. Eles são usados ​​principalmente para documentação e verificação de tipos, mas também podem ser usados ​​por outras ferramentas, como IDEs e frameworks de desenvolvimento."
   ]
  },
  {
   "attachments": {},
   "cell_type": "markdown",
   "metadata": {},
   "source": [
    "Por exemplo, você pode adicionar uma anotação de tipo à declaração de uma função para indicar quais tipos de argumentos são esperados e qual o tipo de retorno da função."
   ]
  },
  {
   "cell_type": "code",
   "execution_count": null,
   "metadata": {},
   "outputs": [],
   "source": [
    "def soma(a: int, b: int) -> int:\n",
    "    return a + b"
   ]
  },
  {
   "attachments": {},
   "cell_type": "markdown",
   "metadata": {},
   "source": [
    "Neste exemplo, a anotação `int` indica que os argumentos `a` e `b` são do tipo inteiro, e a anotação `-> int` indica que a função retorna um inteiro.\n",
    "\n",
    "Além disso, as anotações também são usadas para fornecer informações adicionais sobre a função, como seus parâmetros e valor de retorno, para documentação automatizada.\n",
    "\n",
    "As anotações são uma feature do python 3.0 onwards."
   ]
  },
  {
   "attachments": {},
   "cell_type": "markdown",
   "metadata": {},
   "source": [
    "Aqui estão mais alguns exemplos de como as anotações podem ser usadas :"
   ]
  },
  {
   "cell_type": "code",
   "execution_count": null,
   "metadata": {},
   "outputs": [],
   "source": [
    "# Anotação de tipo para variáveis\n",
    "x: int = 5 \n",
    "y: float = 3.14\n",
    "\n",
    "# Anotação de tipo para funções com argumentos variáveis\n",
    "def soma(*args: int) -> int:\n",
    "    return sum(args)\n",
    "\n",
    "# Anotação de tipo para funções com argumentos de palavra-chave variáveis\n",
    "def pessoa(**kwargs: dict) -> None:\n",
    "    print(kwargs)\n",
    "\n",
    "# Anotação de tipo para funções que retornam vários valores\n",
    "def divisao(a: int, b: int) -> tuple[int, int]:\n",
    "    return a // b, a % b\n",
    "\n",
    "print(soma(x, y))\n",
    "pessoa(nome='Dave', saudacao='Bom dia')\n",
    "print(divisao(x, y))"
   ]
  },
  {
   "attachments": {},
   "cell_type": "markdown",
   "metadata": {},
   "source": [
    "Nos exemplos acima, você pode ver como as anotações de tipo podem ser usadas para fornecer informações sobre variáveis, funções e tipos de retorno. Além disso, você pode ver como as anotações podem ser usadas em conjunto com outros recursos do Python, como argumentos variáveis, tipos genéricos e tipos compostos.\n",
    "\n",
    "É importante notar que as anotações são apenas comentários e não afetam o funcionamento do código em si, mas podem ser usadas por ferramentas de verificação de tipos e documentação automatizada para melhorar a qualidade e a manutenibilidade do código."
   ]
  },
  {
   "attachments": {},
   "cell_type": "markdown",
   "metadata": {},
   "source": [
    "Aqui tem um exemplo de como as anotações podem ser usadas em uma classe :"
   ]
  },
  {
   "cell_type": "code",
   "execution_count": null,
   "metadata": {},
   "outputs": [],
   "source": [
    "class Pessoa:\n",
    "    def __init__(self, nome: str, idade: int, altura: float) -> None:\n",
    "        self.nome: str = nome\n",
    "        self.idade: int = idade\n",
    "        self.altura: float = altura\n",
    "\n",
    "    def crescer(self, centimetros: float) -> None:\n",
    "        self.altura += centimetros\n",
    "\n",
    "    def envelhecer(self) -> None:\n",
    "        self.idade += 1\n",
    "\n",
    "    def __str__(self) -> str:\n",
    "        return f'{self.nome} tem {self.idade} anos e {self.altura} de altura.'"
   ]
  },
  {
   "attachments": {},
   "cell_type": "markdown",
   "metadata": {},
   "source": [
    "Neste exemplo, temos uma classe `Pessoa` que tem três atributos: nome, idade e altura. O construtor `__init__` tem anotações de tipo para cada um dos argumentos, indicando que eles são do tipo `str`, `int` e `float`, respectivamente. As outras funções `crescer` e `envelhecer` tem anotações de tipo para seus argumentos, respectivamente, indicando que eles são do tipo `float` e não tem retorno.\n",
    "\n",
    "Também temos uma classe `Familia` que tem uma lista de `Pessoa` como atributo. O construtor `__init__` tem uma anotação de tipo para o argumento `membros`, indicando que é uma lista de `Pessoa`. As outras funções `adicionar_membro` e `remover_membro` tem anotações de tipo para seus argumentos, respectivamente, indicando que eles são do tipo `Pessoa` ou `str` e não tem retorno.\n",
    "\n",
    "As anotações de tipo fornecem informações importantes sobre os tipos de argumentos e retorno das funções, tornando o código mais fácil de entender e manter. Além disso, as anotações de tipo também podem ser usadas por ferramentas de verificação de tipos, como o `mypy`, para detectar erros de tipo em tempo de desenvolvimento e garantir que o código seja seguro e estável.\n",
    "\n",
    "Além disso, as anotações de tipo também podem ser usadas para gerar documentação automatizada, tornando mais fácil para outros desenvolvedores entender e usar a sua classe e funções.\n",
    "\n",
    "É importante notar que as anotações de tipo são opcionais e não afetam o funcionamento do código em si, mas são fortemente recomendadas para melhorar a qualidade e a manutenibilidade do código. E é possível usar outras ferramentas como o `annotations` para verificar anotações e tipos em tempo de execução."
   ]
  },
  {
   "attachments": {},
   "cell_type": "markdown",
   "metadata": {},
   "source": [
    "Aqui temos um exemplo de como as anotações podem ser usadas em um jogo de RPG simples :"
   ]
  },
  {
   "cell_type": "code",
   "execution_count": null,
   "metadata": {},
   "outputs": [],
   "source": [
    "class Personagem:\n",
    "    def __init__(self, nome: str, vida: int, mana: int, dano: int, armadura: int) -> None:\n",
    "        self.nome: str = nome\n",
    "        self.vida: int = vida\n",
    "        self.mana: int = mana\n",
    "        self.dano: int = dano\n",
    "        self.armadura: int = armadura\n",
    "\n",
    "    def atacar(self, alvo: 'Personagem') -> None:\n",
    "        alvo.vida -= self.dano\n",
    "        print(f'{self.nome} atacou {alvo.nome} causando {self.dano} de dano.')\n",
    "\n",
    "    def defender(self, dano: int) -> None:\n",
    "        self.vida -= max(0, dano - self.armadura)\n",
    "        if dano > self.armadura:\n",
    "            print(f'{self.nome} sofreu {dano - self.armadura} de dano.')\n",
    "        else:\n",
    "            print(f'{self.nome} bloqueou o ataque com sua armadura.')\n",
    "\n",
    "    def lançar_feitiço(self, alvo: 'Personagem', custo_mana: int) -> None:\n",
    "        if self.mana < custo_mana:\n",
    "            print(f'{self.nome} não tem mana suficiente para lançar o feitiço.')\n",
    "            return\n",
    "        self.mana -= custo_mana\n",
    "        dano_feitiço = custo_mana * 2\n",
    "        alvo.vida -= dano_feitiço\n",
    "        print(f'{self.nome} lançou um feitiço em {alvo.nome} causando {dano_feitiço} de dano.')\n",
    "\n",
    "    def __str__(self) -> str:\n",
    "        return f'{self.nome} (HP: {self.vida}, MP: {self.mana}, DMG: {self.dano}, ARM: {self.armadura})'\n",
    "\n",
    "# Criando personagens\n",
    "guerreiro = Personagem('Guerreiro', 100, 20, 30, 10)\n",
    "mago = Personagem('Mago', 70, 50, 20, 5)\n",
    "ladrão = Personagem('Ladrão', 80, 30, 25, 8)\n",
    "\n",
    "# Criando monstro\n",
    "monstro = Personagem('Goblin', 50, 0, 15, 3)"
   ]
  },
  {
   "attachments": {},
   "cell_type": "markdown",
   "metadata": {},
   "source": [
    "Neste exemplo, usamos as anotações de tipo para especificar os tipos de entrada e saída de cada método e variável. Isso ajuda a garantir que os parâmetros passados para cada método são do tipo correto e que cada método retorna o tipo esperado. Isso também torna mais fácil para outros desenvolvedores entender e usar a classe e os métodos."
   ]
  },
  {
   "attachments": {},
   "cell_type": "markdown",
   "metadata": {},
   "source": [
    "### Links"
   ]
  },
  {
   "attachments": {},
   "cell_type": "markdown",
   "metadata": {},
   "source": [
    "- https://docs.python.org/pt-br/3/howto/annotations.html\n",
    "- https://realpython.com/lessons/annotations/"
   ]
  },
  {
   "attachments": {},
   "cell_type": "markdown",
   "metadata": {},
   "source": [
    "## Expressões regulares"
   ]
  },
  {
   "attachments": {},
   "cell_type": "markdown",
   "metadata": {},
   "source": [
    "As expressões regulares (`regex`) são uma forma de trabalhar com strings e texto de maneira mais avançada, permitindo procurar padrões específicos dentro de uma string. No Python, as expressões regulares são geralmente trabalhadas através da biblioteca `re`."
   ]
  },
  {
   "attachments": {},
   "cell_type": "markdown",
   "metadata": {},
   "source": [
    "### Básico"
   ]
  },
  {
   "attachments": {},
   "cell_type": "markdown",
   "metadata": {},
   "source": [
    "Para usar as expressões regulares no Python, é necessário importar a biblioteca `re` e usar as funções que ela oferece. Uma das funções mais comuns é `search()`, que procura por um padrão específico dentro de uma string. Por exemplo :"
   ]
  },
  {
   "cell_type": "code",
   "execution_count": null,
   "metadata": {},
   "outputs": [],
   "source": [
    "import re\n",
    "\n",
    "texto = \"O rato roeu a roupa do rei de roma\"\n",
    "resultado = re.search(r'r[a-z]*', texto)\n",
    "\n",
    "print(resultado.group())"
   ]
  },
  {
   "attachments": {},
   "cell_type": "markdown",
   "metadata": {},
   "source": [
    "Este código irá procurar por todas as palavras que começam com a letra `r` e imprimirá `rato`."
   ]
  },
  {
   "attachments": {},
   "cell_type": "markdown",
   "metadata": {},
   "source": [
    "Outras funções comuns incluem `findall()`, que retorna uma lista com todas as ocorrências de um padrão dentro de uma string, e `sub()`, que substitui todas as ocorrências de um padrão dentro de uma string por outra coisa.\n",
    "\n",
    "É importante lembrar que as expressões regulares são uma ferramenta poderosa, mas também podem ser complexas e difíceis de entender. É importante tomar cuidado ao trabalhar com elas e testar seus códigos para garantir que eles estão funcionando como esperado."
   ]
  },
  {
   "attachments": {},
   "cell_type": "markdown",
   "metadata": {},
   "source": [
    "Além das funções `search()`, `findall()` e `sub()` que mencionei anteriormente, a biblioteca `re` do Python também oferece outras funções úteis para trabalhar com expressões regulares.\n",
    "\n",
    "Algumas dessas funções incluem :\n",
    "- `match()` : é semelhante a `search()`, mas só retorna um resultado se o padrão procurado estiver no início da string;\n",
    "- `split()` : divide uma string em uma lista usando o padrão especificado como delimitador;\n",
    "- `finditer()` : é semelhante a `findall()`, mas retorna um objeto iterável ao invés de uma lista;\n",
    "- `compile()` : permite compilar uma expressão regular em um objeto, para que ela possa ser usada várias vezes;"
   ]
  },
  {
   "attachments": {},
   "cell_type": "markdown",
   "metadata": {},
   "source": [
    "Além dessas funções, as expressões regulares também podem ser personalizadas com vários metacaracteres e flag.\n",
    "\n",
    "Alguns exemplos incluem :\n",
    "\n",
    "- `. (ponto)` : corresponde a qualquer caractere;\n",
    "- `* (asterisco)` : corresponde a zero ou mais ocorrências do caractere anterior;\n",
    "- `+ (mais)` : corresponde a uma ou mais ocorrências do caractere anterior;\n",
    "- `? (interrogação)` : corresponde a zero ou uma ocorrência do caractere anterior;\n",
    "- `[] (colchetes)` : corresponde a qualquer caractere dentro dos colchetes;\n",
    "- `^ (curinga)` : corresponde a qualquer caractere que não esteja dentro dos colchetes;\n",
    "- `{n,m}` : corresponde a entre n e m ocorrências do caractere anterior;\n",
    "- `() (parênteses)` : define um grupo dentro da expressão regular;\n",
    "- `| (pipe)` : corresponde a qualquer coisa que esteja antes ou depois do pipe;\n",
    "- `\\d` : corresponde a qualquer dígito;\n",
    "- `\\D` : corresponde a qualquer caractere que não seja um dígito;\n",
    "- `\\s` : corresponde a qualquer espaço em branco;\n",
    "- `\\S` : corresponde a qualquer caractere que não seja um espaço em branco;\n",
    "- `\\w` : corresponde a qualquer caractere alfanumérico;\n",
    "- `\\W` : corresponde a qualquer caractere que não seja alfanumérico;"
   ]
  },
  {
   "attachments": {},
   "cell_type": "markdown",
   "metadata": {},
   "source": [
    "Algumas das flags que podem ser usadas são :\n",
    "\n",
    "- `re.IGNORECASE` : Ignora a diferença entre maiúsculas e minúsculas;\n",
    "- `re.DOTALL` : permite que o ponto corresponda a qualquer caractere, incluindo novas linhas;\n",
    "- `re.MULTILINE` : muda o comportamento do ^ e $ para corresponder ao início e fim de cada linha, respectivamente, ao invés de corresponder apenas ao início e fim da string inteira;\n",
    "- `re.VERBOSE` : permite que a expressão regular tenha comentários e espaços em branco, tornando-a mais legível e fácil de entender;\n",
    "\n",
    "Além disso, é possível usar módulos como `re.subn()` para substituir e contar a quantidade de substituições feitas, `re.escape()` para escapar de caracteres especiais, e `re.fullmatch()` que corresponde a string inteira e não apenas uma parte."
   ]
  },
  {
   "attachments": {},
   "cell_type": "markdown",
   "metadata": {},
   "source": [
    "Em resumo, as expressões regulares no Python oferecem uma grande variedade de opções e funcionalidades para trabalhar com strings e texto de maneira avançada e precisa. Elas são uma ferramenta poderosa, mas também podem ser complexas e difíceis de entender, por isso é importante praticar e estudar para usá-las de forma eficaz."
   ]
  },
  {
   "attachments": {},
   "cell_type": "markdown",
   "metadata": {},
   "source": [
    "### Exemplos"
   ]
  },
  {
   "attachments": {},
   "cell_type": "markdown",
   "metadata": {},
   "source": [
    "Criando"
   ]
  },
  {
   "attachments": {},
   "cell_type": "markdown",
   "metadata": {},
   "source": [
    "## Refatoração de código"
   ]
  },
  {
   "attachments": {},
   "cell_type": "markdown",
   "metadata": {},
   "source": [
    "Refatoração de código é o processo de melhorar o design interno de um código sem alterar sua funcionalidade externa. Isso pode incluir ajustes de nomenclatura de variáveis, divisão de funções em subfunções mais pequenas, reestruturação de blocos de código para torná-los mais legíveis, entre outros. O objetivo é tornar o código mais fácil de manter e aprimorar, aumentando sua robustez e confiabilidade."
   ]
  },
  {
   "attachments": {},
   "cell_type": "markdown",
   "metadata": {},
   "source": [
    "### Exemplo 1 :"
   ]
  },
  {
   "attachments": {},
   "cell_type": "markdown",
   "metadata": {},
   "source": [
    "Exemplo de código antes da refatoração :"
   ]
  },
  {
   "cell_type": "code",
   "execution_count": null,
   "metadata": {},
   "outputs": [],
   "source": [
    "def processa_numeros(a, b):\n",
    "    c = a + b\n",
    "    d = a * b\n",
    "    return c, d\n",
    "\n",
    "result = processa_numeros(3, 4)\n",
    "print(\"Soma :\", result[0], \"Produto :\", result[1])\n"
   ]
  },
  {
   "attachments": {},
   "cell_type": "markdown",
   "metadata": {},
   "source": [
    "Exemplo de código depois da refatoração :"
   ]
  },
  {
   "cell_type": "code",
   "execution_count": null,
   "metadata": {},
   "outputs": [],
   "source": [
    "def soma_e_multiplica(a, b):\n",
    "    soma = a + b\n",
    "    multiplicacao = a * b\n",
    "    return soma, multiplicacao\n",
    "\n",
    "soma_resultado, mult_resultado = soma_e_multiplica(3, 4)\n",
    "print(\"Soma :\", soma_resultado, \"Produto :\", mult_resultado)\n"
   ]
  },
  {
   "attachments": {},
   "cell_type": "markdown",
   "metadata": {},
   "source": [
    "### Exemplo 2 :"
   ]
  },
  {
   "attachments": {},
   "cell_type": "markdown",
   "metadata": {},
   "source": [
    "Antes da refatoração :"
   ]
  },
  {
   "cell_type": "code",
   "execution_count": null,
   "metadata": {},
   "outputs": [],
   "source": [
    "def processa_string(s):\n",
    "    s = s.strip()\n",
    "    s = s.upper()\n",
    "    return s\n",
    "\n",
    "resultado = processa_string(\"   Bom dia, Dave!   \")\n",
    "print(result)"
   ]
  },
  {
   "attachments": {},
   "cell_type": "markdown",
   "metadata": {},
   "source": [
    "Depois da refatoração :"
   ]
  },
  {
   "cell_type": "code",
   "execution_count": null,
   "metadata": {},
   "outputs": [],
   "source": [
    "def limpa_e_caixa_alta(s):\n",
    "    limpo = s.strip()\n",
    "    caixa_alta = limpo.upper()\n",
    "    return caixa_alta\n",
    "\n",
    "resultado = limpa_e_caixa_alta(\"   Hello World!   \")\n",
    "print(resultado)"
   ]
  },
  {
   "attachments": {},
   "cell_type": "markdown",
   "metadata": {},
   "source": [
    "### Exemplo 3 :"
   ]
  },
  {
   "attachments": {},
   "cell_type": "markdown",
   "metadata": {},
   "source": [
    "Antes da refatoração :"
   ]
  },
  {
   "cell_type": "code",
   "execution_count": null,
   "metadata": {},
   "outputs": [],
   "source": [
    "def calc_som(lst):\n",
    "    s = 0\n",
    "    for i in lst:\n",
    "        s += i\n",
    "    return s\n",
    "\n",
    "res = calc_som([1, 2, 3, 4, 5])\n",
    "print(res)"
   ]
  },
  {
   "attachments": {},
   "cell_type": "markdown",
   "metadata": {},
   "source": [
    "Depois da refatoração :"
   ]
  },
  {
   "cell_type": "code",
   "execution_count": null,
   "metadata": {},
   "outputs": [],
   "source": [
    "def soma_lista(lista):\n",
    "    total = 0\n",
    "    for numero in lista:\n",
    "        total += numero\n",
    "    return total\n",
    "\n",
    "resultado = soma_lista([1, 2, 3, 4, 5])\n",
    "print(resultado)"
   ]
  },
  {
   "attachments": {},
   "cell_type": "markdown",
   "metadata": {},
   "source": [
    "### Exemplo 4 :"
   ]
  },
  {
   "attachments": {},
   "cell_type": "markdown",
   "metadata": {},
   "source": [
    "Antes da refatoração :"
   ]
  },
  {
   "cell_type": "code",
   "execution_count": null,
   "metadata": {},
   "outputs": [],
   "source": [
    "def proc_list(lst):\n",
    "    lst = sorted(lst)\n",
    "    lst = list(set(lst))\n",
    "    return lst\n",
    "\n",
    "resl = proc_list([3, 1, 4, 1, 5, 9, 2, 6, 5, 3, 5])\n",
    "print(resl)"
   ]
  },
  {
   "attachments": {},
   "cell_type": "markdown",
   "metadata": {},
   "source": [
    "Depois da refatoração :"
   ]
  },
  {
   "cell_type": "code",
   "execution_count": null,
   "metadata": {},
   "outputs": [],
   "source": [
    "def unicos_ordenados(lista):\n",
    "    unicos = list(set(lista))\n",
    "    lista_ordenada = sorted(unicos)\n",
    "    return lista_ordenada\n",
    "\n",
    "resultado = unicos_ordenados([3, 1, 4, 1, 5, 9, 2, 6, 5, 3, 5])\n",
    "print(resultado)"
   ]
  },
  {
   "attachments": {},
   "cell_type": "markdown",
   "metadata": {},
   "source": [
    "### Exemplo 5 :"
   ]
  },
  {
   "attachments": {},
   "cell_type": "markdown",
   "metadata": {},
   "source": [
    "Antes da refatoração :"
   ]
  },
  {
   "cell_type": "code",
   "execution_count": null,
   "metadata": {},
   "outputs": [],
   "source": [
    "def process_dict(d):\n",
    "    for k, v in d.items():\n",
    "        d[k] = v + 1\n",
    "    return d\n",
    "\n",
    "result = process_dict({'a': 1, 'b': 2, 'c': 3})\n",
    "print(result)"
   ]
  },
  {
   "attachments": {},
   "cell_type": "markdown",
   "metadata": {},
   "source": [
    "Depois da refatoração :"
   ]
  },
  {
   "cell_type": "code",
   "execution_count": null,
   "metadata": {},
   "outputs": [],
   "source": [
    "def incrementa_valores(d):\n",
    "    incrementado = {k: v + 1 for k, v in d.items()}\n",
    "    return incrementado\n",
    "\n",
    "resultado = incrementa_valores({'a': 1, 'b': 2, 'c': 3})\n",
    "print(resultado)"
   ]
  },
  {
   "attachments": {},
   "cell_type": "markdown",
   "metadata": {},
   "source": [
    "### Exemplo 6 :"
   ]
  },
  {
   "attachments": {},
   "cell_type": "markdown",
   "metadata": {},
   "source": [
    "Abaixo temos um exemplo de um código antes de ser refatorado :"
   ]
  },
  {
   "cell_type": "code",
   "execution_count": null,
   "metadata": {},
   "outputs": [],
   "source": [
    "def calc_imp(prc, taxa):\n",
    "    return prc * taxa\n",
    "\n",
    "def calc_tot(prc, taxa):\n",
    "    tax = calc_imp(prc, taxa)\n",
    "    total = prc + tax\n",
    "    return total\n",
    "\n",
    "def proc_ord(prc, taxa, desc):\n",
    "    total = calc_tot(prc, taxa)\n",
    "    desc = total * desc\n",
    "    total = total - desc\n",
    "    return total\n"
   ]
  },
  {
   "attachments": {},
   "cell_type": "markdown",
   "metadata": {},
   "source": [
    "Agora temos o mesmo código, mas refatorado :"
   ]
  },
  {
   "cell_type": "code",
   "execution_count": null,
   "metadata": {},
   "outputs": [],
   "source": [
    "def calcula_imposto(preco, taxa_imposto):\n",
    "    return preco * taxa_imposto\n",
    "\n",
    "def calcula_disconto(total, desconto):\n",
    "    return total * desconto\n",
    "\n",
    "def calcula_preco_total(preco, taxa_imposto, desconto):\n",
    "    imposto = calcula_imposto(preco, taxa_imposto)\n",
    "    total = preco + imposto\n",
    "    desconto = calcula_disconto(total, desconto)\n",
    "    total = total - desconto\n",
    "    return total"
   ]
  },
  {
   "attachments": {},
   "cell_type": "markdown",
   "metadata": {},
   "source": [
    "Como pode ser visto, o código depois da refatoração é mais legível, com funções mais específicas e nomes de variáveis mais claros, o que o torna mais fácil de entender e manter."
   ]
  },
  {
   "attachments": {},
   "cell_type": "markdown",
   "metadata": {},
   "source": [
    "### Exemplo 7 :"
   ]
  },
  {
   "attachments": {},
   "cell_type": "markdown",
   "metadata": {},
   "source": [
    "Exemplo de código antes da refatoração :"
   ]
  },
  {
   "cell_type": "code",
   "execution_count": null,
   "metadata": {},
   "outputs": [],
   "source": [
    "def calc_dano(atq, defs, lvl, crit):\n",
    "    return int(((2 * lvl + 10) / 250) * (atq / defs) * crit)\n",
    "\n",
    "def turn_jog(jogad, advers):\n",
    "    if jogad[\"atq\"] > advers[\"defs\"]:\n",
    "        crit = 2\n",
    "    else:\n",
    "        crit = 1\n",
    "    dano = calc_dano(jogad[\"atq\"], advers[\"defs\"], jogad[\"lvl\"], crit)\n",
    "    advers[\"hp\"] = advers[\"hp\"] - dano\n",
    "    if advers[\"hp\"] <= 0:\n",
    "        return \"Inimigo derrotado!\"\n",
    "    else:\n",
    "        return \"O jogador atacou com \" + str(dano) + \" de dano.\""
   ]
  },
  {
   "attachments": {},
   "cell_type": "markdown",
   "metadata": {},
   "source": [
    "Exemplo de código depois da refatoração :"
   ]
  },
  {
   "cell_type": "code",
   "execution_count": null,
   "metadata": {},
   "outputs": [],
   "source": [
    "def calcula_dano(ataque, defesa, level, e_critico):\n",
    "    dano_baso = (2 * level + 10) / 250\n",
    "    dano_total = (ataque / defesa) * dano_baso\n",
    "    if e_critico:\n",
    "        dano_total *= 2\n",
    "    return int(dano_total)\n",
    "\n",
    "def jogador_ataque(jogador, inimigo):\n",
    "    e_critico = jogador[\"ataque\"] > inimigo[\"defesa\"]\n",
    "    dano = calcula_dano(jogador[\"ataque\"], inimigo[\"defesa\"], jogador[\"level\"], e_critico)\n",
    "    inimigo[\"hp\"] -= dano\n",
    "    return \"O jogador atacou com {} de dano\".format(dano) if inimigo[\"hp\"] > 0 else \"Inimigo derrotado!\""
   ]
  },
  {
   "attachments": {},
   "cell_type": "markdown",
   "metadata": {},
   "source": [
    "Como pode ser visto, o código depois da refatoração é mais claro e legível, com funções mais específicas e nomes de variáveis mais descritivos, o que o torna mais fácil de entender e manter."
   ]
  },
  {
   "attachments": {},
   "cell_type": "markdown",
   "metadata": {},
   "source": [
    "## Recursividade"
   ]
  },
  {
   "attachments": {},
   "cell_type": "markdown",
   "metadata": {},
   "source": [
    "A recursividade é uma técnica de programação onde uma função é definida de forma a chamar a si mesma para resolver problemas. Em vez de usar ciclos ou laços para repetir uma tarefa, a recursividade usa chamadas de função. Cada chamada da função contém uma parte menor do problema e, ao longo do tempo, essas chamadas da função vão solucionando o problema inteiro.\n",
    "\n",
    "Para que a recursividade funcione corretamente, é necessário estabelecer uma `condição de parada`. A condição de parada é a situação na qual a função não precisa mais se chamar a si mesma. Sem uma condição de parada, a função seguiria chamando a si mesma indefinidamente e acabaria gerando um erro de pilha."
   ]
  },
  {
   "attachments": {},
   "cell_type": "markdown",
   "metadata": {},
   "source": [
    "Aqui está um exemplo de uma função de recursividade para calcular o fatorial de um número :"
   ]
  },
  {
   "cell_type": "code",
   "execution_count": null,
   "metadata": {},
   "outputs": [],
   "source": [
    "def fatorial(n):\n",
    "    if n == 1:\n",
    "        return 1\n",
    "    else:\n",
    "        return n * fatorial(n-1)\n",
    "\n",
    "print(fatorial(10)) # imprime 3.628.800"
   ]
  },
  {
   "attachments": {},
   "cell_type": "markdown",
   "metadata": {},
   "source": [
    "Nesta função, a condição de parada é quando `n` for igual `a` 1. Se `n` for igual a `1`, a função retorna o valor 1. Caso contrário, a função retorna `n` multiplicado pelo fatorial de `n-1`. Ao fazer isso, a função se chama a si mesma com n-1 como argumento. Esse processo segue até que `n` seja igual a 1, e a função retorna 1."
   ]
  },
  {
   "attachments": {},
   "cell_type": "markdown",
   "metadata": {},
   "source": [
    "A recursividade pode ser útil quando há uma estrutura de problema repetitiva que pode ser decomposta em subproblemas menores. No entanto, é importante ter cuidado ao usar a recursividade, pois seu uso excessivo pode resultar em um erro de pilha devido a muitas chamadas de função. Além disso, a recursividade pode ser menos eficiente do que a solução iterativa, já que cada chamada da função requer espaço na pilha."
   ]
  },
  {
   "attachments": {},
   "cell_type": "markdown",
   "metadata": {},
   "source": [
    "### Exemplos"
   ]
  },
  {
   "attachments": {},
   "cell_type": "markdown",
   "metadata": {},
   "source": [
    "- Série de Fibonacci :"
   ]
  },
  {
   "cell_type": "code",
   "execution_count": null,
   "metadata": {},
   "outputs": [],
   "source": [
    "def fibonacci(n):\n",
    "    if n <= 1:\n",
    "        return n\n",
    "    else:\n",
    "        return fibonacci(n-1) + fibonacci(n-2)\n",
    "\n",
    "print(fibonacci(10)) # retorna 55"
   ]
  },
  {
   "attachments": {},
   "cell_type": "markdown",
   "metadata": {},
   "source": [
    "Neste exemplo, a função retorna o `n-ésimo` número da série de Fibonacci. A condição de parada é quando `n` é menor ou igual a 1, retornando o valor de `n`. Caso contrário, a função retorna a soma da chamada recursiva de `fibonacci(n-1)` e `fibonacci(n-2)`."
   ]
  },
  {
   "attachments": {},
   "cell_type": "markdown",
   "metadata": {},
   "source": [
    "- Impressão de números em ordem inversa :"
   ]
  },
  {
   "cell_type": "code",
   "execution_count": null,
   "metadata": {},
   "outputs": [],
   "source": [
    "def imprime_numeros_invertido(n):\n",
    "    if n == 0:\n",
    "        return\n",
    "    else:\n",
    "        print(n, end=' ')\n",
    "        imprime_numeros_invertido(n-1)\n",
    "\n",
    "imprime_numeros_invertido(10) # vai mostrar 10 9 8 7 6 5 4 3 2 1"
   ]
  },
  {
   "attachments": {},
   "cell_type": "markdown",
   "metadata": {},
   "source": [
    "Neste exemplo, a função imprime números de `n` até 0. A condição de parada é quando `n` é igual a 0, não retornando nada. Caso contrário, a função imprime o valor de `n` e chama a si mesma com `n-1` como argumento."
   ]
  },
  {
   "attachments": {},
   "cell_type": "markdown",
   "metadata": {},
   "source": [
    "- Calculando o maior elemento em uma lista :"
   ]
  },
  {
   "cell_type": "code",
   "execution_count": null,
   "metadata": {},
   "outputs": [],
   "source": [
    "import random\n",
    "\n",
    "def busca_maior(lista, n):\n",
    "    if n == 1:\n",
    "        return lista[0]\n",
    "    else:\n",
    "        return max(lista[n-1], busca_maior(lista, n-1))\n",
    "\n",
    "lista_rand = [random.randint(0,100) for _ in range(10)]\n",
    "print(lista_rand)\n",
    "maior = busca_maior(lista_rand, len(lista_rand))\n",
    "print(f'O maior é {maior}!')"
   ]
  },
  {
   "attachments": {},
   "cell_type": "markdown",
   "metadata": {},
   "source": [
    "Neste exemplo, a função retorna o maior elemento em uma lista. A condição de parada é quando `n` é igual a 1, retornando o primeiro elemento da lista. Caso contrário, a função retorna o maior valor entre o último elemento da lista `lista[n-1]` e o resultado da chamada recursiva de `busca_maior(lista, n-1)`."
   ]
  },
  {
   "attachments": {},
   "cell_type": "markdown",
   "metadata": {},
   "source": [
    "- Cálculo de potências :"
   ]
  },
  {
   "cell_type": "code",
   "execution_count": null,
   "metadata": {},
   "outputs": [],
   "source": [
    "def potencia(base, expoente):\n",
    "    if expoente == 0:\n",
    "        return 1\n",
    "    else:\n",
    "        return base * potencia(base, expoente-1)\n",
    "\n",
    "print(potencia(2,10)) # retorna 1024"
   ]
  },
  {
   "attachments": {},
   "cell_type": "markdown",
   "metadata": {},
   "source": [
    "Neste exemplo, a função retorna a potência de `base` elevado a `expoente`. A condição de parada é quando `expoente` é igual a 0, retornando 1. Caso contrário, a função retorna o valor de `base` multiplicado pelo resultado da chamada recursiva de `potencia(base, expoente-1)`."
   ]
  },
  {
   "attachments": {},
   "cell_type": "markdown",
   "metadata": {},
   "source": [
    "- Fatores de um número :"
   ]
  },
  {
   "cell_type": "code",
   "execution_count": null,
   "metadata": {},
   "outputs": [],
   "source": [
    "def imprime_fatores(n, i=1):\n",
    "    if i > n:\n",
    "        return\n",
    "    elif n % i == 0:\n",
    "        print(i, end=' ')\n",
    "        imprime_fatores(n, i+1)\n",
    "    else:\n",
    "        imprime_fatores(n, i+1)\n",
    "\n",
    "imprime_fatores(10) # imprime 1 2 5 10"
   ]
  },
  {
   "attachments": {},
   "cell_type": "markdown",
   "metadata": {},
   "source": [
    "Neste exemplo, a função imprime todos os fatores de um número `n`. A condição de parada é quando `i` é maior que `n`, retornando nada. Caso contrário, se o resto da divisão de `n` por `i` for igual a 0, a função imprime o valor de `i` e chama a si mesma com `n` e `i+1` como argumentos. Caso contrário, a função se chama novamente com `n` e `i+1` como argumentos."
   ]
  },
  {
   "attachments": {},
   "cell_type": "markdown",
   "metadata": {},
   "source": [
    "- Gerar uma lista de números pares :"
   ]
  },
  {
   "cell_type": "code",
   "execution_count": null,
   "metadata": {},
   "outputs": [],
   "source": [
    "def gera_lista_pares(n, i=0, lista_pares=[]):\n",
    "    if i >= n:\n",
    "        return lista_pares\n",
    "    else:\n",
    "        lista_pares.append(i*2)\n",
    "        return gera_lista_pares(n, i+1, lista_pares)\n",
    "\n",
    "print(gera_lista_pares(10)) # retorna [0, 2, 4, 6, 8, 10, 12, 14, 16, 18]"
   ]
  },
  {
   "attachments": {},
   "cell_type": "markdown",
   "metadata": {},
   "source": [
    "Neste exemplo, a função gera uma lista de números pares até `n`. A condição de parada é quando i é maior ou igual a `n`, retornando a lista de números pares. Caso contrário, a função adiciona o valor de `i*2` na lista `lista_pares` e chama a si mesma com `n`, `i+1` e `lista_pares` como argumentos."
   ]
  }
 ],
 "metadata": {
  "kernelspec": {
   "display_name": ".venv",
   "language": "python",
   "name": "python3"
  },
  "language_info": {
   "codemirror_mode": {
    "name": "ipython",
    "version": 3
   },
   "file_extension": ".py",
   "mimetype": "text/x-python",
   "name": "python",
   "nbconvert_exporter": "python",
   "pygments_lexer": "ipython3",
   "version": "3.11.1"
  },
  "orig_nbformat": 4,
  "vscode": {
   "interpreter": {
    "hash": "1c99f561ca1a717b60f7deeca363b5de64a153a33138772a1efbe72b24e89a8e"
   }
  }
 },
 "nbformat": 4,
 "nbformat_minor": 2
}

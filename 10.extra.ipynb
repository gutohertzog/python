{
 "cells": [
  {
   "attachments": {},
   "cell_type": "markdown",
   "metadata": {},
   "source": [
    "# Conteúdo Extra"
   ]
  },
  {
   "attachments": {},
   "cell_type": "markdown",
   "metadata": {},
   "source": [
    "## Anotações em Python"
   ]
  },
  {
   "attachments": {},
   "cell_type": "markdown",
   "metadata": {},
   "source": [
    "Python annotations são comentários adicionados às declarações de variáveis e funções para fornecer informações adicionais sobre o tipo de dado esperado. Eles são usados ​​principalmente para documentação e verificação de tipos, mas também podem ser usados ​​por outras ferramentas, como IDEs e frameworks de desenvolvimento."
   ]
  },
  {
   "attachments": {},
   "cell_type": "markdown",
   "metadata": {},
   "source": [
    "Por exemplo, você pode adicionar uma anotação de tipo à declaração de uma função para indicar quais tipos de argumentos são esperados e qual o tipo de retorno da função."
   ]
  },
  {
   "cell_type": "code",
   "execution_count": null,
   "metadata": {},
   "outputs": [],
   "source": [
    "def soma(a: int, b: int) -> int:\n",
    "    return a + b"
   ]
  },
  {
   "attachments": {},
   "cell_type": "markdown",
   "metadata": {},
   "source": [
    "Neste exemplo, a anotação `int` indica que os argumentos `a` e `b` são do tipo inteiro, e a anotação `-> int` indica que a função retorna um inteiro.\n",
    "\n",
    "Além disso, as anotações também são usadas para fornecer informações adicionais sobre a função, como seus parâmetros e valor de retorno, para documentação automatizada.\n",
    "\n",
    "As anotações são uma feature do python 3.0 onwards."
   ]
  },
  {
   "attachments": {},
   "cell_type": "markdown",
   "metadata": {},
   "source": [
    "Aqui estão mais alguns exemplos de como as anotações podem ser usadas :"
   ]
  },
  {
   "cell_type": "code",
   "execution_count": null,
   "metadata": {},
   "outputs": [],
   "source": [
    "# Anotação de tipo para variáveis\n",
    "x: int = 5 \n",
    "y: float = 3.14\n",
    "\n",
    "# Anotação de tipo para funções com argumentos variáveis\n",
    "def soma(*args: int) -> int:\n",
    "    return sum(args)\n",
    "\n",
    "# Anotação de tipo para funções com argumentos de palavra-chave variáveis\n",
    "def pessoa(**kwargs: dict) -> None:\n",
    "    print(kwargs)\n",
    "\n",
    "# Anotação de tipo para funções que retornam vários valores\n",
    "def divisao(a: int, b: int) -> tuple[int, int]:\n",
    "    return a // b, a % b\n",
    "\n",
    "print(soma(x, y))\n",
    "pessoa(nome='Dave', saudacao='Bom dia')\n",
    "print(divisao(x, y))"
   ]
  },
  {
   "attachments": {},
   "cell_type": "markdown",
   "metadata": {},
   "source": [
    "Nos exemplos acima, você pode ver como as anotações de tipo podem ser usadas para fornecer informações sobre variáveis, funções e tipos de retorno. Além disso, você pode ver como as anotações podem ser usadas em conjunto com outros recursos do Python, como argumentos variáveis, tipos genéricos e tipos compostos.\n",
    "\n",
    "É importante notar que as anotações são apenas comentários e não afetam o funcionamento do código em si, mas podem ser usadas por ferramentas de verificação de tipos e documentação automatizada para melhorar a qualidade e a manutenibilidade do código."
   ]
  },
  {
   "attachments": {},
   "cell_type": "markdown",
   "metadata": {},
   "source": [
    "Aqui tem um exemplo de como as anotações podem ser usadas em uma classe :"
   ]
  },
  {
   "cell_type": "code",
   "execution_count": null,
   "metadata": {},
   "outputs": [],
   "source": [
    "class Pessoa:\n",
    "    def __init__(self, nome: str, idade: int, altura: float) -> None:\n",
    "        self.nome: str = nome\n",
    "        self.idade: int = idade\n",
    "        self.altura: float = altura\n",
    "\n",
    "    def crescer(self, centimetros: float) -> None:\n",
    "        self.altura += centimetros\n",
    "\n",
    "    def envelhecer(self) -> None:\n",
    "        self.idade += 1\n",
    "\n",
    "    def __str__(self) -> str:\n",
    "        return f'{self.nome} tem {self.idade} anos e {self.altura} de altura.'"
   ]
  },
  {
   "attachments": {},
   "cell_type": "markdown",
   "metadata": {},
   "source": [
    "Neste exemplo, temos uma classe `Pessoa` que tem três atributos: nome, idade e altura. O construtor `__init__` tem anotações de tipo para cada um dos argumentos, indicando que eles são do tipo `str`, `int` e `float`, respectivamente. As outras funções `crescer` e `envelhecer` tem anotações de tipo para seus argumentos, respectivamente, indicando que eles são do tipo `float` e não tem retorno.\n",
    "\n",
    "Também temos uma classe `Familia` que tem uma lista de `Pessoa` como atributo. O construtor `__init__` tem uma anotação de tipo para o argumento `membros`, indicando que é uma lista de `Pessoa`. As outras funções `adicionar_membro` e `remover_membro` tem anotações de tipo para seus argumentos, respectivamente, indicando que eles são do tipo `Pessoa` ou `str` e não tem retorno.\n",
    "\n",
    "As anotações de tipo fornecem informações importantes sobre os tipos de argumentos e retorno das funções, tornando o código mais fácil de entender e manter. Além disso, as anotações de tipo também podem ser usadas por ferramentas de verificação de tipos, como o `mypy`, para detectar erros de tipo em tempo de desenvolvimento e garantir que o código seja seguro e estável.\n",
    "\n",
    "Além disso, as anotações de tipo também podem ser usadas para gerar documentação automatizada, tornando mais fácil para outros desenvolvedores entender e usar a sua classe e funções.\n",
    "\n",
    "É importante notar que as anotações de tipo são opcionais e não afetam o funcionamento do código em si, mas são fortemente recomendadas para melhorar a qualidade e a manutenibilidade do código. E é possível usar outras ferramentas como o `annotations` para verificar anotações e tipos em tempo de execução."
   ]
  },
  {
   "attachments": {},
   "cell_type": "markdown",
   "metadata": {},
   "source": [
    "Aqui temos um exemplo de como as anotações podem ser usadas em um jogo de RPG simples :"
   ]
  },
  {
   "cell_type": "code",
   "execution_count": null,
   "metadata": {},
   "outputs": [],
   "source": [
    "class Personagem:\n",
    "    def __init__(self, nome: str, vida: int, mana: int, dano: int, armadura: int) -> None:\n",
    "        self.nome: str = nome\n",
    "        self.vida: int = vida\n",
    "        self.mana: int = mana\n",
    "        self.dano: int = dano\n",
    "        self.armadura: int = armadura\n",
    "\n",
    "    def atacar(self, alvo: 'Personagem') -> None:\n",
    "        alvo.vida -= self.dano\n",
    "        print(f'{self.nome} atacou {alvo.nome} causando {self.dano} de dano.')\n",
    "\n",
    "    def defender(self, dano: int) -> None:\n",
    "        self.vida -= max(0, dano - self.armadura)\n",
    "        if dano > self.armadura:\n",
    "            print(f'{self.nome} sofreu {dano - self.armadura} de dano.')\n",
    "        else:\n",
    "            print(f'{self.nome} bloqueou o ataque com sua armadura.')\n",
    "\n",
    "    def lançar_feitiço(self, alvo: 'Personagem', custo_mana: int) -> None:\n",
    "        if self.mana < custo_mana:\n",
    "            print(f'{self.nome} não tem mana suficiente para lançar o feitiço.')\n",
    "            return\n",
    "        self.mana -= custo_mana\n",
    "        dano_feitiço = custo_mana * 2\n",
    "        alvo.vida -= dano_feitiço\n",
    "        print(f'{self.nome} lançou um feitiço em {alvo.nome} causando {dano_feitiço} de dano.')\n",
    "\n",
    "    def __str__(self) -> str:\n",
    "        return f'{self.nome} (HP: {self.vida}, MP: {self.mana}, DMG: {self.dano}, ARM: {self.armadura})'\n",
    "\n",
    "# Criando personagens\n",
    "guerreiro = Personagem('Guerreiro', 100, 20, 30, 10)\n",
    "mago = Personagem('Mago', 70, 50, 20, 5)\n",
    "ladrão = Personagem('Ladrão', 80, 30, 25, 8)\n",
    "\n",
    "# Criando monstro\n",
    "monstro = Personagem('Goblin', 50, 0, 15, 3)"
   ]
  },
  {
   "attachments": {},
   "cell_type": "markdown",
   "metadata": {},
   "source": [
    "Neste exemplo, usamos as anotações de tipo para especificar os tipos de entrada e saída de cada método e variável. Isso ajuda a garantir que os parâmetros passados para cada método são do tipo correto e que cada método retorna o tipo esperado. Isso também torna mais fácil para outros desenvolvedores entender e usar a classe e os métodos."
   ]
  },
  {
   "attachments": {},
   "cell_type": "markdown",
   "metadata": {},
   "source": [
    "### Links"
   ]
  },
  {
   "attachments": {},
   "cell_type": "markdown",
   "metadata": {},
   "source": [
    "- https://docs.python.org/pt-br/3/howto/annotations.html\n",
    "- https://realpython.com/lessons/annotations/"
   ]
  },
  {
   "attachments": {},
   "cell_type": "markdown",
   "metadata": {},
   "source": [
    "## Expressões regulares"
   ]
  },
  {
   "attachments": {},
   "cell_type": "markdown",
   "metadata": {},
   "source": [
    "As expressões regulares (`regex`) são uma forma de trabalhar com strings e texto de maneira mais avançada, permitindo procurar padrões específicos dentro de uma string. No Python, as expressões regulares são geralmente trabalhadas através da biblioteca `re`."
   ]
  },
  {
   "attachments": {},
   "cell_type": "markdown",
   "metadata": {},
   "source": [
    "### Básico"
   ]
  },
  {
   "attachments": {},
   "cell_type": "markdown",
   "metadata": {},
   "source": [
    "Para usar as expressões regulares no Python, é necessário importar a biblioteca `re` e usar as funções que ela oferece. Uma das funções mais comuns é `search()`, que procura por um padrão específico dentro de uma string. Por exemplo :"
   ]
  },
  {
   "cell_type": "code",
   "execution_count": null,
   "metadata": {},
   "outputs": [],
   "source": [
    "import re\n",
    "\n",
    "texto = \"O rato roeu a roupa do rei de roma\"\n",
    "resultado = re.search(r'r[a-z]*', texto)\n",
    "\n",
    "print(resultado.group())"
   ]
  },
  {
   "attachments": {},
   "cell_type": "markdown",
   "metadata": {},
   "source": [
    "Este código irá procurar por todas as palavras que começam com a letra `r` e imprimirá `rato`."
   ]
  },
  {
   "attachments": {},
   "cell_type": "markdown",
   "metadata": {},
   "source": [
    "Outras funções comuns incluem `findall()`, que retorna uma lista com todas as ocorrências de um padrão dentro de uma string, e `sub()`, que substitui todas as ocorrências de um padrão dentro de uma string por outra coisa.\n",
    "\n",
    "É importante lembrar que as expressões regulares são uma ferramenta poderosa, mas também podem ser complexas e difíceis de entender. É importante tomar cuidado ao trabalhar com elas e testar seus códigos para garantir que eles estão funcionando como esperado."
   ]
  },
  {
   "attachments": {},
   "cell_type": "markdown",
   "metadata": {},
   "source": [
    "Além das funções `search()`, `findall()` e `sub()` que mencionei anteriormente, a biblioteca `re` do Python também oferece outras funções úteis para trabalhar com expressões regulares.\n",
    "\n",
    "Algumas dessas funções incluem :\n",
    "- `match()` : é semelhante a `search()`, mas só retorna um resultado se o padrão procurado estiver no início da string;\n",
    "- `split()` : divide uma string em uma lista usando o padrão especificado como delimitador;\n",
    "- `finditer()` : é semelhante a `findall()`, mas retorna um objeto iterável ao invés de uma lista;\n",
    "- `compile()` : permite compilar uma expressão regular em um objeto, para que ela possa ser usada várias vezes;"
   ]
  },
  {
   "attachments": {},
   "cell_type": "markdown",
   "metadata": {},
   "source": [
    "Além dessas funções, as expressões regulares também podem ser personalizadas com vários metacaracteres e flag.\n",
    "\n",
    "Alguns exemplos incluem :\n",
    "\n",
    "- `. (ponto)` : corresponde a qualquer caractere;\n",
    "- `* (asterisco)` : corresponde a zero ou mais ocorrências do caractere anterior;\n",
    "- `+ (mais)` : corresponde a uma ou mais ocorrências do caractere anterior;\n",
    "- `? (interrogação)` : corresponde a zero ou uma ocorrência do caractere anterior;\n",
    "- `[] (colchetes)` : corresponde a qualquer caractere dentro dos colchetes;\n",
    "- `^ (curinga)` : corresponde a qualquer caractere que não esteja dentro dos colchetes;\n",
    "- `{n,m}` : corresponde a entre n e m ocorrências do caractere anterior;\n",
    "- `() (parênteses)` : define um grupo dentro da expressão regular;\n",
    "- `| (pipe)` : corresponde a qualquer coisa que esteja antes ou depois do pipe;\n",
    "- `\\d` : corresponde a qualquer dígito;\n",
    "- `\\D` : corresponde a qualquer caractere que não seja um dígito;\n",
    "- `\\s` : corresponde a qualquer espaço em branco;\n",
    "- `\\S` : corresponde a qualquer caractere que não seja um espaço em branco;\n",
    "- `\\w` : corresponde a qualquer caractere alfanumérico;\n",
    "- `\\W` : corresponde a qualquer caractere que não seja alfanumérico;"
   ]
  },
  {
   "attachments": {},
   "cell_type": "markdown",
   "metadata": {},
   "source": [
    "Algumas das flags que podem ser usadas são :\n",
    "\n",
    "- `re.IGNORECASE` : Ignora a diferença entre maiúsculas e minúsculas;\n",
    "- `re.DOTALL` : permite que o ponto corresponda a qualquer caractere, incluindo novas linhas;\n",
    "- `re.MULTILINE` : muda o comportamento do ^ e $ para corresponder ao início e fim de cada linha, respectivamente, ao invés de corresponder apenas ao início e fim da string inteira;\n",
    "- `re.VERBOSE` : permite que a expressão regular tenha comentários e espaços em branco, tornando-a mais legível e fácil de entender;\n",
    "\n",
    "Além disso, é possível usar módulos como `re.subn()` para substituir e contar a quantidade de substituições feitas, `re.escape()` para escapar de caracteres especiais, e `re.fullmatch()` que corresponde a string inteira e não apenas uma parte."
   ]
  },
  {
   "attachments": {},
   "cell_type": "markdown",
   "metadata": {},
   "source": [
    "Em resumo, as expressões regulares no Python oferecem uma grande variedade de opções e funcionalidades para trabalhar com strings e texto de maneira avançada e precisa. Elas são uma ferramenta poderosa, mas também podem ser complexas e difíceis de entender, por isso é importante praticar e estudar para usá-las de forma eficaz."
   ]
  },
  {
   "attachments": {},
   "cell_type": "markdown",
   "metadata": {},
   "source": [
    "### Exemplos"
   ]
  },
  {
   "attachments": {},
   "cell_type": "markdown",
   "metadata": {},
   "source": [
    "Criando"
   ]
  }
 ],
 "metadata": {
  "kernelspec": {
   "display_name": ".venv",
   "language": "python",
   "name": "python3"
  },
  "language_info": {
   "codemirror_mode": {
    "name": "ipython",
    "version": 3
   },
   "file_extension": ".py",
   "mimetype": "text/x-python",
   "name": "python",
   "nbconvert_exporter": "python",
   "pygments_lexer": "ipython3",
   "version": "3.11.1 (tags/v3.11.1:a7a450f, Dec  6 2022, 19:58:39) [MSC v.1934 64 bit (AMD64)]"
  },
  "orig_nbformat": 4,
  "vscode": {
   "interpreter": {
    "hash": "1c99f561ca1a717b60f7deeca363b5de64a153a33138772a1efbe72b24e89a8e"
   }
  }
 },
 "nbformat": 4,
 "nbformat_minor": 2
}

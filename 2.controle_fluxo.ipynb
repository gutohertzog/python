{
 "cells": [
  {
   "attachments": {},
   "cell_type": "markdown",
   "metadata": {},
   "source": [
    "# Ferramentas de Controle de Fluxo"
   ]
  },
  {
   "attachments": {},
   "cell_type": "markdown",
   "metadata": {},
   "source": [
    "O Python possui diversas ferramentas de controle de fluxo de código.<br>\n",
    "São elas :\n",
    "- `if..elif..else`\n",
    "- `while..else`\n",
    "- `for..else`\n",
    "- `match..case`"
   ]
  },
  {
   "attachments": {},
   "cell_type": "markdown",
   "metadata": {},
   "source": [
    "# 1. if..elif..else"
   ]
  },
  {
   "attachments": {},
   "cell_type": "markdown",
   "metadata": {},
   "source": [
    "## 1.1. Básico"
   ]
  },
  {
   "attachments": {},
   "cell_type": "markdown",
   "metadata": {},
   "source": [
    "Uso básico do `if` :"
   ]
  },
  {
   "cell_type": "code",
   "execution_count": null,
   "metadata": {},
   "outputs": [],
   "source": [
    "x = 5\n",
    "if x > 0:\n",
    "    print(f'{x} é positivo')"
   ]
  },
  {
   "attachments": {},
   "cell_type": "markdown",
   "metadata": {},
   "source": [
    "Uso do `else` :"
   ]
  },
  {
   "cell_type": "code",
   "execution_count": null,
   "metadata": {},
   "outputs": [],
   "source": [
    "x = -5\n",
    "if x > 0:\n",
    "    print(f'{x} é positivo')\n",
    "else:\n",
    "    print(f'{x} é negativo')"
   ]
  },
  {
   "attachments": {},
   "cell_type": "markdown",
   "metadata": {},
   "source": [
    "Uso do `elif` :"
   ]
  },
  {
   "cell_type": "code",
   "execution_count": null,
   "metadata": {},
   "outputs": [],
   "source": [
    "x = 0\n",
    "if x > 0:\n",
    "    print(f'{x} é positivo')\n",
    "elif x == 0:\n",
    "    print(f'{x} é zero')\n",
    "else:\n",
    "    print(f'{x} é negativo')"
   ]
  },
  {
   "attachments": {},
   "cell_type": "markdown",
   "metadata": {},
   "source": [
    "Uso de múltiplos `elif`s :"
   ]
  },
  {
   "cell_type": "code",
   "execution_count": null,
   "metadata": {},
   "outputs": [],
   "source": [
    "nota = 7\n",
    "if nota >= 9:\n",
    "    print('Conceito A')\n",
    "elif nota >= 7:\n",
    "    print('Conceito B')\n",
    "elif nota >= 5:\n",
    "    print('Conceito C')\n",
    "else:\n",
    "    print('Conceito D')"
   ]
  },
  {
   "attachments": {},
   "cell_type": "markdown",
   "metadata": {},
   "source": [
    "Uso de `if` dentro de uma expressão :"
   ]
  },
  {
   "cell_type": "code",
   "execution_count": null,
   "metadata": {},
   "outputs": [],
   "source": [
    "x = 10\n",
    "y = 20\n",
    "maior = x if x > y else y\n",
    "print(f'O maior valor é {maior}')"
   ]
  },
  {
   "attachments": {},
   "cell_type": "markdown",
   "metadata": {},
   "source": [
    "Explicando :\n",
    "- `if` é usado para verificar se uma condição é verdadeira e, se for, as instruções dentro do bloco do `if` serão executadas;\n",
    "- `else` é usado para especificar o que deve ser feito se a condição do `if` for falsa;\n",
    "- `elif` é usado para especificar múltiplas condições e é uma abreviação de \"else if\";"
   ]
  },
  {
   "attachments": {},
   "cell_type": "markdown",
   "metadata": {},
   "source": [
    "## 1.2. Outros usos do if..else "
   ]
  },
  {
   "attachments": {},
   "cell_type": "markdown",
   "metadata": {},
   "source": [
    "Aqui está um exemplo de uso de `if` dentro de uma `list comprehension` :"
   ]
  },
  {
   "cell_type": "code",
   "execution_count": null,
   "metadata": {},
   "outputs": [],
   "source": [
    "numeros = [1, -2, 3, -4, 5, -6]\n",
    "positivos = [num for num in numeros if num > 0]\n",
    "print(positivos)  # saída: [1, 3, 5]"
   ]
  },
  {
   "cell_type": "code",
   "execution_count": null,
   "metadata": {},
   "outputs": [],
   "source": [
    "numeros = [1, -2, 3, -4, 5, -6]\n",
    "negativos = [num for num in numeros if num < 0]\n",
    "print(negativos)  # saída: [-2, -4, -6]"
   ]
  },
  {
   "attachments": {},
   "cell_type": "markdown",
   "metadata": {},
   "source": [
    "E aqui está um exemplo de uso de `if` dentro de uma expressão ternária :\n",
    "```python\n",
    "<valor> if <condição> else <outro valor>\n",
    "```"
   ]
  },
  {
   "cell_type": "code",
   "execution_count": null,
   "metadata": {},
   "outputs": [],
   "source": [
    "x = 10\n",
    "y = 20\n",
    "maior = x if x > y else y\n",
    "print(f'O maior valor é {maior}')"
   ]
  },
  {
   "attachments": {},
   "cell_type": "markdown",
   "metadata": {},
   "source": [
    "A estrutura pode ser encadeada com diversos `if..else` em linha, mas isso pode ficar muito confuso."
   ]
  },
  {
   "cell_type": "code",
   "execution_count": null,
   "metadata": {},
   "outputs": [],
   "source": [
    "nota = 95\n",
    "\n",
    "resultado = 'Nota = A+' if nota > 90 else 'Nota = A' if nota > 80 else 'Nota = B' if nota > 70 else 'Nota = C' if nota > 60 else 'Nota = D' if  nota > 40 else 'Reprovado'\n",
    "print(resultado)\n",
    "\n",
    "# abaixo temos a mesma estrutura usando parênteses para vermos melhor os grupos de if..else\n",
    "resultado = ('Nota = A+' if nota > 90 else ('Nota = A' if nota > 80 else ('Nota = B' if nota > 70 else ('Nota = C' if nota > 60 else ('Nota = D' if  nota > 40 else 'Reprovado')))))\n",
    "print(resultado)"
   ]
  },
  {
   "attachments": {},
   "cell_type": "markdown",
   "metadata": {},
   "source": [
    "E também é possível usar if dentro de uma cláusula `lambda` (veremos mais adiante, mas se estiver curioso, [veja mais aqui](https://www.w3schools.com/python/python_lambda.asp))"
   ]
  },
  {
   "cell_type": "code",
   "execution_count": null,
   "metadata": {},
   "outputs": [],
   "source": [
    "valores = [1, 2, 3, 4, 5, 6]\n",
    "resultado = filter(lambda x: x > 3 if x % 2 == 0 else False, valores)\n",
    "print(list(resultado))  # saída: [4, 6]"
   ]
  },
  {
   "attachments": {},
   "cell_type": "markdown",
   "metadata": {},
   "source": [
    "Essas são apenas algumas maneiras de usar `if..elif..else` em Python. Lembre-se de que essas estruturas de controle de fluxo são fundamentais para qualquer programação e sua capacidade de usá-las de maneira eficiente é uma habilidade importante para qualquer desenvolvedor."
   ]
  },
  {
   "attachments": {},
   "cell_type": "markdown",
   "metadata": {},
   "source": [
    "## 1.3. if..else nos loops"
   ]
  },
  {
   "attachments": {},
   "cell_type": "markdown",
   "metadata": {},
   "source": [
    "Além do exemplo anterior, também é possível usar `if..elif..else` dentro de outras estruturas de controle de fluxo, como loops os `for` e `while`."
   ]
  },
  {
   "attachments": {},
   "cell_type": "markdown",
   "metadata": {},
   "source": [
    "Aqui está um exemplo de uso de `if..else` dentro de um loop `for` :"
   ]
  },
  {
   "cell_type": "code",
   "execution_count": null,
   "metadata": {},
   "outputs": [],
   "source": [
    "numeros = [1, 2, 3, 4, 5, 6]\n",
    "for num in numeros:\n",
    "    if num % 2 == 0:\n",
    "        print(f'{num} é par')\n",
    "    else:\n",
    "        print(f'{num} é ímpar')"
   ]
  },
  {
   "attachments": {},
   "cell_type": "markdown",
   "metadata": {},
   "source": [
    "E aqui está um exemplo de uso de `if..else` dentro de um loop `while` :"
   ]
  },
  {
   "cell_type": "code",
   "execution_count": null,
   "metadata": {},
   "outputs": [],
   "source": [
    "x = 5\n",
    "while x > 0:\n",
    "    print(x)\n",
    "    x -= 1\n",
    "    if x == 2:\n",
    "        print(\"x é 2\")\n",
    "    else:\n",
    "        print(\"x não é 2\")"
   ]
  },
  {
   "attachments": {},
   "cell_type": "markdown",
   "metadata": {},
   "source": [
    "## 1.4. if..else nas funções"
   ]
  },
  {
   "attachments": {},
   "cell_type": "markdown",
   "metadata": {},
   "source": [
    "Além de tudo o que foi mencionado anteriormente, existem outras maneiras de usar `if..elif..else` de acordo com as necessidades do seu código."
   ]
  },
  {
   "attachments": {},
   "cell_type": "markdown",
   "metadata": {},
   "source": [
    "Aqui está um exemplo de uso de `if..else` dentro de uma função (veremos mais sobre isso adiante) :"
   ]
  },
  {
   "cell_type": "code",
   "execution_count": null,
   "metadata": {},
   "outputs": [],
   "source": [
    "def verifica_maior(a, b):\n",
    "    if a > b:\n",
    "        return a\n",
    "    else:\n",
    "        return b\n",
    "\n",
    "print(verifica_maior(5, 10))  # saída: 10"
   ]
  },
  {
   "attachments": {},
   "cell_type": "markdown",
   "metadata": {},
   "source": [
    "E aqui está um exemplo de uso de `if..elif..else` dentro de uma classe (veremos mais sobre isso adiante) :"
   ]
  },
  {
   "cell_type": "code",
   "execution_count": null,
   "metadata": {},
   "outputs": [],
   "source": [
    "class Pessoa:\n",
    "    def __init__(self, idade):\n",
    "        self.idade = idade\n",
    "\n",
    "    def verifica_idade(self):\n",
    "        if self.idade < 18:\n",
    "            return \"Menor de idade\"\n",
    "        elif self.idade >= 18 and self.idade < 65:\n",
    "            return \"Maior de idade\"\n",
    "        else:\n",
    "            return \"Idoso\"\n",
    "\n",
    "\n",
    "pessoa1 = Pessoa(15)\n",
    "print(pessoa1.verifica_idade())  # saída: Menor de idade\n",
    "\n",
    "pessoa2 = Pessoa(35)\n",
    "print(pessoa2.verifica_idade())  # saída: Maior de idade\n",
    "\n",
    "pessoa3 = Pessoa(70)\n",
    "print(pessoa3.verifica_idade())  # saída: Idoso"
   ]
  },
  {
   "attachments": {},
   "cell_type": "markdown",
   "metadata": {},
   "source": [
    "Esses são apenas alguns exemplos de como usar `if..elif..else` dentro de outras estruturas de controle de fluxo. Lembre-se de que essas estruturas são ferramentas poderosas para controlar a lógica do seu código e sua capacidade de usá-las de maneira eficiente é crucial para escrever programas robustos e eficientes."
   ]
  },
  {
   "attachments": {},
   "cell_type": "markdown",
   "metadata": {},
   "source": [
    "## Links"
   ]
  },
  {
   "attachments": {},
   "cell_type": "markdown",
   "metadata": {},
   "source": [
    "- https://docs.python.org/3/tutorial/controlflow.html#if-statements\n",
    "- https://docs.python.org/3/reference/compound_stmts.html#the-if-statement"
   ]
  },
  {
   "attachments": {},
   "cell_type": "markdown",
   "metadata": {},
   "source": [
    "# 2. while"
   ]
  },
  {
   "attachments": {},
   "cell_type": "markdown",
   "metadata": {},
   "source": [
    "## 2.1. Básico"
   ]
  },
  {
   "attachments": {},
   "cell_type": "markdown",
   "metadata": {},
   "source": [
    "O comando `while` permite que você execute uma determinada ação enquanto uma condição específica é verdadeira."
   ]
  },
  {
   "attachments": {},
   "cell_type": "markdown",
   "metadata": {},
   "source": [
    "Exemplo 1 - Imprimir números de 1 a 10 :"
   ]
  },
  {
   "cell_type": "code",
   "execution_count": null,
   "metadata": {},
   "outputs": [],
   "source": [
    "contador = 1\n",
    "while contador <= 10:\n",
    "    print(contador, end=' ')\n",
    "    contador += 1\n",
    "\n",
    "# Saída: 1 2 3 4 5 6 7 8 9 10"
   ]
  },
  {
   "attachments": {},
   "cell_type": "markdown",
   "metadata": {},
   "source": [
    "Exemplo 2 - Pedir ao usuário para inserir um número até que o número seja maior que 10 :"
   ]
  },
  {
   "cell_type": "code",
   "execution_count": null,
   "metadata": {},
   "outputs": [],
   "source": [
    "numero_do_usuario = int(input(\"Insira um número (maior que 10): \"))\n",
    "\n",
    "while numero_do_usuario <= 10:\n",
    "    print(\"O número deve ser maior que 10. Por favor, tente novamente.\")\n",
    "    numero_do_usuario = int(input(\"Insira um número (maior que 10): \"))\n",
    "\n",
    "print(\"Obrigado por inserir um número válido.\")"
   ]
  },
  {
   "attachments": {},
   "cell_type": "markdown",
   "metadata": {},
   "source": [
    "## 2.2. Uso do while com o else"
   ]
  },
  {
   "attachments": {},
   "cell_type": "markdown",
   "metadata": {},
   "source": [
    "Os scripts abaixo mostram como usar o loop `while` com o `else` para contar de 1 a 10, ler uma senha, e procurar um item em uma lista. A cláusula `else` é executada depois que o loop `while` é concluído, ou seja, quando a condição de parada deixa de ser verdadeira e o loop acaba. Em caso contrário, se o loop for interrompido com um `break`, o `else` não é executado."
   ]
  },
  {
   "attachments": {},
   "cell_type": "markdown",
   "metadata": {},
   "source": [
    "Usando `while..else` para contar de 1 a 10 :"
   ]
  },
  {
   "cell_type": "code",
   "execution_count": null,
   "metadata": {},
   "outputs": [],
   "source": [
    "i = 1\n",
    "\n",
    "while i <= 10:\n",
    "    print(i)\n",
    "    i += 1\n",
    "else:\n",
    "    print(\"Laço while concluído!\")"
   ]
  },
  {
   "attachments": {},
   "cell_type": "markdown",
   "metadata": {},
   "source": [
    "Usando `while..else` para ler uma senha :"
   ]
  },
  {
   "cell_type": "code",
   "execution_count": null,
   "metadata": {},
   "outputs": [],
   "source": [
    "senha_correta = \"senha1234\"\n",
    "senha = \"\"\n",
    "tentativas = 0\n",
    "\n",
    "while senha != senha_correta:\n",
    "    senha = input(\"Digite a senha: \")\n",
    "    tentativas += 1\n",
    "    if tentativas >= 3:\n",
    "        print(\"Você excedeu o número de tentativas!\")\n",
    "        break\n",
    "else:\n",
    "    print(\"Acesso concedido!\")"
   ]
  },
  {
   "attachments": {},
   "cell_type": "markdown",
   "metadata": {},
   "source": [
    "Usando `while..else` para procurar um item em uma lista :"
   ]
  },
  {
   "cell_type": "code",
   "execution_count": null,
   "metadata": {},
   "outputs": [],
   "source": [
    "lista = [1, 2, 3, 4, 5]\n",
    "item = 6\n",
    "encontrou = False\n",
    "i = 0\n",
    "\n",
    "while i < len(lista):\n",
    "    if lista[i] == item:\n",
    "        encontrou = True\n",
    "        break\n",
    "    i += 1\n",
    "else:\n",
    "    print(\"Item não encontrado.\")\n",
    "\n",
    "if encontrou:\n",
    "    print(\"Item encontrado.\")"
   ]
  },
  {
   "attachments": {},
   "cell_type": "markdown",
   "metadata": {},
   "source": [
    "## Links"
   ]
  },
  {
   "attachments": {},
   "cell_type": "markdown",
   "metadata": {},
   "source": [
    "- https://docs.python.org/3/tutorial/introduction.html#first-steps-towards-programming\n",
    "- https://docs.python.org/3/reference/compound_stmts.html#the-while-statement"
   ]
  },
  {
   "attachments": {},
   "cell_type": "markdown",
   "metadata": {},
   "source": [
    "# 3. for"
   ]
  },
  {
   "attachments": {},
   "cell_type": "markdown",
   "metadata": {},
   "source": [
    "Diferente de outras linguagens de programação, o **for** no Python funciona iterando sobre todos os elementos de uma sequência (como uma lista ou uma string) na ordem que eles aparecem na sequência."
   ]
  },
  {
   "cell_type": "code",
   "execution_count": null,
   "metadata": {},
   "outputs": [],
   "source": [
    "animais = ['gato', 'cão', 'cavalo', 'caturrita']\n",
    "\n",
    "for animal in animais:\n",
    "    print(f'A palavra {animal} tem {len(animal)} letras.')"
   ]
  },
  {
   "cell_type": "code",
   "execution_count": null,
   "metadata": {},
   "outputs": [],
   "source": [
    "palavra = 'supercalifragilisticexpialidocious'\n",
    "\n",
    "for letra in palavra:\n",
    "    print(f'{letra} ', end='')"
   ]
  },
  {
   "attachments": {},
   "cell_type": "markdown",
   "metadata": {},
   "source": [
    "## Links"
   ]
  },
  {
   "attachments": {},
   "cell_type": "markdown",
   "metadata": {},
   "source": [
    "- https://docs.python.org/3/tutorial/controlflow.html#for-statements\n",
    "- https://docs.python.org/3/reference/compound_stmts.html#the-for-statement"
   ]
  },
  {
   "attachments": {},
   "cell_type": "markdown",
   "metadata": {},
   "source": [
    "# 4. range()"
   ]
  },
  {
   "attachments": {},
   "cell_type": "markdown",
   "metadata": {},
   "source": [
    "A função `range()` em Python é usada para criar uma sequência numérica específica. Ela é muito útil para percorrer sequências numéricas e para criar loops for que precisam percorrer um número específico de vezes. A sintaxe geral da função `range()` é :"
   ]
  },
  {
   "cell_type": "code",
   "execution_count": null,
   "metadata": {},
   "outputs": [],
   "source": [
    "range(start, stop, step)"
   ]
  },
  {
   "attachments": {},
   "cell_type": "markdown",
   "metadata": {},
   "source": [
    "- `start` : é o número inicial da sequência (por padrão é 0);\n",
    "- `stop` : é o número final da sequência (não incluso na sequência);\n",
    "- `step` : é o tamanho do incremento (por padrão é 1);"
   ]
  },
  {
   "attachments": {},
   "cell_type": "markdown",
   "metadata": {},
   "source": [
    "Exemplo :"
   ]
  },
  {
   "cell_type": "code",
   "execution_count": null,
   "metadata": {},
   "outputs": [],
   "source": [
    "# imprimir números de 0 a 9\n",
    "for i in range(10):\n",
    "    print(i)"
   ]
  },
  {
   "attachments": {},
   "cell_type": "markdown",
   "metadata": {},
   "source": [
    "Neste exemplo, o `range()` foi chamado com um único argumento, 10. Isso cria uma sequência de números inteiros de 0 a 9. O valor inicial é 0 e o valor final é 10 (que não está incluído na sequência). O tamanho do incremento é 1, que é o valor padrão."
   ]
  },
  {
   "cell_type": "code",
   "execution_count": null,
   "metadata": {},
   "outputs": [],
   "source": [
    "# imprimir números de 2 a 9\n",
    "for i in range(2, 10):\n",
    "    print(i)"
   ]
  },
  {
   "attachments": {},
   "cell_type": "markdown",
   "metadata": {},
   "source": [
    "Neste exemplo, o `range()` foi chamado com dois argumentos, 2 e 10. Isso cria uma sequência de números inteiros de 2 a 9. O valor inicial é 2 e o valor final é 10 (que não está incluído na sequência). O tamanho do incremento é 1, que é o valor padrão."
   ]
  },
  {
   "cell_type": "code",
   "execution_count": null,
   "metadata": {},
   "outputs": [],
   "source": [
    "# imprimir números de 2 a 20, com incremento de 2\n",
    "for i in range(2, 21, 2):\n",
    "    print(i)"
   ]
  },
  {
   "attachments": {},
   "cell_type": "markdown",
   "metadata": {},
   "source": [
    "Neste exemplo, o `range()` foi chamado com três argumentos, 2, 21 e 2. Isso cria uma sequência de números inteiros de 2 a 20, com incremento de 2. O valor inicial é 2, o valor final é 21 (que não está incluído na sequência) e o tamanho do incremento é 2."
   ]
  },
  {
   "attachments": {},
   "cell_type": "markdown",
   "metadata": {},
   "source": [
    "A função `range()` também suporta valores negativos para os argumentos `start`, `stop` e `step`.\n",
    "Valores negativos para `start` e `stop` podem ser usados ​​para criar sequências de números decrescentes, enquanto valores negativos para `step` podem ser usados ​​para criar sequências de números decrescentes com incrementos específicos.\n",
    "\n",
    "Exemplos :"
   ]
  },
  {
   "cell_type": "code",
   "execution_count": null,
   "metadata": {},
   "outputs": [],
   "source": [
    "# imprimir números de 9 a 0\n",
    "for i in range(9, -1, -1):\n",
    "    print(i)"
   ]
  },
  {
   "attachments": {},
   "cell_type": "markdown",
   "metadata": {},
   "source": [
    "Neste exemplo, o `range()` foi chamado com três argumentos, 9, -1 e -1. Isso cria uma sequência de números inteiros de 9 a 0, com incremento de -1. O valor inicial é 9, o valor final é -1 (que não está incluído na sequência) e o tamanho do incremento é -1."
   ]
  },
  {
   "cell_type": "code",
   "execution_count": null,
   "metadata": {},
   "outputs": [],
   "source": [
    "# imprimir números de -10 a -1\n",
    "for i in range(-10, 0):\n",
    "    print(i)"
   ]
  },
  {
   "attachments": {},
   "cell_type": "markdown",
   "metadata": {},
   "source": [
    "Neste exemplo, o `range()` foi chamado com dois argumentos, -10 e 0. Isso cria uma sequência de números inteiros de -10 a -1. O valor inicial é -10 e o valor final é 0 (que não está incluído na sequência). O tamanho do incremento é 1, que é o valor padrão."
   ]
  },
  {
   "attachments": {},
   "cell_type": "markdown",
   "metadata": {},
   "source": [
    "É importante notar que, quando se usa valores negativos, é importante garantir que o valor inicial seja menor que o valor final, caso contrário, a sequência será `vazia`.\n",
    "\n",
    "Em resumo, a função `range()` é uma ferramenta poderosa para criar sequências numéricas e é amplamente utilizada em loops for para percorrer essas sequências. Ela permite especificar valores iniciais, finais e incrementos específicos, além de suportar valores negativos."
   ]
  },
  {
   "attachments": {},
   "cell_type": "markdown",
   "metadata": {},
   "source": [
    "Além disso, a função `range()` pode ser convertida em uma lista usando a função `list()`."
   ]
  },
  {
   "cell_type": "code",
   "execution_count": null,
   "metadata": {},
   "outputs": [],
   "source": [
    "# convertendo range em uma lista\n",
    "numeros = list(range(10))\n",
    "print(numeros)"
   ]
  },
  {
   "attachments": {},
   "cell_type": "markdown",
   "metadata": {},
   "source": [
    "Isso cria uma lista com os números de 0 a 9."
   ]
  },
  {
   "attachments": {},
   "cell_type": "markdown",
   "metadata": {},
   "source": [
    "## Links"
   ]
  },
  {
   "attachments": {},
   "cell_type": "markdown",
   "metadata": {},
   "source": [
    "- https://docs.python.org/3/tutorial/controlflow.html#the-range-function\n",
    "- https://docs.python.org/3/library/stdtypes.html#range"
   ]
  },
  {
   "attachments": {},
   "cell_type": "markdown",
   "metadata": {},
   "source": [
    "# 5. break e continue"
   ]
  },
  {
   "attachments": {},
   "cell_type": "markdown",
   "metadata": {},
   "source": [
    "## 5.1. break"
   ]
  },
  {
   "attachments": {},
   "cell_type": "markdown",
   "metadata": {},
   "source": [
    "O comando `break` é usado em loops (como `while` e `for`) para interromper o loop antes que a condição de parada seja atingida. Isso significa que, quando o comando `break` é executado dentro de um loop, o loop é imediatamente encerrado e o código subsequente é executado."
   ]
  },
  {
   "attachments": {},
   "cell_type": "markdown",
   "metadata": {},
   "source": [
    "Por exemplo, você pode usar o comando `break` para sair de um loop `while` quando um determinado valor é encontrado :"
   ]
  },
  {
   "cell_type": "code",
   "execution_count": null,
   "metadata": {},
   "outputs": [],
   "source": [
    "# Iniciando uma lista de números\n",
    "numeros = [1, 2, 3, 4, 5, 6, 7, 8, 9]\n",
    "\n",
    "# Iniciando uma variável contadora\n",
    "contador = 0\n",
    "\n",
    "# O loop while é executado enquanto a condição for verdadeira\n",
    "while contador < len(numeros):\n",
    "    # Verifica se o número é 5\n",
    "    if numeros[contador] == 5:\n",
    "        # Interrompe o loop\n",
    "        break\n",
    "    print(numeros[contador])\n",
    "    # Incrementa o contador em 1\n",
    "    contador += 1\n",
    "\n",
    "# Mensagem a ser exibida quando o loop while terminar\n",
    "print(\"Loop while finalizado!\")"
   ]
  },
  {
   "attachments": {},
   "cell_type": "markdown",
   "metadata": {},
   "source": [
    "Este script imprime os números de 1 a 4 e, em seguida, exibe a mensagem `Loop while finalizado!`. A cada iteração, verifica-se se o valor do contador é igual a 5, se for verdadeiro, o comando `break` é executado e o loop é interrompido, sem imprimir o número 5 e sem continuar as iterações, caso contrário ele imprime o número e continua.\n",
    "\n",
    "Além disso, o `break` pode ser usado em conjunto com `if..elif..else` para sair de um loop quando uma determinada condição é atendida. O exemplo acima ilustra isso, pois o loop é interrompido quando o número encontrado é igual a 5.\n",
    "\n",
    "É importante lembrar que, quando você usa o `break` para sair de um loop, você perde a possibilidade de continuar processando os dados restantes dentro do loop, então é importante utilizar este comando com cuidado e ter certeza de que é a melhor opção para a tarefa específica."
   ]
  },
  {
   "attachments": {},
   "cell_type": "markdown",
   "metadata": {},
   "source": [
    "## 5.2. continue"
   ]
  },
  {
   "attachments": {},
   "cell_type": "markdown",
   "metadata": {},
   "source": [
    "O comando `continue` é usado em loops (como `while` e `for`) para pular uma iteração específica e continuar com a próxima. Isso significa que, quando o comando `continue` é executado dentro de um loop, a iteração atual é interrompida e o código subsequente dentro do loop não é executado, mas o loop continua com a próxima iteração."
   ]
  },
  {
   "attachments": {},
   "cell_type": "markdown",
   "metadata": {},
   "source": [
    "Por exemplo, você pode usar o comando `continue` para pular números pares em um loop :"
   ]
  },
  {
   "cell_type": "code",
   "execution_count": null,
   "metadata": {},
   "outputs": [],
   "source": [
    "# Iniciando uma lista de números\n",
    "numeros = [1, 2, 3, 4, 5, 6, 7, 8, 9]\n",
    "\n",
    "# Iniciando uma variável contadora\n",
    "contador = 0\n",
    "\n",
    "# O loop while é executado enquanto a condição for verdadeira\n",
    "while contador < len(numeros):\n",
    "    # Verifica se o número é par\n",
    "    if numeros[contador] % 2 == 0:\n",
    "        # Pula para a próxima iteração\n",
    "        contador += 1\n",
    "        continue\n",
    "    print(numeros[contador])\n",
    "    # Incrementa o contador em 1\n",
    "    contador += 1\n",
    "\n",
    "# Mensagem a ser exibida quando o loop while terminar\n",
    "print(\"Loop while finalizado!\")"
   ]
  },
  {
   "attachments": {},
   "cell_type": "markdown",
   "metadata": {},
   "source": [
    "Este script imprime somente os números ímpares de 1 a 9 e, em seguida, exibe a mensagem `Loop while finalizado!`. A cada iteração, verifica-se se o valor do contador é par, se for verdadeiro, o comando `continue` é executado e o código pula para a próxima iteração, sem imprimir o número, caso contrário ele imprime o número e continua.\n",
    "\n",
    "Além disso, o `continue` pode ser usado em conjunto com `if..elif..else` para pular uma iteração quando uma determinada condição é atendida. O exemplo acima ilustra isso, pois o código pula as iterações quando o número encontrado é par.\n",
    "\n",
    "É importante lembrar que, quando você usa o `continue` para pular uma iteração, você perde a possibilidade de processar os dados dentro daquela iteração específica, então é importante utilizar este comando com cuidado e ter certeza de que é a melhor opção para a tarefa específica."
   ]
  },
  {
   "attachments": {},
   "cell_type": "markdown",
   "metadata": {},
   "source": [
    "## 5.3. else"
   ]
  },
  {
   "attachments": {},
   "cell_type": "markdown",
   "metadata": {},
   "source": [
    "No Python, o comando `else` pode ser usado em conjunto com loops (como `while` e `for`) para especificar um bloco de código a ser executado quando o loop é concluído normalmente, ou seja, quando a condição de parada do loop é atingida sem que o comando `break` seja executado."
   ]
  },
  {
   "attachments": {},
   "cell_type": "markdown",
   "metadata": {},
   "source": [
    "Por exemplo, você pode usar o comando `else` com um loop `while` para imprimir uma mensagem diferente dependendo de se o loop foi concluído normalmente ou interrompido por um `break` :"
   ]
  },
  {
   "cell_type": "code",
   "execution_count": null,
   "metadata": {},
   "outputs": [],
   "source": [
    "# Iniciando uma lista de números\n",
    "numeros = [1, 2, 3, 4, 6, 7, 8, 9]\n",
    "\n",
    "# Iniciando uma variável contadora\n",
    "contador = 0\n",
    "\n",
    "# O loop while é executado enquanto a condição for verdadeira\n",
    "while contador < len(numeros):\n",
    "    # Verifica se o número é 5\n",
    "    if numeros[contador] == 5:\n",
    "        # Interrompe o loop\n",
    "        break\n",
    "    print(numeros[contador])\n",
    "    # Incrementa o contador em 1\n",
    "    contador += 1\n",
    "else:\n",
    "    print(\"Loop while finalizado normalmente\")\n"
   ]
  },
  {
   "attachments": {},
   "cell_type": "markdown",
   "metadata": {},
   "source": [
    "Este script imprime os números de 1 a 4 e, em seguida, exibe a mensagem `Loop while finalizado normalmente`, pois o loop foi concluído normalmente, ou seja, quando a condição de parada do loop é atingida sem que o comando `break` seja executado. Caso o número 5 fosse encontrado, o código interromperia o loop com o `break` e não imprimiria a mensagem `Loop while finalizado normalmente`."
   ]
  },
  {
   "attachments": {},
   "cell_type": "markdown",
   "metadata": {},
   "source": [
    "Além disso, o `else` pode ser usado em conjunto com `for` loop também. O else será executado se o loop for concluído normalmente, ou seja, quando todos os elementos do iterável tenham sido processados."
   ]
  },
  {
   "cell_type": "code",
   "execution_count": null,
   "metadata": {},
   "outputs": [],
   "source": [
    "# Iniciando uma lista de números\n",
    "numeros = [1, 2, 3, 4, 6, 7, 8, 9]\n",
    "\n",
    "# O for loop é executado para cada elemento da lista\n",
    "for num in numeros:\n",
    "    # Verifica se o número é 5\n",
    "    if num == 5:\n",
    "        # Interrompe o loop\n",
    "        break\n",
    "    print(num)\n",
    "else:\n",
    "    print(\"Loop for finalizado normalmente\")\n"
   ]
  },
  {
   "attachments": {},
   "cell_type": "markdown",
   "metadata": {},
   "source": [
    "É importante notar que o else não será executado se o loop for interrompido com o comando \"break\", se o loop for interrompido o else não será executado.\n",
    "\n",
    "Em resumo, o uso do else em loops, permite que você tenha um controle mais preciso de como o seu código está funcionando com loops no Python, e também permite que você adicione funcionalidades adicionais ao seu código, como por exemplo, enviar uma notificação quando o loop é concluído normalmente, ou armazenar resultados finais do loop em uma variável.\n",
    "\n",
    "Além disso, é importante notar que o `else` pode ser usado com outros tipos de estruturas de controle de fluxo, como `if...else` e `try...except...else` para fornecer uma lógica adicional ao seu código."
   ]
  },
  {
   "attachments": {},
   "cell_type": "markdown",
   "metadata": {},
   "source": [
    "## Links"
   ]
  },
  {
   "attachments": {},
   "cell_type": "markdown",
   "metadata": {},
   "source": [
    "- https://docs.python.org/3/tutorial/controlflow.html#break-and-continue-statements-and-else-clauses-on-loops\n",
    "- https://docs.python.org/3/reference/simple_stmts.html#break\n",
    "- https://docs.python.org/3/reference/simple_stmts.html#continue"
   ]
  },
  {
   "attachments": {},
   "cell_type": "markdown",
   "metadata": {},
   "source": [
    "# 6. pass"
   ]
  },
  {
   "attachments": {},
   "cell_type": "markdown",
   "metadata": {},
   "source": [
    "O `pass` é uma palavra-chave em Python que indica ao interpretador para não fazer nada. Ele é usado como um espaço reservado quando é necessário definir uma estrutura de controle de fluxo, mas ainda não há nenhum código a ser executado. Ele é comumente usado como um placeholder para funções ou estruturas de controle de fluxo que ainda não foram implementadas.\n",
    "\n",
    "Exemplo de uso :"
   ]
  },
  {
   "cell_type": "code",
   "execution_count": null,
   "metadata": {},
   "outputs": [],
   "source": [
    "# Criando uma função sem implementação\n",
    "def minha_funcao():\n",
    "    pass"
   ]
  },
  {
   "attachments": {},
   "cell_type": "markdown",
   "metadata": {},
   "source": [
    "Neste exemplo, a função `minha_funcao()` é definida, mas não possui nenhum código a ser executado. Isso é útil quando você está planejando ou trabalhando em uma função, mas ainda não decidiu o que ela fará."
   ]
  },
  {
   "cell_type": "code",
   "execution_count": null,
   "metadata": {},
   "outputs": [],
   "source": [
    "# Usando pass em um loop while\n",
    "while True:\n",
    "    pass"
   ]
  },
  {
   "attachments": {},
   "cell_type": "markdown",
   "metadata": {},
   "source": [
    "Neste exemplo, o loop `while` é criado e a instrução `pass` é usada como corpo do loop. Isso cria um loop infinito que não fará nada, pois o `pass` não faz nada, é apenas uma maneira de evitar erros de sintaxe. Esse é um exemplo de como o `pass` pode ser usado como uma forma de reservar espaço para uma estrutura de controle de fluxo que ainda não foi implementada.\n"
   ]
  },
  {
   "cell_type": "code",
   "execution_count": null,
   "metadata": {},
   "outputs": [],
   "source": [
    "# Usando pass como declaração de exceção\n",
    "try:\n",
    "    # código que pode causar exceção\n",
    "except ExceptionType:\n",
    "    pass"
   ]
  },
  {
   "attachments": {},
   "cell_type": "markdown",
   "metadata": {},
   "source": [
    "Neste exemplo, a cláusula `except` é usada para capturar uma exceção específica, mas o pass é usado como corpo da cláusula. Isso permite que o código continue a ser executado sem fazer nada quando a exceção é capturada. Isso é útil quando você deseja ignorar uma exceção sem interromper o fluxo normal do programa."
   ]
  },
  {
   "attachments": {},
   "cell_type": "markdown",
   "metadata": {},
   "source": [
    "## Links"
   ]
  },
  {
   "attachments": {},
   "cell_type": "markdown",
   "metadata": {},
   "source": [
    "- https://docs.python.org/3/tutorial/controlflow.html#pass-statements\n",
    "- https://docs.python.org/3/reference/simple_stmts.html#pass"
   ]
  },
  {
   "attachments": {},
   "cell_type": "markdown",
   "metadata": {},
   "source": [
    "# 7. match"
   ]
  },
  {
   "attachments": {},
   "cell_type": "markdown",
   "metadata": {},
   "source": [
    "O **match** pega uma expressão e compara seu valor com sucessivos padrões definidos em um ou mais blocos **case**. Ele se assemelha muito ao switch, de linguagens como C, C++, Java, JavaScript, mas é mais similar aos padrões de comparação de linguagens como Rust ou Haskell."
   ]
  },
  {
   "cell_type": "code",
   "execution_count": null,
   "metadata": {},
   "outputs": [],
   "source": [
    "# usando os dias da semana com if..else\n",
    "dia = int(input('Digite um número entre 1 e 7 : '))\n",
    "\n",
    "if dia == 1:\n",
    "    print('Domingo')\n",
    "elif dia == 2:\n",
    "    print('Segunda-feira')\n",
    "elif dia == 3:\n",
    "    print('Terça-feira')\n",
    "elif dia == 4:\n",
    "    print('Quarta-feira')\n",
    "elif dia == 5:\n",
    "    print('Quinta-feira')\n",
    "elif dia == 6:\n",
    "    print('Sexta-feira')\n",
    "elif dia == 7:\n",
    "    print('Sábado')\n",
    "else:\n",
    "    print('Não sei que dia é esse.')\n"
   ]
  },
  {
   "cell_type": "code",
   "execution_count": null,
   "metadata": {},
   "outputs": [],
   "source": [
    "# usando a mesma lógica acima, mas com match\n",
    "dia = int(input('Digite um número entre 1 e 7 : '))\n",
    "\n",
    "match dia:\n",
    "    case 1:\n",
    "        print('Domingo')\n",
    "    case 2:\n",
    "        print('Segunda-feira')\n",
    "    case 3:\n",
    "        print('Terça-feira')\n",
    "    case 4:\n",
    "        print('Quarta-feira')\n",
    "    case 5:\n",
    "        print('Quinta-feira')\n",
    "    case 6:\n",
    "        print('Sexta-feira')\n",
    "    case 7:\n",
    "        print('Sábado')\n",
    "    case _:\n",
    "        print('Não sei que dia é esse.')\n"
   ]
  },
  {
   "cell_type": "code",
   "execution_count": null,
   "metadata": {},
   "outputs": [],
   "source": [
    "# definindo como dias da semana\n",
    "dia = int(input('Digite um número entre 1 e 7 : '))\n",
    "\n",
    "match dia:\n",
    "    case 1 | 7:\n",
    "        print('Fim de semana!')\n",
    "    case 2 | 3 | 4 | 5 | 6:\n",
    "        print('Dia útil!')\n",
    "    case _:\n",
    "        print('Não sei que dia é esse.')"
   ]
  },
  {
   "attachments": {},
   "cell_type": "markdown",
   "metadata": {},
   "source": [
    "## Links"
   ]
  },
  {
   "attachments": {},
   "cell_type": "markdown",
   "metadata": {},
   "source": [
    "- https://docs.python.org/3/tutorial/controlflow.html#match-statements\n",
    "- https://docs.python.org/3/reference/compound_stmts.html#match\n",
    "- https://peps.python.org/pep-0636/"
   ]
  }
 ],
 "metadata": {
  "kernelspec": {
   "display_name": ".venv",
   "language": "python",
   "name": "python3"
  },
  "language_info": {
   "codemirror_mode": {
    "name": "ipython",
    "version": 3
   },
   "file_extension": ".py",
   "mimetype": "text/x-python",
   "name": "python",
   "nbconvert_exporter": "python",
   "pygments_lexer": "ipython3",
   "version": "3.11.1 (tags/v3.11.1:a7a450f, Dec  6 2022, 19:58:39) [MSC v.1934 64 bit (AMD64)]"
  },
  "orig_nbformat": 4,
  "vscode": {
   "interpreter": {
    "hash": "68f6cf9ddf20b8330c35f9eb8d38bef7105e3b161f09b6b7e5f8b2d3944d5325"
   }
  }
 },
 "nbformat": 4,
 "nbformat_minor": 2
}

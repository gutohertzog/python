{
 "cells": [
  {
   "attachments": {},
   "cell_type": "markdown",
   "metadata": {},
   "source": [
    "# Introdução ao Python"
   ]
  },
  {
   "attachments": {},
   "cell_type": "markdown",
   "metadata": {},
   "source": [
    "O Python pode ser utilizado de divrsas formas. As duas mais comuns são : \n",
    "- `Python Shell` : ele é acessado pelo **Prompt de Comando** digitando `python`;\n",
    "- `Script Python` : arquivo com extensão `.py`;"
   ]
  },
  {
   "attachments": {},
   "cell_type": "markdown",
   "metadata": {},
   "source": [
    "Os comandos passados no `Python Shell` tem por característica serem executados logo que acionamos o **Enter**.<br>\n",
    "Quando acionamos o `Python Shell` com o comando **python**, somos apresentado à seguinte interface :\n",
    "\n",
    "```shell\n",
    "Python 3.11.1 (tags/v3.11.1:a7a450f, Dec  6 2022, 19:58:39) [MSC v.1934 64 bit (AMD64)] on win32\n",
    "Type \"help\", \"copyright\", \"credits\" or \"license\" for more information.\n",
    ">>> _\n",
    "```\n",
    "\n",
    "Os `>>>` indica onde os comandos são entrados."
   ]
  },
  {
   "attachments": {},
   "cell_type": "markdown",
   "metadata": {},
   "source": [
    "Quando usamos o arquivo Python (chamados de script), os comandos colocados lá são executado apenas quando chamamos o python no **Prompt de Comando**, conforme o exemplo abaixo :<br>\n",
    "`C:\\python>python arquivo.py`"
   ]
  },
  {
   "attachments": {},
   "cell_type": "markdown",
   "metadata": {},
   "source": [
    "Ao usarmos o Python no Jupyter Notebook, teremos dois tipos de célular. Uma para o texto formatado, chamado de `Markdown` e outra para o nosso código python.\n",
    "\n",
    "Para mais informações sobre como usar o Jupyter Notebook, veja o link abaixo :\n",
    "- https://medium.com/@pedrofullstack/introdu%C3%A7%C3%A3o-ao-jupyter-notebook-para-python-b2cf79cea31d"
   ]
  },
  {
   "attachments": {},
   "cell_type": "markdown",
   "metadata": {},
   "source": [
    "## 1. Comentários"
   ]
  },
  {
   "attachments": {},
   "cell_type": "markdown",
   "metadata": {},
   "source": [
    "Os comentários em Python são usados para explicar o código e ajudar outras pessoas a entender o que ele faz. Eles são ignorados pelo interpretador Python e não afetam a execução do programa. Existem dois tipos de comentários em Python: comentários de uma linha e comentários de várias linhas."
   ]
  },
  {
   "attachments": {},
   "cell_type": "markdown",
   "metadata": {},
   "source": [
    "### 1.1. Comentário de uma linha"
   ]
  },
  {
   "attachments": {},
   "cell_type": "markdown",
   "metadata": {},
   "source": [
    "Os comentários em linha são usados para incluir breves explicações ou observações sobre um pedaço de código. Eles são indicados por um sinal de `#` no início da linha. Tudo o que você escrever após o sinal `#` será considerado como comentário e será ignorado pelo interpretador Python."
   ]
  },
  {
   "attachments": {},
   "cell_type": "markdown",
   "metadata": {},
   "source": [
    "Aqui estão alguns exemplos de comentários em linha :"
   ]
  },
  {
   "cell_type": "code",
   "execution_count": null,
   "metadata": {},
   "outputs": [],
   "source": [
    "x = 42 # atribui o valor 42 à variável x\n",
    "y = 5 # atribui o valor 5 à variável y\n",
    "\n",
    "# calcula a soma de x e y e armazena o resultado em z\n",
    "z = x + y\n",
    "\n",
    "# imprime a mensagem \"Bom dia, Dave!\"\n",
    "print(\"Bom dia, Dave!\") # a saída será \"Bom dia, Dave!\""
   ]
  },
  {
   "attachments": {},
   "cell_type": "markdown",
   "metadata": {},
   "source": [
    "Os comentários em linha também podem ser usados para desabilitar uma parte do código temporariamente. Isso é conhecido como `comentar o código` e é feito adicionando um sinal de `#` na frente de cada linha de código que você deseja desabilitar.\n",
    "\n",
    "Por exemplo :"
   ]
  },
  {
   "cell_type": "code",
   "execution_count": null,
   "metadata": {},
   "outputs": [],
   "source": [
    "# x = 42\n",
    "# y = 5\n",
    "# z = x + y"
   ]
  },
  {
   "attachments": {},
   "cell_type": "markdown",
   "metadata": {},
   "source": [
    "É importante notar que os comentários em linha só são úteis se você colocá-los em lugares estratégicos, e não escreva comentários que são óbvios ou desnecessários.\n",
    "\n",
    "Por exemplo, não precisamos de um comentário para explicar que `x = 5 é uma atribuição`, isso é óbvio. Ao invés disso, seria mais útil colocar comentários para explicar `o que a variável x representa ou qual é o propósito do código`.\n",
    "\n",
    "Além disso, os comentários também podem ser usados para explicar as decisões de design que você tomou no código, como por exemplo, por que você escolheu usar um determinado algoritmo ou estrutura de dados."
   ]
  },
  {
   "attachments": {},
   "cell_type": "markdown",
   "metadata": {},
   "source": [
    "Em resumo, os comentários em linha são uma ferramenta valiosa para ajudar a explicar o código e torná-lo mais fácil de entender e manter. É importante usá-los estrategicamente e evitar comentários desnecessários ou óbvios. Eles são importantes para tornar o código mais legível e explicativo, e ajudam a comunicar o propósito e a intenção do código para outros desenvolvedores ou pessoas que possam precisar manter ou entender o código."
   ]
  },
  {
   "attachments": {},
   "cell_type": "markdown",
   "metadata": {},
   "source": [
    "### 1.2. Comentário de várias linhas"
   ]
  },
  {
   "attachments": {},
   "cell_type": "markdown",
   "metadata": {},
   "source": [
    "Os comentários de várias linhas são usados para incluir explicações mais detalhadas ou observações que não couberem em uma única linha. Eles são indicados por três aspas simples (`'''`) ou duplas (`\"\"\"`) no início e no final do comentário. Tudo o que você escrever entre as três aspas será considerado como comentário e será ignorado pelo interpretador Python."
   ]
  },
  {
   "attachments": {},
   "cell_type": "markdown",
   "metadata": {},
   "source": [
    "Aqui estão alguns exemplos de comentários de várias linhas :"
   ]
  },
  {
   "cell_type": "code",
   "execution_count": null,
   "metadata": {},
   "outputs": [],
   "source": [
    "def soma(x, y):\n",
    "    \"\"\"\n",
    "    Esta função recebe dois números x e y e retorna a soma deles.\n",
    "    Ela é útil para realizar operações matemáticas básicas.\n",
    "    \"\"\"\n",
    "    return x + y\n",
    "\n",
    "class Pessoa:\n",
    "    \"\"\"\n",
    "    Esta classe representa uma pessoa. Ela tem os atributos nome, idade e endereço.\n",
    "    Ela também tem métodos para exibir essas informações e para alterá-las.\n",
    "    \"\"\"\n",
    "    def __init__(self, nome, idade, endereco):\n",
    "        self.nome = nome\n",
    "        self.idade = idade\n",
    "        self.endereco = endereco"
   ]
  },
  {
   "attachments": {},
   "cell_type": "markdown",
   "metadata": {},
   "source": [
    "Os comentários de várias linhas são especialmente úteis para documentar funções, métodos e classes. Eles podem fornecer informações sobre os parâmetros de entrada, os valores de retorno, os métodos disponíveis e qualquer outra informação relevante para a utilização da função ou classe.\n",
    "\n",
    "Além disso, esses comentários são facilmente acessíveis através da função `help()` ou `doc`."
   ]
  },
  {
   "attachments": {},
   "cell_type": "markdown",
   "metadata": {},
   "source": [
    "Aqui está um exemplo de como os comentários de várias linhas podem ser acessados com a função `help()` :"
   ]
  },
  {
   "cell_type": "code",
   "execution_count": null,
   "metadata": {},
   "outputs": [],
   "source": [
    "def soma(x, y):\n",
    "    \"\"\"\n",
    "    Esta função recebe dois números x e y e retorna a soma deles.\n",
    "    Ela é útil para realizar operações matemáticas básicas.\n",
    "    \"\"\"\n",
    "    return x + y\n",
    "\n",
    "help(soma)\n",
    "# Help on function soma in module __main__:\n",
    "\n",
    "# soma(x, y)\n",
    "#     Esta função recebe dois números x e y e retorna a soma deles.\n",
    "#     Ela é útil para realizar operações matemáticas básicas."
   ]
  },
  {
   "attachments": {},
   "cell_type": "markdown",
   "metadata": {},
   "source": [
    "Além disso, os comentários de várias linhas também são úteis para desativar temporariamente uma porção de código, sem excluí-lo completamente. Isso pode ser útil para testar ou depurar o código.\n",
    "\n",
    "Aqui está um exemplo de como os comentários de várias linhas podem ser usados para desativar temporariamente uma porção de código :"
   ]
  },
  {
   "cell_type": "code",
   "execution_count": null,
   "metadata": {},
   "outputs": [],
   "source": [
    "def soma(x, y):\n",
    "    \"\"\"\n",
    "    Esta função recebe dois números x e y e retorna a soma deles.\n",
    "    \"\"\"\n",
    "    result = x + y\n",
    "    \"\"\"\n",
    "    # descomentar a linha abaixo para imprimir o resultado\n",
    "    print(result)\n",
    "    \"\"\"\n",
    "    return result"
   ]
  },
  {
   "attachments": {},
   "cell_type": "markdown",
   "metadata": {},
   "source": [
    "Em resumo, os comentários de várias linhas são uma ferramenta valiosa para incluir explicações em detalhes sobre o código e torná-lo mais fácil de entender e manter. Eles são úteis para documentar funções, métodos e classes, fornecendo informações sobre parâmetros de entrada, valores de retorno, métodos disponíveis e qualquer outra informação relevante para a utilização da função ou classe. Além disso, esses comentários podem ser facilmente acessíveis através da função \"help()\" ou \"doc\". É importante usá-los estrategicamente e evitar comentários desnecessários ou óbvios."
   ]
  },
  {
   "attachments": {},
   "cell_type": "markdown",
   "metadata": {},
   "source": [
    "#### 1.2.1. Mais sobre docstrings"
   ]
  },
  {
   "attachments": {},
   "cell_type": "markdown",
   "metadata": {},
   "source": [
    "Os `docstrings` (documentation strings) em Python são cadeias de caracteres usadas para documentar código. Eles podem ser incluídos em `módulos`, `classes`, `funções` e `métodos` para fornecer informações sobre o que eles fazem e como usá-los. Essas strings são acessíveis através do atributo doc e podem ser exibidas usando a função `help()`.\n",
    "\n",
    "Os `docstrings` geralmente começam e terminam com aspas triplas simples (`'''`) ou duplas (`\"\"\"`)."
   ]
  },
  {
   "attachments": {},
   "cell_type": "markdown",
   "metadata": {},
   "source": [
    "Os docstrings são uma forma de documentar o seu código de maneira clara e concisa, para que outros desenvolvedores e usuários possam entender o que ele faz e como usá-lo. Eles são usados para explicar o que uma classe, função ou método faz, quais parâmetros ele aceita, o que ele retorna e como usá-lo."
   ]
  },
  {
   "attachments": {},
   "cell_type": "markdown",
   "metadata": {},
   "source": [
    "Por exemplo, para documentar uma função chamada `soma`, você poderia escrever :"
   ]
  },
  {
   "cell_type": "code",
   "execution_count": null,
   "metadata": {},
   "outputs": [],
   "source": [
    "def soma(a, b):\n",
    "    \"\"\"Esta função retorna a soma de dois números recebidos como parâmetros.\n",
    "\n",
    "    Parâmetros:\n",
    "        a (int): O primeiro número.\n",
    "        b (int): O segundo número.\n",
    "\n",
    "    Retorna:\n",
    "        int: A soma dos dois números.\n",
    "    \"\"\"\n",
    "    return a + b"
   ]
  },
  {
   "attachments": {},
   "cell_type": "markdown",
   "metadata": {},
   "source": [
    "Você pode acessar essa string de documentação usando o atributo `doc` da função, assim :"
   ]
  },
  {
   "cell_type": "code",
   "execution_count": null,
   "metadata": {},
   "outputs": [],
   "source": [
    "print(soma.__doc__)\n",
    "\n",
    "# Esta função retorna a soma de dois números recebidos como parâmetros.\n",
    "\n",
    "#     Parâmetros:\n",
    "#         a (int): O primeiro número.\n",
    "#         b (int): O segundo número.\n",
    "\n",
    "#     Retorna:\n",
    "#         int: A soma dos dois números."
   ]
  },
  {
   "attachments": {},
   "cell_type": "markdown",
   "metadata": {},
   "source": [
    "Além disso, você pode usar a função built-in `help()` para ver a documentação de um módulo, classe, função ou método e essa saída seria :"
   ]
  },
  {
   "cell_type": "code",
   "execution_count": null,
   "metadata": {},
   "outputs": [],
   "source": [
    "help(soma)\n",
    "\n",
    "# Help on function soma in module __main__:\n",
    "\n",
    "# soma(a, b)\n",
    "#     Esta função retorna a soma de dois números recebidos como parâmetros.\n",
    "\n",
    "#     Parâmetros:\n",
    "#         a (int): O primeiro número.\n",
    "#         b (int): O segundo número.\n",
    "\n",
    "#     Retorna:\n",
    "#         int: A soma dos dois números."
   ]
  },
  {
   "attachments": {},
   "cell_type": "markdown",
   "metadata": {},
   "source": [
    "## 2. Função print()"
   ]
  },
  {
   "attachments": {},
   "cell_type": "markdown",
   "metadata": {},
   "source": [
    "### 2.1. Básico"
   ]
  },
  {
   "attachments": {},
   "cell_type": "markdown",
   "metadata": {},
   "source": [
    "A função `print()` é uma das funções mais básicas do Python e é usada para exibir informações na tela. Ela pode ser usada para exibir uma ou mais strings, variáveis, números ou outros tipos de dados. A sintaxe da função é a seguinte :\n",
    "\n",
    "`print(argumento1, argumento2, ..., argumentoN)`"
   ]
  },
  {
   "attachments": {},
   "cell_type": "markdown",
   "metadata": {},
   "source": [
    "Os argumentos podem ser qualquer tipo de dados, incluindo strings, números, variáveis, etc. Exemplo :"
   ]
  },
  {
   "cell_type": "code",
   "execution_count": null,
   "metadata": {},
   "outputs": [],
   "source": [
    "print(\"Olá, mundo!\")\n",
    "print(123)\n",
    "x = 4\n",
    "print(x)"
   ]
  },
  {
   "attachments": {},
   "cell_type": "markdown",
   "metadata": {},
   "source": [
    "É possível também usar vários argumentos separados por vírgula, e o print irá imprimir todos eles com espaços entre eles :"
   ]
  },
  {
   "cell_type": "code",
   "execution_count": null,
   "metadata": {},
   "outputs": [],
   "source": [
    "print(\"Este\", \"é\", \"um\", \"exemplo\")"
   ]
  },
  {
   "attachments": {},
   "cell_type": "markdown",
   "metadata": {},
   "source": [
    "Além disso, a função `print()` também pode ser usada para exibir informações formatadas, usando o operador `%` e o método `format()`. Exemplo :"
   ]
  },
  {
   "cell_type": "code",
   "execution_count": null,
   "metadata": {},
   "outputs": [],
   "source": [
    "nome = \"João\"\n",
    "idade = 30\n",
    "print(\"Meu nome é %s e tenho %d anos\" % (nome, idade))\n",
    "print(\"Meu nome é {} e tenho {} anos\".format(nome, idade))"
   ]
  },
  {
   "attachments": {},
   "cell_type": "markdown",
   "metadata": {},
   "source": [
    "Também é possível controlar o final da linha imprimida, por padrão ela ira pular linha ao final da impressão, para mudar isso é preciso usar o parâmetro `end`, e para mudar a quebra de linha usa-se o parâmetro `sep`."
   ]
  },
  {
   "cell_type": "code",
   "execution_count": null,
   "metadata": {},
   "outputs": [],
   "source": [
    "print(\"Testando\", end = \" \")\n",
    "print(\"isso\")\n",
    "print(\"Testando\", \"isso\", sep = \"|\")"
   ]
  },
  {
   "attachments": {},
   "cell_type": "markdown",
   "metadata": {},
   "source": [
    "Se o `print()` tiver apenas um parâmetro, o uso do separador não funcionará."
   ]
  },
  {
   "cell_type": "code",
   "execution_count": null,
   "metadata": {},
   "outputs": [],
   "source": [
    "print(\"Testando\", end = \" \", sep=\"|\")\n",
    "print(\"isso\")\n",
    "print(\"Testando\", \"isso\", sep = \"|\")"
   ]
  },
  {
   "attachments": {},
   "cell_type": "markdown",
   "metadata": {},
   "source": [
    "Há também a possibilidade de se usar o print em modo de escrita em arquivo, ou seja, é possível redirecionar a saída da função para um arquivo, usando o parâmetro `file`. Exemplo :"
   ]
  },
  {
   "cell_type": "code",
   "execution_count": null,
   "metadata": {},
   "outputs": [],
   "source": [
    "with open(\"arquivo.txt\", \"w\") as arq:\n",
    "    print(\"Este texto será escrito no arquivo arquivo.txt\", file=arq)"
   ]
  },
  {
   "attachments": {},
   "cell_type": "markdown",
   "metadata": {},
   "source": [
    "### 2.2. Operador %"
   ]
  },
  {
   "attachments": {},
   "cell_type": "markdown",
   "metadata": {},
   "source": [
    "A função `print()` pode ser usada para exibir informações formatadas, usando o operador `%`.\n",
    "\n",
    "O operador `%` é usado para especificar como os argumentos devem ser formatados quando impressos. Cada `%` no texto da string é substituído pelo valor correspondente do argumento. Por exemplo, `%s` é usado para representar uma string, `%d` é usado para representar um número inteiro, e `%f` é usado para representar um número de ponto flutuante."
   ]
  },
  {
   "attachments": {},
   "cell_type": "markdown",
   "metadata": {},
   "source": [
    "Exemplo :"
   ]
  },
  {
   "cell_type": "code",
   "execution_count": null,
   "metadata": {},
   "outputs": [],
   "source": [
    "nome = \"João\"\n",
    "idade = 30\n",
    "print(\"Meu nome é %s e tenho %d anos\" % (nome, idade))"
   ]
  },
  {
   "attachments": {},
   "cell_type": "markdown",
   "metadata": {},
   "source": [
    "Além disso, é possível especificar o número de casas decimais que devem ser exibidas para números de ponto flutuante, usando o ponto seguido pelo número de casas decimais. Por exemplo :"
   ]
  },
  {
   "cell_type": "code",
   "execution_count": null,
   "metadata": {},
   "outputs": [],
   "source": [
    "x = 3.14159265\n",
    "print(\"O valor de x é %.2f\" % x)"
   ]
  },
  {
   "attachments": {},
   "cell_type": "markdown",
   "metadata": {},
   "source": [
    "É possível também especificar o tamanho do campo de impressão, usando uma vírgula seguida pelo tamanho do campo. Por exemplo :"
   ]
  },
  {
   "cell_type": "code",
   "execution_count": null,
   "metadata": {},
   "outputs": [],
   "source": [
    "print(\"-%10s-\" % \"olá\")"
   ]
  },
  {
   "attachments": {},
   "cell_type": "markdown",
   "metadata": {},
   "source": [
    "É possível também especificar o alinhamento usando o sinal de menos. Por exemplo :"
   ]
  },
  {
   "cell_type": "code",
   "execution_count": null,
   "metadata": {},
   "outputs": [],
   "source": [
    "print(\"-%-10s-\" % \"olá\")"
   ]
  },
  {
   "attachments": {},
   "cell_type": "markdown",
   "metadata": {},
   "source": [
    "É possível usar o operador `%` para formatar não somente strings e números, mas também outros tipos de dados, como tuplas, listas e dicionários. Por exemplo :"
   ]
  },
  {
   "cell_type": "code",
   "execution_count": null,
   "metadata": {},
   "outputs": [],
   "source": [
    "pessoa = (\"João\", 30)\n",
    "print(\"Meu nome é %s e tenho %d anos\" % pessoa)"
   ]
  },
  {
   "attachments": {},
   "cell_type": "markdown",
   "metadata": {},
   "source": [
    "É possível usar o operador `%` para formatar mais de um argumento na mesma string, usando parênteses para agrupar os argumentos. Por exemplo :"
   ]
  },
  {
   "cell_type": "code",
   "execution_count": null,
   "metadata": {},
   "outputs": [],
   "source": [
    "x = 3\n",
    "y = 4\n",
    "print(\"A soma de %d e %d é %d\" % (x, y, x + y))"
   ]
  },
  {
   "attachments": {},
   "cell_type": "markdown",
   "metadata": {},
   "source": [
    "É possível usar o operador `%` para formatar strings usando outro tipo de especificador, como `%r` para representar a representação de uma string. Exemplo :"
   ]
  },
  {
   "cell_type": "code",
   "execution_count": null,
   "metadata": {},
   "outputs": [],
   "source": [
    "print(\"Meu nome é %r\" % nome)"
   ]
  },
  {
   "attachments": {},
   "cell_type": "markdown",
   "metadata": {},
   "source": [
    "Abaixo estão alguns exemplos adicionais de uso do operador % :"
   ]
  },
  {
   "cell_type": "code",
   "execution_count": null,
   "metadata": {},
   "outputs": [],
   "source": [
    "# Formatando números como porcentagem :\n",
    "taxa = 0.25\n",
    "print(\"A taxa é de %d%%\" % (taxa * 100))"
   ]
  },
  {
   "cell_type": "code",
   "execution_count": null,
   "metadata": {},
   "outputs": [],
   "source": [
    "# Formatando números inteiros como hexadecimal :\n",
    "n = 255\n",
    "print(\"O número em hexadecimal é %x\" % n)"
   ]
  },
  {
   "cell_type": "code",
   "execution_count": null,
   "metadata": {},
   "outputs": [],
   "source": [
    "# Formatando números inteiros como octal :\n",
    "n = 255\n",
    "print(\"O número em octal é %o\" % n)"
   ]
  },
  {
   "cell_type": "code",
   "execution_count": null,
   "metadata": {},
   "outputs": [],
   "source": [
    "# Formatando uma lista :\n",
    "lista = [1, 2, 3]\n",
    "print(\"A lista é: %s\" % lista)"
   ]
  },
  {
   "cell_type": "code",
   "execution_count": null,
   "metadata": {},
   "outputs": [],
   "source": [
    "# Formatando um dicionário :\n",
    "dicionario = {'nome': 'João', 'idade': 30}\n",
    "print(\"Meu nome é %(nome)s e tenho %(idade)d anos\" % dicionario)"
   ]
  },
  {
   "cell_type": "code",
   "execution_count": null,
   "metadata": {},
   "outputs": [],
   "source": [
    "# Formatando com precisão :\n",
    "x = 3.14159265\n",
    "print(\"O valor de x é %.2f\" % x)"
   ]
  },
  {
   "cell_type": "code",
   "execution_count": null,
   "metadata": {},
   "outputs": [],
   "source": [
    "# Formatando com alinhamento :\n",
    "print(\"-%-10s-\" % \"olá\")"
   ]
  },
  {
   "cell_type": "code",
   "execution_count": null,
   "metadata": {},
   "outputs": [],
   "source": [
    "# Formatando com tamanho do campo :\n",
    "print(\"-%10s-\" % \"olá\")"
   ]
  },
  {
   "attachments": {},
   "cell_type": "markdown",
   "metadata": {},
   "source": [
    "Em resumo, a função `print()` pode ser usada para exibir informações formatadas usando o operador `%`. O operador `%` é usado para especificar como os argumentos devem ser formatados quando impressos, e pode ser usado para formatar strings, números, tuplas, listas, dicionários, e outros tipos de dados. Além disso, é possível especificar o número de casas decimais, o tamanho do campo de impressão, o alinhamento, e outros detalhes de formatação."
   ]
  },
  {
   "attachments": {},
   "cell_type": "markdown",
   "metadata": {},
   "source": [
    "### 2.3. Método format()"
   ]
  },
  {
   "attachments": {},
   "cell_type": "markdown",
   "metadata": {},
   "source": [
    "O método `format()` é outra forma de formatar informações quando usado com a função `print()`. Ele funciona de forma semelhante ao operador `%`, mas com sintaxe diferente.\n",
    "\n",
    "Ao invés de usar `%` para indicar onde os argumentos devem ser inseridos na string, você usa `{}` (chaves). Dentro das chaves, você pode especificar a posição do argumento ou o nome da variável."
   ]
  },
  {
   "attachments": {},
   "cell_type": "markdown",
   "metadata": {},
   "source": [
    "Exemplo :"
   ]
  },
  {
   "cell_type": "code",
   "execution_count": null,
   "metadata": {},
   "outputs": [],
   "source": [
    "nome = \"João\"\n",
    "idade = 30\n",
    "print(\"Meu nome é {} e tenho {} anos\".format(nome, idade))"
   ]
  },
  {
   "attachments": {},
   "cell_type": "markdown",
   "metadata": {},
   "source": [
    "Além disso, é possível especificar o número de casas decimais que devem ser exibidas para números de ponto flutuante, usando `{:.nf}`, onde `n` é o número de casas decimais. Por exemplo :"
   ]
  },
  {
   "cell_type": "code",
   "execution_count": null,
   "metadata": {},
   "outputs": [],
   "source": [
    "x = 3.14159265\n",
    "print(\"O valor de x é {:.2f}\".format(x))"
   ]
  },
  {
   "attachments": {},
   "cell_type": "markdown",
   "metadata": {},
   "source": [
    "E você pode usar a notação `{n:format}` para especificar o formato de um argumento específico. Por exemplo :"
   ]
  },
  {
   "cell_type": "code",
   "execution_count": null,
   "metadata": {},
   "outputs": [],
   "source": [
    "pessoa = (\"João\", 30)\n",
    "print(\"Meu nome é {0:s} e tenho {1:d} anos\".format(*pessoa))"
   ]
  },
  {
   "attachments": {},
   "cell_type": "markdown",
   "metadata": {},
   "source": [
    "Você também pode usar o método `format()` junto com o caractere `:` (dois pontos) para especificar o tamanho do campo e o alinhamento.  Por exemplo :"
   ]
  },
  {
   "cell_type": "code",
   "execution_count": null,
   "metadata": {},
   "outputs": [],
   "source": [
    "# Alinhando à esquerda :\n",
    "print(\"-{:<10}-\".format(\"olá\"))\n",
    "\n",
    "# Alinhando à direita :\n",
    "print(\"-{:>10}-\".format(\"olá\"))\n",
    "\n",
    "# Centralizando :\n",
    "print(\"-{:^10}-\".format(\"olá\"))\n",
    "\n",
    "# Alinhando à esquerda com preenchimento personalizado :\n",
    "print(\"-{:_<10}-\".format(\"olá\"))\n",
    "\n",
    "# Alinhando à direita com preenchimento personalizado :\n",
    "print(\"-{:_>10}-\".format(\"olá\"))\n",
    "\n",
    "# Centralizando com preenchimento personalizado :\n",
    "print(\"-{:*^10}-\".format(\"olá\"))\n",
    "\n",
    "# Alinhando à esquerda com zero como preenchimento :\n",
    "print(\"-{:0<10}-\".format(\"123\"))\n",
    "\n",
    "# Alinhando à direita com zero como preenchimento :\n",
    "print(\"-{:0>10}-\".format(\"123\"))"
   ]
  },
  {
   "attachments": {},
   "cell_type": "markdown",
   "metadata": {},
   "source": [
    "Além de usar `<`, `>` e `^` para alinhar strings, o método `format()` também suporta alinhamento usando o caractere `=` . O sinal de igual (=) é usado para alinhar ao lado esquerdo de um valor numérico."
   ]
  },
  {
   "cell_type": "code",
   "execution_count": null,
   "metadata": {},
   "outputs": [],
   "source": [
    "# Alinhando à esquerda com sinal de igual\n",
    "print(\"{:=8}\".format(123))\n",
    "\n",
    "# Alinhando à direita com sinal de igual\n",
    "print(\"{:=<8}\".format(123))\n",
    "\n",
    "# Alinhando à esquerda com sinal de igual e preenchimento com zero\n",
    "print(\"{:=08}\".format(123))"
   ]
  },
  {
   "attachments": {},
   "cell_type": "markdown",
   "metadata": {},
   "source": [
    "Em resumo, o método `format()` é uma forma de formatar informações quando usado com a função `print()`. Ele funciona de forma semelhante ao operador `%`, mas com sintaxe diferente, e permite especificar a posição ou o nome da variável, o número de casas decimais, o tamanho do campo e o alinhamento."
   ]
  },
  {
   "attachments": {},
   "cell_type": "markdown",
   "metadata": {},
   "source": [
    "## 3. Tipo numéricos"
   ]
  },
  {
   "attachments": {},
   "cell_type": "markdown",
   "metadata": {},
   "source": [
    "### 3.1. Básico"
   ]
  },
  {
   "attachments": {},
   "cell_type": "markdown",
   "metadata": {},
   "source": [
    "Em Python, existem vários tipos numéricos, incluindo inteiros (`int`), números de ponto flutuante (`float`), números complexos (`complex`) e outros.\n",
    "\n",
    "- `Inteiros (int)` : são números inteiros, positivos ou negativos, sem casas decimais. Eles podem ser representados com notação decimal, octal ou hexadecimal;\n",
    "    - Por exemplo: **5**, **-10**, **0xFF** (255 em hexadecimal);\n",
    "- `Números de ponto flutuante (float)` : são números com casas decimais, também conhecidos como números reais. Eles são representados com notação decimal com um ponto ou um expoente;\n",
    "    - Por exemplo: **3.14**, **-0.5**, **1e-6** (0.000001);\n",
    "- `Números complexos (complex)` : são números compostos por uma parte real e uma parte imaginária. Eles são representados com a notação \"x + yj\", onde x é a parte real e y é a parte imaginária;\n",
    "    - Por exemplo: **3 + 4j**, **-2.5 + 3j**;\n",
    "\n",
    "Além desses tipos básicos, existem outros tipos numéricos, como decimal e fraction, que são utilizados para operações matemáticas mais precisas."
   ]
  },
  {
   "attachments": {},
   "cell_type": "markdown",
   "metadata": {},
   "source": [
    "É possível converter entre os tipos numéricos usando as funções internas do Python, como `int()`, `float()` e `complex()`. Por exemplo :"
   ]
  },
  {
   "cell_type": "code",
   "execution_count": null,
   "metadata": {},
   "outputs": [],
   "source": [
    "x = 5\n",
    "y = float(x)\n",
    "z = complex(x)"
   ]
  },
  {
   "attachments": {},
   "cell_type": "markdown",
   "metadata": {},
   "source": [
    "Também é possível realizar operações matemáticas entre os diferentes tipos numéricos, como adição, subtração, multiplicação e divisão. Python automaticamente realiza a conversão de tipo se necessário."
   ]
  },
  {
   "attachments": {},
   "cell_type": "markdown",
   "metadata": {},
   "source": [
    "Em resumo, os tipos numéricos em python incluem inteiros, números de ponto flutuante e números complexos, além de outros tipos avançados. Esses tipos podem ser convertidos uns para os outros usando as funções internas e é possível realizar operações matemáticas entre eles."
   ]
  },
  {
   "attachments": {},
   "cell_type": "markdown",
   "metadata": {},
   "source": [
    "### 3.2. Tipo inteiro"
   ]
  },
  {
   "attachments": {},
   "cell_type": "markdown",
   "metadata": {},
   "source": [
    "O tipo inteiro (`int`) em Python é utilizado para armazenar números inteiros, ou seja, números sem casas decimais. Ele pode armazenar números inteiros arbitrariamente grandes, sem limitações de tamanho, diferente de outras linguagens de programação. Isso significa que os inteiros em Python podem ser utilizados para representar números muito grandes, como números de grande precisão matemática."
   ]
  },
  {
   "attachments": {},
   "cell_type": "markdown",
   "metadata": {},
   "source": [
    "Os inteiros em Python podem ser representados com notação `decimal`, `octal` ou `hexadecimal`. A notação octal é indicada pelo prefixo `0o`, enquanto a notação hexadecimal é indicada pelo prefixo `0x`. Por exemplo :"
   ]
  },
  {
   "cell_type": "code",
   "execution_count": null,
   "metadata": {},
   "outputs": [],
   "source": [
    "x = 5 # decimal\n",
    "y = 0o10 # octal\n",
    "z = 0xFF # hexadecimal"
   ]
  },
  {
   "attachments": {},
   "cell_type": "markdown",
   "metadata": {},
   "source": [
    "É possível realizar operações matemáticas básicas com inteiros, como `soma`, `subtração`, `multiplicação`, `divisão` (sempre irá retornar um `float`), `potência`, `floor division` e `módulo`. Alguns exemplos :"
   ]
  },
  {
   "cell_type": "code",
   "execution_count": null,
   "metadata": {},
   "outputs": [],
   "source": [
    "x = 5\n",
    "y = 10\n",
    "resultado = x + y  # 15\n",
    "resultado = x - y  # -5\n",
    "resultado = x * y  # 50\n",
    "resultado = x / y  # 0.5\n",
    "resultado = x ** y # 9765625\n",
    "resultado = x // y # 0\n",
    "resultado = x % y  # 5"
   ]
  },
  {
   "attachments": {},
   "cell_type": "markdown",
   "metadata": {},
   "source": [
    "Também é possível utilizar operadores de atribuição combinada, como `+=`, `-=`, `*=`, `/=` e `%=`. Alguns exemplos :"
   ]
  },
  {
   "cell_type": "code",
   "execution_count": null,
   "metadata": {},
   "outputs": [],
   "source": [
    "x = 5\n",
    "y = 10\n",
    "x += y  # x = 15\n",
    "x -= y  # x = -5\n",
    "x *= y  # x = 50\n",
    "x /= y  # x = 0.5\n",
    "x %= y  # x = 5"
   ]
  },
  {
   "attachments": {},
   "cell_type": "markdown",
   "metadata": {},
   "source": [
    "Python oferece várias funções e métodos para trabalhar com inteiros, alguns exemplos são:\n",
    "\n",
    "- `divmod(a, b)` : Retorna uma tupla (quociente, resto) da divisão de a por b;\n",
    "    - Por exemplo : **divmod(7, 3)** retorna (2, 1);\n",
    "- `pow(a, b)` : Retorna a elevado a b. Se b for um inteiro negativo, a será elevado a b e retornado o resultado como uma fração;\n",
    "    - Por exemplo : **pow(2, 3)** retorna 8;\n",
    "- `abs(a)` : Retorna o valor absoluto de a;\n",
    "    - Por exemplo : **abs(-5)** retorna 5;\n",
    "- `bin(a)` : Retorna a representação binária de a como uma string;\n",
    "    - Por exemplo : **bin(5)** retorna '0b101';\n",
    "- `oct(a)` : Retorna a representação octal de a como uma string;\n",
    "    - Por exemplo : **oct(10)** retorna '0o12';\n",
    "- `hex(a)` : Retorna a representação hexadecimal de a como uma string;\n",
    "    - Por exemplo : **hex(255)** retorna '0xff';\n",
    "- `int(a, base=10)` : Converte a para inteiro. O parâmetro base é opcional e indica a base da representação numérica de a;\n",
    "    - Por exemplo : **int('1010', 2)** retorna 10;"
   ]
  },
  {
   "attachments": {},
   "cell_type": "markdown",
   "metadata": {},
   "source": [
    "Além dessas funções, existem também métodos que podem ser usados em objetos do tipo inteiro, alguns exemplos são:\n",
    "\n",
    "- `a.bit_length()` : Retorna o número de bits necessários para representar a em binário, sem o sinal e o prefixo '0b';\n",
    "    - Por exemplo: **(5).bit_length()** retorna 3;\n",
    "- `a.conjugate()` : Retorna o conjugado de um número complexo;\n",
    "    - Por exemplo: **(3+4j).conjugate()** retorna (3-4j);\n",
    "- `a.real` : Retorna a parte real de um número complexo;\n",
    "    - Por exemplo: **(3+4j).real** retorna 3;\n",
    "- `a.imag` : Retorna a parte imaginária de um número complexo;\n",
    "    - Por exemplo: **(3+4j).imag** retorna 4;"
   ]
  },
  {
   "attachments": {},
   "cell_type": "markdown",
   "metadata": {},
   "source": [
    "Aqui estão alguns exemplos dos métodos e funções para trabalhar com inteiros :"
   ]
  },
  {
   "cell_type": "code",
   "execution_count": null,
   "metadata": {},
   "outputs": [],
   "source": [
    "x = 7\n",
    "y = 3\n",
    "\n",
    "# usando a função divmod\n",
    "quociente, resto = divmod(x, y)\n",
    "print(quociente) # 2\n",
    "print(resto) # 1\n",
    "\n",
    "# usando a função pow\n",
    "result = pow(x, y)\n",
    "print(result) # 343\n",
    "\n",
    "# usando a função abs\n",
    "result = abs(-x)\n",
    "print(result) # 7\n",
    "\n",
    "# usando a função bin\n",
    "result = bin(x)\n",
    "print(result) # 0b111\n",
    "\n",
    "# usando a função oct\n",
    "result = oct(x)\n",
    "print(result) # 0o7\n",
    "\n",
    "# usando a função hex\n",
    "result = hex(x)\n",
    "print(result) # 0x7\n",
    "\n",
    "# usando o método bit_length\n",
    "result = x.bit_length()\n",
    "print(result) # 3\n",
    "\n",
    "# usando o método conjugate em um número complexo\n",
    "x = 3 + 4j\n",
    "result = x.conjugate()\n",
    "print(result) # (3-4j)\n",
    "\n",
    "# usando o método real em um número complexo\n",
    "result = x.real\n",
    "print(result) # 3\n",
    "\n",
    "# usando o método imag em um número complexo\n",
    "result = x.imag\n",
    "print(result) # 4"
   ]
  },
  {
   "attachments": {},
   "cell_type": "markdown",
   "metadata": {},
   "source": [
    "Note que alguns exemplos são para números complexos, mas estão sendo mostrados para ilustrar como esses métodos funcionam. Lembre-se de que esses são apenas alguns exemplos dos métodos e funções disponíveis para trabalhar com inteiros no Python. Existem muitos outros métodos e funções que podem ser usados, dependendo da sua necessidade específica. Além disso, é importante notar que esses métodos e funções são aplicáveis ​​apenas aos objetos do tipo inteiro, e não funcionarão para outros tipos numéricos, como float ou complex."
   ]
  },
  {
   "attachments": {},
   "cell_type": "markdown",
   "metadata": {},
   "source": [
    "Também é possível utilizar as variáveis inteiras em comparações lógicas, como `maior que`, `menor que` e `igual a` (adiante iremos explorar mais sobre isso). Por exemplo :"
   ]
  },
  {
   "cell_type": "code",
   "execution_count": null,
   "metadata": {},
   "outputs": [],
   "source": [
    "x = 5\n",
    "y = -10\n",
    "\n",
    "if x > y:\n",
    "    print(\"x é maior que y\")"
   ]
  },
  {
   "attachments": {},
   "cell_type": "markdown",
   "metadata": {},
   "source": [
    "Em resumo, Python fornece uma variedade de funções e métodos para trabalhar com números inteiros, incluindo operações matemáticas básicas, conversões de base, operações de bit, e métodos para trabalhar com números complexos. Isso permite aos desenvolvedores realizar várias tarefas relacionadas a inteiros, desde operações matemáticas simples até a manipulação de bits e a obtenção de informações sobre a representação numérica de um inteiro. Isso torna Python uma linguagem flexível e fácil de usar para trabalhar com números inteiros e é uma das razões pelas quais é amplamente utilizado em várias áreas da computação."
   ]
  },
  {
   "attachments": {},
   "cell_type": "markdown",
   "metadata": {},
   "source": [
    "### 3.3. Tipo float"
   ]
  },
  {
   "attachments": {},
   "cell_type": "markdown",
   "metadata": {},
   "source": [
    "No Python, o tipo `float` é usado para representar números de ponto flutuante, que são números que possuem uma parte inteira e uma parte fracionária. Eles são frequentemente usados ​​em cálculos matemáticos e científicos, pois permitem representar números com precisão fina.\n",
    "\n",
    "Os floats são representados internamente usando a representação de ponto flutuante de precisão dupla, ou seja, usando 64 bits para armazenar o valor. Isso permite representar números muito grandes ou muito pequenos, mas essa precisão tem um limite, o que pode causar problemas de precisão em alguns cálculos."
   ]
  },
  {
   "attachments": {},
   "cell_type": "markdown",
   "metadata": {},
   "source": [
    "Os operadores matemáticos básicos, como `+`, `-`, `*`, `/`, `%`, `**`, podem ser usados ​​para trabalhar com floats no Python. Aqui estão alguns exemplos de como esses operadores podem ser usados :"
   ]
  },
  {
   "cell_type": "code",
   "execution_count": null,
   "metadata": {},
   "outputs": [],
   "source": [
    "# Adição\n",
    "print(3.14 + 2.1)  # retorna 5.24\n",
    "# Subtração\n",
    "print(3.14 - 2.1)  # retorna 1.04\n",
    "# Multiplicação\n",
    "print(3.14 * 2.1)  # retorna 6.594\n",
    "# Divisão\n",
    "print(3.14 / 2.1)  # retorna 1.4952380952380953\n",
    "# Resto da divisão\n",
    "print(3.14 % 2.1)  # retorna 1.04\n",
    "# Potenciação\n",
    "print(3.14 ** 2.1)  # retorna 11.054834900588839"
   ]
  },
  {
   "attachments": {},
   "cell_type": "markdown",
   "metadata": {},
   "source": [
    "Além disso, é possível usar esses operadores para modificar o valor de uma variável já existente, como :"
   ]
  },
  {
   "cell_type": "code",
   "execution_count": 35,
   "metadata": {},
   "outputs": [
    {
     "name": "stdout",
     "output_type": "stream",
     "text": [
      "5.24\n"
     ]
    }
   ],
   "source": [
    "x = 3.14\n",
    "x += 2.1\n",
    "print(x) # retorna 5.24"
   ]
  },
  {
   "attachments": {},
   "cell_type": "markdown",
   "metadata": {},
   "source": [
    "Os floats podem ser criados usando notação decimal (como 3.14) ou notação científica (como 3.14e2). Existem também várias funções e métodos disponíveis para trabalhar com floats, como :\n",
    "\n",
    "- `round(x, n)` : arredonda x para n dígitos de precisão;\n",
    "    - Por exemplo: **round(3.14159, 2)** retorna 3.14;\n",
    "- `math.ceil(x)` : arredonda x para o inteiro mais próximo maior;\n",
    "    - Por exemplo: **math.ceil(3.14)** retorna 4;\n",
    "- `math.floor(x)` : arredonda x para o inteiro mais próximo menor;\n",
    "    - Por exemplo: **math.floor(3.14)** retorna 3;\n",
    "- `math.isinf(x)` : retorna True se x é infinito e False caso contrário;\n",
    "- `math.isnan(x)` : retorna True se x é NaN (Not a Number) e False caso contrário;\n",
    "- `math.trunc(x)` : remove a parte fracionária de x;\n",
    "    - Por exemplo: **math.trunc(3.14)** retorna 3;\n",
    "- `float.as_integer_ratio()` : retorna a relação inteira que representa o float;\n",
    "\n",
    "É importante notar que os floats em python podem causar problemas de arredondamento e precisão, devido a como os números de ponto flutuante são armazenados internamente. É sempre uma boa prática testar seu código com entradas que possam causar esses problemas."
   ]
  },
  {
   "attachments": {},
   "cell_type": "markdown",
   "metadata": {},
   "source": [
    "## 4. Strings"
   ]
  },
  {
   "attachments": {},
   "cell_type": "markdown",
   "metadata": {},
   "source": [
    "### 4.1. Básico"
   ]
  },
  {
   "attachments": {},
   "cell_type": "markdown",
   "metadata": {},
   "source": [
    "Além de números, Python também pode manipular `strings`, que podem ser expressadas de diversas formas. Elas podem ser colocadas entre **aspas simples** (`'...'`) ou **aspas duplas** (`\"...\"`) com o mesmo resultado. A `contra-barra` pode ser usada para escapar as aspas."
   ]
  },
  {
   "cell_type": "code",
   "execution_count": null,
   "metadata": {},
   "outputs": [],
   "source": [
    "print('pão e ovos') # aspas simples\n",
    "print('pão d\\'água') # use \\' para escapar a aspas simples...\n",
    "print(\"pão d'água\") # ... ou use aspas duplas no lugar\n",
    "print('\"Sim\", ele disse.')\n",
    "print(\"\\\"Sim\\\", ele disse.\")\n",
    "print('\"Pão d\\'água\", ele disse.')"
   ]
  },
  {
   "attachments": {},
   "cell_type": "markdown",
   "metadata": {},
   "source": [
    "Quando usamos `strings`, há um caractere especial que, combinado com outros caracteres, produze algumas ações específicas.<br>\n",
    "Alguns deles são `\\n` que cria uma nova linha; o `\\t`, que adiciona uma identação ao texto."
   ]
  },
  {
   "cell_type": "code",
   "execution_count": null,
   "metadata": {},
   "outputs": [],
   "source": [
    "texto = 'Primeira linha.\\nSegunda linha.'\n",
    "print(texto)"
   ]
  },
  {
   "attachments": {},
   "cell_type": "markdown",
   "metadata": {},
   "source": [
    "Se você não quer que o **contra-barra** seja interpretado como um caractere especial, pode usar a string crua (`raw string`) adicionando um `r` antes da primeira aspa."
   ]
  },
  {
   "cell_type": "code",
   "execution_count": null,
   "metadata": {},
   "outputs": [],
   "source": [
    "print('C:\\meu\\nome')\n",
    "print(r'C:\\meu\\nome')"
   ]
  },
  {
   "attachments": {},
   "cell_type": "markdown",
   "metadata": {},
   "source": [
    "Só há um porém, uma `raw string` não pode terminar uma com uma quantidade ímpar de carácter `\\`.\n",
    "\n",
    "Links :\n",
    "- Para contonar, leia : https://docs.python.org/3/faq/programming.html#faq-programming-raw-string-backslash"
   ]
  },
  {
   "attachments": {},
   "cell_type": "markdown",
   "metadata": {},
   "source": [
    "`Strings` literais podem se espalhar por múltiplas linhas. Uma forma é usar aspas triplas : `'''...'''` ou `\"\"\"...\"\"\"`. Os finais de linha são automaticamente incluídos na `string`, mas é possível previnir isso adicionando um `\\` ao final da linha."
   ]
  },
  {
   "cell_type": "code",
   "execution_count": null,
   "metadata": {},
   "outputs": [],
   "source": [
    "print(\"\"\"\\\n",
    "Uso : coiso [opcional]\n",
    "    -h                  Mostra esta mensagem\n",
    "    -H hospedeiro       Mostra o hospedeiro\n",
    "\"\"\")"
   ]
  },
  {
   "attachments": {},
   "cell_type": "markdown",
   "metadata": {},
   "source": [
    "`Strings` podem ser concatenadas com o operador `+` e repetidas com o operador `*`."
   ]
  },
  {
   "cell_type": "code",
   "execution_count": null,
   "metadata": {},
   "outputs": [],
   "source": [
    "# 3 vezes 'un' seguido de 'ium'\n",
    "print(3 * 'un' + 'ium')"
   ]
  },
  {
   "attachments": {},
   "cell_type": "markdown",
   "metadata": {},
   "source": [
    "Duas ou mais `strings` literias (aquelas colocadas entre aspas) colocadas lado a lado são automaticamente concatenadas."
   ]
  },
  {
   "cell_type": "code",
   "execution_count": null,
   "metadata": {},
   "outputs": [],
   "source": [
    "print('Py' 'thon')"
   ]
  },
  {
   "attachments": {},
   "cell_type": "markdown",
   "metadata": {},
   "source": [
    "Isso é particularmente útil quando você quer repartir uma string muito longa."
   ]
  },
  {
   "cell_type": "code",
   "execution_count": null,
   "metadata": {},
   "outputs": [],
   "source": [
    "texto = ('Coloque várias strings dentro de parênteses '\n",
    "         'para juntar elas em uma só.')\n",
    "print(texto)"
   ]
  },
  {
   "attachments": {},
   "cell_type": "markdown",
   "metadata": {},
   "source": [
    "Isso só funciona com `strings` literais, não com variáveis ou expressões."
   ]
  },
  {
   "cell_type": "code",
   "execution_count": null,
   "metadata": {},
   "outputs": [],
   "source": [
    "prefixo = 'Py'\n",
    "print(prefixo 'thon')\n",
    "# SyntaxError: invalid syntax"
   ]
  },
  {
   "attachments": {},
   "cell_type": "markdown",
   "metadata": {},
   "source": [
    "Se você quer concatenar as variáveis ou uma variável e uma string literal, use `+`."
   ]
  },
  {
   "cell_type": "code",
   "execution_count": null,
   "metadata": {},
   "outputs": [],
   "source": [
    "prefixo = 'Py'\n",
    "print(prefixo + 'thon')"
   ]
  },
  {
   "attachments": {},
   "cell_type": "markdown",
   "metadata": {},
   "source": [
    "Strings podem ser indexadas, com o primeiro caractere tendo como índice o `0`. O Python não tem um tipo char (para indicar strings de um caractere). Um caractere é simplesmente uma string de tamanho um."
   ]
  },
  {
   "cell_type": "code",
   "execution_count": null,
   "metadata": {},
   "outputs": [],
   "source": [
    "palavra = 'Python'\n",
    "print(palavra[0]) # caratere na posição 0\n",
    "print(palavra[5]) # caratere na posição 5"
   ]
  },
  {
   "attachments": {},
   "cell_type": "markdown",
   "metadata": {},
   "source": [
    "Índices também podem ser negativos, para começar a contar da direita para a esquerda."
   ]
  },
  {
   "cell_type": "code",
   "execution_count": null,
   "metadata": {},
   "outputs": [],
   "source": [
    "palavra = 'Python'\n",
    "print(palavra[-1]) # último caractere\n",
    "print(palavra[-2]) # penúltimo caractere\n",
    "print(palavra[-6]) # primeiro caractere"
   ]
  },
  {
   "attachments": {},
   "cell_type": "markdown",
   "metadata": {},
   "source": [
    "Note que como `-0` é o mesmo que `0`, o índice negativo começa em `-1`.\n",
    "\n",
    "Junto com a indexação, a repartição é suportada também. Enquanto a indexação é usada para obter apenas um caractere, a repartição permite obter uma substring."
   ]
  },
  {
   "cell_type": "code",
   "execution_count": null,
   "metadata": {},
   "outputs": [],
   "source": [
    "palavra = 'Python'\n",
    "print(palavra[0:2]) # caracteres da posição 0 (incluído) até 2 (excluído) [0,2)\n",
    "print(palavra[2:5]) # caracteres da posição 2 (incluído) até 5 (excluído) [2,5)"
   ]
  },
  {
   "attachments": {},
   "cell_type": "markdown",
   "metadata": {},
   "source": [
    "A omissão do primeiro índice deixa como padrão o `0`. A omissão do segundo índice deixa como padrão o tamanho da string que será repartida."
   ]
  },
  {
   "cell_type": "code",
   "execution_count": null,
   "metadata": {},
   "outputs": [],
   "source": [
    "palavra = 'Python'\n",
    "print(palavra[:2]) # caracteres do começo até 2 (excluído)\n",
    "print(palavra[4:]) # caracteres da posição 4 (incluído) até o final\n",
    "print(palavra[-2:]) # caracteres da penúltima posição (incluído) até o final"
   ]
  },
  {
   "attachments": {},
   "cell_type": "markdown",
   "metadata": {},
   "source": [
    "Repare que o começo é sempre incluído e o final é sempre excluído. Isso faz com que a `palavra[:i] + palavra[i:]` é sempre igual a `palavra`."
   ]
  },
  {
   "cell_type": "code",
   "execution_count": null,
   "metadata": {},
   "outputs": [],
   "source": [
    "palavra = 'Python'\n",
    "print(palavra[:2] + palavra[2:])\n",
    "print(palavra[:4] + palavra[4:])"
   ]
  },
  {
   "attachments": {},
   "cell_type": "markdown",
   "metadata": {},
   "source": [
    "Uma forma de lembrar como a repartição funciona é pensar nos índices como pontos **entre** os caracteres, com a margem esquerda do primeiro caractere numerada com 0. Então, a margem direita do último caractere da string de `N` caracteres tem o índice `N`."
   ]
  },
  {
   "cell_type": "code",
   "execution_count": null,
   "metadata": {},
   "outputs": [],
   "source": [
    "#  +---+---+---+---+---+---+\n",
    "#  | P | y | t | h | o | n |\n",
    "#  +---+---+---+---+---+---+\n",
    "#  0   1   2   3   4   5   6\n",
    "# -6  -5  -4  -3  -2  -1"
   ]
  },
  {
   "attachments": {},
   "cell_type": "markdown",
   "metadata": {},
   "source": [
    "A primeira linha de números indica a posição dos índices 0...6 da string. A segunda linha de números indica o índice correspondente negativo. A repartição do `i` ao `j` consiste em todos os caracteres entre as margens nomeadas `i` e `j`, respectivamente.\n",
    "\n",
    "Para índices não negativos, o tamanho de uma repartição é a diferença dos índices, se ambos estiverem dentro dos limites. Por exemplo : o tamanho da `palavra[1:3]` é `2`."
   ]
  },
  {
   "attachments": {},
   "cell_type": "markdown",
   "metadata": {},
   "source": [
    "Tentar usar um índice maior que o a string vai resultar em um erro."
   ]
  },
  {
   "cell_type": "code",
   "execution_count": null,
   "metadata": {},
   "outputs": [],
   "source": [
    "palavra = 'Python'\n",
    "print(palavra[42])\n",
    "# IndexError: string index out of range"
   ]
  },
  {
   "attachments": {},
   "cell_type": "markdown",
   "metadata": {},
   "source": [
    "Contudo, repartir strings fora dos limites dela não vai gerar erros."
   ]
  },
  {
   "cell_type": "code",
   "execution_count": null,
   "metadata": {},
   "outputs": [],
   "source": [
    "palavra = 'Python'\n",
    "print(palavra[4:42])\n",
    "print(palavra[42:])"
   ]
  },
  {
   "attachments": {},
   "cell_type": "markdown",
   "metadata": {},
   "source": [
    "Strings em Python não podem ser alteradas, elas são imutáveis. Logo, associar valores a uma posição indexada da string resulta em erro.\n",
    "\n",
    "Links :\n",
    "- https://docs.python.org/3/glossary.html#term-immutable"
   ]
  },
  {
   "cell_type": "code",
   "execution_count": null,
   "metadata": {},
   "outputs": [],
   "source": [
    "palavra = 'Python'\n",
    "palavra[0] = 'J'\n",
    "# TypeError: 'str' object does not support item assignment\n",
    "\n",
    "palavra[2:] = 'py'\n",
    "# TypeError: 'str' object does not support item assignment"
   ]
  },
  {
   "attachments": {},
   "cell_type": "markdown",
   "metadata": {},
   "source": [
    "Se você precisar de uma string diferente, você deve criar uma nova :"
   ]
  },
  {
   "cell_type": "code",
   "execution_count": null,
   "metadata": {},
   "outputs": [],
   "source": [
    "palavra = 'Python'\n",
    "print('J' + palavra[1:])\n",
    "print(palavra[:2] + 'py')"
   ]
  },
  {
   "attachments": {},
   "cell_type": "markdown",
   "metadata": {},
   "source": [
    "A função **built-in** `len()` retorna o tamanho da string.\n",
    "\n",
    "Link :\n",
    "- https://docs.python.org/3/library/functions.html#len"
   ]
  },
  {
   "cell_type": "code",
   "execution_count": null,
   "metadata": {},
   "outputs": [],
   "source": [
    "palavrao = 'supercalifragilisticexpialidocious'\n",
    "print(len(palavrao))"
   ]
  },
  {
   "attachments": {},
   "cell_type": "markdown",
   "metadata": {},
   "source": [
    "### 4.2. Métodos"
   ]
  },
  {
   "attachments": {},
   "cell_type": "markdown",
   "metadata": {},
   "source": [
    "As strings em Python tem diversos métodos **built-in**. Vamos passar pelos mais usados."
   ]
  },
  {
   "attachments": {},
   "cell_type": "markdown",
   "metadata": {},
   "source": [
    "#### str.capitalize()"
   ]
  },
  {
   "attachments": {},
   "cell_type": "markdown",
   "metadata": {},
   "source": [
    "**Retorna** uma cópia da string com a primeira letra em caixa alta e o resto em caixa baixa."
   ]
  },
  {
   "cell_type": "code",
   "execution_count": null,
   "metadata": {},
   "outputs": [],
   "source": [
    "aneis = 'Três Anéis para os Reis-Elfos sob este céu;'\n",
    "print(aneis.capitalize())"
   ]
  },
  {
   "attachments": {},
   "cell_type": "markdown",
   "metadata": {},
   "source": [
    "#### str.center(width[, fillchar])"
   ]
  },
  {
   "attachments": {},
   "cell_type": "markdown",
   "metadata": {},
   "source": [
    "**Retorna** uma string centralizada de acordo com o tamanho passado em `width` (**obrigatório**). Se o parâmetro `fillchar` (**opcional**) for passado, prenche com a string em vez de espaços (**padrão**);"
   ]
  },
  {
   "cell_type": "code",
   "execution_count": null,
   "metadata": {},
   "outputs": [],
   "source": [
    "aneis = 'Três Anéis para os Reis-Elfos sob este céu;'\n",
    "print('-' + aneis + '-')\n",
    "print('-' + aneis.center(1) + '-')\n",
    "print('-' + aneis.center(75) + '-')\n",
    "print('-' + aneis.center(100,'.') + '-')"
   ]
  },
  {
   "attachments": {},
   "cell_type": "markdown",
   "metadata": {},
   "source": [
    "#### str.count(sub[, start[, end]])"
   ]
  },
  {
   "attachments": {},
   "cell_type": "markdown",
   "metadata": {},
   "source": [
    "**Retorna** o número de ocorrências da substring `sub` (**obrigatório**) no limite `[start, end]`. Os argumentos **opcionais** `start` e `end` são interpretados como a notação de repartição.\n",
    "\n",
    "Se `sub` for vazio (`''`), retorna o número de strings vazia entre os caracteres, que é o tamanho da string mais um."
   ]
  },
  {
   "cell_type": "code",
   "execution_count": null,
   "metadata": {},
   "outputs": [],
   "source": [
    "aneis = 'Três Anéis para os Reis-Elfos sob este céu;'\n",
    "print('-' + aneis + '-')\n",
    "\n",
    "print(len(aneis))\n",
    "print(aneis.count(''))\n",
    "print(aneis.count('o'))\n",
    "\n",
    "print(aneis[20:])\n",
    "print(aneis.count('o', 20))\n",
    "\n",
    "print(aneis[20:30])\n",
    "print(aneis.count('o', 20, 30))"
   ]
  },
  {
   "attachments": {},
   "cell_type": "markdown",
   "metadata": {},
   "source": [
    "#### str.endswith(suffix[, start[, end]])"
   ]
  },
  {
   "attachments": {},
   "cell_type": "markdown",
   "metadata": {},
   "source": [
    "**Retorna** `True` se a string termina com o `suffix` especificado, senão retorna `False`. `suffix` também pode ser uma tupla (`tuple`) de suffixos a serem procuradas.<br>\n",
    "Veja a documentação (link no final) do método para mais informações sobre os argumentos `start` e `end`."
   ]
  },
  {
   "cell_type": "code",
   "execution_count": null,
   "metadata": {},
   "outputs": [],
   "source": [
    "aneis = 'Três Anéis para os Reis-Elfos sob este céu;'\n",
    "print(aneis.endswith(';'))\n",
    "print(aneis.endswith('u'))\n",
    "print(aneis.endswith(('u', ';')))"
   ]
  },
  {
   "attachments": {},
   "cell_type": "markdown",
   "metadata": {},
   "source": [
    "#### str.find(sub[, start[, end]])"
   ]
  },
  {
   "attachments": {},
   "cell_type": "markdown",
   "metadata": {},
   "source": [
    "**Retorna** o índice mais baixo (primeira ocorrência) da string onde a substring `sub` foi encontrada. Se não encontrar, retorna `-1`.\n",
    "<br>\n",
    "Veja a documentação (link no final) do método para mais informações sobre os argumentos `start` e `end`."
   ]
  },
  {
   "cell_type": "code",
   "execution_count": null,
   "metadata": {},
   "outputs": [],
   "source": [
    "aneis = 'Três Anéis para os Reis-Elfos sob este céu;'\n",
    "\n",
    "print(aneis.find(' '))\n",
    "print(aneis.find('a'))\n",
    "print(aneis.find('sob'))\n",
    "print(aneis.find('anão'))"
   ]
  },
  {
   "attachments": {},
   "cell_type": "markdown",
   "metadata": {},
   "source": [
    "#### str.index(sub[, start[, end]])"
   ]
  },
  {
   "attachments": {},
   "cell_type": "markdown",
   "metadata": {},
   "source": [
    "Funciona como o `find()`, mas gera o erro `ValueError` quando a substring não é encontrada."
   ]
  },
  {
   "cell_type": "code",
   "execution_count": null,
   "metadata": {},
   "outputs": [],
   "source": [
    "aneis = 'Três Anéis para os Reis-Elfos sob este céu;'\n",
    "\n",
    "print(aneis.index(' '))\n",
    "print(aneis.index('a'))\n",
    "print(aneis.index('sob'))\n",
    "# ValueError: substring not found\n",
    "print(aneis.index('anão'))"
   ]
  },
  {
   "attachments": {},
   "cell_type": "markdown",
   "metadata": {},
   "source": [
    "#### str.isalpha()"
   ]
  },
  {
   "attachments": {},
   "cell_type": "markdown",
   "metadata": {},
   "source": [
    "**Retorna** `True` se todos os caracteres na string são alfabéticos e há ao menos **um** caractere, senão retorna `False`."
   ]
  },
  {
   "cell_type": "code",
   "execution_count": null,
   "metadata": {},
   "outputs": [],
   "source": [
    "aneis = 'Três Anéis para os Reis-Elfos sob este céu;'\n",
    "print(aneis.isalpha()) # encontrou -, ; e espaços em branco\n",
    "\n",
    "palavrao = 'supercalifragilisticexpialidocious'\n",
    "print(palavrao.isalpha())"
   ]
  },
  {
   "attachments": {},
   "cell_type": "markdown",
   "metadata": {},
   "source": [
    "#### str.islower()"
   ]
  },
  {
   "attachments": {},
   "cell_type": "markdown",
   "metadata": {},
   "source": [
    "**Retorna** `True` se todos os caracteres na string estiverem em caixa baixa, senão retorna `False`."
   ]
  },
  {
   "cell_type": "code",
   "execution_count": null,
   "metadata": {},
   "outputs": [],
   "source": [
    "aneis = 'Três Anéis para os Reis-Elfos sob este céu;'\n",
    "print(aneis.islower())\n",
    "\n",
    "palavrao = 'supercalifragilisticexpialidocious'\n",
    "print(palavrao.islower())"
   ]
  },
  {
   "attachments": {},
   "cell_type": "markdown",
   "metadata": {},
   "source": [
    "#### str.isnumeric()"
   ]
  },
  {
   "attachments": {},
   "cell_type": "markdown",
   "metadata": {},
   "source": [
    "**Retorna** `True` se todos os caracteres na string são dígitos e há ao menos **um** caractere, senão retorna `False`."
   ]
  },
  {
   "cell_type": "code",
   "execution_count": null,
   "metadata": {},
   "outputs": [],
   "source": [
    "aneis = 'Três Anéis para os Reis-Elfos sob este céu;'\n",
    "print(aneis.isnumeric())\n",
    "\n",
    "numero = '42'\n",
    "print(numero.isnumeric())\n",
    "numero = '3.14'\n",
    "print(numero.isnumeric())"
   ]
  },
  {
   "attachments": {},
   "cell_type": "markdown",
   "metadata": {},
   "source": [
    "### 4.3. Links"
   ]
  },
  {
   "attachments": {},
   "cell_type": "markdown",
   "metadata": {},
   "source": [
    "- https://docs.python.org/3/library/stdtypes.html#textseq\n",
    "- https://docs.python.org/3/library/stdtypes.html#string-methods\n",
    "- https://docs.python.org/3/reference/lexical_analysis.html#f-strings\n",
    "- https://docs.python.org/3/library/string.html#formatstrings\n",
    "- https://docs.python.org/3/library/stdtypes.html#old-string-formatting"
   ]
  },
  {
   "attachments": {},
   "cell_type": "markdown",
   "metadata": {},
   "source": [
    "## 5. Listas - Parte 1"
   ]
  },
  {
   "attachments": {},
   "cell_type": "markdown",
   "metadata": {},
   "source": [
    "Python conhece um número de tipos de dados compostos, usado para agrupar outros valores. A mais versátil é a lista (`list`), que pode ser escrita com uma vírgula separando os valores (itens) entre conchetes. Listas podem conter itens de diferentes tipos, mas geralmente são do mesmo tipo."
   ]
  },
  {
   "cell_type": "code",
   "execution_count": null,
   "metadata": {},
   "outputs": [],
   "source": [
    "quadrados = [1, 4, 9, 16, 25]\n",
    "print(quadrados)"
   ]
  },
  {
   "attachments": {},
   "cell_type": "markdown",
   "metadata": {},
   "source": [
    "Assim como `strings` (e todas as outras [sequências](https://docs.python.org/3/glossary.html#term-sequence) **built-in**), listas podem ser indexadas e repartidas."
   ]
  },
  {
   "cell_type": "code",
   "execution_count": null,
   "metadata": {},
   "outputs": [],
   "source": [
    "quadrados = [1, 4, 9, 16, 25]\n",
    "print(quadrados[0]) # o índice retorna o item da lista\n",
    "print(quadrados[-1])\n",
    "print(quadrados[-3:]) # repartindo retorna uma nova lista"
   ]
  },
  {
   "attachments": {},
   "cell_type": "markdown",
   "metadata": {},
   "source": [
    "Todos os operadores de repartição retornam uma nova lista com os elementos buscados. Isto significa que a repartição retorna uma cópia rasa ([shallow copy](https://docs.python.org/3/library/copy.html#shallow-vs-deep-copy)) da lista."
   ]
  },
  {
   "cell_type": "code",
   "execution_count": null,
   "metadata": {},
   "outputs": [],
   "source": [
    "quadrados = [1, 4, 9, 16, 25]\n",
    "print(quadrados[:])"
   ]
  },
  {
   "attachments": {},
   "cell_type": "markdown",
   "metadata": {},
   "source": [
    "Listas também suportam operações de concatenação."
   ]
  },
  {
   "cell_type": "code",
   "execution_count": null,
   "metadata": {},
   "outputs": [],
   "source": [
    "quadrados = [1, 4, 9, 16, 25]\n",
    "print(quadrados + [36, 49, 64, 81, 100])"
   ]
  },
  {
   "attachments": {},
   "cell_type": "markdown",
   "metadata": {},
   "source": [
    "Diferente das strings que são [imutáveis](https://docs.python.org/3/glossary.html#term-immutable), as listas são do tipo [mutáveis](https://docs.python.org/3/glossary.html#term-mutable), isto é, é possível alterar seu conteúdo."
   ]
  },
  {
   "cell_type": "code",
   "execution_count": null,
   "metadata": {},
   "outputs": [],
   "source": [
    "cubos = [1, 8, 27, 65, 125] # tem algo de errado aqui\n",
    "print(4 ** 3) # o cubo de 4 é 64 e não 65!\n",
    "cubos[3] = 64\n",
    "print(cubos)"
   ]
  },
  {
   "attachments": {},
   "cell_type": "markdown",
   "metadata": {},
   "source": [
    "Você também pode adicionar novos itens no final da lista, pelo uso do método `append()` (veremos mais sobre isso adiante)."
   ]
  },
  {
   "cell_type": "code",
   "execution_count": null,
   "metadata": {},
   "outputs": [],
   "source": [
    "cubos = [1, 8, 27, 64, 125]\n",
    "cubos.append(216) # adicionando o cubo de 6\n",
    "cubos.append(7 ** 3) # e o cubo de 7\n",
    "print(cubos)"
   ]
  },
  {
   "attachments": {},
   "cell_type": "markdown",
   "metadata": {},
   "source": [
    "Passar valor por repartições também é possível, e isto pode até mudar o tamanho da lista ou limpar ela toda."
   ]
  },
  {
   "cell_type": "code",
   "execution_count": null,
   "metadata": {},
   "outputs": [],
   "source": [
    "letras = ['a', 'b', 'c', 'd', 'e', 'f', 'g']\n",
    "print(letras)\n",
    "\n",
    "# substituindo alguns valores\n",
    "letras[2:5] = ['C', 'D', 'E']\n",
    "print(letras)\n",
    "\n",
    "# agora removendo eles\n",
    "letras[2:5] = []\n",
    "print(letras)\n",
    "\n",
    "# limpar a lista ao substituir todos os elementos com uma lista vazia\n",
    "letras[:] = []\n",
    "print(letras)"
   ]
  },
  {
   "attachments": {},
   "cell_type": "markdown",
   "metadata": {},
   "source": [
    "Funções **built-in** como `len()` também se aplicam às listas."
   ]
  },
  {
   "cell_type": "code",
   "execution_count": null,
   "metadata": {},
   "outputs": [],
   "source": [
    "letras = ['a', 'b', 'c', 'd', 'e', 'f', 'g']\n",
    "print(len(letras))"
   ]
  },
  {
   "attachments": {},
   "cell_type": "markdown",
   "metadata": {},
   "source": [
    "Também é possível criar listas aninhadas (listas dentro de listas)."
   ]
  },
  {
   "cell_type": "code",
   "execution_count": null,
   "metadata": {},
   "outputs": [],
   "source": [
    "letras = ['a', 'b', 'c', 'd', 'e', 'f', 'g']\n",
    "numeros = [1, 2, 3, 4, 5]\n",
    "\n",
    "duas_listas = [letras, numeros]\n",
    "print(duas_listas)\n",
    "print(duas_listas[0])\n",
    "print(duas_listas[0][1])"
   ]
  },
  {
   "attachments": {},
   "cell_type": "markdown",
   "metadata": {},
   "source": [
    "## 6. Primeiros Passos em Direção à Programação"
   ]
  },
  {
   "attachments": {},
   "cell_type": "markdown",
   "metadata": {},
   "source": [
    "É claso, nós podemos usar o Python para tarefas mais complicadas do que somar dois mais dois. For exemplo, nós podemos escrever uma sub-sequência inicial da [Série de Fibonacci](https://en.wikipedia.org/wiki/Fibonacci_number)."
   ]
  },
  {
   "cell_type": "code",
   "execution_count": null,
   "metadata": {},
   "outputs": [],
   "source": [
    "# Série de Fibonacci\n",
    "# a soma de dois elementos define o próximo\n",
    "a, b = 0, 1\n",
    "\n",
    "while a < 10:\n",
    "    print(a)\n",
    "    a, b = b, a + b"
   ]
  },
  {
   "attachments": {},
   "cell_type": "markdown",
   "metadata": {},
   "source": [
    "Neste exemplo podemos ver várias funcionalidades novas."
   ]
  },
  {
   "attachments": {},
   "cell_type": "markdown",
   "metadata": {},
   "source": [
    "A primeira linha tem a `associação múltipla` : as variáveis `a` e `a` recebem simultaneamente os novos valores 0 e 1. Isso também é usado na última linha de novo, demonstrando que as expressões do lado direito são calculadas antes que qualquer associação seja feita. As expressões do lado direito são calculadas da esquerda para a direita."
   ]
  },
  {
   "attachments": {},
   "cell_type": "markdown",
   "metadata": {},
   "source": [
    "A repetição [while](https://docs.python.org/3/reference/compound_stmts.html#while) executa enquanto a condição (aqui `a < 10`) continuar sendo verdadeira. Em Python, assim como em C, todo valor inteiro diferente de zero é verdadeiro, zero é falso. A condição pode também ser uma string ou uma lista de valores, na verdade, pode ser qualquer sequência. Qualquer coisa com um tamanho diferente de zero é verdadeira, enquanto sequência vazia são falsas. O teste usado no exemplo é uma simples comparação. Os operadores de comparação padrão são escritos como na linguagem C :\n",
    "- `<` : menor que\n",
    "- `>` : maior que\n",
    "- `==` : igual a\n",
    "- `<=` : menor ou igual a\n",
    "- `>=` : maior ou igual a\n",
    "- `!=` : diferente de"
   ]
  },
  {
   "attachments": {},
   "cell_type": "markdown",
   "metadata": {},
   "source": [
    "O corpo da repetição é `indentada` : identação é a maneira que o Python usa para agrupar as declarações. No prompt interativo ou no arquivo, você precisa usar a tabulação ou espaços para cada linha de indentação. Os editores de código mais modernos tem uma função de auto-indentação, facilitando o desenvolvimento. Quando uma declaração composta é finalizada, deve vir seguida de uma linha em branco para indicar a finalização. Veja que cada linha dentro do mesmo bloco **deve** ser indentada na mesma quantidade."
   ]
  },
  {
   "attachments": {},
   "cell_type": "markdown",
   "metadata": {},
   "source": [
    "A função [print()](https://docs.python.org/3/library/functions.html#print) escreve os valores dos argumentos que é dado. Strings são mostradas sem aspas e espaços são inseridos entre os itens, então você pode formatar as saídas lindamente."
   ]
  },
  {
   "cell_type": "code",
   "execution_count": null,
   "metadata": {},
   "outputs": [],
   "source": [
    "i = 256 * 256\n",
    "print('O valor de i é : ', i)"
   ]
  },
  {
   "attachments": {},
   "cell_type": "markdown",
   "metadata": {},
   "source": [
    "O argumento de palavra chave (`keyword argument`) `end` pode ser usado para evitar uma nova linha depois de cada execução, ou finalizar a execução com uma diferente string."
   ]
  },
  {
   "cell_type": "code",
   "execution_count": null,
   "metadata": {},
   "outputs": [],
   "source": [
    "# Série de Fibonacci\n",
    "# a soma de dois elementos define o próximo\n",
    "a, b = 0, 1\n",
    "\n",
    "while a < 1000:\n",
    "    print(a, end=',')\n",
    "    a, b = b, a + b"
   ]
  }
 ],
 "metadata": {
  "kernelspec": {
   "display_name": "Python 3",
   "language": "python",
   "name": "python3"
  },
  "language_info": {
   "codemirror_mode": {
    "name": "ipython",
    "version": 3
   },
   "file_extension": ".py",
   "mimetype": "text/x-python",
   "name": "python",
   "nbconvert_exporter": "python",
   "pygments_lexer": "ipython3",
   "version": "3.11.1 (tags/v3.11.1:a7a450f, Dec  6 2022, 19:58:39) [MSC v.1934 64 bit (AMD64)]"
  },
  "orig_nbformat": 4,
  "vscode": {
   "interpreter": {
    "hash": "d46b8a1aff949b4c8dcecbb432cd3c62cf23e9caa7d9a9f167e37b6a758bd7f1"
   }
  }
 },
 "nbformat": 4,
 "nbformat_minor": 2
}

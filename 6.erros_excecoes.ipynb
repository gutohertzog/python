{
 "cells": [
  {
   "attachments": {},
   "cell_type": "markdown",
   "metadata": {},
   "source": [
    "# Erros e Exceções"
   ]
  },
  {
   "attachments": {},
   "cell_type": "markdown",
   "metadata": {},
   "source": [
    "Até agora, as mensagens de erro foram apenas mencionadas, mas se você testou os exemplos, talvez tenha esbarrado em algumas. Existem pelo menos dois tipos distintos de erros: erros de sintaxe e exceções."
   ]
  },
  {
   "attachments": {},
   "cell_type": "markdown",
   "metadata": {},
   "source": [
    "## 1. Erros de sintaxe"
   ]
  },
  {
   "attachments": {},
   "cell_type": "markdown",
   "metadata": {},
   "source": [
    "Erros de sintaxe, também conhecidos como erros de parse, são provavelmente os mais frequentes entre aqueles que ainda estão aprendendo Python."
   ]
  },
  {
   "cell_type": "code",
   "execution_count": null,
   "metadata": {},
   "outputs": [],
   "source": [
    "while True print(42)\n",
    "# SyntaxError: invalid syntax"
   ]
  },
  {
   "attachments": {},
   "cell_type": "markdown",
   "metadata": {},
   "source": [
    "O parser repete a linha inválida e apresenta uma pequena `seta` apontando para o ponto da linha em que o erro foi detectado. O erro é causado (ou ao menos detectado) pelo símbolo que precede a `seta`: no exemplo, o erro foi detectado na função `print()`, uma vez que o dois-pontos (':') está faltando antes dela. O nome de arquivo e número de linha são exibidos para que você possa rastrear o erro no texto do script."
   ]
  },
  {
   "attachments": {},
   "cell_type": "markdown",
   "metadata": {},
   "source": [
    "## 2. Exceções"
   ]
  },
  {
   "attachments": {},
   "cell_type": "markdown",
   "metadata": {},
   "source": [
    "Mesmo que um comando ou expressão estejam sintaticamente corretos, talvez ocorra um erro na hora de sua execução. Erros detectados durante a execução são chamados exceções e não são necessariamente fatais: logo veremos como tratá-las em programas Python. A maioria das exceções não são tratadas pelos programas e acabam resultando em mensagens de erro."
   ]
  },
  {
   "cell_type": "code",
   "execution_count": null,
   "metadata": {},
   "outputs": [],
   "source": [
    "10 * (1/0)\n",
    "# ZeroDivisionError                         Traceback (most recent call last)\n",
    "# Cell In[4], line 1\n",
    "# ----> 1 10 * (1/0)\n",
    "#       2 # ZeroDivisionError: division by zero\n",
    "#       4 4 + num * 3\n",
    "\n",
    "# ZeroDivisionError: division by zero\n",
    "\n",
    "4 + num * 3\n",
    "# NameError: name 'num' is not defined\n",
    "\n",
    "'2' + 2\n",
    "# TypeError: can only concatenate str (not \"int\") to str"
   ]
  },
  {
   "attachments": {},
   "cell_type": "markdown",
   "metadata": {},
   "source": [
    "A última linha da mensagem de erro indica o que aconteceu. Exceções surgem com diferentes tipos, e o tipo é exibido como parte da mensagem: os tipos no exemplo são [ZeroDivisionError](https://docs.python.org/pt-br/3/library/exceptions.html#ZeroDivisionError), [NameError](https://docs.python.org/pt-br/3/library/exceptions.html#NameError) e [TypeError](https://docs.python.org/pt-br/3/library/exceptions.html#TypeError). A string exibida como sendo o tipo da exceção é o nome da exceção embutida que ocorreu. Isso é verdade para todas exceções pré-definidas em Python, mas não é necessariamente verdade para exceções definidas pelo usuário (embora seja uma convenção útil). Os nomes das exceções padrões são identificadores embutidos (não palavras reservadas).\n",
    "\n",
    "O resto da linha é um detalhamento que depende do tipo da exceção ocorrida e sua causa.\n",
    "\n",
    "A parte anterior da mensagem de erro apresenta o contexto onde ocorreu a exceção. Essa informação é denominada `stack traceback` (situação da pilha de execução). Em geral, contém uma lista de linhas do código-fonte, sem apresentar, no entanto, linhas lidas da entrada padrão.\n",
    "\n",
    "[Exceções embutidas](https://docs.python.org/pt-br/3/library/exceptions.html#bltin-exceptions) lista as exceções pré-definidas e seus significados."
   ]
  },
  {
   "attachments": {},
   "cell_type": "markdown",
   "metadata": {},
   "source": [
    "## 3. Tratamento de exceções"
   ]
  },
  {
   "attachments": {},
   "cell_type": "markdown",
   "metadata": {},
   "source": [
    "É possível escrever programas que tratam exceções específicas. Observe o exemplo seguinte, que pede dados ao usuário até que um inteiro válido seja fornecido, ainda permitindo que o programa seja interrompido (utilizando `Control-C` ou seja lá o que for que o sistema operacional suporte); note que uma interrupção gerada pelo usuário será sinalizada pela exceção [KeyboardInterrupt](https://docs.python.org/pt-br/3/library/exceptions.html#KeyboardInterrupt)."
   ]
  },
  {
   "cell_type": "code",
   "execution_count": null,
   "metadata": {},
   "outputs": [],
   "source": [
    "while True:\n",
    "    try:\n",
    "        num = int(input(\"Digite um número : \"))\n",
    "        break\n",
    "    except ValueError:\n",
    "        print(\"Eita!  Isso não foi um número válido.  Tente de novo...\")"
   ]
  },
  {
   "attachments": {},
   "cell_type": "markdown",
   "metadata": {},
   "source": [
    "A instrução [try](https://docs.python.org/pt-br/3/reference/compound_stmts.html#try) funciona da seguinte maneira :\n",
    "- primeiro, a cláusula [try](https://docs.python.org/pt-br/3/reference/compound_stmts.html#try) (o conjunto de instruções entre as palavras reservadas [try](https://docs.python.org/pt-br/3/reference/compound_stmts.html#try) e [except](https://docs.python.org/pt-br/3/reference/compound_stmts.html#except)) é executada;\n",
    "- se nenhuma exceção ocorrer, a cláusula [except](https://docs.python.org/pt-br/3/reference/compound_stmts.html#except) é ignorada e a execução da instrução [try](https://docs.python.org/pt-br/3/reference/compound_stmts.html#try) é finalizada;\n",
    "- se ocorrer uma exceção durante a execução de uma cláusura [try](https://docs.python.org/pt-br/3/reference/compound_stmts.html#try), as instruções remanescentes na cláusula são ignoradas. Se o tipo da exceção ocorrida tiver sido previsto em algum [except](https://docs.python.org/pt-br/3/reference/compound_stmts.html#except), essa cláusura [except](https://docs.python.org/pt-br/3/reference/compound_stmts.html#except) é executada, e então depois a execução continua após o bloco [try](https://docs.python.org/pt-br/3/reference/compound_stmts.html#try)/[except](https://docs.python.org/pt-br/3/reference/compound_stmts.html#except);\n",
    "- se a exceção levantada não corresponder a nenhuma exceção listada na cláusula de exceção, então ela é entregue a uma instrução [try](https://docs.python.org/pt-br/3/reference/compound_stmts.html#try) mais externa. Se não existir nenhum tratador previsto para tal exceção, trata-se de uma exceção não tratada e a execução do programa termina com uma mensagem de erro;"
   ]
  },
  {
   "attachments": {},
   "cell_type": "markdown",
   "metadata": {},
   "source": [
    "A instrução [try](https://docs.python.org/pt-br/3/reference/compound_stmts.html#try) pode ter uma ou mais cláusula de exceção, para especificar múltiplos tratadores para diferentes exceções. No máximo um único tratador será executado. Tratadores só são sensíveis às exceções levantadas no interior da cláusula de tentativa, e não às que tenham ocorrido no interior de outro tratador numa mesma instrução [try](https://docs.python.org/pt-br/3/reference/compound_stmts.html#try). Uma cláusula de exceção pode ser sensível a múltiplas exceções, desde que as especifique em uma tupla."
   ]
  },
  {
   "cell_type": "code",
   "execution_count": null,
   "metadata": {},
   "outputs": [],
   "source": [
    "try:\n",
    "    ...\n",
    "except (RuntimeError, TypeError, NameError):\n",
    "    ..."
   ]
  },
  {
   "attachments": {},
   "cell_type": "markdown",
   "metadata": {},
   "source": [
    "Uma classe em uma cláusula [except](https://docs.python.org/pt-br/3/reference/compound_stmts.html#except) é compatível com uma exceção se ela é da mesma classe ou de uma classe base desta (mas o contrário não é válido — uma cláusula de exceção listando uma classe derivada não é compatível com uma classe base). Por exemplo, o seguinte código irá mostrar B, C, D nesta ordem :"
   ]
  },
  {
   "cell_type": "code",
   "execution_count": null,
   "metadata": {},
   "outputs": [],
   "source": [
    "class B(Exception):\n",
    "    pass\n",
    "\n",
    "class C(B):\n",
    "    pass\n",
    "\n",
    "class D(C):\n",
    "    pass\n",
    "\n",
    "for cls in [B, C, D]:\n",
    "    try:\n",
    "        raise cls()\n",
    "    except D:\n",
    "        print(\"D\")\n",
    "    except C:\n",
    "        print(\"C\")\n",
    "    except B:\n",
    "        print(\"B\")"
   ]
  },
  {
   "attachments": {},
   "cell_type": "markdown",
   "metadata": {},
   "source": [
    "Se a ordem das cláusulas de exceção fosse invertida (except B no início), seria exibido B, B, B — somente a primeira cláusula de exceção compatível é ativada."
   ]
  },
  {
   "attachments": {},
   "cell_type": "markdown",
   "metadata": {},
   "source": [
    "Quando uma exceção ocorre, ela pode estar associada a valores chamados argumentos da exceção. A presença e os tipos dos argumentos dependem do tipo da exceção.\n",
    "\n",
    "A cláusula [except](https://docs.python.org/pt-br/3/reference/compound_stmts.html#except) pode especificar uma variável após o nome da exceção. A variável está vinculada à instância de exceção que normalmente possui um atributo `args` que armazena os argumentos. Por conveniência, os tipos de exceção embutidos definem `__str__()` para exibir todos os argumentos sem acessar explicitamente `.args`."
   ]
  },
  {
   "cell_type": "code",
   "execution_count": null,
   "metadata": {},
   "outputs": [],
   "source": [
    "try:\n",
    "    raise Exception('pão', 'ovos')\n",
    "except Exception as erro:\n",
    "    print(type(erro))    # a instância da exceção\n",
    "    print(erro.args)     # argumentos armazenado no .args\n",
    "    print(erro)          # __str__ permite o args ser mostrado diretamente,\n",
    "                         # mas pode ser sobreescrito nas exceções das subclasses\n",
    "    x, y = erro.args     # desempacota o args\n",
    "    print('x =', x)\n",
    "    print(f'{y =}')"
   ]
  },
  {
   "attachments": {},
   "cell_type": "markdown",
   "metadata": {},
   "source": [
    "A saída `__str__()` da exceção é exibida como a última parte (“detalhe”) da mensagem para exceções não tratadas."
   ]
  },
  {
   "attachments": {},
   "cell_type": "markdown",
   "metadata": {},
   "source": [
    "[BaseException](https://docs.python.org/pt-br/3/library/exceptions.html#BaseException) é a classe base comum de todas as exceções. Uma de suas subclasses, [Exception](https://docs.python.org/pt-br/3/library/exceptions.html#Exception), é a classe base de todas as exceções não fatais. Exceções que não são subclasses de [Exception](https://docs.python.org/pt-br/3/library/exceptions.html#Exception) normalmente não são tratadas, pois são usadas para indicar que o programa deve terminar. Elas incluem [SystemExit](https://docs.python.org/pt-br/3/library/exceptions.html#SystemExit) que é kevantada por [sys.exit()](https://docs.python.org/pt-br/3/library/sys.html#sys.exit) e [KeyboardInterrupt](https://docs.python.org/pt-br/3/library/exceptions.html#KeyboardInterrupt) que é levantada quando um usuário deseja interromper o programa.\n",
    "\n",
    "[Exception](https://docs.python.org/pt-br/3/library/exceptions.html#Exception) pode ser usada como um curinga que captura (quase) tudo. No entanto, é uma boa prática ser o mais específico possível com os tipos de exceções que pretendemos manipular e permitir que quaisquer exceções inesperadas se propaguem.\n",
    "\n",
    "O padrão mais comum para lidar com [Exception](https://docs.python.org/pt-br/3/library/exceptions.html#Exception) é imprimir ou registrar a exceção e então levantá-la novamente (permitindo que um chamador lide com a exceção também)."
   ]
  },
  {
   "cell_type": "code",
   "execution_count": null,
   "metadata": {},
   "outputs": [],
   "source": [
    "import sys\n",
    "\n",
    "try:\n",
    "    arq = open('meu_arquivo.txt')\n",
    "    linha = arq.readline()\n",
    "    num = int(linha.strip())\n",
    "except OSError as err:\n",
    "    print(\"OS erro :\", err)\n",
    "except ValueError:\n",
    "    print(\"Não pude converter o dado em inteiro.\")\n",
    "except Exception as err:\n",
    "    print(f\"Inesperado {err=}, {type(err)=}\")\n",
    "    raise"
   ]
  },
  {
   "attachments": {},
   "cell_type": "markdown",
   "metadata": {},
   "source": [
    "A construção [try](https://docs.python.org/pt-br/3/reference/compound_stmts.html#try) ... [except](https://docs.python.org/pt-br/3/reference/compound_stmts.html#except) possui uma cláusula `else` opcional, que quando presente, deve ser colocada depois de todas as outras cláusulas. É útil para um código que precisa ser executado se nenhuma exceção foi levantada."
   ]
  },
  {
   "cell_type": "code",
   "execution_count": null,
   "metadata": {},
   "outputs": [],
   "source": [
    "import sys\n",
    "\n",
    "for arg in sys.argv[1:]:\n",
    "    try:\n",
    "        f = open(arg, 'r')\n",
    "    except OSError:\n",
    "        print('não consegui abrir', arg)\n",
    "    else:\n",
    "        print(arg, 'tem', len(f.readlines()), 'linhas')\n",
    "        f.close()"
   ]
  },
  {
   "attachments": {},
   "cell_type": "markdown",
   "metadata": {},
   "source": [
    "É melhor usar a cláusula `else` do que adicionar código adicional à cláusula [try](https://docs.python.org/pt-br/3/reference/compound_stmts.html#try) porque ela evita que acidentalmente seja tratada uma exceção que não foi levantada pelo código protegido pela construção com as instruções `try...except`."
   ]
  },
  {
   "attachments": {},
   "cell_type": "markdown",
   "metadata": {},
   "source": [
    "Os manipuladores de exceção não tratam apenas exceções que ocorrem imediatamente na cláusula `try`, mas também aquelas que ocorrem dentro de funções que são chamadas (mesmo indiretamente) na cláusula `try`."
   ]
  },
  {
   "cell_type": "code",
   "execution_count": null,
   "metadata": {},
   "outputs": [],
   "source": [
    "def divide_por_zero():\n",
    "    x = 1 / 0\n",
    "\n",
    "try:\n",
    "    divide_por_zero()\n",
    "except ZeroDivisionError as err:\n",
    "    print('Lidando com erro de execução :', err)"
   ]
  },
  {
   "attachments": {},
   "cell_type": "markdown",
   "metadata": {},
   "source": [
    "## 4. Levantando exceções"
   ]
  },
  {
   "attachments": {},
   "cell_type": "markdown",
   "metadata": {},
   "source": [
    "A instrução [raise](https://docs.python.org/pt-br/3/reference/simple_stmts.html#raise) permite ao programador forçar a ocorrência de um determinado tipo de exceção."
   ]
  },
  {
   "cell_type": "code",
   "execution_count": null,
   "metadata": {},
   "outputs": [],
   "source": [
    "raise NameError('é 42')"
   ]
  },
  {
   "attachments": {},
   "cell_type": "markdown",
   "metadata": {},
   "source": [
    "O argumento de [raise](https://docs.python.org/pt-br/3/reference/simple_stmts.html#raise) indica a exceção a ser levantada. Esse argumento deve ser uma instância de exceção ou uma classe de exceção (uma classe que deriva de [BaseException](https://docs.python.org/pt-br/3/library/exceptions.html#BaseException), tal como [Exception](https://docs.python.org/pt-br/3/library/exceptions.html#Exception) ou uma de suas subclasses). Se uma classe de exceção for passada, será implicitamente instanciada invocando o seu construtor sem argumentos."
   ]
  },
  {
   "cell_type": "code",
   "execution_count": null,
   "metadata": {},
   "outputs": [],
   "source": [
    "raise ValueError  # atalho para o 'raise ValueError()'"
   ]
  },
  {
   "attachments": {},
   "cell_type": "markdown",
   "metadata": {},
   "source": [
    "Caso você precise determinar se uma exceção foi levantada ou não, mas não quer manipular o erro, uma forma simples de instrução [raise](https://docs.python.org/pt-br/3/reference/simple_stmts.html#raise) permite que você levante-a novamente."
   ]
  },
  {
   "cell_type": "code",
   "execution_count": null,
   "metadata": {},
   "outputs": [],
   "source": [
    "try:\n",
    "    raise NameError('HiThere')\n",
    "except NameError:\n",
    "    print('Uma exceção passou voando...')\n",
    "    raise"
   ]
  },
  {
   "attachments": {},
   "cell_type": "markdown",
   "metadata": {},
   "source": [
    "## 5. Encadeando exceções"
   ]
  },
  {
   "attachments": {},
   "cell_type": "markdown",
   "metadata": {},
   "source": [
    "Se uma exceção não tratada ocorrer dentro de uma seção [except](https://docs.python.org/pt-br/3/reference/compound_stmts.html#except), ela terá a exceção sendo tratada anexada a ela e incluída na mensagem de erro."
   ]
  },
  {
   "cell_type": "code",
   "execution_count": null,
   "metadata": {},
   "outputs": [],
   "source": [
    "try:\n",
    "    open(\"database.sqlite\")\n",
    "except OSError:\n",
    "    raise RuntimeError(\"incapaz de lidar com erro\")\n",
    "\n",
    "# Traceback (most recent call last):\n",
    "#   File \"<stdin>\", line 2, in <module>\n",
    "# FileNotFoundError: [Errno 2] No such file or directory: 'database.sqlite'\n",
    "\n",
    "# enquanto lidavacom a exceção do try, outra exceção aconteceu no except:\n",
    "# Traceback (most recent call last):\n",
    "#   File \"<stdin>\", line 4, in <module>\n",
    "# RuntimeError: incapaz de lidar com erro"
   ]
  },
  {
   "attachments": {},
   "cell_type": "markdown",
   "metadata": {},
   "source": [
    "Para indicar que uma exceção é uma consequência direta de outra, a instrução [raise](https://docs.python.org/pt-br/3/reference/simple_stmts.html#raise) permite uma cláusula opcional [from](https://docs.python.org/pt-br/3/reference/simple_stmts.html#raise)."
   ]
  },
  {
   "cell_type": "code",
   "execution_count": null,
   "metadata": {},
   "outputs": [],
   "source": [
    "# exc deve ser exceção da instância ou None\n",
    "raise RuntimeError from exc"
   ]
  },
  {
   "attachments": {},
   "cell_type": "markdown",
   "metadata": {},
   "source": [
    "Isso pode ser útil quando você está transformando exceções."
   ]
  },
  {
   "cell_type": "code",
   "execution_count": null,
   "metadata": {},
   "outputs": [],
   "source": [
    "def func():\n",
    "    raise ConnectionError\n",
    "\n",
    "try:\n",
    "    func()\n",
    "except ConnectionError as exc:\n",
    "    raise RuntimeError('Falha em abrir o banco de dados') from exc\n",
    "\n",
    "# Traceback (most recent call last):\n",
    "#   File \"<stdin>\", line 2, in <module>\n",
    "#   File \"<stdin>\", line 2, in func\n",
    "# ConnectionError\n",
    "\n",
    "# A exceção acima foi a causa direta da seguinte exceção :\n",
    "# Traceback (most recent call last):\n",
    "#   File \"<stdin>\", line 4, in <module>\n",
    "# RuntimeError: Falha em abrir o banco de dados"
   ]
  },
  {
   "attachments": {},
   "cell_type": "markdown",
   "metadata": {},
   "source": [
    "Ele também permite desabilitar o encadeamento automático de exceções usando o `from None`."
   ]
  },
  {
   "cell_type": "code",
   "execution_count": null,
   "metadata": {},
   "outputs": [],
   "source": [
    "try:\n",
    "    open('database.sqlite')\n",
    "except OSError:\n",
    "    raise RuntimeError from None\n",
    "\n",
    "# Traceback (most recent call last):\n",
    "#   File \"<stdin>\", line 4, in <module>\n",
    "# RuntimeError"
   ]
  },
  {
   "attachments": {},
   "cell_type": "markdown",
   "metadata": {},
   "source": [
    "Para mais informações sobre os mecanismos de encadeamento, veja [Exceções Embutidas](https://docs.python.org/pt-br/3/library/exceptions.html#bltin-exceptions)."
   ]
  },
  {
   "attachments": {},
   "cell_type": "markdown",
   "metadata": {},
   "source": [
    "## 6. Exceções definidas pelo usuário"
   ]
  },
  {
   "attachments": {},
   "cell_type": "markdown",
   "metadata": {},
   "source": [
    "Programas podem definir novos tipos de exceções, através da criação de uma nova classe (veja [Classes](https://docs.python.org/pt-br/3/tutorial/classes.html#tut-classes) para mais informações sobre classes Python). Exceções devem ser derivadas da classe [Exception](https://docs.python.org/pt-br/3/library/exceptions.html#Exception), direta ou indiretamente.\n",
    "\n",
    "As classes de exceção podem ser definidas para fazer qualquer coisa que qualquer outra classe pode fazer, mas geralmente são mantidas simples, geralmente oferecendo apenas um número de atributos que permitem que informações sobre o erro sejam extraídas por manipuladores para a exceção.\n",
    "\n",
    "É comum que novas exceções sejam definidas com nomes terminando em “Error”, semelhante a muitas exceções **built-in**.\n",
    "\n",
    "Muitos módulos padrão definem suas próprias exceções para relatar erros que podem ocorrer nas funções que definem."
   ]
  },
  {
   "attachments": {},
   "cell_type": "markdown",
   "metadata": {},
   "source": [
    "## 7. Definindo ações de limpeza"
   ]
  },
  {
   "attachments": {},
   "cell_type": "markdown",
   "metadata": {},
   "source": [
    "A instrução [try](https://docs.python.org/pt-br/3/reference/compound_stmts.html#try) possui outra cláusula opcional, cuja finalidade é permitir a implementação de ações de limpeza, que sempre devem ser executadas independentemente da ocorrência de exceções. Como no exemplo :"
   ]
  },
  {
   "cell_type": "code",
   "execution_count": null,
   "metadata": {},
   "outputs": [],
   "source": [
    "try:\n",
    "    raise KeyboardInterrupt\n",
    "finally:\n",
    "    print('Goodbye, world!')\n",
    "# KeyboardInterrupt                         Traceback (most recent call last)\n",
    "# Cell In[1], line 2\n",
    "#       1 try:\n",
    "# ----> 2     raise KeyboardInterrupt\n",
    "#       3 finally:\n",
    "#       4     print('Goodbye, world!')\n",
    "\n",
    "# KeyboardInterrupt: "
   ]
  },
  {
   "attachments": {},
   "cell_type": "markdown",
   "metadata": {},
   "source": [
    "Se uma cláusula [finally](https://docs.python.org/pt-br/3/reference/compound_stmts.html#finally) estiver presente, a cláusula `finally` será executada como a última tarefa antes da conclusão da instrução [try](https://docs.python.org/pt-br/3/reference/compound_stmts.html#try). A cláusula `finally` executa se a instrução `try` produz uma exceção. Os pontos a seguir discutem casos mais complexos quando ocorre uma exceção :\n",
    "- se ocorrer uma exceção durante a execução da cláusula `try`, a exceção poderá ser tratada por uma cláusula [except](https://docs.python.org/pt-br/3/reference/compound_stmts.html#except). Se a exceção não for tratada por uma cláusula `except`, a exceção será gerada novamente após a execução da cláusula `finally`;\n",
    "- uma exceção pode ocorrer durante a execução de uma cláusula `except` ou `else`. Novamente, a exceção é re-levantada depois que `finally` é executada;\n",
    "- se a cláusula `finally` executa uma instrução [break](https://docs.python.org/3/reference/simple_stmts.html#break), [continue](https://docs.python.org/3/reference/simple_stmts.html#continue) ou [return](https://docs.python.org/3/reference/simple_stmts.html#return), as exceções não são levantadas novamente;\n",
    "- se a instrução `try` atingir uma instrução [break](https://docs.python.org/3/reference/simple_stmts.html#break), [continue](https://docs.python.org/3/reference/simple_stmts.html#continue) ou [return](https://docs.python.org/3/reference/simple_stmts.html#return), a cláusula `finally` será executada imediatamente antes da execução da instrução `break`, `continue` ou `return`;\n",
    "- se uma cláusula `finally` incluir uma instrução `return`, o valor retornado será aquele da instrução `return` da cláusula `finally`, não o valor da instrução `return` da cláusula `try`."
   ]
  },
  {
   "attachments": {},
   "cell_type": "markdown",
   "metadata": {},
   "source": [
    "Por exemplo :"
   ]
  },
  {
   "cell_type": "code",
   "execution_count": null,
   "metadata": {},
   "outputs": [],
   "source": [
    "def bool_return():\n",
    "    try:\n",
    "        return True\n",
    "    finally:\n",
    "        return False\n",
    "\n",
    "bool_return()"
   ]
  },
  {
   "attachments": {},
   "cell_type": "markdown",
   "metadata": {},
   "source": [
    "Um exemplo mais complicado :"
   ]
  },
  {
   "cell_type": "code",
   "execution_count": null,
   "metadata": {},
   "outputs": [],
   "source": [
    "def divide(x, y):\n",
    "    try:\n",
    "        resultado = x / y\n",
    "    except ZeroDivisionError:\n",
    "        print(\"Divisão por zero!!\")\n",
    "    else:\n",
    "        print(\"O resultado é :\", resultado)\n",
    "    finally:\n",
    "        print(\"Executando a cláusula finally.\")\n",
    "divide(2, 1)\n",
    "divide(2, 0)\n",
    "divide(\"2\", \"1\")\n",
    "# TypeError                                 Traceback (most recent call last)\n",
    "# Cell In[3], line 12\n",
    "#      10 divide(2, 1)\n",
    "#      11 divide(2, 0)\n",
    "# ---> 12 divide(\"2\", \"1\")\n",
    "\n",
    "# Cell In[3], line 3, in divide(x, y)\n",
    "#       1 def divide(x, y):\n",
    "#       2     try:\n",
    "# ----> 3         resultado = x / y\n",
    "#       4     except ZeroDivisionError:\n",
    "#       5         print(\"Divisão por zero!!\")\n",
    "\n",
    "# TypeError: unsupported operand type(s) for /: 'str' and 'str'"
   ]
  },
  {
   "attachments": {},
   "cell_type": "markdown",
   "metadata": {},
   "source": [
    "Como você pode ver, a cláusula [finally](https://docs.python.org/pt-br/3/reference/compound_stmts.html#finally) é executada em todos os casos. A exceção [TypeError](https://docs.python.org/pt-br/3/library/exceptions.html#TypeError) levantada pela divisão de duas strings não é tratada pela cláusula except e portanto é re-levantada depois que a cláusula [finally](https://docs.python.org/pt-br/3/reference/compound_stmts.html#finally) é executada.\n",
    "\n",
    "Em aplicação do mundo real, a cláusula [finally](https://docs.python.org/pt-br/3/reference/compound_stmts.html#finally) é útil para liberar recursos externos (como arquivos ou conexões de rede), independentemente do uso do recurso ter sido bem sucedido ou não."
   ]
  },
  {
   "attachments": {},
   "cell_type": "markdown",
   "metadata": {},
   "source": [
    "## 8. Ações de limpeza predefinidas"
   ]
  },
  {
   "attachments": {},
   "cell_type": "markdown",
   "metadata": {},
   "source": [
    "Alguns objetos definem ações de limpeza padrões para serem executadas quando o objeto não é mais necessário, independentemente da operação que estava usando o objeto ter sido ou não bem sucedida. Veja o exemplo a seguir, que tenta abrir um arquivo e exibir seu conteúdo na tela."
   ]
  },
  {
   "cell_type": "code",
   "execution_count": null,
   "metadata": {},
   "outputs": [],
   "source": [
    "for linha in open(\"aneis_poder.txt\"):\n",
    "    print(linha, end=\"\")"
   ]
  },
  {
   "attachments": {},
   "cell_type": "markdown",
   "metadata": {},
   "source": [
    "O problema com esse código é que ele deixa o arquivo aberto um período indeterminado depois que o código é executado. Isso não chega a ser problema em scripts simples, mas pode ser um problema para grandes aplicações. A palavra reservada [with](https://docs.python.org/pt-br/3/reference/compound_stmts.html#with) permite que objetos como arquivos sejam utilizados com a certeza de que sempre serão prontamente e corretamente finalizados."
   ]
  },
  {
   "cell_type": "code",
   "execution_count": null,
   "metadata": {},
   "outputs": [],
   "source": [
    "with open(\"aneis_poder.txt\") as arq:\n",
    "    for linha in arq:\n",
    "        print(linha, end=\"\")"
   ]
  },
  {
   "attachments": {},
   "cell_type": "markdown",
   "metadata": {},
   "source": [
    "Depois que a instrução é executada, o arquivo `arq` é sempre fechado, mesmo se ocorrer um problema durante o processamento das linhas. Outros objetos que, como arquivos, fornecem ações de limpeza predefinidas as indicarão em suas documentações."
   ]
  },
  {
   "attachments": {},
   "cell_type": "markdown",
   "metadata": {},
   "source": [
    "## 9. Criando e tratando várias exceções não relacionadas"
   ]
  },
  {
   "attachments": {},
   "cell_type": "markdown",
   "metadata": {},
   "source": [
    "Existem situações em que é necessário relatar várias exceções que ocorreram. Isso geralmente ocorre em estruturas de simultaneidade, quando várias tarefas podem ter falhado em paralelo, mas também há outros casos de uso em que é desejável continuar a execução e coletar vários erros em vez de levantar a primeira exceção."
   ]
  },
  {
   "attachments": {},
   "cell_type": "markdown",
   "metadata": {},
   "source": [
    "O [ExceptionGroup](https://docs.python.org/pt-br/3/library/exceptions.html#ExceptionGroup) integrado envolve uma lista de instâncias de exceção para que elas possam ser levantadas juntas. É uma exceção em si, portanto, pode ser capturada como qualquer outra exceção."
   ]
  },
  {
   "cell_type": "code",
   "execution_count": null,
   "metadata": {},
   "outputs": [],
   "source": [
    "# execute o código abaixo em um script .py\n",
    "def funcao():\n",
    "    excs = [OSError('erro 1'), SystemError('erro 2')]\n",
    "    raise ExceptionGroup('houve problemas em', excs)\n",
    "\n",
    "funcao()\n",
    "#   + Exception Group Traceback (most recent call last):\n",
    "#   |   File \"C:\\python\\teste.py\", line 5, in <module>\n",
    "#   |     funcao()\n",
    "#   |   File \"C:\\python\\teste.py\", line 3, in funcao  \n",
    "#   |     raise ExceptionGroup('houve problemas em', excs)\n",
    "#   | ExceptionGroup: houve problemas em (2 sub-exceptions)\n",
    "#   +-+---------------- 1 ----------------\n",
    "#     | OSError: erro 1\n",
    "#     +---------------- 2 ----------------\n",
    "#     | SystemError: erro 2\n",
    "#     +------------------------------------\n",
    "\n",
    "try:\n",
    "    funcao()\n",
    "except Exception as erro:\n",
    "    print(f'achei {type(erro)} : erro')\n",
    "# caught <class 'ExceptionGroup'>: e"
   ]
  },
  {
   "attachments": {},
   "cell_type": "markdown",
   "metadata": {},
   "source": [
    "Usando `except*` em vez de `except`, podemos manipular seletivamente apenas as exceções no grupo que correspondem a um determinado tipo. No exemplo a seguir, que mostra um grupo de exceção aninhado, cada cláusula `except*` extrai do grupo exceções de um certo tipo enquanto permite que todas as outras exceções se propaguem para outras cláusulas e eventualmente sejam levantadas novamente."
   ]
  },
  {
   "cell_type": "code",
   "execution_count": null,
   "metadata": {},
   "outputs": [],
   "source": [
    "# execute o código abaixo em um script .py\n",
    "def funcao():\n",
    "    raise ExceptionGroup(\"grupo 1\",\n",
    "                         [OSError(1),\n",
    "                          SystemError(2),\n",
    "                          ExceptionGroup(\"grupo 2\",\n",
    "                                         [OSError(3), RecursionError(4)])])\n",
    "try:\n",
    "    funcao()\n",
    "except* OSError as erro:\n",
    "    print(\"Houve OSErrors\")\n",
    "except* SystemError as erro:\n",
    "    print(\"Houve SystemErrors\")\n",
    "# Houve OSErrors\n",
    "# Houve SystemErrors\n",
    "#   + Exception Group Traceback (most recent call last):\n",
    "#   |   File \"C:\\python\\teste.py\", line 11, in <module>\n",
    "#   |     funcao()\n",
    "#   |   File \"C:\\python\\teste.py\", line 3, in funcao\n",
    "#   |     raise ExceptionGroup(\"grupo 1\",\n",
    "#   | ExceptionGroup: grupo 1 (1 sub-exception)\n",
    "#   +-+---------------- 1 ----------------\n",
    "#     | ExceptionGroup: grupo 2 (1 sub-exception)\n",
    "#     +-+---------------- 1 ----------------\n",
    "#       | RecursionError: 4\n",
    "#       +------------------------------------"
   ]
  },
  {
   "attachments": {},
   "cell_type": "markdown",
   "metadata": {},
   "source": [
    "Observe que as exceções aninhadas em um grupo de exceções devem ser instâncias, não tipos. Isso ocorre porque, na prática, as exceções normalmente seriam aquelas que já foram levantadas e capturadas pelo programa, seguindo o seguinte padrão :"
   ]
  },
  {
   "cell_type": "code",
   "execution_count": null,
   "metadata": {},
   "outputs": [],
   "source": [
    "excs = []\n",
    "for teste in tests:\n",
    "    try:\n",
    "        teste.run()\n",
    "    except Exception as e:\n",
    "        excs.append(e)\n",
    "\n",
    "if excs:\n",
    "    raise ExceptionGroup(\"Falhas de Testes\", excs)"
   ]
  },
  {
   "attachments": {},
   "cell_type": "markdown",
   "metadata": {},
   "source": [
    "## 10. Enriquecendo exceções com notas"
   ]
  },
  {
   "attachments": {},
   "cell_type": "markdown",
   "metadata": {},
   "source": [
    "Quando uma exceção é criada para ser levantada, geralmente é inicializada com informações que descrevem o erro ocorrido. Há casos em que é útil adicionar informações após a captura da exceção. Para este propósito, as exceções possuem um método `add_note(nota)` que aceita uma string e a adiciona à lista de notas da exceção. A renderização de traceback padrão inclui todas as notas, na ordem em que foram adicionadas, após a exceção."
   ]
  },
  {
   "cell_type": "code",
   "execution_count": null,
   "metadata": {},
   "outputs": [],
   "source": [
    "# execute o código abaixo em um script .py\n",
    "try:\n",
    "    raise TypeError('tipo ruim')\n",
    "except Exception as e:\n",
    "    e.add_note('Adiciona alguma informação')\n",
    "    e.add_note('Adiciona mais algumas informações')\n",
    "    raise\n",
    "# Traceback (most recent call last):\n",
    "#   File \"C:\\python\\teste.py\", line 2, in <module>\n",
    "#     raise TypeError('tipo ruim')\n",
    "# TypeError: tipo ruim\n",
    "# Adiciona alguma informação\n",
    "# Adiciona mais algumas informações"
   ]
  },
  {
   "attachments": {},
   "cell_type": "markdown",
   "metadata": {},
   "source": [
    "Por exemplo, ao coletar exceções em um grupo de exceções, podemos querer adicionar informações de contexto para os erros individuais. A seguir, cada exceção no grupo tem uma nota indicando quando esse erro ocorreu."
   ]
  },
  {
   "cell_type": "code",
   "execution_count": null,
   "metadata": {},
   "outputs": [],
   "source": [
    "# execute o código abaixo em um script .py\n",
    "def funcao():\n",
    "    raise OSError('a operação falhou')\n",
    "\n",
    "excs = []\n",
    "for i in range(3):\n",
    "    try:\n",
    "        funcao()\n",
    "    except Exception as e:\n",
    "        e.add_note(f'Aconteceu em uma Iteração {i+1}')\n",
    "        excs.append(e)\n",
    "\n",
    "raise ExceptionGroup('Nós temos alguns problemas', excs)\n",
    "#   + Exception Group Traceback (most recent call last):\n",
    "#   |   File \"C:\\python\\teste.py\", line 14, in <module>\n",
    "#   |     raise ExceptionGroup('Nós temos alguns problemas', excs)\n",
    "#   | ExceptionGroup: Nós temos alguns problemas (3 sub-exceptions)\n",
    "#   +-+---------------- 1 ----------------\n",
    "#     | Traceback (most recent call last):\n",
    "#     |   File \"C:\\python\\teste.py\", line 9, in <module>\n",
    "#     |     funcao()\n",
    "#     |   File \"C:\\python\\teste.py\", line 3, in funcao\n",
    "#     |     raise OSError('a operação falhou')\n",
    "#     | OSError: a operação falhou\n",
    "#     | Aconteceu em uma Iteração 1\n",
    "#     +---------------- 2 ----------------\n",
    "#     | Traceback (most recent call last):\n",
    "#     |   File \"C:\\python\\teste.py\", line 9, in <module>\n",
    "#     |     funcao()\n",
    "#     |   File \"C:\\python\\teste.py\", line 3, in funcao\n",
    "#     |     raise OSError('a operação falhou')\n",
    "#     | OSError: a operação falhou\n",
    "#     | Aconteceu em uma Iteração 2\n",
    "#     +---------------- 3 ----------------\n",
    "#     | Traceback (most recent call last):\n",
    "#     |   File \"C:\\python\\teste.py\", line 9, in <module>\n",
    "#     |     funcao()\n",
    "#     |   File \"C:\\python\\teste.py\", line 3, in funcao\n",
    "#     |     raise OSError('a operação falhou')\n",
    "#     | OSError: a operação falhou\n",
    "#     | Aconteceu em uma Iteração 3\n",
    "#     +------------------------------------"
   ]
  }
 ],
 "metadata": {
  "kernelspec": {
   "display_name": ".venv",
   "language": "python",
   "name": "python3"
  },
  "language_info": {
   "codemirror_mode": {
    "name": "ipython",
    "version": 3
   },
   "file_extension": ".py",
   "mimetype": "text/x-python",
   "name": "python",
   "nbconvert_exporter": "python",
   "pygments_lexer": "ipython3",
   "version": "3.11.1 (tags/v3.11.1:a7a450f, Dec  6 2022, 19:58:39) [MSC v.1934 64 bit (AMD64)]"
  },
  "orig_nbformat": 4,
  "vscode": {
   "interpreter": {
    "hash": "1c99f561ca1a717b60f7deeca363b5de64a153a33138772a1efbe72b24e89a8e"
   }
  }
 },
 "nbformat": 4,
 "nbformat_minor": 2
}

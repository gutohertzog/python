{
 "cells": [
  {
   "attachments": {},
   "cell_type": "markdown",
   "metadata": {},
   "source": [
    "# Funções e Módulos"
   ]
  },
  {
   "attachments": {},
   "cell_type": "markdown",
   "metadata": {},
   "source": [
    "# 1. Funções"
   ]
  },
  {
   "attachments": {},
   "cell_type": "markdown",
   "metadata": {},
   "source": [
    "## 1.1. Básico"
   ]
  },
  {
   "attachments": {},
   "cell_type": "markdown",
   "metadata": {},
   "source": [
    "Em Python, uma função é um bloco de código que realiza uma tarefa específica e pode ser reutilizado várias vezes. Elas são definidas com a palavra-chave `def` seguida do nome da função e parênteses. Dentro dos parênteses, os argumentos ou parâmetros da função podem ser especificados. Após a definição da função, o código a ser executado deve ser indentado para dentro do bloco da função."
   ]
  },
  {
   "attachments": {},
   "cell_type": "markdown",
   "metadata": {},
   "source": [
    "Segue um exemplo de como declarar uma função sem argumentos."
   ]
  },
  {
   "cell_type": "code",
   "execution_count": null,
   "metadata": {},
   "outputs": [],
   "source": [
    "def nome_da_funcao():\n",
    "    ..."
   ]
  },
  {
   "attachments": {},
   "cell_type": "markdown",
   "metadata": {},
   "source": [
    "A seguir tem um exemplo de como declarar uma função com argumentos."
   ]
  },
  {
   "cell_type": "code",
   "execution_count": null,
   "metadata": {},
   "outputs": [],
   "source": [
    "def nome_da_funcao(parametro1, parametro2):\n",
    "    ..."
   ]
  },
  {
   "attachments": {},
   "cell_type": "markdown",
   "metadata": {},
   "source": [
    "A seguinte função, mostra uma saudação."
   ]
  },
  {
   "cell_type": "code",
   "execution_count": null,
   "metadata": {},
   "outputs": [],
   "source": [
    "def bom_dia():\n",
    "    print('Está é uma saudação usada em vários lugares : bom dia.')"
   ]
  },
  {
   "attachments": {},
   "cell_type": "markdown",
   "metadata": {},
   "source": [
    "A seguinte função printa um número :"
   ]
  },
  {
   "cell_type": "code",
   "execution_count": null,
   "metadata": {},
   "outputs": [],
   "source": [
    "def mostra_valor(x):\n",
    "    print(x)"
   ]
  },
  {
   "attachments": {},
   "cell_type": "markdown",
   "metadata": {},
   "source": [
    "Para chamar a função, você deve escrever o nome da função seguida dos parênteses e, se necessário, os argumentos."
   ]
  },
  {
   "cell_type": "code",
   "execution_count": null,
   "metadata": {},
   "outputs": [],
   "source": [
    "bom_dia()\n",
    "mostra_valor(42)"
   ]
  },
  {
   "attachments": {},
   "cell_type": "markdown",
   "metadata": {},
   "source": [
    "## 1.2. Argumentos nas Funções"
   ]
  },
  {
   "attachments": {},
   "cell_type": "markdown",
   "metadata": {},
   "source": [
    "Os argumentos em uma função em Python são valores ou variáveis que são passados para a função quando ela é chamada. Eles são especificados dentro dos parênteses na definição da função e podem ser usados dentro da função para realizar cálculos ou outras tarefas.\n",
    "\n",
    "Os argumentos podem ser de qualquer tipo, como números inteiros, strings, listas, etc. Eles também podem ter nomes diferentes dentro da função e fora dela, mas é uma boa prática manter os nomes consistentes para facilitar a leitura do código.\n",
    "\n",
    "Existem alguns tipos de argumentos nas funções :"
   ]
  },
  {
   "attachments": {},
   "cell_type": "markdown",
   "metadata": {},
   "source": [
    "### 1.2.1. Argumentos Posicionais"
   ]
  },
  {
   "attachments": {},
   "cell_type": "markdown",
   "metadata": {},
   "source": [
    "Argumentos posicionais são aqueles que são passados para a função na ordem em que eles aparecem na definição da função. Por exemplo, na função abaixo, `a` e `b` são argumentos posicionais :"
   ]
  },
  {
   "cell_type": "code",
   "execution_count": null,
   "metadata": {},
   "outputs": [],
   "source": [
    "def soma(a, b):\n",
    "    print(f'O valor de [a] é {a}')\n",
    "    print('O valor de [b] é {}'.format(b))\n",
    "    print('A soma dos dois números é :', a + b)\n",
    "\n",
    "soma(1, 42)\n",
    "soma(42 ,1)"
   ]
  },
  {
   "attachments": {},
   "cell_type": "markdown",
   "metadata": {},
   "source": [
    "Repare que a posição dos valores passados para a função afetam os valores das variáveis locais a cada execução."
   ]
  },
  {
   "attachments": {},
   "cell_type": "markdown",
   "metadata": {},
   "source": [
    "### 1.2.2. Argumentos Palavra-chave"
   ]
  },
  {
   "attachments": {},
   "cell_type": "markdown",
   "metadata": {},
   "source": [
    "Argumentos de palavra-chave são aqueles que são passados para a função usando o nome do argumento, seguido do sinal de igual e o valor. Por exemplo, na função abaixo, `base` e `altura` são argumentos de palavra-chave :"
   ]
  },
  {
   "cell_type": "code",
   "execution_count": null,
   "metadata": {},
   "outputs": [],
   "source": [
    "def area_retangulo(base, altura):\n",
    "    print(f'O valor de [base] é {base}')\n",
    "    print('O valor de [altura] é {}'.format(altura))\n",
    "    print('A área do retângulo é :', base * altura)\n",
    "\n",
    "area_retangulo(base=1, altura=42)\n",
    "area_retangulo(altura=42 ,base=1)"
   ]
  },
  {
   "attachments": {},
   "cell_type": "markdown",
   "metadata": {},
   "source": [
    "Repare que agora, usando as palavras-chaves para cada chamada da função, podemos alterar a ordem, mas ainda manter os valores das variáveis locais."
   ]
  },
  {
   "attachments": {},
   "cell_type": "markdown",
   "metadata": {},
   "source": [
    "### 1.2.3. Argumentos Opcionais"
   ]
  },
  {
   "attachments": {},
   "cell_type": "markdown",
   "metadata": {},
   "source": [
    "Além disso, as funções também podem ter argumentos opcionais, que são especificados na definição da função com o sinal de igual `=` seguido de um valor padrão. Isso significa que se esses argumentos não forem fornecidos quando a função for chamada, eles usarão o valor padrão especificado."
   ]
  },
  {
   "cell_type": "code",
   "execution_count": null,
   "metadata": {},
   "outputs": [],
   "source": [
    "def saudacao(nome, saudacao=\"Olá\"):\n",
    "    print(saudacao + \", \" + nome)\n",
    "\n",
    "saudacao(\"João\") # Saída: Olá, João\n",
    "saudacao(\"Maria\", \"Bom dia\") # Saída: Bom dia, Maria"
   ]
  },
  {
   "attachments": {},
   "cell_type": "markdown",
   "metadata": {},
   "source": [
    "Na primeira chamada da função, apenas um valor foi passado para ela, que foi atribuído à variável `nome`. Na segunda chamada, um segundo valor também foi passado, logo, ele sobreescreve o valor padrão definido de `saudacao` na função."
   ]
  },
  {
   "attachments": {},
   "cell_type": "markdown",
   "metadata": {},
   "source": [
    "`IMPORTANTE` : o argumentos opcionais devem vir ao final da declaração dos argumentos na função. Se o primeiro argumento tiver um valor padrão, `todos` os subsequentes devem ter valores padrão. Abaixo, um exemplo de erro de sintaxe será gerado :"
   ]
  },
  {
   "cell_type": "code",
   "execution_count": null,
   "metadata": {},
   "outputs": [],
   "source": [
    "def saudacao(nome=1, saudacao):\n",
    "    print(saudacao + \", \" + nome)\n",
    "# Cell In[9], line 1\n",
    "#     def saudacao(nome=1, saudacao):\n",
    "#                          ^\n",
    "# SyntaxError: non-default argument follows default argument"
   ]
  },
  {
   "attachments": {},
   "cell_type": "markdown",
   "metadata": {},
   "source": [
    "### 1.2.4. *args e **kwargs"
   ]
  },
  {
   "attachments": {},
   "cell_type": "markdown",
   "metadata": {},
   "source": [
    "#### 1.2.4.1. Relembrando"
   ]
  },
  {
   "attachments": {},
   "cell_type": "markdown",
   "metadata": {},
   "source": [
    "Em Python, é possível `empacotar` várias variáveis em uma única estrutura de dados, como uma tupla ou lista, e `desempacotar` essas variáveis para serem usadas individualmente."
   ]
  },
  {
   "attachments": {},
   "cell_type": "markdown",
   "metadata": {},
   "source": [
    "Para `empacotar` várias variáveis, é possível usar a notação de vírgula, como por exemplo :"
   ]
  },
  {
   "cell_type": "code",
   "execution_count": null,
   "metadata": {},
   "outputs": [],
   "source": [
    "x = 1\n",
    "y = 2\n",
    "z = 3\n",
    "\n",
    "coordenadas = x, y, z\n",
    "print(coordenadas) # Saída: (1, 2, 3)"
   ]
  },
  {
   "attachments": {},
   "cell_type": "markdown",
   "metadata": {},
   "source": [
    "ou também pode ser feito com o uso do `pack` ou o `,`"
   ]
  },
  {
   "cell_type": "code",
   "execution_count": null,
   "metadata": {},
   "outputs": [],
   "source": [
    "x, y, z = 1, 2, 3\n",
    "print(x)\n",
    "print(y)\n",
    "print(z)"
   ]
  },
  {
   "attachments": {},
   "cell_type": "markdown",
   "metadata": {},
   "source": [
    "Para `desempacotar` essas variáveis, é possível usar a notação de atribuição múltipla, como por exemplo:"
   ]
  },
  {
   "cell_type": "code",
   "execution_count": null,
   "metadata": {},
   "outputs": [],
   "source": [
    "coordenadas = (1, 2, 3)\n",
    "x, y, z = coordenadas\n",
    "print(x) # Saída: 1\n",
    "print(y) # Saída: 2\n",
    "print(z) # Saída: 3"
   ]
  },
  {
   "attachments": {},
   "cell_type": "markdown",
   "metadata": {},
   "source": [
    "Também é possível usar o comando `*` para desempacotar somente algumas das variáveis :"
   ]
  },
  {
   "cell_type": "code",
   "execution_count": null,
   "metadata": {},
   "outputs": [],
   "source": [
    "coordenadas = (1, 2, 3, 4, 5)\n",
    "x, *y, z = coordenadas\n",
    "print(x) # Saída: 1\n",
    "print(y) # Saída: [2, 3, 4]\n",
    "print(z) # Saída: 5"
   ]
  },
  {
   "attachments": {},
   "cell_type": "markdown",
   "metadata": {},
   "source": [
    "Além disso, é possível desempacotar variáveis dentro de uma lista ou dicionário."
   ]
  },
  {
   "cell_type": "code",
   "execution_count": null,
   "metadata": {},
   "outputs": [],
   "source": [
    "dados = [(\"João\", 24), (\"Maria\", 32), (\"José\", 45)]\n",
    "for nome, idade in dados:\n",
    "    print(f\"{nome} tem {idade} anos.\")\n",
    "\n",
    "dados = {\"nome\": \"João\", \"idade\": 24, \"cidade\": \"São Paulo\"}\n",
    "nome, idade, cidade = dados.values()\n",
    "print(nome) # Saída: João\n",
    "print(idade) # Saída: 24\n",
    "print(cidade) # Saída: São Paulo"
   ]
  },
  {
   "attachments": {},
   "cell_type": "markdown",
   "metadata": {},
   "source": [
    "Em resumo, `empacotar` e `desempacotar` variáveis permite trabalhar com várias variáveis como se fossem uma única estrutura de dados, e depois separá-las novamente para uso individual.\n",
    "\n",
    "Isso é feito usando a notação de vírgula `,` para empacotar as variáveis e a notação de atribuição múltipla `*` para desempacotar as variáveis. Também é possível usar o comando `*` para desempacotar somente algumas das variáveis e desempacotar variáveis dentro de uma lista ou dicionário. Isso é útil quando precisamos lidar com conjuntos de dados que são relacionados entre si, mas precisam ser tratados de forma individual em diferentes partes do código."
   ]
  },
  {
   "attachments": {},
   "cell_type": "markdown",
   "metadata": {},
   "source": [
    "#### 1.2.4.2. Empacotando e Desempacotando nas Funções"
   ]
  },
  {
   "attachments": {},
   "cell_type": "markdown",
   "metadata": {},
   "source": [
    "É possível usar `empacotamento` e `desempacotamento` de variáveis com funções também. Isso pode ser feito passando uma tupla ou lista como argumento para uma função e, dentro da função, `desempacotando` esses argumentos para serem usados individualmente."
   ]
  },
  {
   "attachments": {},
   "cell_type": "markdown",
   "metadata": {},
   "source": [
    "Por exemplo, a seguinte função calcula o produto escalar de dois vetores :"
   ]
  },
  {
   "cell_type": "code",
   "execution_count": null,
   "metadata": {},
   "outputs": [],
   "source": [
    "def produto_escalar(vetor1, vetor2):\n",
    "    escalar = 0\n",
    "    for x, y in zip(vetor1, vetor2):\n",
    "        escalar += x * y\n",
    "    return escalar\n",
    "\n",
    "vetor1 = (1, 2, 3)\n",
    "vetor2 = (4, 5, 6)\n",
    "resultado = produto_escalar(vetor1, vetor2)\n",
    "print(resultado) # Saída: 32"
   ]
  },
  {
   "attachments": {},
   "cell_type": "markdown",
   "metadata": {},
   "source": [
    "aqui, a função `produto_escalar` recebe dois argumentos, `vetor1` e `vetor2`, que são tuplas. Dentro da função, essas tuplas são `desempacotadas` usando o comando `zip`, e os valores são usados para calcular o produto escalar."
   ]
  },
  {
   "attachments": {},
   "cell_type": "markdown",
   "metadata": {},
   "source": [
    "Além disso, é possível usar `empacotamento` e `desempacotamento` de argumentos com a notação de `*` e `**`. Por exemplo, a seguinte função soma todos os argumentos passados para ela :"
   ]
  },
  {
   "cell_type": "code",
   "execution_count": null,
   "metadata": {},
   "outputs": [],
   "source": [
    "def soma_argumentos(*args):\n",
    "    soma = 0\n",
    "    for i in args:\n",
    "        soma += i\n",
    "    return soma\n",
    "\n",
    "resultado = soma_argumentos(1, 2, 3, 4, 5)\n",
    "print(resultado) # Saída: 15"
   ]
  },
  {
   "attachments": {},
   "cell_type": "markdown",
   "metadata": {},
   "source": [
    "aqui, a função `soma_argumentos` recebe um número variável de argumentos usando a notação *, que `empacota` esses argumentos em uma tupla chamada `args`. Dentro da função, os argumentos são `desempacotados` e usados para calcular a soma."
   ]
  },
  {
   "attachments": {},
   "cell_type": "markdown",
   "metadata": {},
   "source": [
    "Da mesma forma, é possível usar `**` para passar argumentos de palavra-chave como um dicionário :"
   ]
  },
  {
   "cell_type": "code",
   "execution_count": null,
   "metadata": {},
   "outputs": [],
   "source": [
    "def imprime_argumentos(**kwargs):\n",
    "    for key, value in kwargs.items():\n",
    "        print(f\"{key}: {value}\")\n",
    "\n",
    "imprime_argumentos(nome=\"João\", idade=24, cidade=\"São Paulo\")\n",
    "# Saída: \n",
    "# nome: João\n",
    "# idade: 24\n",
    "# cidade: São Paulo"
   ]
  },
  {
   "attachments": {},
   "cell_type": "markdown",
   "metadata": {},
   "source": [
    "Neste caso, a função `imprime_argumentos` recebe um número variável de argumentos de palavra-chave usando a notação `**`, que `empacota` esses argumentos em um dicionário chamado `kwargs`. Dentro da função, os argumentos são `desempacotados` e usados para imprimir cada par chave-valor."
   ]
  },
  {
   "attachments": {},
   "cell_type": "markdown",
   "metadata": {},
   "source": [
    "Também é possível combinar `empacotamento` e `desempacotamento` de variáveis com palavra-chave e sem palavra-chave ao passar argumentos para uma função. Por exemplo :"
   ]
  },
  {
   "cell_type": "code",
   "execution_count": null,
   "metadata": {},
   "outputs": [],
   "source": [
    "def calcula_imc(peso, altura, **kwargs):\n",
    "    imc = peso / (altura ** 2)\n",
    "    if \"mostra_mensagem\" in kwargs:\n",
    "        if imc < 18.5:\n",
    "            print(\"Abaixo do peso\")\n",
    "        elif imc < 25:\n",
    "            print(\"Peso normal\")\n",
    "        else:\n",
    "            print(\"Sobrepeso\")\n",
    "    return imc\n",
    "\n",
    "resultado = calcula_imc(75, 1.75, mostra_mensagem=True)\n",
    "print(resultado) # Saída: 24.49\n",
    "# Saída adicional: \"Peso normal\"\n",
    "\n",
    "resultado = calcula_imc(75, 1.75)\n",
    "print(resultado) # Saída: 24.49\n",
    "# Saída adicional: não há"
   ]
  },
  {
   "attachments": {},
   "cell_type": "markdown",
   "metadata": {},
   "source": [
    "Neste caso, os argumentos `peso` e `altura` são passados sem palavra-chave e `mostra_mensagem` é passado com palavra-chave. Dentro da função, os argumentos são usados para calcular o índice de massa corporal (IMC) e, se `mostra_mensagem` for verdadeiro, uma mensagem é impressa de acordo com o valor do IMC.\n",
    "\n",
    "Se nenhuma palavra-chave for passada, então o argumento `**kwargs` é ignorado."
   ]
  },
  {
   "attachments": {},
   "cell_type": "markdown",
   "metadata": {},
   "source": [
    "É possível usar argumentos, `*args` e `**kwargs` juntos em uma função, desde que sejam usados na ordem correta, ou seja, argumentos normais, `*args` e `**kwargs`.\n",
    "\n",
    "Por exemplo :"
   ]
  },
  {
   "cell_type": "code",
   "execution_count": null,
   "metadata": {},
   "outputs": [],
   "source": [
    "def funcao_exemplo(a, b, *args, **kwargs):\n",
    "    print(a)\n",
    "    print(b)\n",
    "    print(args)\n",
    "    print(kwargs)\n",
    "\n",
    "funcao_exemplo(1, 2, 3, 4, 5, nome=\"João\", idade=24, cidade=\"São Paulo\")\n",
    "# Saída:\n",
    "# 1\n",
    "# 2\n",
    "# (3, 4, 5)\n",
    "# {'nome': 'João', 'idade': 24, 'cidade': 'São Paulo'}"
   ]
  },
  {
   "attachments": {},
   "cell_type": "markdown",
   "metadata": {},
   "source": [
    "Neste exemplo, a função `funcao_exemplo` tem dois argumentos normais, `a` e `b`, seguidos por `*args` e `**kwargs`. Os argumentos normais são usados para imprimir os valores de `a` e `b`, `*args` é usado para imprimir os argumentos extras em forma de tupla e `**kwargs` é usado para imprimir os argumentos de palavra-chave em forma de dicionário."
   ]
  },
  {
   "attachments": {},
   "cell_type": "markdown",
   "metadata": {},
   "source": [
    "Em resumo, é possível usar `argumentos`, `*args` e `**kwargs` juntos em uma função em Python para passar um número variável de argumentos para ela. Os argumentos normais são usados para argumentos específicos, `*args` é usado para argumentos extras sem nome e `**kwargs` é usado para argumentos de palavra-chave. Isso permite trabalhar com conjuntos de dados relacionados de forma mais flexível dentro de funções."
   ]
  },
  {
   "attachments": {},
   "cell_type": "markdown",
   "metadata": {},
   "source": [
    "Aqui estão alguns exemplos adicionais de como usar argumentos, *args e **kwargs juntos em uma função :"
   ]
  },
  {
   "cell_type": "code",
   "execution_count": null,
   "metadata": {},
   "outputs": [],
   "source": [
    "# Exemplo 1 : Função que calcula a média de uma lista de números\n",
    "def calcula_media(nome, *args, **kwargs):\n",
    "    media = sum(args) / len(args)\n",
    "    if \"formato\" in kwargs:\n",
    "        formato = kwargs[\"formato\"]\n",
    "        if formato == \"int\":\n",
    "            media = int(media)\n",
    "    print(f\"Média de {nome}: {media}\")\n",
    "\n",
    "calcula_media(\"Notas\", 10, 9, 8, 7, formato=\"int\")\n",
    "# Saída: Média de Notas: 8"
   ]
  },
  {
   "attachments": {},
   "cell_type": "markdown",
   "metadata": {},
   "source": [
    "Neste exemplo, a função `calcula_media` tem um argumento `nome` seguido por `*args` e `**kwargs`, os argumentos sem nome são usados para calcular a média dos números passados e o argumento de palavra-chave `formato` é usado para determinar se a média deve ser arredondada para um inteiro."
   ]
  },
  {
   "cell_type": "code",
   "execution_count": null,
   "metadata": {},
   "outputs": [],
   "source": [
    "# Exemplo 2 : Função que imprime os argumentos passados\n",
    "def imprime_argumentos(a, b, *args, nome, idade, **kwargs):\n",
    "    print(a)\n",
    "    print(b)\n",
    "    print(args)\n",
    "    print(nome)\n",
    "    print(idade)\n",
    "    print(kwargs)\n",
    "\n",
    "imprime_argumentos(1, 2, 3, 4, 5, nome=\"João\", idade=24, cidade=\"São Paulo\", pais=\"Brasil\")\n",
    "# Saída:\n",
    "# 1\n",
    "# 2\n",
    "# (3, 4, 5)\n",
    "# João\n",
    "# 24\n",
    "# {'cidade': 'São Paulo', 'pais': 'Brasil'}"
   ]
  },
  {
   "attachments": {},
   "cell_type": "markdown",
   "metadata": {},
   "source": [
    "A função `imprime_argumentos` tem dois argumentos normais, `a` e `b`, seguidos por `*args` e `**kwargs`, os argumentos sem nome são usados para imprimir os argumentos extras, os argumentos de palavra-chave `nome` e `idade` são usados para imprimir os valores respectivos e os argumentos de palavra-chave restantes são usados para imprimir um dicionário."
   ]
  },
  {
   "attachments": {},
   "cell_type": "markdown",
   "metadata": {},
   "source": [
    "Em resumo, usar `empacotamento` e `desempacotamento` de variáveis com palavra-chave permite passar argumentos para uma função ou atribuir valores a variáveis usando nomes de variáveis explícitos, em vez de depender da ordem dos argumentos. Isso é feito usando a notação de um asteristo `*` para `empacotar` e `desempacotar` variáveis sem palavra-chave e dois asteriscos `**` para `empacotar` e `desempacotar` variáveis com palavra-chave."
   ]
  },
  {
   "attachments": {},
   "cell_type": "markdown",
   "metadata": {},
   "source": [
    "## 1.3. Retornando Valores"
   ]
  },
  {
   "attachments": {},
   "cell_type": "markdown",
   "metadata": {},
   "source": [
    "### 1.3.1. Básico"
   ]
  },
  {
   "attachments": {},
   "cell_type": "markdown",
   "metadata": {},
   "source": [
    "O comando `return` em uma função em Python é usado para retornar um ou mais valores ou expressões para o local onde a função foi chamada. Quando uma função é chamada e chega a um comando `return`, a execução da função é interrompida e o controle é retornado ao chamador.\n",
    "\n",
    "Por exemplo, a seguinte função calcula a soma de dois números :"
   ]
  },
  {
   "cell_type": "code",
   "execution_count": null,
   "metadata": {},
   "outputs": [],
   "source": [
    "def soma(x, y):\n",
    "    valor = x + y\n",
    "    return valor\n",
    "\n",
    "resultado = soma(5, 42)\n",
    "print(resultado)"
   ]
  },
  {
   "attachments": {},
   "cell_type": "markdown",
   "metadata": {},
   "source": [
    "Aqui, a função `soma` é chamada com os argumentos 5 e 42. O código dentro da função calcula a soma de 5 e 42 e retorna o valor para a chamada da função."
   ]
  },
  {
   "attachments": {},
   "cell_type": "markdown",
   "metadata": {},
   "source": [
    "Uma função pode ter vários comandos `return`, mas somente o primeiro que é encontrado é executado. Isso significa que o código após o primeiro comando `return` na função não será executado."
   ]
  },
  {
   "cell_type": "code",
   "execution_count": null,
   "metadata": {},
   "outputs": [],
   "source": [
    "def soma(x, y):\n",
    "    valor = x + y\n",
    "    return valor\n",
    "    print(\"Isso nunca será executado e impresso!\")"
   ]
  },
  {
   "attachments": {},
   "cell_type": "markdown",
   "metadata": {},
   "source": [
    "Uma função também pode retornar mais de um valor usando uma tupla, lista, dicionário, etc."
   ]
  },
  {
   "cell_type": "code",
   "execution_count": null,
   "metadata": {},
   "outputs": [],
   "source": [
    "def retorna_multiplos_valores():\n",
    "    return \"valor1\", \"valor2\", \"valor3\"\n",
    "\n",
    "val1, val2, val3 = retorna_multiplos_valores()\n",
    "print(val1) # Saída: valor1"
   ]
  },
  {
   "attachments": {},
   "cell_type": "markdown",
   "metadata": {},
   "source": [
    "Se uma função não tiver um comando `return` explicitamente, ela retornará `None` automaticamente."
   ]
  },
  {
   "cell_type": "code",
   "execution_count": null,
   "metadata": {},
   "outputs": [],
   "source": [
    "def soma(a, b):\n",
    "    print('A soma dos dois números é :', a + b)\n",
    "\n",
    "print(soma(1, 42))\n",
    "# Saída :\n",
    "# A soma dos dois números é : 43\n",
    "# None"
   ]
  },
  {
   "attachments": {},
   "cell_type": "markdown",
   "metadata": {},
   "source": [
    "Repare que a função soma é chamada diretamente dentro do `print` com os parâmetros 1 e 42, que então é calculado e mostrado o valor no `print`. Após a execução, a função `soma` retorna por padrão o `None`, que é exebido pelo `print` que chamou a função."
   ]
  },
  {
   "attachments": {},
   "cell_type": "markdown",
   "metadata": {},
   "source": [
    "Além disso, é possível retornar expressões, e não somente valores, essas expressões serão avaliadas e o resultado será retornado."
   ]
  },
  {
   "cell_type": "code",
   "execution_count": null,
   "metadata": {},
   "outputs": [],
   "source": [
    "def soma(x, y):\n",
    "    return x + y\n",
    "\n",
    "resultado = soma(5, 42)\n",
    "print(resultado)"
   ]
  },
  {
   "attachments": {},
   "cell_type": "markdown",
   "metadata": {},
   "source": [
    "O comando `return` em uma função em Python é usado para retornar um ou mais valores ou expressões para o local onde a função foi chamada. Quando uma função é chamada e chega a um comando `return`, a execução da função é interrompida e o controle é retornado ao chamador. Uma função pode ter vários comandos `return` mas somente o primeiro é executado, e uma função pode retornar mais de um valor e expressões."
   ]
  },
  {
   "attachments": {},
   "cell_type": "markdown",
   "metadata": {},
   "source": [
    "### 1.3.2. Mais Exemplos com Return"
   ]
  },
  {
   "attachments": {},
   "cell_type": "markdown",
   "metadata": {},
   "source": [
    "- Retornando o maior valor entre dois números :"
   ]
  },
  {
   "cell_type": "code",
   "execution_count": null,
   "metadata": {},
   "outputs": [],
   "source": [
    "def maior_valor(a, b):\n",
    "    if a > b:\n",
    "        return a\n",
    "    else:\n",
    "        return b\n",
    "\n",
    "resultado = maior_valor(5, 8)\n",
    "print(resultado) # Saída: 8\n",
    "resultado = maior_valor(8, 5)\n",
    "print(resultado) # Saída: 8"
   ]
  },
  {
   "attachments": {},
   "cell_type": "markdown",
   "metadata": {},
   "source": [
    "- Retornando o resultado de uma operação matemática:"
   ]
  },
  {
   "cell_type": "code",
   "execution_count": null,
   "metadata": {},
   "outputs": [],
   "source": [
    "def calcula_area_circulo(raio):\n",
    "    area = 3.14 * (raio ** 2)\n",
    "    return area\n",
    "\n",
    "resultado = calcula_area_circulo(5)\n",
    "print(resultado) # Saída: 78.5"
   ]
  },
  {
   "attachments": {},
   "cell_type": "markdown",
   "metadata": {},
   "source": [
    "- Retornando o número de ocorrências de um elemento em uma lista:"
   ]
  },
  {
   "cell_type": "code",
   "execution_count": null,
   "metadata": {},
   "outputs": [],
   "source": [
    "def conta_elemento(lista, elemento):\n",
    "    contador = 0\n",
    "    for i in lista:\n",
    "        if i == elemento:\n",
    "            contador += 1\n",
    "    return contador\n",
    "\n",
    "lista = [1, 2, 3, 4, 5, 3, 3, 6, 9, 0]\n",
    "resultado = conta_elemento(lista, 3)\n",
    "print(resultado) # Saída: 3"
   ]
  },
  {
   "attachments": {},
   "cell_type": "markdown",
   "metadata": {},
   "source": [
    "- Buscando um valor em uma lista e usando o `return` dentro de um loop :"
   ]
  },
  {
   "cell_type": "code",
   "execution_count": null,
   "metadata": {},
   "outputs": [],
   "source": [
    "def busca_numero(numeros, num_busca):\n",
    "    for num in numeros:\n",
    "        if num == num_busca:\n",
    "            return True\n",
    "    return False\n",
    "\n",
    "numeros = [1, 2, 3, 4, 5]\n",
    "resultado = busca_numero(numeros, 3)\n",
    "print(resultado) # Saída: True"
   ]
  },
  {
   "attachments": {},
   "cell_type": "markdown",
   "metadata": {},
   "source": [
    "- Retornando múltiplos valores :"
   ]
  },
  {
   "cell_type": "code",
   "execution_count": null,
   "metadata": {},
   "outputs": [],
   "source": [
    "def divide(dividendo, divisor):\n",
    "    quociente = dividendo / divisor\n",
    "    resto = dividendo % divisor\n",
    "    return quociente, resto\n",
    "\n",
    "resultado = divide(10, 3)\n",
    "print(resultado) # Saída: (3.333, 1)"
   ]
  },
  {
   "attachments": {},
   "cell_type": "markdown",
   "metadata": {},
   "source": [
    "- Retornando uma expressão :"
   ]
  },
  {
   "cell_type": "code",
   "execution_count": null,
   "metadata": {},
   "outputs": [],
   "source": [
    "def calcula_imc(peso, altura):\n",
    "    return peso / (altura ** 2)\n",
    "\n",
    "resultado = calcula_imc(75, 1.75)\n",
    "print(resultado) # Saída: 24.49"
   ]
  },
  {
   "attachments": {},
   "cell_type": "markdown",
   "metadata": {},
   "source": [
    "## 1.4. A Função dir()"
   ]
  },
  {
   "attachments": {},
   "cell_type": "markdown",
   "metadata": {},
   "source": [
    "A função `dir()` é uma função built-in do Python que retorna uma lista com os nomes dos atributos e métodos de um objeto. Ela pode ser usada para descobrir quais métodos e atributos estão disponíveis para um determinado objeto.\n",
    "\n",
    "A sintaxe para usar a função `dir()` é a seguinte :\n",
    "\n",
    "```python\n",
    "dir(objeto)\n",
    "```"
   ]
  },
  {
   "cell_type": "code",
   "execution_count": null,
   "metadata": {},
   "outputs": [],
   "source": [
    "lista = [1, 2, 3]\n",
    "print(dir(lista))"
   ]
  },
  {
   "attachments": {},
   "cell_type": "markdown",
   "metadata": {},
   "source": [
    "Isso irá imprimir uma lista com os nomes dos métodos e atributos disponíveis para objetos do tipo lista, como `append`, `insert`, `remove`, `count`, `sort`, etc."
   ]
  },
  {
   "attachments": {},
   "cell_type": "markdown",
   "metadata": {},
   "source": [
    "Se você chamar a função `dir()` sem passar nenhum objeto como argumento, ela irá retornar uma lista com os nomes de todas as variáveis, funções e outros objetos disponíveis no escopo atual."
   ]
  },
  {
   "attachments": {},
   "cell_type": "markdown",
   "metadata": {},
   "source": [
    "Além disso, é possível utilizar a função `dir()` para descobrir os métodos e atributos de uma classe ou módulo. Por exemplo, para ver os métodos disponíveis para objetos do tipo `str`, você pode usar o seguinte código :"
   ]
  },
  {
   "cell_type": "code",
   "execution_count": null,
   "metadata": {},
   "outputs": [],
   "source": [
    "print(dir(str))"
   ]
  },
  {
   "attachments": {},
   "cell_type": "markdown",
   "metadata": {},
   "source": [
    "É importante notar que a função `dir()` não mostra todos os atributos de um objeto, somente os atributos e métodos que estão disponíveis para ser acessado no escopo atual, e também atributos e métodos privados (que começam com underscore `_`) não são listados.\n",
    "\n",
    "A função `dir()` é uma ferramenta útil para descobrir quais métodos e atributos estão disponíveis para um objeto específico, e pode ser usada para explorar novos módulos ou classes e entender melhor como eles funcionam."
   ]
  },
  {
   "attachments": {},
   "cell_type": "markdown",
   "metadata": {},
   "source": [
    "Aqui estão alguns exemplos adicionais de como usar a função `dir()` :"
   ]
  },
  {
   "attachments": {},
   "cell_type": "markdown",
   "metadata": {},
   "source": [
    "- Descobrir os métodos e atributos disponíveis para um objeto `dicionario` :"
   ]
  },
  {
   "cell_type": "code",
   "execution_count": null,
   "metadata": {},
   "outputs": [],
   "source": [
    "dicionario = {\"chave\": \"valor\"}\n",
    "print(dir(dicionario))"
   ]
  },
  {
   "attachments": {},
   "cell_type": "markdown",
   "metadata": {},
   "source": [
    "- Descobrir os métodos e atributos disponíveis para uma classe personalizada :"
   ]
  },
  {
   "cell_type": "code",
   "execution_count": null,
   "metadata": {},
   "outputs": [],
   "source": [
    "class MinhaClasse:\n",
    "    def __init__(self):\n",
    "        self.atributo = \"valor\"\n",
    "    def metodo(self):\n",
    "        pass\n",
    "\n",
    "objeto = MinhaClasse()\n",
    "print(dir(objeto))"
   ]
  },
  {
   "attachments": {},
   "cell_type": "markdown",
   "metadata": {},
   "source": [
    "- Descobrir os métodos e atributos disponíveis para um módulo específico :"
   ]
  },
  {
   "cell_type": "code",
   "execution_count": null,
   "metadata": {},
   "outputs": [],
   "source": [
    "import math\n",
    "print(dir(math))"
   ]
  },
  {
   "attachments": {},
   "cell_type": "markdown",
   "metadata": {},
   "source": [
    "Vale lembrar que a função `dir()` é uma excelente ferramenta para descobrir o que você pode fazer com um objeto específico, e pode ser usada para explorar novos módulos ou classes e entender melhor como eles funcionam."
   ]
  },
  {
   "attachments": {},
   "cell_type": "markdown",
   "metadata": {},
   "source": [
    "## 1.5. Funções dentro de funções"
   ]
  },
  {
   "attachments": {},
   "cell_type": "markdown",
   "metadata": {},
   "source": [
    "As funções também podem ser aninhadas, ou seja, uma função pode ser definida dentro de outra função. Isso é útil quando uma função precisa ser usada apenas dentro de outra função e não precisa ser acessada fora dela."
   ]
  },
  {
   "cell_type": "code",
   "execution_count": null,
   "metadata": {},
   "outputs": [],
   "source": [
    "def cria_multiplicador(x):\n",
    "    def multiplica(y):\n",
    "        return x * y\n",
    "    return multiplica\n",
    "\n",
    "mult = cria_multiplicador(2)\n",
    "print(mult(3))"
   ]
  },
  {
   "attachments": {},
   "cell_type": "markdown",
   "metadata": {},
   "source": [
    "Neste exemplo, a função mais externa `cria_multiplicador` recebe o argumento `x` e retorna uma nova função `multiplica` que recebe um argumento `y` e retorna `x * y`. Cada vez que `cria_multiplicador` é chamado com um valor diferente para `x`, ela retorna uma nova função com um comportamento diferente. Esta é uma técnica poderosa para criar funções especializadaas que compoartilham funcionalidades em comum."
   ]
  },
  {
   "attachments": {},
   "cell_type": "markdown",
   "metadata": {},
   "source": [
    "É importante lembrar que as funções devem ser bem documentadas, com comentários que explicam o que elas fazem e como usá-las. Isso ajuda outras pessoas a entender e usar seu código.\n",
    "\n",
    "Em resumo, as funções são um dos principais recursos de Python, permitindo que os desenvolvedores escrevam códigos mais limpos, organizados e reutilizáveis. Elas podem ser definidas com parâmetros e retornar valores, e também podem ser usadas como funções lambda ou aninhadas."
   ]
  },
  {
   "attachments": {},
   "cell_type": "markdown",
   "metadata": {},
   "source": [
    "## 1.6. Funções lambda"
   ]
  },
  {
   "attachments": {},
   "cell_type": "markdown",
   "metadata": {},
   "source": [
    "As funções lambda são uma forma de definir funções de uma linha sem precisar dar um nome para elas. Elas são escritas usando a palavra-chave `lambda` seguida de uma lista de argumentos e uma expressão. Essa expressão é o corpo da função e é avaliada quando a função é chamada.\n",
    "\n",
    "A sintaxe geral é :\n",
    "\n",
    "```python\n",
    "lambda argumentos: expressão\n",
    "```"
   ]
  },
  {
   "attachments": {},
   "cell_type": "markdown",
   "metadata": {},
   "source": [
    "Exemplo :"
   ]
  },
  {
   "cell_type": "code",
   "execution_count": null,
   "metadata": {},
   "outputs": [],
   "source": [
    "lambda x, y: x + y"
   ]
  },
  {
   "attachments": {},
   "cell_type": "markdown",
   "metadata": {},
   "source": [
    "Neste exemplo, estamos criando uma função anônima que recebe dois argumentos, `x` e `y`, e retorna a soma deles. Essa função pode ser atribuída a uma variável, para que possa ser chamada como qualquer outra função :"
   ]
  },
  {
   "cell_type": "code",
   "execution_count": null,
   "metadata": {},
   "outputs": [],
   "source": [
    "f = lambda x, y: x + y\n",
    "print(f(1, 2)) # imprime 3"
   ]
  },
  {
   "attachments": {},
   "cell_type": "markdown",
   "metadata": {},
   "source": [
    "Outra utilidade das funções lambda é o uso como argumentos em outras funções.\n",
    "\n",
    "Por exemplo, a função `map` do Python que aplica uma função a cada elemento de uma lista pode receber uma função `lambda` como argumento :"
   ]
  },
  {
   "cell_type": "code",
   "execution_count": null,
   "metadata": {},
   "outputs": [],
   "source": [
    "numbers = [1, 2, 3, 4]\n",
    "squared_numbers = map(lambda x: x**2, numbers)\n",
    "print(list(squared_numbers)) # imprime [1, 4, 9, 16]"
   ]
  },
  {
   "attachments": {},
   "cell_type": "markdown",
   "metadata": {},
   "source": [
    "Outra função built-in como `filter` que filtra elementos de uma lista baseado em uma condição também pode receber uma função `lambda` como argumento :"
   ]
  },
  {
   "cell_type": "code",
   "execution_count": null,
   "metadata": {},
   "outputs": [],
   "source": [
    "numbers = [1, 2, 3, 4, 5, 6]\n",
    "even_numbers = filter(lambda x: x % 2 == 0, numbers)\n",
    "print(list(even_numbers)) # imprime [2, 4, 6]"
   ]
  },
  {
   "attachments": {},
   "cell_type": "markdown",
   "metadata": {},
   "source": [
    "# 2. Módulos"
   ]
  },
  {
   "attachments": {},
   "cell_type": "markdown",
   "metadata": {},
   "source": [
    "## 2.1. Básico"
   ]
  },
  {
   "attachments": {},
   "cell_type": "markdown",
   "metadata": {},
   "source": [
    "O Python tem uma forma de colocar definições em um arquivo e usar eles em um script ou em um shell. Esse arquivo é chamado de `módulo`. As definições do módulo podem ser **importados** em outros módulos ou no nosso script.\n",
    "\n",
    "Um módulo é um arquivo contendo definições e declarações. O nome do arquivo é o nome do módulo com o suffixo `.py`. Dentro do módulo, o nome do módulo (como uma string) é uma variável como um valor da variável global `__name__`."
   ]
  },
  {
   "attachments": {},
   "cell_type": "markdown",
   "metadata": {},
   "source": [
    "Veja o arquivo `fibonacci.py` para o código da sequência de Fibonacci."
   ]
  },
  {
   "cell_type": "code",
   "execution_count": null,
   "metadata": {},
   "outputs": [],
   "source": [
    "import fibonacci"
   ]
  },
  {
   "attachments": {},
   "cell_type": "markdown",
   "metadata": {},
   "source": [
    "Isto não adiciona os nomes das funções definidas em `fibonacci` diretamente ao [namespace](https://docs.python.org/3/glossary.html#term-namespace) atual, somente adiciona o módulo `fibonacci` lá. Usando o nome do módulo você pdoe acessar as funções."
   ]
  },
  {
   "attachments": {},
   "cell_type": "markdown",
   "metadata": {},
   "source": [
    "`namspaces` : é o local onde a variável é armazenada. Namespaces são implementadas como dicionários. Há os namespaces **local**, **global** e **built-in** assim como namespaces em **objetos** (nos métodos).\n",
    "\n",
    "Namespaces suportam modularidade ao previnir os conflitos de nomes.<br>\n",
    "Por exemplo : as funções [builtins.open](https://docs.python.org/3/library/functions.html#open) e [os.open()](https://docs.python.org/3/library/os.html#os.open) são distinguíveis pelos seus namespaces.\n",
    "\n",
    "Namespaces também ajudam na legibilidade e manutenção ao deixar claro qual módulo implementa a função.<br>\n",
    "Por exemplo : escrever [random.seed()](https://docs.python.org/3/library/random.html#random.seed) ou [itertools.islice()](https://docs.python.org/3/library/itertools.html#itertools.islice) deixa claro que estas funções são implementadas pelos módulos [random](https://docs.python.org/3/library/random.html#module-random) e [itertools](https://docs.python.org/3/library/itertools.html#module-itertools), respectivamente."
   ]
  },
  {
   "cell_type": "code",
   "execution_count": null,
   "metadata": {},
   "outputs": [],
   "source": [
    "import fibonacci\n",
    "\n",
    "fibonacci.fib(1000)\n",
    "print(fibonacci.fib2(100))\n",
    "print(fibonacci.__name__)"
   ]
  },
  {
   "attachments": {},
   "cell_type": "markdown",
   "metadata": {},
   "source": [
    "Se você pretende usar uma função mais seguida, você pode associar ela a uma variável local."
   ]
  },
  {
   "cell_type": "code",
   "execution_count": null,
   "metadata": {},
   "outputs": [],
   "source": [
    "import fibonacci\n",
    "\n",
    "fibo = fibonacci.fib\n",
    "fibo(500)"
   ]
  },
  {
   "attachments": {},
   "cell_type": "markdown",
   "metadata": {},
   "source": [
    "## 2.2. Mais com módulos"
   ]
  },
  {
   "attachments": {},
   "cell_type": "markdown",
   "metadata": {},
   "source": [
    "### 2.2.1. Básico"
   ]
  },
  {
   "attachments": {},
   "cell_type": "markdown",
   "metadata": {},
   "source": [
    "Um módulo pode conter declarações executáveis assim como definições de funções. Estas declarações são usados para inicializar o módulo. Elas são executadas **apenas** na primeira vez que o nome do módulo é encontrado em uma declaração **import**.\n",
    "\n",
    "Cada módulo tem seu próprio namespace particular, que é usado como um namespace global por todas as funções definidas no módulo. Assim, o autor de um módulo pode usar variáveis globais no módulo sem se preocupar sobre com colisões acidentais com as variáveis globais do usuário. Por outro lado, se você sabe o que você está fazendo, você usar as variáveis globais do módulo com a mesma notação usada para se referir às funções, `modulo_nome.item_nome`.\n",
    "\n",
    "Módulos podem importar outros módulos. É comum, mas não obrigatório, colocar todos os [import](https://docs.python.org/3/reference/simple_stmts.html#import) no começo do módulo. Os nomes importados pelo módulo, se colocados no nível mais alto do módulo (fora de funções ou classes), são adicionados para o namespace global do módulo."
   ]
  },
  {
   "attachments": {},
   "cell_type": "markdown",
   "metadata": {},
   "source": [
    "Há uma variação do `import` que importa nomes de um módulo diretamente no namespace do módulo que está importando."
   ]
  },
  {
   "cell_type": "code",
   "execution_count": null,
   "metadata": {},
   "outputs": [],
   "source": [
    "from fibonacci import fib\n",
    "fib(500)"
   ]
  },
  {
   "attachments": {},
   "cell_type": "markdown",
   "metadata": {},
   "source": [
    "Isso não trás o nome do módulo do qual é importado ao namespace local (então, no código acima, `fibonacci` não é definida)."
   ]
  },
  {
   "attachments": {},
   "cell_type": "markdown",
   "metadata": {},
   "source": [
    "Há ainda uma variação que importa todos os nomes que o módulo define."
   ]
  },
  {
   "cell_type": "code",
   "execution_count": null,
   "metadata": {},
   "outputs": [],
   "source": [
    "from fibonacci import *\n",
    "fib(500)"
   ]
  },
  {
   "attachments": {},
   "cell_type": "markdown",
   "metadata": {},
   "source": [
    "Isso importa todos os nomes do módulo, exceto aqueles que começam com o sublinhado `_`. Na maioria dos casos, os programadores Python não usam essa funcionalidade, já que ela traz um conjunto de nomes para o interpretador, possivelmente ocultando algumas coisas que você já definiu.\n",
    "\n",
    "Veja que, em geral, a prática de importar com `*` de um módulo ou pacote não é aprovado, já que isso deixa o código ruim de entender. Contudo, é ok usar em sessões interativas (usar no shell)."
   ]
  },
  {
   "attachments": {},
   "cell_type": "markdown",
   "metadata": {},
   "source": [
    "Se um módulo é seguido de `as`, então o nome seguido do `as` é referenciado diretamente ao módulo importado."
   ]
  },
  {
   "cell_type": "code",
   "execution_count": null,
   "metadata": {},
   "outputs": [],
   "source": [
    "import fibonacci as fibo\n",
    "fibo.fib(500)"
   ]
  },
  {
   "attachments": {},
   "cell_type": "markdown",
   "metadata": {},
   "source": [
    "Isso vai importar o módulo da mesma maneira que `import fibonacci` faz, com a única diferença de que o módulo estará disponível como `fibo`."
   ]
  },
  {
   "attachments": {},
   "cell_type": "markdown",
   "metadata": {},
   "source": [
    "É também possível ser usado utilizando o `from` com efeitos similares."
   ]
  },
  {
   "cell_type": "code",
   "execution_count": null,
   "metadata": {},
   "outputs": [],
   "source": [
    "from fibonacci import fib as fibon\n",
    "fibon(500)"
   ]
  },
  {
   "attachments": {},
   "cell_type": "markdown",
   "metadata": {},
   "source": [
    "`NOTA` : por rações de eficiência, cada módulo é importado apenas uma vez por sessão do interpretador. Contudo, se você mudar seus módulos, você deve reiniciar o interpretador - ou, se é apenas um móduloque você quer testar interativamente, use [importlib.reload()](https://docs.python.org/3/library/importlib.html#importlib.reload), que vai reimportar um módulo previamente carregado."
   ]
  },
  {
   "cell_type": "code",
   "execution_count": null,
   "metadata": {},
   "outputs": [],
   "source": [
    "import importlib\n",
    "import fibonacci\n",
    "\n",
    "fibonacci.fib(500)\n",
    "importlib.reload(fibonacci)\n",
    "fibonacci.fib(500)"
   ]
  },
  {
   "attachments": {},
   "cell_type": "markdown",
   "metadata": {},
   "source": [
    "### 2.2.2. Executando Módulos como Scripts"
   ]
  },
  {
   "attachments": {},
   "cell_type": "markdown",
   "metadata": {},
   "source": [
    "Quando você executa um módulo Python com :\n",
    "\n",
    "`C:\\python>python fibonacci.py <argumentos`\n",
    "\n",
    "o código do módulo será executado, como se você tivesse importado ele, mas com o `__name__` definido como `\"__main__\"`. Que quer dizer que ao adicionar o seguinte código ao final do módulo :"
   ]
  },
  {
   "cell_type": "code",
   "execution_count": null,
   "metadata": {},
   "outputs": [],
   "source": [
    "if __name__ == '__main__':\n",
    "    import sys\n",
    "    fib(int(sys.argv[1]))"
   ]
  },
  {
   "attachments": {},
   "cell_type": "markdown",
   "metadata": {},
   "source": [
    "você pode tornar o arquivo um script utilizável assim como o módulo que o importou, porque o código analisa a linha de comando e só executa se o módulo é executado como o arquivo `main`.\n",
    "\n",
    "Tente executar o comando abaixo diretamente no **Prompt de Comando** :<br>\n",
    "`C:\\python>python arquivo.py 50`"
   ]
  },
  {
   "attachments": {},
   "cell_type": "markdown",
   "metadata": {},
   "source": [
    "Se o módulo é importado, o código não é executado."
   ]
  },
  {
   "cell_type": "code",
   "execution_count": null,
   "metadata": {},
   "outputs": [],
   "source": [
    "import fibonacci"
   ]
  },
  {
   "attachments": {},
   "cell_type": "markdown",
   "metadata": {},
   "source": [
    "Isso é geralmente usado tanto para disponibilizar uma forma conveniente de se ter uma interface com o módulo, tanto para testar (executar o módulo como um script executável com casos de teste)."
   ]
  },
  {
   "attachments": {},
   "cell_type": "markdown",
   "metadata": {},
   "source": [
    "### 2.2.3. O Caminho de Busca do Módulo"
   ]
  },
  {
   "attachments": {},
   "cell_type": "markdown",
   "metadata": {},
   "source": [
    "Quando o módulo chamado `spam` é importado, o interpretador primeiro busca por um módulo **built-in** com aquele nome. Estes nomes dos módulos são listados em [sys.builtin_module_names](https://docs.python.org/3/library/sys.html#sys.builtin_module_names)."
   ]
  },
  {
   "cell_type": "code",
   "execution_count": null,
   "metadata": {},
   "outputs": [],
   "source": [
    "import sys\n",
    "\n",
    "print(sys.builtin_module_names)"
   ]
  },
  {
   "attachments": {},
   "cell_type": "markdown",
   "metadata": {},
   "source": [
    "Se não for encontrado, o interpretador buscará por um arquivo chamado `spam.py` em uma lista de pastas dados pela variável [sys.path](https://docs.python.org/3/library/sys.html#sys.path)."
   ]
  },
  {
   "cell_type": "code",
   "execution_count": null,
   "metadata": {},
   "outputs": [],
   "source": [
    "import sys\n",
    "\n",
    "print(sys.path)"
   ]
  },
  {
   "attachments": {},
   "cell_type": "markdown",
   "metadata": {},
   "source": [
    "`sys.path` é inicializada destas localizações :\n",
    "\n",
    "- a pasta contendo o script de entrada (ou a pasta atual quando nenhum arquivo é especificado);\n",
    "- [PYTHONPATH](https://docs.python.org/3/using/cmdline.html#envvar-PYTHONPATH) (uma lista de nomes de pastas, com a mesma sintaxe as da variável `PATH` no shell);\n",
    "- a dependência padrão da instalação (por convenção inclui a pasta `site-package`, gerenciado pelo módulo [site](https://docs.python.org/3/library/site.html#module-site))\n",
    "\n",
    "Mais detalhes em [A inicialização do módulo sys.path](https://docs.python.org/3/library/sys_path_init.html#sys-path-init)."
   ]
  },
  {
   "attachments": {},
   "cell_type": "markdown",
   "metadata": {},
   "source": [
    "#### 2.2.1. sys.path"
   ]
  },
  {
   "attachments": {},
   "cell_type": "markdown",
   "metadata": {},
   "source": [
    "**Retorna** uma lista de strings que especifica a busca pelo caminho dos módulos. Inicializado da variável de ambiente [PYTHONPATH](https://docs.python.org/3/using/cmdline.html#envvar-PYTHONPATH), mais a instalação padrão.\n",
    "\n",
    "Por padrão, é inicializada quando o programa inicializa, um caminho potencialmente não seguro é anexada ao [sys.path](https://docs.python.org/3/library/sys.html#sys.path) (antes das entradas inseridas como resultado do PYTHONPATH).\n",
    "\n",
    "- `python -m modulo` : precede a pasta atual de trabalho;\n",
    "- `python script.py` : precede a pasta do script. Se o link é simbólico, determina os links simbólicos;\n",
    "- `python -c code` e `python` : precede uma string vazia, que significa a pasta de trabalho atual;"
   ]
  },
  {
   "attachments": {},
   "cell_type": "markdown",
   "metadata": {},
   "source": [
    "### 2.2.4. Arquivos Python \"Compilados\""
   ]
  },
  {
   "attachments": {},
   "cell_type": "markdown",
   "metadata": {},
   "source": [
    "## 2.3. Módulos Padrão"
   ]
  },
  {
   "attachments": {},
   "cell_type": "markdown",
   "metadata": {},
   "source": [
    "### 2.3.1. Básico"
   ]
  },
  {
   "attachments": {},
   "cell_type": "markdown",
   "metadata": {},
   "source": [
    "O Python vem com uma biblioteca de módulos padrão, descritos em um documento separado, chamado de `Python Library Reference`. Alguns módulos são **built-in** do interpretador; estes módulos fornecem acesso à operações que não são parte do centro da linguagem, mas são **built-in**, seja por eficiência ou por prover acesso a operações de sistema primitivas, como chamadas de sistema. O conjunto de tais módulos é uma opção de configuração que também depende da plataforma que está sendo executado. Por exemplo, o módulo [winreg](https://docs.python.org/3/library/winreg.html#module-winreg) só existe em sistemas Windows."
   ]
  },
  {
   "attachments": {},
   "cell_type": "markdown",
   "metadata": {},
   "source": [
    "Um módulo em particular merece atenção : [sys](https://docs.python.org/3/library/sys.html#module-sys), que é **built-in** em todos os interpretadores Python. As variáveis `sys.ps1` e `sys.ps2` definem as strings usadas como primárias e secundárias."
   ]
  },
  {
   "cell_type": "code",
   "execution_count": null,
   "metadata": {},
   "outputs": [],
   "source": [
    "import sys\n",
    "\n",
    "print(sys.ps1)\n",
    "print(sys.ps2)"
   ]
  },
  {
   "attachments": {},
   "cell_type": "markdown",
   "metadata": {},
   "source": [
    "Estas duas variáveis são definidar se o interpretador estiver em modo interativo."
   ]
  },
  {
   "attachments": {},
   "cell_type": "markdown",
   "metadata": {},
   "source": [
    "A variável `sys.path` é uma lista de strings que determinam o caminho de busca por módulos do interpretador. É inicializada para um caminho padrão pego da variável de ambiente [PYTHONPATH](https://docs.python.org/3/using/cmdline.html#envvar-PYTHONPATH). Você pode modificar elas usando operações de listas :"
   ]
  },
  {
   "cell_type": "code",
   "execution_count": null,
   "metadata": {},
   "outputs": [],
   "source": [
    "import sys\n",
    "print(sys.path)\n",
    "sys.path.append('/um/caminho/python')\n",
    "print(sys.path)"
   ]
  },
  {
   "attachments": {},
   "cell_type": "markdown",
   "metadata": {},
   "source": [
    "### 2.3.2. Módulo os"
   ]
  },
  {
   "attachments": {},
   "cell_type": "markdown",
   "metadata": {},
   "source": [
    "Este módulo fornece uma maneira simples de usar funcionalidades que são dependentes de sistema operacional."
   ]
  },
  {
   "cell_type": "code",
   "execution_count": null,
   "metadata": {},
   "outputs": [],
   "source": [
    "import os\n",
    "\n",
    "print(__file__)\n",
    "print(os.path.basename(__file__))\n",
    "print(os.path.dirname(__file__))\n",
    "print(os.path.abspath(__file__))"
   ]
  },
  {
   "attachments": {},
   "cell_type": "markdown",
   "metadata": {},
   "source": [
    "Lista todos os arquivos e pastas na pasta atual."
   ]
  },
  {
   "cell_type": "code",
   "execution_count": null,
   "metadata": {},
   "outputs": [],
   "source": [
    "import os\n",
    "\n",
    "caminho = '.'\n",
    "items = os.listdir(caminho)\n",
    "\n",
    "for item in items:\n",
    "    print(item)"
   ]
  },
  {
   "attachments": {},
   "cell_type": "markdown",
   "metadata": {},
   "source": [
    "Verifica o que é pasta e o que é arquivo."
   ]
  },
  {
   "cell_type": "code",
   "execution_count": null,
   "metadata": {},
   "outputs": [],
   "source": [
    "import os\n",
    "\n",
    "caminho = '.'\n",
    "for i in os.listdir(caminho):\n",
    "    if os.path.isdir(i):\n",
    "        print(f'Sou uma pasta {i = }')\n",
    "    elif os.path.isfile(i):\n",
    "        print(f'Sou um arquivo {i = }')"
   ]
  },
  {
   "attachments": {},
   "cell_type": "markdown",
   "metadata": {},
   "source": [
    "Verifica se uma pasta ou arquivo existe."
   ]
  },
  {
   "cell_type": "code",
   "execution_count": null,
   "metadata": {},
   "outputs": [],
   "source": [
    "import os\n",
    "\n",
    "if os.path.exists('teste.txt'):\n",
    "    print(f'A pasta / arquivo existe.')\n",
    "else:\n",
    "    print(f'A pasta / arquivo não existe.')"
   ]
  },
  {
   "attachments": {},
   "cell_type": "markdown",
   "metadata": {},
   "source": [
    "Links :\n",
    "- https://docs.python.org/pt-br/3/library/os.html"
   ]
  },
  {
   "attachments": {},
   "cell_type": "markdown",
   "metadata": {},
   "source": [
    "### 2.3.3. Módulo time"
   ]
  },
  {
   "attachments": {},
   "cell_type": "markdown",
   "metadata": {},
   "source": [
    "Esse módulo provê várias funções relacionadas ao tempo.<br>\n",
    "Apesar desse módulo sempre estar disponível, nem todas as suas funções estão disponíveis em todas as plataformas. A maioria das funções definidas nesse módulo chamam funções da biblioteca da plataforma de C com mesmo nome."
   ]
  },
  {
   "attachments": {},
   "cell_type": "markdown",
   "metadata": {},
   "source": [
    "A seguir, uma explicação de algumas terminologias e convenções :\n",
    "- O `epoch` ([mais aqui](https://pt.wikipedia.org/wiki/Era_Unix)) é o ponto onde o tempo começa, no retorno do valor de `time.gmtime(0)`. A data é 01 de Janeiro de 1970, 00:00:00 (UTC) em todas as plataformas;\n",
    "- UTC é Coordinated Universal Time (antigamente conhecido como Greenwich Mean Time ou GMT). O acrônimo UTC não é um erro, mas um acordo entre inglês e francês;\n",
    "- A função [strptime()](https://docs.python.org/pt-br/3/library/time.html#time.strptime) pode analisar anos de 2 dígitos quando é passado o código de formato %y. Quando anos de 2 dígitos são analisados, eles são convertidos de acordo com os padrões POSIX e ISO C: valores 69–99 são mapeados para 1969–1999, e valores 0–68 são mapeados para 2000–2068."
   ]
  },
  {
   "attachments": {},
   "cell_type": "markdown",
   "metadata": {},
   "source": [
    "Recuperando o `epoch`."
   ]
  },
  {
   "cell_type": "code",
   "execution_count": null,
   "metadata": {},
   "outputs": [],
   "source": [
    "import time\n",
    "\n",
    "print(time.gmtime(0))"
   ]
  },
  {
   "attachments": {},
   "cell_type": "markdown",
   "metadata": {},
   "source": [
    "Segundos atuais desde o `epoch`."
   ]
  },
  {
   "cell_type": "code",
   "execution_count": null,
   "metadata": {},
   "outputs": [],
   "source": [
    "import time\n",
    "\n",
    "atual = time.time()\n",
    "print(f'Segundos desde o epoch {atual}')"
   ]
  },
  {
   "attachments": {},
   "cell_type": "markdown",
   "metadata": {},
   "source": [
    "Atrasando o tempo de execução."
   ]
  },
  {
   "cell_type": "code",
   "execution_count": null,
   "metadata": {},
   "outputs": [],
   "source": [
    "import time\n",
    "\n",
    "for i in range(5):\n",
    "    time.sleep(1)\n",
    "    print(i)"
   ]
  },
  {
   "attachments": {},
   "cell_type": "markdown",
   "metadata": {},
   "source": [
    "Mostrando o tempo formatado."
   ]
  },
  {
   "cell_type": "code",
   "execution_count": null,
   "metadata": {},
   "outputs": [],
   "source": [
    "import time\n",
    "\n",
    "agora = time.strftime(\"%a, %d %b %Y %H:%M:%S\", time.gmtime())\n",
    "print(agora)"
   ]
  },
  {
   "attachments": {},
   "cell_type": "markdown",
   "metadata": {},
   "source": [
    "Convertendo a formação em objeto."
   ]
  },
  {
   "cell_type": "code",
   "execution_count": null,
   "metadata": {},
   "outputs": [],
   "source": [
    "import time\n",
    "\n",
    "data = \"Tue, 01 Jan 2023 12:00:00\"\n",
    "objeto = time.strptime(data, \"%a, %d %b %Y %H:%M:%S\")\n",
    "\n",
    "print(objeto)"
   ]
  },
  {
   "attachments": {},
   "cell_type": "markdown",
   "metadata": {},
   "source": [
    "Links :\n",
    "- https://docs.python.org/pt-br/3/library/time.html"
   ]
  },
  {
   "attachments": {},
   "cell_type": "markdown",
   "metadata": {},
   "source": [
    "### 2.3.4. Módulo datetime"
   ]
  },
  {
   "attachments": {},
   "cell_type": "markdown",
   "metadata": {},
   "source": [
    "O módulo datetime fornece as classes para manipulação de datas e horas.\n",
    "\n",
    "Ainda que a aritmética de data e hora seja suportada, o foco da implementação é na extração eficiente do atributo para formatação da saída e manipulação."
   ]
  },
  {
   "cell_type": "code",
   "execution_count": null,
   "metadata": {},
   "outputs": [],
   "source": [
    "import datetime\n",
    "\n",
    "agora = datetime.datetime.now()\n",
    "print(agora)"
   ]
  },
  {
   "attachments": {},
   "cell_type": "markdown",
   "metadata": {},
   "source": [
    "Mostrando os dias, meses e anos."
   ]
  },
  {
   "cell_type": "code",
   "execution_count": null,
   "metadata": {},
   "outputs": [],
   "source": [
    "import datetime\n",
    "\n",
    "agora = datetime.datetime.now()\n",
    "print(agora)\n",
    "print(agora.day)\n",
    "print(agora.month)\n",
    "print(agora.year)"
   ]
  },
  {
   "attachments": {},
   "cell_type": "markdown",
   "metadata": {},
   "source": [
    "Pegando apenas a data com o `date`."
   ]
  },
  {
   "cell_type": "code",
   "execution_count": null,
   "metadata": {},
   "outputs": [],
   "source": [
    "from datetime import date\n",
    "\n",
    "agora = date.today()\n",
    "print(agora)\n",
    "print(agora.day)\n",
    "print(agora.month)\n",
    "print(agora.year)"
   ]
  },
  {
   "attachments": {},
   "cell_type": "markdown",
   "metadata": {},
   "source": [
    "Criando o objeto datetime."
   ]
  },
  {
   "cell_type": "code",
   "execution_count": null,
   "metadata": {},
   "outputs": [],
   "source": [
    "import datetime\n",
    "\n",
    "data = datetime.datetime(2023, 1, 23)\n",
    "print(data)"
   ]
  },
  {
   "attachments": {},
   "cell_type": "markdown",
   "metadata": {},
   "source": [
    "Formatando a data."
   ]
  },
  {
   "cell_type": "code",
   "execution_count": null,
   "metadata": {},
   "outputs": [],
   "source": [
    "from datetime import date\n",
    "\n",
    "agora = date.today()\n",
    "data_str = agora.strftime('%d/%m/%Y')\n",
    "print(data_str)"
   ]
  },
  {
   "attachments": {},
   "cell_type": "markdown",
   "metadata": {},
   "source": [
    "Pegando a data com hora."
   ]
  },
  {
   "cell_type": "code",
   "execution_count": null,
   "metadata": {},
   "outputs": [],
   "source": [
    "from datetime import date, datetime\n",
    "\n",
    "agora = date.today()\n",
    "data_str = agora.strftime('%d/%m/%Y %H:%M')\n",
    "print(data_str)\n",
    "\n",
    "agora = datetime.now()\n",
    "data_str = agora.strftime('%d/%m/%Y %H:%M')\n",
    "print(data_str)"
   ]
  },
  {
   "attachments": {},
   "cell_type": "markdown",
   "metadata": {},
   "source": [
    "Convertendo uma `string` para `datetime`."
   ]
  },
  {
   "cell_type": "code",
   "execution_count": null,
   "metadata": {},
   "outputs": [],
   "source": [
    "from datetime import datetime\n",
    "\n",
    "data_str = '01/01/2023 12:35'\n",
    "data_dt = datetime.strptime(data_str, '%d/%m/%Y %H:%M')\n",
    "print(data_dt)"
   ]
  },
  {
   "attachments": {},
   "cell_type": "markdown",
   "metadata": {},
   "source": [
    "Usando `timezone()` e `timedelta()`."
   ]
  },
  {
   "cell_type": "code",
   "execution_count": null,
   "metadata": {},
   "outputs": [],
   "source": [
    "from datetime import datetime, timedelta, timezone\n",
    "\n",
    "variacao = timedelta()\n",
    "print(variacao)\n",
    "\n",
    "variacao = timedelta(hours=-3)\n",
    "print(variacao)\n",
    "\n",
    "agora = datetime.now()\n",
    "fuso = timezone(variacao)\n",
    "print(fuso)\n",
    "\n",
    "data_hora = agora.astimezone(fuso)\n",
    "data_hora_str = data_hora.strftime('%d/%m/%Y %H:%M')\n",
    "\n",
    "print(data_hora_str)"
   ]
  },
  {
   "attachments": {},
   "cell_type": "markdown",
   "metadata": {},
   "source": [
    "Links :\n",
    "- https://docs.python.org/pt-br/3/library/datetime.html"
   ]
  },
  {
   "attachments": {},
   "cell_type": "markdown",
   "metadata": {},
   "source": [
    "### 2.3.5. Módulo random"
   ]
  },
  {
   "attachments": {},
   "cell_type": "markdown",
   "metadata": {},
   "source": [
    "O módulo implementa geradores de números pseudoaleatórios para várias distribuições.\n",
    "\n",
    "Para números inteiros, há uma seleção uniforme de um intervalo. Para sequências, há uma seleção uniforme de um elemento aleatório, uma função para gerar uma permutação aleatória de uma lista internamanete e uma função para amostragem aleatória sem substituição."
   ]
  },
  {
   "cell_type": "code",
   "execution_count": null,
   "metadata": {},
   "outputs": [],
   "source": [
    "import random\n",
    "\n",
    "for _ in range(10):\n",
    "    print(random.random())"
   ]
  },
  {
   "attachments": {},
   "cell_type": "markdown",
   "metadata": {},
   "source": [
    "Algumas vezes, queremos que o gerador de número reproduza a sequência de números criada uma vez. Isso é obtido ao prover a mesma semente ambas as vezes ao gerador, usando a função `seed(s, version)`. Se o parâmetro `s` é omitido, o gerador usará o tempo atual do sistema para gerar os números."
   ]
  },
  {
   "cell_type": "code",
   "execution_count": null,
   "metadata": {},
   "outputs": [],
   "source": [
    "import random\n",
    "\n",
    "random.seed(5)\n",
    "print(random.random())\n",
    "print(random.random())"
   ]
  },
  {
   "attachments": {},
   "cell_type": "markdown",
   "metadata": {},
   "source": [
    "Gerando inteiros aleatórios. Podemos usando `randrange(x)` para gerar números inteiros menores que `x`."
   ]
  },
  {
   "cell_type": "code",
   "execution_count": null,
   "metadata": {},
   "outputs": [],
   "source": [
    "import random\n",
    "\n",
    "for _ in range(10):\n",
    "    print(random.randrange(10), end=' ')"
   ]
  },
  {
   "attachments": {},
   "cell_type": "markdown",
   "metadata": {},
   "source": [
    "A funcionalidade do `randrange()` é parecida com a do `range()`."
   ]
  },
  {
   "cell_type": "code",
   "execution_count": null,
   "metadata": {},
   "outputs": [],
   "source": [
    "import random\n",
    "\n",
    "for _ in range(10):\n",
    "    print(random.randrange(5,10), end=' ')\n",
    "print('\\n')\n",
    "for _ in range(100):\n",
    "    print(random.randrange(5,20,3), end=' ')"
   ]
  },
  {
   "attachments": {},
   "cell_type": "markdown",
   "metadata": {},
   "source": [
    "Sequências e `random`."
   ]
  },
  {
   "cell_type": "code",
   "execution_count": null,
   "metadata": {},
   "outputs": [],
   "source": [
    "import random\n",
    "\n",
    "nomes = ['Gandalf', 'Frodo', 'Witch-king', 'Aragorn', 'Sauron', 'Bilbo']\n",
    "\n",
    "# sorteando\n",
    "for _ in range(3):\n",
    "    print(random.choice(nomes))\n",
    "\n",
    "# embaralhando\n",
    "random.shuffle(nomes)\n",
    "print(nomes)\n",
    "\n",
    "# amostras\n",
    "print(random.sample(nomes,1))\n",
    "print(random.sample(nomes,2))"
   ]
  },
  {
   "attachments": {},
   "cell_type": "markdown",
   "metadata": {},
   "source": [
    "Links : \n",
    "- https://docs.python.org/pt-br/3/library/random.html"
   ]
  },
  {
   "attachments": {},
   "cell_type": "markdown",
   "metadata": {},
   "source": [
    "### 2.3.6. Módulo json"
   ]
  },
  {
   "attachments": {},
   "cell_type": "markdown",
   "metadata": {},
   "source": [
    "JSON (JavaScript Object Notation), especificado pela [RFC 7159](https://datatracker.ietf.org/doc/html/rfc7159.html) e pelo [ECMA-404](https://www.ecma-international.org/publications-and-standards/standards/ecma-404/), é um formato leve de troca de dados inspirado pela sintaxe de objeto JavaScript (embora não seja um subconjunto estrito de JavaScript)."
   ]
  },
  {
   "attachments": {},
   "cell_type": "markdown",
   "metadata": {},
   "source": [
    "Em Python, caso tenhamos uma string JSON, nós usamos o método `json.loads()` para fazer o parse e convertermos em um dicionário para que seja mais fácil de trabalharmos com os dados."
   ]
  },
  {
   "cell_type": "code",
   "execution_count": null,
   "metadata": {},
   "outputs": [],
   "source": [
    "import json\n",
    "\n",
    "# repare que o json usa aspas duplas para seu objeto\n",
    "pessoa = '{ \"nome\":\"fulano\", \"idade\":26, \"planeta\":\"Marte\"}'\n",
    "\n",
    "pessoa_dict = json.loads(pessoa)\n",
    "\n",
    "print(type(pessoa_dict))\n",
    "print(pessoa_dict)\n",
    "print(pessoa_dict['planeta'])"
   ]
  },
  {
   "attachments": {},
   "cell_type": "markdown",
   "metadata": {},
   "source": [
    "Se quisermos, também podemos converter um objeto de Python em uma string JSON, para esta tarefa vamos usar o método `json.dumps()`."
   ]
  },
  {
   "cell_type": "code",
   "execution_count": null,
   "metadata": {},
   "outputs": [],
   "source": [
    "import json\n",
    "\n",
    "pessoa = {\n",
    "    'nome':'fulano',\n",
    "    'idade':26,\n",
    "    'planeta':'Vênus'\n",
    "}\n",
    "\n",
    "pessoa_json = json.dumps(pessoa)\n",
    "print(type(pessoa_json))\n",
    "print(pessoa_json)"
   ]
  },
  {
   "attachments": {},
   "cell_type": "markdown",
   "metadata": {},
   "source": [
    "Repare que a codificação não ficou boa. Para arrumar, devemos colocar o atributo `ensure_ascii` como `False`."
   ]
  },
  {
   "cell_type": "code",
   "execution_count": null,
   "metadata": {},
   "outputs": [],
   "source": [
    "import json\n",
    "\n",
    "pessoa = {\n",
    "    'nome':'fulano',\n",
    "    'idade':26,\n",
    "    'planeta':'Vênus'\n",
    "}\n",
    "\n",
    "pessoa_json = json.dumps(pessoa, ensure_ascii=False)\n",
    "print(type(pessoa_json))\n",
    "print(pessoa_json)"
   ]
  },
  {
   "attachments": {},
   "cell_type": "markdown",
   "metadata": {},
   "source": [
    "Usando todos os dados possíveis."
   ]
  },
  {
   "cell_type": "code",
   "execution_count": null,
   "metadata": {},
   "outputs": [],
   "source": [
    "import json\n",
    "\n",
    "mago = {\n",
    "    \"nome\": \"Gandalf\",\n",
    "    \"epiteto\": \"o Branco\",\n",
    "    \"nível\": 99,\n",
    "    \"vivo\": True,\n",
    "    \"atributos\": {\"força\": 12, \"destreza\": 26, \"inteligência\": 20},\n",
    "    \"mascotes\": (\"Scadufax\", \"Coruja\"),\n",
    "    \"residência\": None,\n",
    "    \"itens\": [\n",
    "        {\"nome\": \"poção de mana\", \"quantidade\": 5},\n",
    "        {\"nome\": \"poção de vida\", \"quantidade\": 7}\n",
    "    ]\n",
    "}\n",
    "\n",
    "print(json.dumps(mago, ensure_ascii=False))"
   ]
  },
  {
   "attachments": {},
   "cell_type": "markdown",
   "metadata": {},
   "source": [
    "Também podemos mostrar a saída dos dados formatado e ordenado."
   ]
  },
  {
   "cell_type": "code",
   "execution_count": null,
   "metadata": {},
   "outputs": [],
   "source": [
    "import json\n",
    "\n",
    "mago = {\n",
    "    \"nome\": \"Gandalf\",\n",
    "    \"epiteto\": \"o Branco\",\n",
    "    \"nível\": 99,\n",
    "    \"vivo\": True,\n",
    "    \"atributos\": {\"força\": 12, \"destreza\": 26, \"inteligência\": 20},\n",
    "    \"mascotes\": (\"Scadufax\", \"Coruja\"),\n",
    "    \"residência\": None,\n",
    "    \"itens\": [\n",
    "        {\"nome\": \"poção de mana\", \"quantidade\": 5},\n",
    "        {\"nome\": \"poção de vida\", \"quantidade\": 7}\n",
    "    ]\n",
    "}\n",
    "\n",
    "print(json.dumps(mago, ensure_ascii=False))\n",
    "print(json.dumps(mago, sort_keys=True, ensure_ascii=False))\n",
    "print(json.dumps(mago, indent=4, ensure_ascii=False))"
   ]
  },
  {
   "attachments": {},
   "cell_type": "markdown",
   "metadata": {},
   "source": [
    "Mais adiante veremos como salvar os dados `json` em um arquivo."
   ]
  },
  {
   "attachments": {},
   "cell_type": "markdown",
   "metadata": {},
   "source": [
    "Links : \n",
    "- https://docs.python.org/pt-br/3/library/json.html"
   ]
  },
  {
   "cell_type": "markdown",
   "metadata": {},
   "source": []
  },
  {
   "attachments": {},
   "cell_type": "markdown",
   "metadata": {},
   "source": [
    "## 5. Pacotes"
   ]
  },
  {
   "attachments": {},
   "cell_type": "markdown",
   "metadata": {},
   "source": [
    "a ser adicionado"
   ]
  }
 ],
 "metadata": {
  "kernelspec": {
   "display_name": ".venv",
   "language": "python",
   "name": "python3"
  },
  "language_info": {
   "codemirror_mode": {
    "name": "ipython",
    "version": 3
   },
   "file_extension": ".py",
   "mimetype": "text/x-python",
   "name": "python",
   "nbconvert_exporter": "python",
   "pygments_lexer": "ipython3",
   "version": "3.11.1"
  },
  "orig_nbformat": 4,
  "vscode": {
   "interpreter": {
    "hash": "68f6cf9ddf20b8330c35f9eb8d38bef7105e3b161f09b6b7e5f8b2d3944d5325"
   }
  }
 },
 "nbformat": 4,
 "nbformat_minor": 2
}

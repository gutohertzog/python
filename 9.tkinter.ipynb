{
 "cells": [
  {
   "attachments": {},
   "cell_type": "markdown",
   "metadata": {},
   "source": [
    "# tkinter"
   ]
  },
  {
   "attachments": {},
   "cell_type": "markdown",
   "metadata": {},
   "source": [
    "## 1. introdução"
   ]
  },
  {
   "attachments": {},
   "cell_type": "markdown",
   "metadata": {},
   "source": [
    "O pacote tkinter (`Tk interface`) é a interface padrão do Python e faz parte do kit de ferramentas Tcl/Tk GUI. Tanto o Tk quanto o tkinter estão disponíveis na maioria das plataformas Unix, incluindo macOS, bem como em sistemas Windows.\n",
    "\n",
    "Executar `python -m tkinter` na linha de comando deve abrir uma janela demonstrando uma interface Tk simples, informando que tkinter está apropriadamente instalado em seu sistema, e também mostrando qual versão do Tcl/Tk está instalado, para que você possa ler a documentação do Tcl/Tk específica para essa versão."
   ]
  },
  {
   "attachments": {},
   "cell_type": "markdown",
   "metadata": {},
   "source": [
    "Ele permite que você crie janelas, botões, menus e outros elementos de interface do usuário em seus aplicativos Python.\n",
    "\n",
    "A maneira mais comum de usar o `tkinter` é criar uma janela principal, que é uma instância da classe `Tk`. A partir daí, você pode adicionar `widgets` (como botões, caixas de texto, etc.) a essa janela principal. Cada `widget` é uma instância de uma classe específica, como `Button`, `Entry`, etc.\n",
    "\n",
    "Para criar um botão, por exemplo, você pode usar o seguinte código :"
   ]
  },
  {
   "cell_type": "code",
   "execution_count": null,
   "metadata": {},
   "outputs": [],
   "source": [
    "import tkinter as tk\n",
    "\n",
    "root = tk.Tk()\n",
    "button = tk.Button(root, text=\"Clica em Mim!\")\n",
    "button.pack()\n",
    "\n",
    "root.mainloop()"
   ]
  },
  {
   "attachments": {},
   "cell_type": "markdown",
   "metadata": {},
   "source": [
    "Neste exemplo, criamos uma janela principal chamada `root` e um botão chamado `button`. O método `pack` é usado para exibir o botão na janela principal. O método `mainloop` é usado para iniciar o loop de eventos da aplicação, permitindo que o usuário interaja com os widgets.\n",
    "\n",
    "Os widgets também podem ser organizados em gerenciadores de layout, como o `grid` ou `place`, para controlar como os widgets são posicionados na janela. Você pode definir o tamanho dos widgets, alterar as cores de fundo e frente, definir ações para eventos de clique e muito mais."
   ]
  },
  {
   "attachments": {},
   "cell_type": "markdown",
   "metadata": {},
   "source": [
    "Além disso, o `tkinter` também suporta outras funcionalidades como :\n",
    "\n",
    "- Eventos como clique do mouse, pressionamento de teclas, etc;\n",
    "- Criação de menus e barras de ferramentas;\n",
    "- Trabalhar com imagens e gráficos;\n",
    "- Criação de caixas de diálogo e janelas de mensagem;\n",
    "- Utilização de temas para personalizar a aparência dos widgets;\n",
    "\n",
    "É uma biblioteca muito completa e fácil de usar para criar interfaces gráficas de usuário com python."
   ]
  },
  {
   "attachments": {},
   "cell_type": "markdown",
   "metadata": {},
   "source": [
    "## 2. básico"
   ]
  },
  {
   "attachments": {},
   "cell_type": "markdown",
   "metadata": {},
   "source": [
    "A janela principal é uma instância da classe `Tk` e é a base da sua interface gráfica de usuário. Além de adicionar `widgets` à janela principal, você também pode personalizar vários aspectos da janela, como o `título`, `tamanho` e `ícone`."
   ]
  },
  {
   "attachments": {},
   "cell_type": "markdown",
   "metadata": {},
   "source": [
    "- para definir o título da janela, usamos o método `title` :"
   ]
  },
  {
   "cell_type": "code",
   "execution_count": null,
   "metadata": {},
   "outputs": [],
   "source": [
    "import tkinter as tk\n",
    "\n",
    "janela = tk.Tk()\n",
    "janela.title(\"Meu Programa\")\n",
    "\n",
    "janela.mainloop()"
   ]
  },
  {
   "attachments": {},
   "cell_type": "markdown",
   "metadata": {},
   "source": [
    "- para definir o tamanho da janela, usamos o método `geometry` :"
   ]
  },
  {
   "cell_type": "code",
   "execution_count": null,
   "metadata": {},
   "outputs": [],
   "source": [
    "import tkinter as tk\n",
    "\n",
    "janela = tk.Tk()\n",
    "janela.geometry('400x300')\n",
    "\n",
    "janela.mainloop()"
   ]
  },
  {
   "attachments": {},
   "cell_type": "markdown",
   "metadata": {},
   "source": [
    "- para definir o ícone da janela, usamos o método `iconbitmap` :"
   ]
  },
  {
   "cell_type": "code",
   "execution_count": null,
   "metadata": {},
   "outputs": [],
   "source": [
    "import tkinter as tk\n",
    "\n",
    "janela = tk.Tk()\n",
    "janela.iconbitmap('git.ico')\n",
    "\n",
    "janela.mainloop()"
   ]
  },
  {
   "attachments": {},
   "cell_type": "markdown",
   "metadata": {},
   "source": [
    "- para definir se uma janela pode ser redimensionada, usamos o método `resizable` :"
   ]
  },
  {
   "cell_type": "code",
   "execution_count": null,
   "metadata": {},
   "outputs": [],
   "source": [
    "import tkinter as tk\n",
    "\n",
    "janela = tk.Tk()\n",
    "janela.resizable(width=False, height=True)\n",
    "\n",
    "janela.mainloop()"
   ]
  },
  {
   "attachments": {},
   "cell_type": "markdown",
   "metadata": {},
   "source": [
    "- para definir o tamanho mínimo de uma janela, usamos o método `minsize` :"
   ]
  },
  {
   "cell_type": "code",
   "execution_count": null,
   "metadata": {},
   "outputs": [],
   "source": [
    "import tkinter as tk\n",
    "\n",
    "janela = tk.Tk()\n",
    "janela.minsize(width=400, height=250)\n",
    "\n",
    "janela.mainloop()"
   ]
  },
  {
   "attachments": {},
   "cell_type": "markdown",
   "metadata": {},
   "source": [
    "- para definir o tamanho máximo de uma janela, usamos o método `maxsize` :"
   ]
  },
  {
   "cell_type": "code",
   "execution_count": null,
   "metadata": {},
   "outputs": [],
   "source": [
    "import tkinter as tk\n",
    "\n",
    "janela = tk.Tk()\n",
    "janela.maxsize(width=500, height=750)\n",
    "\n",
    "janela.mainloop()"
   ]
  },
  {
   "attachments": {},
   "cell_type": "markdown",
   "metadata": {},
   "source": [
    "- para definir diversar opções de uma só vez, usamos o método `config` :"
   ]
  },
  {
   "cell_type": "code",
   "execution_count": null,
   "metadata": {},
   "outputs": [],
   "source": [
    "import tkinter as tk\n",
    "\n",
    "janela = tk.Tk()\n",
    "janela.config(bg='green', cursor='hand2')\n",
    "\n",
    "janela.mainloop()"
   ]
  },
  {
   "attachments": {},
   "cell_type": "markdown",
   "metadata": {},
   "source": [
    "`PS` : cada objeto do `tkinter` terá seus próprios argumentos-chave para as configurações."
   ]
  },
  {
   "attachments": {},
   "cell_type": "markdown",
   "metadata": {},
   "source": [
    "O métodos `.mainloop()` é o responsável por mostrar a janela da nossa aplicação."
   ]
  },
  {
   "cell_type": "code",
   "execution_count": null,
   "metadata": {},
   "outputs": [],
   "source": [
    "import tkinter as tk\n",
    "\n",
    "janela = tk.Tk()\n",
    "janela.config(bg='red')\n",
    "\n",
    "janela.mainloop()"
   ]
  },
  {
   "attachments": {},
   "cell_type": "markdown",
   "metadata": {},
   "source": [
    "## 3. widgets"
   ]
  },
  {
   "attachments": {},
   "cell_type": "markdown",
   "metadata": {},
   "source": [
    "Além disso, é possível adicionar diferentes tipos de widgets (como botões, labels, entradas de texto, etc.) à janela principal através de métodos como `.Button()`, `.Label()`, `.Entry()`, etc.<br>\n",
    "Cada widget tem suas próprias opções e métodos, como o texto exibido, a cor de fundo, o tamanho, etc."
   ]
  },
  {
   "attachments": {},
   "cell_type": "markdown",
   "metadata": {},
   "source": [
    "### 3.1. Button"
   ]
  },
  {
   "attachments": {},
   "cell_type": "markdown",
   "metadata": {},
   "source": [
    "A classe `Button` do Tkinter é utilizada para criar botões na interface gráfica. Esta classe é um widget do Tkinter que herda as características básicas da classe Tk e adiciona a funcionalidade de um botão.\n",
    "\n",
    "Para criar um botão, é preciso criar uma instância da classe `Button`, passando como argumento o widget pai (geralmente a janela principal) e as opções desejadas. Alguns dos argumentos-chave da classe `Button` incluem:\n",
    "\n",
    "- `master` : especifica o widget pai do botão. O padrão é o widget raiz (Tk);\n",
    "- `text` : especifica o texto exibido no botão;\n",
    "- `command` : especifica a função ou método chamado quando o botão é pressionado;\n",
    "- `bg` : especifica a cor de fundo do botão;\n",
    "- `fg` : especifica a cor do texto do botão;\n",
    "- `activebackground` : especifica a cor de fundo quando o mouse estiver sobre o botão;\n",
    "- `activeforeground` : especifica a cor do texto quando o mouse estiver sobre o botão;\n",
    "- `state` : especifica o estado do botão, pode ser `normal` (ativado) ou `disabled` (desativado);\n",
    "- `width` : especifica a largura do botão;\n",
    "- `height` : especifica a altura do botão;\n",
    "- `font` : especifica a fonte usada para exibir o texto do botão;"
   ]
  },
  {
   "attachments": {},
   "cell_type": "markdown",
   "metadata": {},
   "source": [
    "Exemplo geral :"
   ]
  },
  {
   "cell_type": "code",
   "execution_count": null,
   "metadata": {},
   "outputs": [],
   "source": [
    "import tkinter as tk\n",
    "\n",
    "janela = tk.Tk()\n",
    "janela.geometry('300x200')\n",
    "\n",
    "botao = tk.Button(janela, text=\"Clique aqui\")\n",
    "botao.pack()\n",
    "\n",
    "janela.mainloop()"
   ]
  },
  {
   "attachments": {},
   "cell_type": "markdown",
   "metadata": {},
   "source": [
    "Este é o exemplo de botão mais simples possível."
   ]
  },
  {
   "attachments": {},
   "cell_type": "markdown",
   "metadata": {},
   "source": [
    "Exemplo de um botão com várias cores :"
   ]
  },
  {
   "cell_type": "code",
   "execution_count": null,
   "metadata": {},
   "outputs": [],
   "source": [
    "import tkinter as tk\n",
    "\n",
    "janela = tk.Tk()\n",
    "janela.geometry('300x200')\n",
    "\n",
    "botao = tk.Button(janela, text=\"Sou Colorido\", bg=\"blue\", fg=\"white\", activebackground=\"green\", activeforeground=\"orange\")\n",
    "botao.pack()\n",
    "\n",
    "janela.mainloop()"
   ]
  },
  {
   "attachments": {},
   "cell_type": "markdown",
   "metadata": {},
   "source": [
    "Neste exemplo, estamos criando um botão com o texto `Sou Colorido` que terá um fundo azul, um texto branco e trocará a cor para verde com texto laranja quando clicado."
   ]
  },
  {
   "attachments": {},
   "cell_type": "markdown",
   "metadata": {},
   "source": [
    "Exemplo de um botão desativado :"
   ]
  },
  {
   "cell_type": "code",
   "execution_count": null,
   "metadata": {},
   "outputs": [],
   "source": [
    "import tkinter as tk\n",
    "\n",
    "janela = tk.Tk()\n",
    "janela.geometry('300x200')\n",
    "\n",
    "botao = tk.Button(janela, text=\"Estou Desativado\", state=\"disabled\", bg=\"gray\")\n",
    "botao.pack()\n",
    "\n",
    "janela.mainloop()"
   ]
  },
  {
   "attachments": {},
   "cell_type": "markdown",
   "metadata": {},
   "source": [
    "Neste exemplo, estamos criando um botão com o texto `Botão desativado` e o estado `disabled`, ou seja, ele não poderá ser pressionado. O botão terá cor de fundo cinza."
   ]
  },
  {
   "attachments": {},
   "cell_type": "markdown",
   "metadata": {},
   "source": [
    "Exemplo de um botão com tamanho personalizado :"
   ]
  },
  {
   "cell_type": "code",
   "execution_count": null,
   "metadata": {},
   "outputs": [],
   "source": [
    "import tkinter as tk\n",
    "\n",
    "janela = tk.Tk()\n",
    "janela.geometry('300x200')\n",
    "\n",
    "botao = tk.Button(janela, text=\"Botão Grande\", width=50, height=10)\n",
    "botao.pack()\n",
    "\n",
    "janela.mainloop()"
   ]
  },
  {
   "attachments": {},
   "cell_type": "markdown",
   "metadata": {},
   "source": [
    "Neste exemplo, estamos criando um botão com o texto `Botão Grande` e largura de 50 pixels e altura de 10 pixels."
   ]
  },
  {
   "attachments": {},
   "cell_type": "markdown",
   "metadata": {},
   "source": [
    "Exemplo de um botão com fonte personalizada :"
   ]
  },
  {
   "cell_type": "code",
   "execution_count": null,
   "metadata": {},
   "outputs": [],
   "source": [
    "import tkinter as tk\n",
    "\n",
    "janela = tk.Tk()\n",
    "janela.geometry('300x200')\n",
    "\n",
    "botao = tk.Button(janela, text=\"Botão com Fonte\", font=(\"Arial\", 20))\n",
    "botao.pack()\n",
    "\n",
    "janela.mainloop()"
   ]
  },
  {
   "attachments": {},
   "cell_type": "markdown",
   "metadata": {},
   "source": [
    "Neste exemplo, estamos criando um botão com o texto `Botão com Fonte` e usando a fonte Arial com tamanho 20."
   ]
  },
  {
   "attachments": {},
   "cell_type": "markdown",
   "metadata": {},
   "source": [
    "O argumento-chave `command` tem a função de executar uma função ao ser pressionado."
   ]
  },
  {
   "cell_type": "code",
   "execution_count": null,
   "metadata": {},
   "outputs": [],
   "source": [
    "import tkinter as tk\n",
    "\n",
    "def clicado():\n",
    "    print(\"Botão Clicado!\")\n",
    "\n",
    "janela = tk.Tk()\n",
    "janela.geometry('300x200')\n",
    "\n",
    "botao = tk.Button(janela, text=\"Clique Aqui\", command=clicado())\n",
    "botao.pack()\n",
    "\n",
    "janela.mainloop()"
   ]
  },
  {
   "attachments": {},
   "cell_type": "markdown",
   "metadata": {},
   "source": [
    "Repare que ele é usado sem os parênteses no `command`. Assim a função é executada apenas quando o botão é clicado e não inicializado."
   ]
  },
  {
   "attachments": {},
   "cell_type": "markdown",
   "metadata": {},
   "source": [
    "### 3.2. Label"
   ]
  },
  {
   "attachments": {},
   "cell_type": "markdown",
   "metadata": {},
   "source": [
    "A classe `Label` do Tkinter é utilizada para criar labels, ou rótulos, na interface gráfica. Esta classe é um widget do Tkinter que herda as características básicas da classe Tk e adiciona a funcionalidade de exibir texto ou imagens.\n",
    "\n",
    "Para criar um label, é preciso criar uma instância da classe `Label`, passando como argumento o widget pai (geralmente a janela principal) e as opções desejadas. Alguns dos argumentos-chave da classe `Label` incluem:\n",
    "\n",
    "- `master` : especifica o widget pai do label. O padrão é o widget raiz (Tk);\n",
    "- `text` : especifica o texto exibido no label;\n",
    "- `image` : especifica a imagem exibida no label;\n",
    "- `bg` : especifica a cor de fundo do label;\n",
    "- `fg` : especifica a cor do texto do label;\n",
    "- `font` : especifica a fonte usada para exibir o texto do label;\n",
    "- `width` : especifica a largura do label;\n",
    "- `height` : especifica a altura do label;\n",
    "- `anchor` : especifica a posição do texto ou imagem dentro do label;"
   ]
  },
  {
   "attachments": {},
   "cell_type": "markdown",
   "metadata": {},
   "source": [
    "Exemplo geral :"
   ]
  },
  {
   "cell_type": "code",
   "execution_count": null,
   "metadata": {},
   "outputs": [],
   "source": [
    "import tkinter as tk\n",
    "\n",
    "janela = tk.Tk()\n",
    "janela.geometry('300x200')\n",
    "\n",
    "label = tk.Label(janela, text=\"Texto do Label\")\n",
    "label.pack()\n",
    "\n",
    "janela.mainloop()"
   ]
  },
  {
   "attachments": {},
   "cell_type": "markdown",
   "metadata": {},
   "source": [
    "Este é o exemplo de label mais simples possível."
   ]
  },
  {
   "attachments": {},
   "cell_type": "markdown",
   "metadata": {},
   "source": [
    "Exemplo de um label com várias cores :"
   ]
  },
  {
   "cell_type": "code",
   "execution_count": null,
   "metadata": {},
   "outputs": [],
   "source": [
    "import tkinter as tk\n",
    "\n",
    "janela = tk.Tk()\n",
    "janela.geometry('300x200')\n",
    "\n",
    "label = tk.Label(janela, text=\"Texto do Label\", bg=\"green\", fg=\"white\", font=(\"Arial\", 20))\n",
    "label.pack()\n",
    "\n",
    "janela.mainloop()"
   ]
  },
  {
   "attachments": {},
   "cell_type": "markdown",
   "metadata": {},
   "source": [
    "Neste exemplo, estamos criando um label com o texto `Texto do Label` que terá um fundo verde, um texto branco e uma fonte Arial de tamanho 20."
   ]
  },
  {
   "attachments": {},
   "cell_type": "markdown",
   "metadata": {},
   "source": [
    "Criando um label com tamanho personalizado :"
   ]
  },
  {
   "cell_type": "code",
   "execution_count": 28,
   "metadata": {},
   "outputs": [],
   "source": [
    "import tkinter as tk\n",
    "\n",
    "janela = tk.Tk()\n",
    "janela.geometry('300x200')\n",
    "\n",
    "label = tk.Label(janela, text=\"Label grande\", width=50, height=10)\n",
    "label.pack()\n",
    "\n",
    "janela.mainloop()"
   ]
  },
  {
   "attachments": {},
   "cell_type": "markdown",
   "metadata": {},
   "source": [
    "Neste exemplo, estamos criando um label com o texto `Label grande` e largura de 50 pixels e altura de 10 pixels, de acordo com o tamanho da fonte."
   ]
  },
  {
   "attachments": {},
   "cell_type": "markdown",
   "metadata": {},
   "source": [
    "Criando um label com texto alinhado à direita :"
   ]
  },
  {
   "cell_type": "code",
   "execution_count": null,
   "metadata": {},
   "outputs": [],
   "source": [
    "import tkinter as tk\n",
    "\n",
    "janela = tk.Tk()\n",
    "janela.geometry('300x200')\n",
    "\n",
    "label = tk.Label(janela, text=\"Label alinhado\", anchor=\"e\")\n",
    "label.pack()\n",
    "\n",
    "janela.mainloop()"
   ]
  },
  {
   "attachments": {},
   "cell_type": "markdown",
   "metadata": {},
   "source": [
    "Neste exemplo, estamos criando um label com o texto `Label alinhado` e o alinhamento do texto à direita (e para `east`)."
   ]
  },
  {
   "attachments": {},
   "cell_type": "markdown",
   "metadata": {},
   "source": [
    "### 3.3. Entry"
   ]
  },
  {
   "attachments": {},
   "cell_type": "markdown",
   "metadata": {},
   "source": [
    "A classe `Entry` do Tkinter é utilizada para criar campos de entrada de texto na interface gráfica. Esta classe é um widget do Tkinter que herda as características básicas da classe Tk e adiciona a funcionalidade de permitir que o usuário digite e edite texto.\n",
    "\n",
    "Para criar um campo de entrada de texto, é preciso criar uma instância da classe `Entry`, passando como argumento o widget pai (geralmente a janela principal) e as opções desejadas. Alguns dos argumentos-chave da classe `Entry` incluem :\n",
    "\n",
    "- `master` : especifica o widget pai do campo de entrada. O padrão é o widget raiz (Tk);\n",
    "- `textvariable` : especifica a variável tkinter vinculada ao campo de entrada, para recuperar e definir o valor digitado;\n",
    "- `show` : especifica o caractere de substituição para ocultar a entrada, como \"*\" para senhas;\n",
    "- `state` : especifica o estado do campo de entrada, pode ser \"normal\" (ativado) ou \"disabled\" (desativado);\n",
    "- `validate` : especifica a validação do conteúdo digitado;\n",
    "- `validatecommand` : especifica a função de validação a ser chamada;"
   ]
  },
  {
   "attachments": {},
   "cell_type": "markdown",
   "metadata": {},
   "source": [
    "Exemplo geral :"
   ]
  },
  {
   "cell_type": "code",
   "execution_count": null,
   "metadata": {},
   "outputs": [],
   "source": [
    "import tkinter as tk\n",
    "\n",
    "janela = tk.Tk()\n",
    "janela.geometry('300x200')\n",
    "\n",
    "entrada = tk.Entry(janela)\n",
    "entrada.pack()\n",
    "\n",
    "janela.mainloop()"
   ]
  },
  {
   "attachments": {},
   "cell_type": "markdown",
   "metadata": {},
   "source": [
    "Este é o exemplo mais simples do uso do `Entry`. Aqui, estamos criando um campo de entrada de texto, sem especificar nenhum argumento-chave."
   ]
  },
  {
   "attachments": {},
   "cell_type": "markdown",
   "metadata": {},
   "source": [
    "Cria um campos de entrada, mas ocultando tudo o que foi digitado :"
   ]
  },
  {
   "cell_type": "code",
   "execution_count": null,
   "metadata": {},
   "outputs": [],
   "source": [
    "import tkinter as tk\n",
    "\n",
    "janela = tk.Tk()\n",
    "janela.geometry('300x200')\n",
    "\n",
    "entrada = tk.Entry(janela, show=\"*\")\n",
    "entrada.pack()\n",
    "\n",
    "janela.mainloop()"
   ]
  },
  {
   "attachments": {},
   "cell_type": "markdown",
   "metadata": {},
   "source": [
    "Criando um campo de entrada desativado :"
   ]
  },
  {
   "cell_type": "code",
   "execution_count": null,
   "metadata": {},
   "outputs": [],
   "source": [
    "import tkinter as tk\n",
    "\n",
    "janela = tk.Tk()\n",
    "janela.geometry('300x200')\n",
    "\n",
    "entrada = tk.Entry(janela, state=\"disabled\")\n",
    "entrada.pack()\n",
    "\n",
    "janela.mainloop()"
   ]
  },
  {
   "attachments": {},
   "cell_type": "markdown",
   "metadata": {},
   "source": [
    "Neste exemplo, estamos criando um campo de entrada de texto desativado, ou seja, o usuário não poderá digitar ou editar o texto."
   ]
  },
  {
   "attachments": {},
   "cell_type": "markdown",
   "metadata": {},
   "source": [
    "Criando um campo de entrada com tamanho personalizado :"
   ]
  },
  {
   "cell_type": "code",
   "execution_count": null,
   "metadata": {},
   "outputs": [],
   "source": [
    "import tkinter as tk\n",
    "\n",
    "janela = tk.Tk()\n",
    "janela.geometry('300x200')\n",
    "\n",
    "entrada = tk.Entry(janela, width=50)\n",
    "entrada.pack()\n",
    "\n",
    "janela.mainloop()"
   ]
  },
  {
   "attachments": {},
   "cell_type": "markdown",
   "metadata": {},
   "source": [
    "Neste exemplo, estamos criando um campo de entrada de texto com largura de 50 pixels. Isso significa que o campo de entrada terá uma largura de 50 pixels, independentemente do tamanho do texto contido nele."
   ]
  },
  {
   "attachments": {},
   "cell_type": "markdown",
   "metadata": {},
   "source": [
    "#### 3.3.1. validatecommand"
   ]
  },
  {
   "attachments": {},
   "cell_type": "markdown",
   "metadata": {},
   "source": [
    "O argumento-chave `validatecommand` da classe `Entry` do Tkinter é usado para especificar uma função de validação a ser chamada quando o conteúdo do campo de entrada é modificado. Essa função de validação deve ser uma função Python que retorna `verdadeiro` ou `falso` e é chamada sempre que o usuário digita ou edita o texto no campo de entrada.\n",
    "\n",
    "A função de validação é chamada com um parâmetro, que é o conteúdo atual do campo de entrada. O valor de retorno da função de validação é usado para determinar se o conteúdo do campo de entrada é válido ou inválido. Se a função de validação retornar verdadeiro, o conteúdo é considerado válido e é permitido ser inserido no campo de entrada. Se a função de validação retornar falso, o conteúdo é considerado inválido e não é permitido ser inserido no campo de entrada."
   ]
  },
  {
   "attachments": {},
   "cell_type": "markdown",
   "metadata": {},
   "source": [
    "Exemplo :"
   ]
  },
  {
   "cell_type": "code",
   "execution_count": null,
   "metadata": {},
   "outputs": [],
   "source": [
    "import tkinter as tk\n",
    "\n",
    "def valida(conteudo):\n",
    "    if conteudo.isdigit():\n",
    "        return True\n",
    "    else:\n",
    "        return False\n",
    "\n",
    "janela = tk.Tk()\n",
    "janela.geometry('300x200')\n",
    "\n",
    "entrada = tk.Entry(janela, validate=\"key\", validatecommand=(janela.register(valida), '%P'))\n",
    "entrada.pack()\n",
    "\n",
    "janela.mainloop()"
   ]
  },
  {
   "attachments": {},
   "cell_type": "markdown",
   "metadata": {},
   "source": [
    "Neste exemplo, estamos criando um campo de entrada de texto com validação de conteúdo, ou seja, o usuário só poderá digitar números.\n",
    "\n",
    "A função `valida`, só permite que o usuário digite números, caso contrário a entrada é invalidada.\n",
    "\n",
    "É importante notar que o `validatecommand` é usado em conjunto com o argumento `validate`, que pode ser usado para especificar quando a função de validação deve ser chamada. O argumento validate pode ter os seguintes valores:\n",
    "\n",
    "- `key` : a função de validação é chamada sempre que o usuário digita ou edita o texto no campo de entrada;\n",
    "- `focusout` : a função de validação é chamada quando o campo de entrada perde o foco;\n",
    "- `focusin` : a função de validação é chamada quando o campo de entrada ganha o foco;\n",
    "\n",
    "Além disso, é importante mencionar que o `validatecommand` precisa ser registrado antes de ser usado, assim como no exemplo acima onde é usado `janela.register(valida)`, isso garante que a função seja passada corretamente para o Tkinter e possa ser usada como comando de validação."
   ]
  },
  {
   "attachments": {},
   "cell_type": "markdown",
   "metadata": {},
   "source": [
    "### 3.4. Argumento-chave command"
   ]
  },
  {
   "attachments": {},
   "cell_type": "markdown",
   "metadata": {},
   "source": [
    "O argumento-chave `command` do tkinter do python é usado para associar uma função ou método a um botão. Quando o botão é pressionado, a função ou método associado é chamado.\n",
    "\n",
    "Para usar o argumento-chave `command`, você precisa primeiro criar uma função ou método que será chamado quando o botão for pressionado. Em seguida, você precisará criar o botão usando o método tkinter Button e passar a função ou método criado como o valor do argumento `command`."
   ]
  },
  {
   "attachments": {},
   "cell_type": "markdown",
   "metadata": {},
   "source": [
    "Exemplo :"
   ]
  },
  {
   "cell_type": "code",
   "execution_count": null,
   "metadata": {},
   "outputs": [],
   "source": [
    "import tkinter as tk\n",
    "\n",
    "def minha_funcao():\n",
    "    print(\"Botão pressionado\")\n",
    "\n",
    "janela = tk.Tk()\n",
    "botao = tk.Button(janela, text=\"Clique aqui\", command=minha_funcao)\n",
    "botao.pack()\n",
    "janela.mainloop()"
   ]
  },
  {
   "attachments": {},
   "cell_type": "markdown",
   "metadata": {},
   "source": [
    "Quando você pressionar o botão, `Botão pressionado` será impresso no console."
   ]
  },
  {
   "attachments": {},
   "cell_type": "markdown",
   "metadata": {},
   "source": [
    "Para passar valores para uma função usando o argumento `command` do tkinter, você pode usar a função `lambda` do Python. A função `lambda` permite criar uma função anônima (sem nome) que pode ser chamada como uma expressão."
   ]
  },
  {
   "attachments": {},
   "cell_type": "markdown",
   "metadata": {},
   "source": [
    "Exemplo :"
   ]
  },
  {
   "cell_type": "code",
   "execution_count": null,
   "metadata": {},
   "outputs": [],
   "source": [
    "import tkinter as tk\n",
    "\n",
    "def minha_funcao(valor):\n",
    "    print(\"Valor passado:\", valor)\n",
    "\n",
    "janela = tk.Tk()\n",
    "botao = tk.Button(janela, text=\"Clique aqui\", command=lambda: minha_funcao(\"Hello World!\"))\n",
    "botao.pack()\n",
    "janela.mainloop()"
   ]
  },
  {
   "attachments": {},
   "cell_type": "markdown",
   "metadata": {},
   "source": [
    "Quando você pressionar o botão, `Valor passado: Hello World!` será impresso no console.\n",
    "\n",
    "`Nota` : você pode passar quantos argumentos quiser para a função usando esse método, basta adicionar mais argumentos na função lambda e os valores serão passados para a função desejada."
   ]
  },
  {
   "attachments": {},
   "cell_type": "markdown",
   "metadata": {},
   "source": [
    "Também podemos receber um valor de um campo Entry, validá-lo e exibir uma mensagem usando o MessageBox do tkinter.<br>\n",
    "Exemplo :"
   ]
  },
  {
   "cell_type": "code",
   "execution_count": null,
   "metadata": {},
   "outputs": [],
   "source": [
    "import tkinter as tk\n",
    "from tkinter import messagebox\n",
    "\n",
    "def validar():\n",
    "    valor = campo_entrada.get()\n",
    "    if valor.isdigit():\n",
    "        messagebox.showinfo(\"Validação\", \"Valor válido!\")\n",
    "    else:\n",
    "        messagebox.showerror(\"Validação\", \"Valor inválido!\")\n",
    "\n",
    "janela = tk.Tk()\n",
    "\n",
    "campo_entrada = tk.Entry(janela)\n",
    "campo_entrada.pack()\n",
    "\n",
    "botao_validar = tk.Button(janela, text=\"Validar\", command=validar)\n",
    "botao_validar.pack()\n",
    "\n",
    "janela.mainloop()"
   ]
  },
  {
   "attachments": {},
   "cell_type": "markdown",
   "metadata": {},
   "source": [
    "Quando você pressionar o botão, se o valor digitado no campo de entrada for um número, uma mensagem de `Valor válido!` será exibida, caso contrário, uma mensagem de `Valor inválido!` será exibida."
   ]
  },
  {
   "attachments": {},
   "cell_type": "markdown",
   "metadata": {},
   "source": [
    "Exemplo de valor recebido no Entry e exibindo no Label :"
   ]
  },
  {
   "cell_type": "code",
   "execution_count": 40,
   "metadata": {},
   "outputs": [],
   "source": [
    "import tkinter as tk\n",
    "\n",
    "def atualizar_label():\n",
    "    valor = campo_entrada.get()\n",
    "    label_exibicao.config(text=valor)\n",
    "\n",
    "janela = tk.Tk()\n",
    "\n",
    "campo_entrada = tk.Entry(janela)\n",
    "campo_entrada.pack()\n",
    "\n",
    "botao_atualizar = tk.Button(janela, text=\"Atualizar Label\", command=atualizar_label)\n",
    "botao_atualizar.pack()\n",
    "\n",
    "label_exibicao = tk.Label(janela)\n",
    "label_exibicao.pack()\n",
    "\n",
    "janela.mainloop()"
   ]
  },
  {
   "attachments": {},
   "cell_type": "markdown",
   "metadata": {},
   "source": [
    "Quando você pressionar o botão \"Atualizar Label\" o valor digitado no campo de entrada será exibido no Label."
   ]
  },
  {
   "attachments": {},
   "cell_type": "markdown",
   "metadata": {},
   "source": [
    "### 3.5. Layout"
   ]
  },
  {
   "attachments": {},
   "cell_type": "markdown",
   "metadata": {},
   "source": [
    "A biblioteca tkinter do Python oferece várias formas de organizar o layout de seus widgets em um container, como janelas ou frames. Algumas das principais formas incluem:\n",
    "\n",
    "- `pack()` : este método organiza os widgets em uma pilha, um em cima do outro. Ele é fácil de usar e geralmente é a primeira escolha para organizar widgets simples. O método `pack()` aceita várias opções, como `side`, `fill`, e `padx`, que podem ser usadas para controlar a posição e o tamanho dos widgets;\n",
    "\n",
    "- `grid()` : este método organiza os widgets em uma grade de linhas e colunas. Ele é mais flexível do que o método pack() e é útil para organizar widgets mais complexos. O método `grid()` aceita várias opções, como `row`, `column`, `rowspan`, e `columnspan`, que podem ser usadas para controlar a posição e o tamanho dos widgets na grade;\n",
    "\n",
    "- `place()` : este método permite que você posicione widgets em qualquer lugar dentro do container, especificando as coordenadas x e y. Ele é útil para criar layouts personalizados e para posicionar widgets com precisão. O método `place()` aceita várias opções, como `x`, `y`, `width`, e `height`, que podem ser usadas para controlar a posição e o tamanho dos widgets;"
   ]
  },
  {
   "attachments": {},
   "cell_type": "markdown",
   "metadata": {},
   "source": [
    "#### 3.5.1. pack()"
   ]
  },
  {
   "attachments": {},
   "cell_type": "markdown",
   "metadata": {},
   "source": [
    "O método `pack()` é usado na biblioteca tkinter do Python para organizar widgets dentro de um container (como uma janela ou frame). Ele coloca o widget em questão em um lugar específico dentro do container, baseado em suas opções de configuração. Por padrão, o widget é colocado no topo do container, com largura e altura ajustadas para se adequar ao tamanho do widget. Você pode especificar várias opções ao chamar o método `pack()` para controlar a posição e o tamanho do widget, como `side`, `fill`, `padx` e `pady`."
   ]
  },
  {
   "attachments": {},
   "cell_type": "markdown",
   "metadata": {},
   "source": [
    "Aqui está um exemplo simples de como usar o método `pack()` para adicionar um botão a uma janela :"
   ]
  },
  {
   "cell_type": "code",
   "execution_count": 1,
   "metadata": {},
   "outputs": [],
   "source": [
    "from tkinter import Button, Tk\n",
    "\n",
    "janela = Tk()\n",
    "janela.geometry('400x400')\n",
    "\n",
    "# cria um botão\n",
    "botao = Button(janela, text=\"Clique aqui\")\n",
    "\n",
    "# adiciona o botão à janela usando o método pack\n",
    "botao.pack()\n",
    "\n",
    "janela.mainloop()"
   ]
  },
  {
   "attachments": {},
   "cell_type": "markdown",
   "metadata": {},
   "source": [
    "Neste exemplo, o botão é adicionado à janela e é exibido no topo da janela. O método `pack()` é chamado sem qualquer argumento adicional, então o botão é posicionado no topo da janela e seu tamanho é ajustado para se adequar ao tamanho do texto contido nele."
   ]
  },
  {
   "attachments": {},
   "cell_type": "markdown",
   "metadata": {},
   "source": [
    "##### 3.5.1.1. side"
   ]
  },
  {
   "attachments": {},
   "cell_type": "markdown",
   "metadata": {},
   "source": [
    "A opção `side` do método `pack()` é usada para especificar em qual lado do container o widget deve ser posicionado. Ela pode ser usada para controlar a disposição dos widgets em um container.\n",
    "\n",
    "A opção `side` aceita um dos seguintes valores :\n",
    "- `TOP` (ou `top`) : posiciona o widget na margem superior da janela (`valor padrão`);\n",
    "- `BOTTOM` (ou `bottom`) : posiciona o widget na margem inferior da janela;\n",
    "- `LEFT` (ou `left`) : posiciona o widget na margem esquerda da janela;\n",
    "- `RIGHT` (ou `right`) : posiciona o widget na margem direita da janela;"
   ]
  },
  {
   "attachments": {},
   "cell_type": "markdown",
   "metadata": {},
   "source": [
    "Por exemplo, se você quiser adicionar um botão à esquerda de uma janela, você pode usar o seguinte código :"
   ]
  },
  {
   "cell_type": "code",
   "execution_count": null,
   "metadata": {},
   "outputs": [],
   "source": [
    "from tkinter import Button, LEFT, Tk\n",
    "\n",
    "janela = Tk()\n",
    "janela.geometry('400x400')\n",
    "\n",
    "botao = Button(janela, text=\"Clique aqui\")\n",
    "botao.pack(side=LEFT)\n",
    "\n",
    "janela.mainloop()"
   ]
  },
  {
   "attachments": {},
   "cell_type": "markdown",
   "metadata": {},
   "source": [
    "Este exemplo cria um botão com o texto `Clique aqui` e o adiciona à esquerda da janela usando o método `pack()`."
   ]
  },
  {
   "attachments": {},
   "cell_type": "markdown",
   "metadata": {},
   "source": [
    "Se você quiser adicionar múltiplos widgets lado a lado, você pode usar a opção `side` para especificar a posição de cada widget :"
   ]
  },
  {
   "cell_type": "code",
   "execution_count": null,
   "metadata": {},
   "outputs": [],
   "source": [
    "from tkinter import Button, LEFT, Tk\n",
    "\n",
    "janela = Tk()\n",
    "janela.geometry('400x400')\n",
    "\n",
    "btn_1 = Button(janela, text=\"Botão 1\")\n",
    "btn_2 = Button(janela, text=\"Botão 2\")\n",
    "\n",
    "btn_1.pack(side=LEFT)\n",
    "btn_2.pack(side=LEFT)\n",
    "\n",
    "janela.mainloop()"
   ]
  },
  {
   "attachments": {},
   "cell_type": "markdown",
   "metadata": {},
   "source": [
    "Neste exemplo, os dois botões são adicionados à janela e são posicionados lado a lado, à esquerda."
   ]
  },
  {
   "cell_type": "code",
   "execution_count": 14,
   "metadata": {},
   "outputs": [],
   "source": [
    "from tkinter import Button, RIGHT, Tk\n",
    "\n",
    "janela = Tk()\n",
    "janela.geometry('400x400')\n",
    "\n",
    "btn_1 = Button(janela, text=\"Botão 1\")\n",
    "btn_2 = Button(janela, text=\"Botão 2\")\n",
    "\n",
    "btn_1.pack(side=RIGHT)\n",
    "btn_2.pack(side=RIGHT)\n",
    "\n",
    "janela.mainloop()"
   ]
  },
  {
   "attachments": {},
   "cell_type": "markdown",
   "metadata": {},
   "source": [
    "Neste exemplo, os dois botões são adicionados à janela e são posicionados lado a lado, à direita."
   ]
  },
  {
   "cell_type": "code",
   "execution_count": 12,
   "metadata": {},
   "outputs": [],
   "source": [
    "from tkinter import BOTTOM, Button, Tk\n",
    "\n",
    "janela = Tk()\n",
    "janela.geometry('400x400')\n",
    "\n",
    "btn_1 = Button(janela, text=\"Botão 1\")\n",
    "btn_2 = Button(janela, text=\"Botão 2\")\n",
    "\n",
    "btn_1.pack(side=BOTTOM)\n",
    "btn_2.pack(side=BOTTOM)\n",
    "\n",
    "janela.mainloop()"
   ]
  },
  {
   "attachments": {},
   "cell_type": "markdown",
   "metadata": {},
   "source": [
    "Neste exemplo, os dois botões são adicionados à janela e são posicionados um cima do outro, mas na parte de baixo da janela. Repare que a ordem dos botões corresponde à ordem de execução."
   ]
  },
  {
   "attachments": {},
   "cell_type": "markdown",
   "metadata": {},
   "source": [
    "##### 3.5.1.2. fill"
   ]
  },
  {
   "attachments": {},
   "cell_type": "markdown",
   "metadata": {},
   "source": [
    "A opção `fill` do método `pack()` é usada para especificar se o widget deve ocupar todo o espaço disponível no container. Ela pode ser usada para controlar o tamanho dos widgets em um container.\n",
    "\n",
    "A opção `fill` aceita um dos seguintes valores :\n",
    "- `X` (ou `x`) : O widget ocupa toda a largura disponível no container;\n",
    "- `Y` (ou `y`) : O widget ocupa toda a altura disponível no container;\n",
    "- `BOTH` (ou `both`) : O widget ocupa toda a largura e altura disponíveis no container;\n",
    "- `NONE` (ou `none`) : O widget não é redimensionado (`valor padrão`);"
   ]
  },
  {
   "attachments": {},
   "cell_type": "markdown",
   "metadata": {},
   "source": [
    "Por exemplo, se você quiser adicionar um botão que ocupe toda a largura disponível em uma janela, você pode usar o seguinte código :"
   ]
  },
  {
   "cell_type": "code",
   "execution_count": 13,
   "metadata": {},
   "outputs": [],
   "source": [
    "from tkinter import Button, Tk, X\n",
    "\n",
    "janela = Tk()\n",
    "janela.geometry('400x400')\n",
    "\n",
    "botao = Button(janela, text=\"Clique aqui\")\n",
    "botao.pack(fill=X)\n",
    "\n",
    "janela.mainloop()"
   ]
  },
  {
   "attachments": {},
   "cell_type": "markdown",
   "metadata": {},
   "source": [
    "Este exemplo cria um botão com o texto `Clique aqui` e o adiciona à janela usando o método `pack()` com a opção `fill=X`, para que o botão ocupe toda a largura disponível na janela."
   ]
  },
  {
   "attachments": {},
   "cell_type": "markdown",
   "metadata": {},
   "source": [
    "Se você quiser adicionar múltiplos widgets que ocupem toda a largura e altura disponíveis no container, você pode usar a opção `fill` para especificar isso para cada widget:"
   ]
  },
  {
   "cell_type": "code",
   "execution_count": 19,
   "metadata": {},
   "outputs": [],
   "source": [
    "from tkinter import BOTH, Button, LEFT,Tk\n",
    "\n",
    "janela = Tk()\n",
    "janela.geometry('400x400')\n",
    "\n",
    "btn_1 = Button(janela, text=\"Botão 1\")\n",
    "btn_2 = Button(janela, text=\"Botão 2\")\n",
    "\n",
    "btn_1.pack(side=LEFT,fill=BOTH)\n",
    "btn_2.pack(fill=BOTH)\n",
    "\n",
    "janela.mainloop()"
   ]
  },
  {
   "attachments": {},
   "cell_type": "markdown",
   "metadata": {},
   "source": [
    "O script abaixo mostra diversas opções de `side`, `fill` e `expand`.\n",
    "\n",
    "Fonte : [stackoverflow](https://stackoverflow.com/questions/28089942/difference-between-fill-and-expand-options-for-tkinter-pack-method)"
   ]
  },
  {
   "cell_type": "code",
   "execution_count": 21,
   "metadata": {},
   "outputs": [],
   "source": [
    "import tkinter as tk\n",
    "\n",
    "root = tk.Tk()\n",
    "root.geometry()\n",
    "\n",
    "for e, expand in enumerate([False, True]):\n",
    "    for f, fill in enumerate([None, tk.X, tk.Y, tk.BOTH]):\n",
    "        for s, side in enumerate([tk.TOP, tk.LEFT, tk.BOTTOM, tk.RIGHT]):\n",
    "            position = '+{}+{}'.format(s * 205 + 100 + e * 820, f * 235 + 100)\n",
    "            win = tk.Toplevel(root)\n",
    "            win.geometry('200x200'+position)\n",
    "            text = str(\"side='{}'\\nfill='{}'\\nexpand={}\".format(side, fill, str(expand)))\n",
    "            tk.Label(win, text=text, bg=['#FF5555', '#55FF55'][e]).pack(side=side, fill=fill, expand=expand)\n",
    "root.mainloop()"
   ]
  },
  {
   "attachments": {},
   "cell_type": "markdown",
   "metadata": {},
   "source": [
    "##### 3.5.1.3. padx e pady"
   ]
  },
  {
   "attachments": {},
   "cell_type": "markdown",
   "metadata": {},
   "source": [
    "As opções `padx` e `pady` do método `pack()` são usadas para adicionar espaçamento entre um widget e os limites do container (janela ou frame) em que ele está sendo exibido. Elas são especificadas em pixels e podem ser usadas para controlar a aparência do layout."
   ]
  },
  {
   "attachments": {},
   "cell_type": "markdown",
   "metadata": {},
   "source": [
    "`padx` é usado para adicionar espaçamento à esquerda e à direita do widget. Por exemplo, se você quiser adicionar 120 pixels de espaçamento à esquerda e à direita de um botão, você pode usar o seguinte código :"
   ]
  },
  {
   "cell_type": "code",
   "execution_count": 8,
   "metadata": {},
   "outputs": [],
   "source": [
    "from tkinter import Button, Tk, X\n",
    "\n",
    "janela = Tk()\n",
    "\n",
    "botao = Button(janela, text=\"Clique aqui\")\n",
    "botao.pack(padx=120)\n",
    "\n",
    "janela.mainloop()"
   ]
  },
  {
   "attachments": {},
   "cell_type": "markdown",
   "metadata": {},
   "source": [
    "`pady` é usado para adicionar espaçamento acima e abaixo do widget. Por exemplo, se você quiser adicionar 100 pixels de espaçamento acima e abaixo de um botão, você pode usar o seguinte código :"
   ]
  },
  {
   "cell_type": "code",
   "execution_count": 9,
   "metadata": {},
   "outputs": [],
   "source": [
    "from tkinter import Button, Tk, X\n",
    "\n",
    "janela = Tk()\n",
    "\n",
    "botao = Button(janela, text=\"Clique aqui\")\n",
    "botao.pack(pady=100)\n",
    "\n",
    "janela.mainloop()"
   ]
  },
  {
   "attachments": {},
   "cell_type": "markdown",
   "metadata": {},
   "source": [
    "Você também pode usar ambos `padx` e `pady` simultaneamente :"
   ]
  },
  {
   "cell_type": "code",
   "execution_count": 10,
   "metadata": {},
   "outputs": [],
   "source": [
    "from tkinter import Button, Tk, X\n",
    "\n",
    "janela = Tk()\n",
    "\n",
    "botao = Button(janela, text=\"Clique aqui\")\n",
    "botao.pack(padx=120, pady=100)\n",
    "\n",
    "janela.mainloop()"
   ]
  },
  {
   "attachments": {},
   "cell_type": "markdown",
   "metadata": {},
   "source": [
    "Isso resultaria em 120 pixels de espaçamento à esquerda e à direita do botão e 100 pixels de espaçamento acima e abaixo do botão."
   ]
  },
  {
   "attachments": {},
   "cell_type": "markdown",
   "metadata": {},
   "source": [
    "#### 3.5.2. grid()"
   ]
  },
  {
   "attachments": {},
   "cell_type": "markdown",
   "metadata": {},
   "source": [
    "##### 3.5.2.1. row e column"
   ]
  },
  {
   "attachments": {},
   "cell_type": "markdown",
   "metadata": {},
   "source": [
    "O método `grid()` é uma das formas principais de organizar o layout de widgets no tkinter. Ele organiza os widgets em uma grade de linhas e colunas, permitindo a criação de layouts mais complexos.\n",
    "\n",
    "Para usar o método `grid()`, você primeiro precisa criar um container, como uma janela ou frame, e adicionar widgets a ele. Em seguida, você pode chamar o método `grid()` para posicionar os widgets na grade."
   ]
  },
  {
   "attachments": {},
   "cell_type": "markdown",
   "metadata": {},
   "source": [
    "Por exemplo, você pode adicionar três botões a uma grade com duas linhas e duas colunas :"
   ]
  },
  {
   "cell_type": "code",
   "execution_count": 24,
   "metadata": {},
   "outputs": [],
   "source": [
    "from tkinter import Button, Tk\n",
    "\n",
    "janela = Tk()\n",
    "janela.geometry('400x400')\n",
    "\n",
    "btn_1 = Button(janela, text=\"Botão 1\")\n",
    "btn_2 = Button(janela, text=\"Botão 2\")\n",
    "btn_3 = Button(janela, text=\"Botão 3\")\n",
    "\n",
    "btn_1.grid(row=0, column=0)\n",
    "btn_2.grid(row=0, column=1)\n",
    "btn_3.grid(row=1, column=0)\n",
    "\n",
    "janela.mainloop()"
   ]
  },
  {
   "attachments": {},
   "cell_type": "markdown",
   "metadata": {},
   "source": [
    "Neste exemplo, o botão 1 é posicionado na linha 0, coluna 0, o botão 2 é posicionado na linha 0, coluna 1, e o botão 3 é posicionado na linha 1, coluna 0."
   ]
  },
  {
   "attachments": {},
   "cell_type": "markdown",
   "metadata": {},
   "source": [
    "Você também pode especificar a largura e altura de uma célula usando as opções `rowspan` e `columnspan` respectivamente. Por exemplo, se você quiser que o botão 3 ocupe duas células na coluna, você pode usar o seguinte código :"
   ]
  },
  {
   "cell_type": "code",
   "execution_count": 25,
   "metadata": {},
   "outputs": [],
   "source": [
    "from tkinter import Button, Tk\n",
    "\n",
    "janela = Tk()\n",
    "janela.geometry('400x400')\n",
    "\n",
    "btn_1 = Button(janela, text=\"Botão 1\")\n",
    "btn_2 = Button(janela, text=\"Botão 2\")\n",
    "btn_3 = Button(janela, text=\"Botão 3\")\n",
    "\n",
    "btn_1.grid(row=0, column=0)\n",
    "btn_2.grid(row=0, column=1)\n",
    "btn_3.grid(row=1, column=0, columnspan=2)\n",
    "\n",
    "janela.mainloop()"
   ]
  },
  {
   "attachments": {},
   "cell_type": "markdown",
   "metadata": {},
   "source": [
    "Além disso, você pode controlar o espaçamento entre os widgets e o container, usando as opções `padx` e `pady` como no método `pack()`."
   ]
  },
  {
   "attachments": {},
   "cell_type": "markdown",
   "metadata": {},
   "source": [
    "### 3.6. MessageBox"
   ]
  },
  {
   "attachments": {},
   "cell_type": "markdown",
   "metadata": {},
   "source": [
    "O módulo `messagebox` do tkinter é um conjunto de funções que permitem exibir caixas de diálogo de mensagem em uma aplicação tkinter. Ele fornece uma interface para mostrar mensagens de informação, erro, pergunta e aviso para o usuário.\n",
    "\n",
    "Algumas das funções mais comuns do módulo `messagebox` incluem:\n",
    "\n",
    "- `showinfo(title, message)` : Exibe uma caixa de diálogo de informação com o título especificado e a mensagem fornecida. O ícone da caixa de diálogo é um sinal de exclamação;\n",
    "- `showerror(title, message)` : Exibe uma caixa de diálogo de erro com o título especificado e a mensagem fornecida. O ícone da caixa de diálogo é um \"X\" vermelho;\n",
    "- `showwarning(title, message)` : Exibe uma caixa de diálogo de aviso com o título especificado e a mensagem fornecida. O ícone da caixa de diálogo é um sinal de exclamação amarelo;\n",
    "- `askquestion(title, message)` : Exibe uma caixa de diálogo de pergunta com o título especificado e a mensagem fornecida. O ícone da caixa de diálogo é um sinal de pergunta. Retorna `yes` ou `no` dependendo da escolha do usuário;\n",
    "- `askokcancel(title, message)` : Exibe uma caixa de diálogo de pergunta com o título especificado e a mensagem fornecida. O ícone da caixa de diálogo é um sinal de pergunta. Retorna `True` se o usuário clicar em \"OK\" e `False` se o usuário clicar em \"Cancelar\";\n",
    "- `askyesno(title, message)` : Exibe uma caixa de diálogo de pergunta com o título especificado e a mensagem fornecida. O ícone da caixa de diálogo é um sinal de pergunta. Retorna 'True' se o usuário clicar em \"Sim\" e 'False' se o usuário clicar em \"Não\";\n",
    "- `askretrycancel(title, message)` : Exibe uma caixa de diálogo de pergunta com o título especificado e a mensagem fornecida. O ícone da caixa de diálogo é um sinal de pergunta. Retorna 'True' se o usuário clicar em \"Tentar Novamente\" e 'False' se o usuário clicar em \"Cancelar\";\n",
    "- `askyesnocancel(title, message)` : Exibe uma caixa de diálogo de pergunta com o título especificado e a mensagem fornecida. O ícone da caixa de diálogo é um sinal de pergunta. Retorna 'yes' se o usuário clicar em \"Sim\", 'no' se o usuário clicar em \"Não\" e 'None' se o usuário clicar em \"Cancelar\";"
   ]
  },
  {
   "attachments": {},
   "cell_type": "markdown",
   "metadata": {},
   "source": [
    "Todas essas funções retornam um valor que indica a escolha do usuário, e você pode usar esses valores para tomar decisões dentro do seu código.\n",
    "\n",
    "Além disso, você também pode personalizar a aparência das caixas de diálogo usando o argumento parent e icon em cada função. O argumento parent aceita uma janela tkinter para definir a posição da caixa de diálogo em relação à janela principal, e o argumento icon permite definir o ícone da caixa de diálogo."
   ]
  },
  {
   "attachments": {},
   "cell_type": "markdown",
   "metadata": {},
   "source": [
    "Exemplos :"
   ]
  },
  {
   "attachments": {},
   "cell_type": "markdown",
   "metadata": {},
   "source": [
    "- `showinfo(title, message)` :"
   ]
  },
  {
   "cell_type": "code",
   "execution_count": null,
   "metadata": {},
   "outputs": [],
   "source": [
    "import tkinter as tk\n",
    "from tkinter import messagebox\n",
    "\n",
    "def mostrar_info():\n",
    "    messagebox.showinfo(\"Informação\", \"Este é um exemplo de caixa de diálogo de informação.\")\n",
    "\n",
    "janela = tk.Tk()\n",
    "botao = tk.Button(janela, text=\"Mostrar informação\", command=mostrar_info)\n",
    "botao.pack()\n",
    "janela.mainloop()"
   ]
  },
  {
   "attachments": {},
   "cell_type": "markdown",
   "metadata": {},
   "source": [
    "- `showerror(title, message)` :"
   ]
  },
  {
   "cell_type": "code",
   "execution_count": null,
   "metadata": {},
   "outputs": [],
   "source": [
    "import tkinter as tk\n",
    "from tkinter import messagebox\n",
    "\n",
    "def mostrar_erro():\n",
    "    messagebox.showerror(\"Erro\", \"Este é um exemplo de caixa de diálogo de erro.\")\n",
    "\n",
    "janela = tk.Tk()\n",
    "botao = tk.Button(janela, text=\"Mostrar erro\", command=mostrar_erro)\n",
    "botao.pack()\n",
    "janela.mainloop()"
   ]
  },
  {
   "attachments": {},
   "cell_type": "markdown",
   "metadata": {},
   "source": [
    "- `showwarning(title, message)` :"
   ]
  },
  {
   "cell_type": "code",
   "execution_count": null,
   "metadata": {},
   "outputs": [],
   "source": [
    "import tkinter as tk\n",
    "from tkinter import messagebox\n",
    "\n",
    "def mostrar_aviso():\n",
    "    messagebox.showwarning(\"Aviso\", \"Este é um exemplo de caixa de diálogo de aviso.\")\n",
    "\n",
    "janela = tk.Tk()\n",
    "botao = tk.Button(janela, text=\"Mostrar aviso\", command=mostrar_aviso)\n",
    "botao.pack()\n",
    "janela.mainloop()"
   ]
  },
  {
   "attachments": {},
   "cell_type": "markdown",
   "metadata": {},
   "source": [
    "- `askquestion(title, message)` :"
   ]
  },
  {
   "cell_type": "code",
   "execution_count": null,
   "metadata": {},
   "outputs": [],
   "source": [
    "import tkinter as tk\n",
    "from tkinter import messagebox\n",
    "\n",
    "def mostrar_pergunta():\n",
    "    resposta = messagebox.askquestion(\"Pergunta\", \"Você gosta de tkinter?\")\n",
    "    if resposta == 'yes':\n",
    "        print(\"Eu gosto de tkinter também!\")\n",
    "    else:\n",
    "        print(\"Eu entendo, há muitas outras bibliotecas de interface gráfica para escolher.\")\n",
    "\n",
    "janela = tk.Tk()\n",
    "botao = tk.Button(janela, text=\"Mostrar pergunta\", command=mostrar_pergunta)\n",
    "botao.pack()\n",
    "janela.mainloop()"
   ]
  },
  {
   "attachments": {},
   "cell_type": "markdown",
   "metadata": {},
   "source": [
    "- `askokcancel(title, message)` :"
   ]
  },
  {
   "cell_type": "code",
   "execution_count": null,
   "metadata": {},
   "outputs": [],
   "source": [
    "import tkinter as tk\n",
    "from tkinter import messagebox\n",
    "\n",
    "def mostrar_ok_cancel():\n",
    "    resposta = messagebox.askokcancel(\"Confirmação\", \"Deseja sair da aplicação?\")\n",
    "    if resposta:\n",
    "        janela.destroy()\n",
    "    else:\n",
    "        print(\"Ok, continuaremos.\")\n",
    "\n",
    "janela = tk.Tk()\n",
    "botao = tk.Button(janela, text=\"Mostrar OK/Cancel\", command=mostrar_ok_cancel)\n",
    "botao.pack()\n",
    "janela.mainloop()"
   ]
  },
  {
   "attachments": {},
   "cell_type": "markdown",
   "metadata": {},
   "source": [
    "- `askyesno(title, message)` :"
   ]
  },
  {
   "cell_type": "code",
   "execution_count": null,
   "metadata": {},
   "outputs": [],
   "source": [
    "import tkinter as tk\n",
    "from tkinter import messagebox\n",
    "\n",
    "def mostrar_sim_nao():\n",
    "    resposta = messagebox.askyesno(\"Pergunta\", \"Deseja salvar o arquivo antes de sair?\")\n",
    "    if resposta:\n",
    "        print(\"Ok, salvando arquivo...\")\n",
    "    else:\n",
    "        print(\"Ok, não salvaremos o arquivo.\")\n",
    "\n",
    "janela = tk.Tk()\n",
    "botao = tk.Button(janela, text=\"Mostrar Sim/Não\", command=mostrar_sim_nao)\n",
    "botao.pack()\n",
    "janela.mainloop()"
   ]
  },
  {
   "attachments": {},
   "cell_type": "markdown",
   "metadata": {},
   "source": [
    "- `askretrycancel(title, message)` :"
   ]
  },
  {
   "cell_type": "code",
   "execution_count": null,
   "metadata": {},
   "outputs": [],
   "source": [
    "import tkinter as tk\n",
    "from tkinter import messagebox\n",
    "\n",
    "def mostrar_tentar_novamente():\n",
    "    resposta = messagebox.askretrycancel(\"Erro\", \"O arquivo não pôde ser aberto. Deseja tentar novamente?\")\n",
    "    if resposta:\n",
    "        print(\"Tentando novamente...\")\n",
    "    else:\n",
    "        print(\"Ok, cancelado.\")\n",
    "\n",
    "janela = tk.Tk()\n",
    "botao = tk.Button(janela, text=\"Mostrar Tentar Novamente/Cancelar\", command=mostrar_tentar_novamente)\n",
    "botao.pack()\n",
    "janela.mainloop()"
   ]
  },
  {
   "attachments": {},
   "cell_type": "markdown",
   "metadata": {},
   "source": [
    "- `askyesnocancel(title, message)` :"
   ]
  },
  {
   "cell_type": "code",
   "execution_count": null,
   "metadata": {},
   "outputs": [],
   "source": [
    "import tkinter as tk\n",
    "from tkinter import messagebox\n",
    "\n",
    "def mostrar_sim_nao_cancelar():\n",
    "    resposta = messagebox.askyesnocancel(\"Pergunta\", \"Deseja salvar o arquivo antes de sair?\")\n",
    "    if resposta == None:\n",
    "        print(\"Ok, cancelando.\")\n",
    "    elif resposta:\n",
    "        print(\"Ok, salvando arquivo...\")\n",
    "    else:\n",
    "        print(\"Ok, não salvaremos o arquivo.\")\n",
    "\n",
    "janela = tk.Tk()\n",
    "botao = tk.Button(janela, text=\"Mostrar Sim/Não/Cancelar\", command=mostrar_sim_nao_cancelar)\n",
    "botao.pack()\n",
    "janela.mainloop()"
   ]
  },
  {
   "attachments": {},
   "cell_type": "markdown",
   "metadata": {},
   "source": [
    "Esses exemplos mostram como usar cada uma das funções do módulo messagebox do tkinter e como tratar as respostas do usuário para tomar decisões no seu código."
   ]
  }
 ],
 "metadata": {
  "kernelspec": {
   "display_name": ".venv",
   "language": "python",
   "name": "python3"
  },
  "language_info": {
   "codemirror_mode": {
    "name": "ipython",
    "version": 3
   },
   "file_extension": ".py",
   "mimetype": "text/x-python",
   "name": "python",
   "nbconvert_exporter": "python",
   "pygments_lexer": "ipython3",
   "version": "3.11.1"
  },
  "orig_nbformat": 4,
  "vscode": {
   "interpreter": {
    "hash": "55d7663ffcb929a36403e04586a6d415a89c1f862b63f1e0aced31c8306661c0"
   }
  }
 },
 "nbformat": 4,
 "nbformat_minor": 2
}
